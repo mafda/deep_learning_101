{
 "cells": [
  {
   "cell_type": "markdown",
   "metadata": {},
   "source": [
    "# Deep Learning 101\n",
    "\n",
    "This notebook presents the basics concepts that involve the concept of Deep\n",
    "Learning.\n",
    "\n",
    "1. Linear Regression\n",
    "2. **Logistic Regression**\n",
    "3. Artificial Neural Networks\n",
    "4. Deep Neural Networks\n",
    "5. Convolutional Neural Networks\n",
    "\n",
    "## 2. Logistic Regression\n",
    "\n",
    "Logistic regression is a regression model where the dependent variable is\n",
    "categorical, and the output can take only two values 0 or 1.\n",
    "* This **probability** is modeled using a function\n",
    "    * $\\hat{y}=f(Wx+b)$\n",
    "* We can use the **Sigmoid function** which takes any real input $\\mathbf{x} \\in\n",
    "  \\mathbb{R}$, and the logistic regression model thus predicts an output $y \\in\n",
    "  \\{0,1\\}$ \n",
    "    * $f(z) = \\frac{1}{1 + \\mathrm{e}^{-z}}$\n",
    "\n",
    "### Cost function\n",
    "\n",
    "* Log loss or Cross entropy cost\n",
    "    * binary-cross-entropy\n",
    "    * categorical-cross-entropy"
   ]
  },
  {
   "cell_type": "markdown",
   "metadata": {},
   "source": [
    "## Logistic Regression with Keras and TensorFlow\n",
    "\n",
    "**Activations functions** are non-linear functions applied when passing the\n",
    "output of a layer to the next layer or the final\n",
    "\n",
    "| **Keras**      | **Example**                                                         | **Link**                 |\n",
    "| -------------- |:------------------------------------------------------------------: | :-----------------------:|\n",
    "| **Activation functions**| sigmoid, step, tanh, softmax, ReLU | [keras.io/activations/](https://keras.io/activations/)|\n",
    "\n",
    "\n",
    "## 1. Load data\n",
    "\n",
    "#### Load libraries"
   ]
  },
  {
   "cell_type": "code",
   "execution_count": 1,
   "metadata": {
    "ExecuteTime": {
     "end_time": "2018-05-05T22:08:30.798072Z",
     "start_time": "2018-05-05T22:08:30.412647Z"
    }
   },
   "outputs": [
    {
     "name": "stderr",
     "output_type": "stream",
     "text": [
      "2023-10-16 12:08:51.469663: I tensorflow/core/platform/cpu_feature_guard.cc:193] This TensorFlow binary is optimized with oneAPI Deep Neural Network Library (oneDNN) to use the following CPU instructions in performance-critical operations:  SSE4.1 SSE4.2 AVX AVX2 AVX_VNNI FMA\n",
      "To enable them in other operations, rebuild TensorFlow with the appropriate compiler flags.\n",
      "2023-10-16 12:08:51.520746: I tensorflow/core/util/util.cc:169] oneDNN custom operations are on. You may see slightly different numerical results due to floating-point round-off errors from different computation orders. To turn them off, set the environment variable `TF_ENABLE_ONEDNN_OPTS=0`.\n"
     ]
    }
   ],
   "source": [
    "import matplotlib.pyplot as plt\n",
    "import numpy as np\n",
    "import tensorflow as tf\n",
    "\n",
    "np.random.seed(12049)\n"
   ]
  },
  {
   "cell_type": "markdown",
   "metadata": {},
   "source": [
    "#### Getting the data"
   ]
  },
  {
   "cell_type": "code",
   "execution_count": 2,
   "metadata": {
    "ExecuteTime": {
     "end_time": "2018-05-05T22:08:47.142827Z",
     "start_time": "2018-05-05T22:08:46.838248Z"
    }
   },
   "outputs": [],
   "source": [
    "# load dataset\n",
    "(X_train, y_train), (X_test, y_test) = tf.keras.datasets.mnist.load_data()\n"
   ]
  },
  {
   "cell_type": "markdown",
   "metadata": {},
   "source": [
    "#### Explore visual data"
   ]
  },
  {
   "cell_type": "code",
   "execution_count": 3,
   "metadata": {
    "ExecuteTime": {
     "end_time": "2018-05-05T22:08:47.621917Z",
     "start_time": "2018-05-05T22:08:47.144984Z"
    }
   },
   "outputs": [
    {
     "data": {
      "image/png": "[encoded data removed]",
      "text/plain": [
       "<Figure size 640x480 with 10 Axes>"
      ]
     },
     "metadata": {},
     "output_type": "display_data"
    }
   ],
   "source": [
    "fig = plt.figure()\n",
    "for i in range(10):\n",
    "    plt.subplot(2, 5, i+1)\n",
    "    x_y = X_train[y_train == i]\n",
    "    plt.imshow(x_y[0], cmap='gray', interpolation='none')\n",
    "    plt.title(\"Class %d\" % (i))\n",
    "    plt.xticks([])\n",
    "    plt.yticks([])\n",
    "\n",
    "plt.tight_layout()\n",
    "plt.show()\n"
   ]
  },
  {
   "cell_type": "code",
   "execution_count": 4,
   "metadata": {
    "ExecuteTime": {
     "end_time": "2018-05-05T22:08:47.630704Z",
     "start_time": "2018-05-05T22:08:47.623965Z"
    }
   },
   "outputs": [
    {
     "name": "stdout",
     "output_type": "stream",
     "text": [
      "X_train.shape (60000, 28, 28)\n",
      "y_train.shape (60000,)\n",
      "X_test.shape (10000, 28, 28)\n",
      "y_test.shape (10000,)\n"
     ]
    }
   ],
   "source": [
    "print('X_train.shape', X_train.shape)\n",
    "print('y_train.shape', y_train.shape)\n",
    "print('X_test.shape', X_test.shape)\n",
    "print('y_test.shape', y_test.shape)\n"
   ]
  },
  {
   "cell_type": "markdown",
   "metadata": {},
   "source": [
    "#### Reshaping and normalizing the inputs"
   ]
  },
  {
   "cell_type": "code",
   "execution_count": 5,
   "metadata": {
    "ExecuteTime": {
     "end_time": "2018-05-05T22:08:47.849134Z",
     "start_time": "2018-05-05T22:08:47.632769Z"
    }
   },
   "outputs": [
    {
     "name": "stdout",
     "output_type": "stream",
     "text": [
      "X_train.shape (60000, 784)\n",
      "X_test.shape (10000, 784)\n"
     ]
    }
   ],
   "source": [
    "# reshaping the inputs\n",
    "X_train = X_train.reshape(60000, 28*28)\n",
    "X_test = X_test.reshape(10000, 28*28)\n",
    "\n",
    "# normalizing the inputs\n",
    "X_train = X_train.astype('float32') / 255.0\n",
    "X_test = X_test.astype('float32') / 255.0\n",
    "\n",
    "print('X_train.shape', X_train.shape)\n",
    "print('X_test.shape', X_test.shape)\n"
   ]
  },
  {
   "cell_type": "markdown",
   "metadata": {},
   "source": [
    "#### Convert class vectors to binary class matrices"
   ]
  },
  {
   "cell_type": "code",
   "execution_count": 6,
   "metadata": {
    "ExecuteTime": {
     "end_time": "2018-05-05T22:08:47.860113Z",
     "start_time": "2018-05-05T22:08:47.851248Z"
    }
   },
   "outputs": [
    {
     "name": "stdout",
     "output_type": "stream",
     "text": [
      "y_train_cat shape: (60000, 10)\n",
      "y_test_cat shape: (10000, 10)\n"
     ]
    }
   ],
   "source": [
    "# 10 classes\n",
    "y_train_cat = tf.keras.utils.to_categorical(y_train, 10)\n",
    "y_test_cat = tf.keras.utils.to_categorical(y_test, 10)\n",
    "print('y_train_cat shape:', y_train_cat.shape)\n",
    "print('y_test_cat shape:', y_test_cat.shape)\n"
   ]
  },
  {
   "cell_type": "markdown",
   "metadata": {},
   "source": [
    "## 2. Define model"
   ]
  },
  {
   "cell_type": "code",
   "execution_count": 7,
   "metadata": {
    "ExecuteTime": {
     "end_time": "2018-05-05T22:08:47.879478Z",
     "start_time": "2018-05-05T22:08:47.862102Z"
    }
   },
   "outputs": [
    {
     "name": "stderr",
     "output_type": "stream",
     "text": [
      "2023-10-16 12:08:52.616481: I tensorflow/stream_executor/cuda/cuda_gpu_executor.cc:980] successful NUMA node read from SysFS had negative value (-1), but there must be at least one NUMA node, so returning NUMA node zero\n",
      "2023-10-16 12:08:52.631110: I tensorflow/stream_executor/cuda/cuda_gpu_executor.cc:980] successful NUMA node read from SysFS had negative value (-1), but there must be at least one NUMA node, so returning NUMA node zero\n",
      "2023-10-16 12:08:52.631228: I tensorflow/stream_executor/cuda/cuda_gpu_executor.cc:980] successful NUMA node read from SysFS had negative value (-1), but there must be at least one NUMA node, so returning NUMA node zero\n",
      "2023-10-16 12:08:52.631828: I tensorflow/core/platform/cpu_feature_guard.cc:193] This TensorFlow binary is optimized with oneAPI Deep Neural Network Library (oneDNN) to use the following CPU instructions in performance-critical operations:  SSE4.1 SSE4.2 AVX AVX2 AVX_VNNI FMA\n",
      "To enable them in other operations, rebuild TensorFlow with the appropriate compiler flags.\n",
      "2023-10-16 12:08:52.632463: I tensorflow/stream_executor/cuda/cuda_gpu_executor.cc:980] successful NUMA node read from SysFS had negative value (-1), but there must be at least one NUMA node, so returning NUMA node zero\n",
      "2023-10-16 12:08:52.632561: I tensorflow/stream_executor/cuda/cuda_gpu_executor.cc:980] successful NUMA node read from SysFS had negative value (-1), but there must be at least one NUMA node, so returning NUMA node zero\n",
      "2023-10-16 12:08:52.632617: I tensorflow/stream_executor/cuda/cuda_gpu_executor.cc:980] successful NUMA node read from SysFS had negative value (-1), but there must be at least one NUMA node, so returning NUMA node zero\n",
      "2023-10-16 12:08:52.680370: I tensorflow/stream_executor/cuda/cuda_gpu_executor.cc:980] successful NUMA node read from SysFS had negative value (-1), but there must be at least one NUMA node, so returning NUMA node zero\n",
      "2023-10-16 12:08:52.680476: I tensorflow/stream_executor/cuda/cuda_gpu_executor.cc:980] successful NUMA node read from SysFS had negative value (-1), but there must be at least one NUMA node, so returning NUMA node zero\n",
      "2023-10-16 12:08:52.680534: I tensorflow/stream_executor/cuda/cuda_gpu_executor.cc:980] successful NUMA node read from SysFS had negative value (-1), but there must be at least one NUMA node, so returning NUMA node zero\n",
      "2023-10-16 12:08:52.680590: I tensorflow/core/common_runtime/gpu/gpu_device.cc:1616] Created device /job:localhost/replica:0/task:0/device:GPU:0 with 14030 MB memory:  -> device: 0, name: NVIDIA GeForce RTX 3080 Ti Laptop GPU, pci bus id: 0000:01:00.0, compute capability: 8.6\n"
     ]
    }
   ],
   "source": [
    "# building a linear stack of layers with the sequential model\n",
    "model = tf.keras.models.Sequential()\n",
    "# Add layer\n",
    "model.add(tf.keras.layers.Dense(10, input_dim=28*28, activation='softmax'))\n"
   ]
  },
  {
   "cell_type": "markdown",
   "metadata": {},
   "source": [
    "#### Model visualization"
   ]
  },
  {
   "cell_type": "code",
   "execution_count": 8,
   "metadata": {
    "ExecuteTime": {
     "end_time": "2018-05-05T22:08:52.022347Z",
     "start_time": "2018-05-05T22:08:47.881488Z"
    }
   },
   "outputs": [
    {
     "name": "stdout",
     "output_type": "stream",
     "text": [
      "Model: \"sequential\"\n",
      "_________________________________________________________________\n",
      " Layer (type)                Output Shape              Param #   \n",
      "=================================================================\n",
      " dense (Dense)               (None, 10)                7850      \n",
      "                                                                 \n",
      "=================================================================\n",
      "Total params: 7,850\n",
      "Trainable params: 7,850\n",
      "Non-trainable params: 0\n",
      "_________________________________________________________________\n"
     ]
    }
   ],
   "source": [
    "# plot a Keras model\n",
    "tf.keras.utils.plot_model(\n",
    "    model, \n",
    "    to_file='img/model02_log_reg.png',\n",
    "    show_shapes=True, \n",
    "    show_layer_names=True\n",
    ")\n",
    "\n",
    "# prints a summary representation of your model\n",
    "model.summary()\n"
   ]
  },
  {
   "cell_type": "markdown",
   "metadata": {},
   "source": [
    "![Logistic regression](img/model02_log_reg.png)"
   ]
  },
  {
   "cell_type": "markdown",
   "metadata": {},
   "source": [
    "## 3. Compile model"
   ]
  },
  {
   "cell_type": "code",
   "execution_count": 9,
   "metadata": {
    "ExecuteTime": {
     "end_time": "2018-05-05T22:08:52.062153Z",
     "start_time": "2018-05-05T22:08:52.024650Z"
    }
   },
   "outputs": [],
   "source": [
    "# compiling the sequential model\n",
    "model.compile(\n",
    "    'rmsprop', \n",
    "    loss='categorical_crossentropy',\n",
    "    metrics=['categorical_accuracy']\n",
    ")\n"
   ]
  },
  {
   "cell_type": "markdown",
   "metadata": {},
   "source": [
    "## 4. Fit model"
   ]
  },
  {
   "cell_type": "code",
   "execution_count": 10,
   "metadata": {
    "ExecuteTime": {
     "end_time": "2018-05-05T22:09:35.765478Z",
     "start_time": "2018-05-05T22:08:52.064129Z"
    },
    "scrolled": true
   },
   "outputs": [
    {
     "name": "stdout",
     "output_type": "stream",
     "text": [
      "Epoch 1/50\n"
     ]
    },
    {
     "name": "stderr",
     "output_type": "stream",
     "text": [
      "2023-10-16 12:08:53.110865: I tensorflow/stream_executor/cuda/cuda_blas.cc:1614] TensorFloat-32 will be used for the matrix multiplication. This will only be logged once.\n"
     ]
    },
    {
     "name": "stdout",
     "output_type": "stream",
     "text": [
      "235/235 - 0s - loss: 0.7670 - categorical_accuracy: 0.8130 - val_loss: 0.3976 - val_categorical_accuracy: 0.8968 - 473ms/epoch - 2ms/step\n",
      "Epoch 2/50\n",
      "235/235 - 0s - loss: 0.3695 - categorical_accuracy: 0.8993 - val_loss: 0.3258 - val_categorical_accuracy: 0.9093 - 245ms/epoch - 1ms/step\n",
      "Epoch 3/50\n",
      "235/235 - 0s - loss: 0.3230 - categorical_accuracy: 0.9098 - val_loss: 0.3014 - val_categorical_accuracy: 0.9158 - 242ms/epoch - 1ms/step\n",
      "Epoch 4/50\n",
      "235/235 - 0s - loss: 0.3033 - categorical_accuracy: 0.9158 - val_loss: 0.2877 - val_categorical_accuracy: 0.9192 - 236ms/epoch - 1ms/step\n",
      "Epoch 5/50\n",
      "235/235 - 0s - loss: 0.2920 - categorical_accuracy: 0.9185 - val_loss: 0.2815 - val_categorical_accuracy: 0.9208 - 228ms/epoch - 970us/step\n",
      "Epoch 6/50\n",
      "235/235 - 0s - loss: 0.2841 - categorical_accuracy: 0.9209 - val_loss: 0.2777 - val_categorical_accuracy: 0.9228 - 240ms/epoch - 1ms/step\n",
      "Epoch 7/50\n",
      "235/235 - 0s - loss: 0.2783 - categorical_accuracy: 0.9225 - val_loss: 0.2733 - val_categorical_accuracy: 0.9239 - 229ms/epoch - 974us/step\n",
      "Epoch 8/50\n",
      "235/235 - 0s - loss: 0.2741 - categorical_accuracy: 0.9235 - val_loss: 0.2718 - val_categorical_accuracy: 0.9247 - 227ms/epoch - 966us/step\n",
      "Epoch 9/50\n",
      "235/235 - 0s - loss: 0.2706 - categorical_accuracy: 0.9245 - val_loss: 0.2692 - val_categorical_accuracy: 0.9250 - 222ms/epoch - 945us/step\n",
      "Epoch 10/50\n",
      "235/235 - 0s - loss: 0.2675 - categorical_accuracy: 0.9257 - val_loss: 0.2676 - val_categorical_accuracy: 0.9255 - 214ms/epoch - 909us/step\n",
      "Epoch 11/50\n",
      "235/235 - 0s - loss: 0.2651 - categorical_accuracy: 0.9263 - val_loss: 0.2704 - val_categorical_accuracy: 0.9247 - 232ms/epoch - 985us/step\n",
      "Epoch 12/50\n",
      "235/235 - 0s - loss: 0.2630 - categorical_accuracy: 0.9271 - val_loss: 0.2670 - val_categorical_accuracy: 0.9252 - 227ms/epoch - 966us/step\n",
      "Epoch 13/50\n",
      "235/235 - 0s - loss: 0.2612 - categorical_accuracy: 0.9276 - val_loss: 0.2665 - val_categorical_accuracy: 0.9252 - 225ms/epoch - 959us/step\n",
      "Epoch 14/50\n",
      "235/235 - 0s - loss: 0.2597 - categorical_accuracy: 0.9278 - val_loss: 0.2659 - val_categorical_accuracy: 0.9260 - 228ms/epoch - 969us/step\n",
      "Epoch 15/50\n",
      "235/235 - 0s - loss: 0.2581 - categorical_accuracy: 0.9293 - val_loss: 0.2653 - val_categorical_accuracy: 0.9259 - 233ms/epoch - 991us/step\n",
      "Epoch 16/50\n",
      "235/235 - 0s - loss: 0.2569 - categorical_accuracy: 0.9293 - val_loss: 0.2652 - val_categorical_accuracy: 0.9260 - 234ms/epoch - 996us/step\n",
      "Epoch 17/50\n",
      "235/235 - 0s - loss: 0.2558 - categorical_accuracy: 0.9293 - val_loss: 0.2644 - val_categorical_accuracy: 0.9257 - 240ms/epoch - 1ms/step\n",
      "Epoch 18/50\n",
      "235/235 - 0s - loss: 0.2546 - categorical_accuracy: 0.9298 - val_loss: 0.2645 - val_categorical_accuracy: 0.9268 - 222ms/epoch - 946us/step\n",
      "Epoch 19/50\n",
      "235/235 - 0s - loss: 0.2536 - categorical_accuracy: 0.9300 - val_loss: 0.2642 - val_categorical_accuracy: 0.9283 - 245ms/epoch - 1ms/step\n",
      "Epoch 20/50\n",
      "235/235 - 0s - loss: 0.2526 - categorical_accuracy: 0.9307 - val_loss: 0.2650 - val_categorical_accuracy: 0.9265 - 237ms/epoch - 1ms/step\n",
      "Epoch 21/50\n",
      "235/235 - 0s - loss: 0.2517 - categorical_accuracy: 0.9308 - val_loss: 0.2656 - val_categorical_accuracy: 0.9261 - 228ms/epoch - 969us/step\n",
      "Epoch 22/50\n",
      "235/235 - 0s - loss: 0.2510 - categorical_accuracy: 0.9312 - val_loss: 0.2637 - val_categorical_accuracy: 0.9278 - 242ms/epoch - 1ms/step\n",
      "Epoch 23/50\n",
      "235/235 - 0s - loss: 0.2504 - categorical_accuracy: 0.9312 - val_loss: 0.2633 - val_categorical_accuracy: 0.9280 - 236ms/epoch - 1ms/step\n",
      "Epoch 24/50\n",
      "235/235 - 0s - loss: 0.2495 - categorical_accuracy: 0.9313 - val_loss: 0.2651 - val_categorical_accuracy: 0.9279 - 226ms/epoch - 962us/step\n",
      "Epoch 25/50\n",
      "235/235 - 0s - loss: 0.2490 - categorical_accuracy: 0.9321 - val_loss: 0.2661 - val_categorical_accuracy: 0.9266 - 256ms/epoch - 1ms/step\n",
      "Epoch 26/50\n",
      "235/235 - 0s - loss: 0.2485 - categorical_accuracy: 0.9325 - val_loss: 0.2658 - val_categorical_accuracy: 0.9271 - 233ms/epoch - 991us/step\n",
      "Epoch 27/50\n",
      "235/235 - 0s - loss: 0.2478 - categorical_accuracy: 0.9324 - val_loss: 0.2659 - val_categorical_accuracy: 0.9272 - 223ms/epoch - 948us/step\n",
      "Epoch 28/50\n",
      "235/235 - 0s - loss: 0.2472 - categorical_accuracy: 0.9329 - val_loss: 0.2650 - val_categorical_accuracy: 0.9266 - 233ms/epoch - 993us/step\n",
      "Epoch 29/50\n",
      "235/235 - 0s - loss: 0.2468 - categorical_accuracy: 0.9329 - val_loss: 0.2655 - val_categorical_accuracy: 0.9269 - 224ms/epoch - 952us/step\n",
      "Epoch 30/50\n",
      "235/235 - 0s - loss: 0.2463 - categorical_accuracy: 0.9334 - val_loss: 0.2671 - val_categorical_accuracy: 0.9266 - 244ms/epoch - 1ms/step\n",
      "Epoch 31/50\n",
      "235/235 - 0s - loss: 0.2456 - categorical_accuracy: 0.9333 - val_loss: 0.2654 - val_categorical_accuracy: 0.9282 - 241ms/epoch - 1ms/step\n",
      "Epoch 32/50\n",
      "235/235 - 0s - loss: 0.2453 - categorical_accuracy: 0.9334 - val_loss: 0.2646 - val_categorical_accuracy: 0.9277 - 235ms/epoch - 999us/step\n",
      "Epoch 33/50\n",
      "235/235 - 0s - loss: 0.2451 - categorical_accuracy: 0.9334 - val_loss: 0.2666 - val_categorical_accuracy: 0.9279 - 221ms/epoch - 941us/step\n",
      "Epoch 34/50\n",
      "235/235 - 0s - loss: 0.2446 - categorical_accuracy: 0.9337 - val_loss: 0.2662 - val_categorical_accuracy: 0.9274 - 265ms/epoch - 1ms/step\n",
      "Epoch 35/50\n",
      "235/235 - 0s - loss: 0.2442 - categorical_accuracy: 0.9337 - val_loss: 0.2685 - val_categorical_accuracy: 0.9273 - 261ms/epoch - 1ms/step\n",
      "Epoch 36/50\n",
      "235/235 - 0s - loss: 0.2438 - categorical_accuracy: 0.9337 - val_loss: 0.2672 - val_categorical_accuracy: 0.9268 - 242ms/epoch - 1ms/step\n",
      "Epoch 37/50\n",
      "235/235 - 0s - loss: 0.2435 - categorical_accuracy: 0.9332 - val_loss: 0.2659 - val_categorical_accuracy: 0.9273 - 261ms/epoch - 1ms/step\n",
      "Epoch 38/50\n",
      "235/235 - 0s - loss: 0.2432 - categorical_accuracy: 0.9340 - val_loss: 0.2693 - val_categorical_accuracy: 0.9273 - 232ms/epoch - 988us/step\n",
      "Epoch 39/50\n",
      "235/235 - 0s - loss: 0.2429 - categorical_accuracy: 0.9345 - val_loss: 0.2661 - val_categorical_accuracy: 0.9277 - 224ms/epoch - 953us/step\n",
      "Epoch 40/50\n",
      "235/235 - 0s - loss: 0.2425 - categorical_accuracy: 0.9344 - val_loss: 0.2676 - val_categorical_accuracy: 0.9275 - 241ms/epoch - 1ms/step\n",
      "Epoch 41/50\n",
      "235/235 - 0s - loss: 0.2421 - categorical_accuracy: 0.9343 - val_loss: 0.2678 - val_categorical_accuracy: 0.9279 - 242ms/epoch - 1ms/step\n",
      "Epoch 42/50\n",
      "235/235 - 0s - loss: 0.2419 - categorical_accuracy: 0.9349 - val_loss: 0.2667 - val_categorical_accuracy: 0.9280 - 239ms/epoch - 1ms/step\n",
      "Epoch 43/50\n",
      "235/235 - 0s - loss: 0.2417 - categorical_accuracy: 0.9345 - val_loss: 0.2671 - val_categorical_accuracy: 0.9281 - 230ms/epoch - 978us/step\n",
      "Epoch 44/50\n",
      "235/235 - 0s - loss: 0.2415 - categorical_accuracy: 0.9347 - val_loss: 0.2680 - val_categorical_accuracy: 0.9286 - 238ms/epoch - 1ms/step\n",
      "Epoch 45/50\n",
      "235/235 - 0s - loss: 0.2412 - categorical_accuracy: 0.9350 - val_loss: 0.2679 - val_categorical_accuracy: 0.9284 - 244ms/epoch - 1ms/step\n",
      "Epoch 46/50\n",
      "235/235 - 0s - loss: 0.2410 - categorical_accuracy: 0.9349 - val_loss: 0.2693 - val_categorical_accuracy: 0.9274 - 242ms/epoch - 1ms/step\n",
      "Epoch 47/50\n",
      "235/235 - 0s - loss: 0.2403 - categorical_accuracy: 0.9350 - val_loss: 0.2685 - val_categorical_accuracy: 0.9282 - 232ms/epoch - 989us/step\n",
      "Epoch 48/50\n",
      "235/235 - 0s - loss: 0.2403 - categorical_accuracy: 0.9355 - val_loss: 0.2677 - val_categorical_accuracy: 0.9279 - 233ms/epoch - 991us/step\n",
      "Epoch 49/50\n",
      "235/235 - 0s - loss: 0.2403 - categorical_accuracy: 0.9351 - val_loss: 0.2700 - val_categorical_accuracy: 0.9280 - 244ms/epoch - 1ms/step\n",
      "Epoch 50/50\n",
      "235/235 - 0s - loss: 0.2400 - categorical_accuracy: 0.9353 - val_loss: 0.2702 - val_categorical_accuracy: 0.9282 - 244ms/epoch - 1ms/step\n"
     ]
    }
   ],
   "source": [
    "# training the model and saving metrics in history\n",
    "history = model.fit(\n",
    "    X_train,\n",
    "    y_train_cat,\n",
    "    batch_size=256,\n",
    "    epochs=50,\n",
    "    verbose=2,\n",
    "    validation_data=(X_test, y_test_cat),\n",
    ")\n"
   ]
  },
  {
   "cell_type": "markdown",
   "metadata": {},
   "source": [
    "## 5. Evaluate model"
   ]
  },
  {
   "cell_type": "code",
   "execution_count": 11,
   "metadata": {
    "ExecuteTime": {
     "end_time": "2018-05-05T22:09:35.772685Z",
     "start_time": "2018-05-05T22:09:35.767910Z"
    }
   },
   "outputs": [
    {
     "data": {
      "text/plain": [
       "dict_keys(['loss', 'categorical_accuracy', 'val_loss', 'val_categorical_accuracy'])"
      ]
     },
     "execution_count": 11,
     "metadata": {},
     "output_type": "execute_result"
    }
   ],
   "source": [
    "history.history.keys()\n"
   ]
  },
  {
   "cell_type": "code",
   "execution_count": 12,
   "metadata": {
    "ExecuteTime": {
     "end_time": "2018-05-05T22:09:36.108821Z",
     "start_time": "2018-05-05T22:09:35.774690Z"
    }
   },
   "outputs": [
    {
     "data": {
      "image/png": "[encoded data removed]",
      "text/plain": [
       "<Figure size 640x480 with 2 Axes>"
      ]
     },
     "metadata": {},
     "output_type": "display_data"
    }
   ],
   "source": [
    "# plotting the metrics\n",
    "fig = plt.figure()\n",
    "plt.subplot(2, 1, 1)\n",
    "plt.plot(history.history['categorical_accuracy'])\n",
    "plt.plot(history.history['val_categorical_accuracy'])\n",
    "plt.title('model accuracy')\n",
    "plt.ylabel('accuracy')\n",
    "plt.xlabel('epoch')\n",
    "plt.legend(['train', 'test'], loc='lower right')\n",
    "\n",
    "plt.subplot(2, 1, 2)\n",
    "plt.plot(history.history['loss'])\n",
    "plt.plot(history.history['val_loss'])\n",
    "plt.title('model loss')\n",
    "plt.ylabel('loss')\n",
    "plt.xlabel('epoch')\n",
    "plt.legend(['train', 'test'], loc='upper right')\n",
    "\n",
    "plt.tight_layout()\n"
   ]
  },
  {
   "cell_type": "code",
   "execution_count": 13,
   "metadata": {
    "ExecuteTime": {
     "end_time": "2018-05-05T22:09:36.506663Z",
     "start_time": "2018-05-05T22:09:36.110807Z"
    }
   },
   "outputs": [
    {
     "name": "stdout",
     "output_type": "stream",
     "text": [
      "313/313 [==============================] - 0s 687us/step - loss: 0.2702 - categorical_accuracy: 0.9282\n",
      "Evaluation result on Test Data:\n",
      "Loss = 0.270211398601532\n",
      "Accuracy = 0.9282000064849854\n"
     ]
    }
   ],
   "source": [
    "# evaluate model on test data\n",
    "[test_loss, test_acc] = model.evaluate(X_test, y_test_cat)\n",
    "print(\n",
    "    \"Evaluation result on Test Data:\\nLoss = {}\\nAccuracy = {}\".format(\n",
    "        test_loss, test_acc\n",
    "    )\n",
    ")\n"
   ]
  },
  {
   "cell_type": "markdown",
   "metadata": {},
   "source": [
    "## References\n",
    "\n",
    "* [Deep Learning Book](http://www.deeplearningbook.org)\n",
    "\n",
    "* [Zero to Deep Learning™ Udemy Video Course](https://github.com/dataweekends/zero_to_deep_learning_udemy)\n",
    "\n",
    "* [THE MNIST DATABASE](http://yann.lecun.com/exdb/mnist/)"
   ]
  }
 ],
 "metadata": {
  "kernelspec": {
   "display_name": "Python 3 (ipykernel)",
   "language": "python",
   "name": "python3"
  },
  "language_info": {
   "codemirror_mode": {
    "name": "ipython",
    "version": 3
   },
   "file_extension": ".py",
   "mimetype": "text/x-python",
   "name": "python",
   "nbconvert_exporter": "python",
   "pygments_lexer": "ipython3",
   "version": "3.10.8"
  }
 },
 "nbformat": 4,
 "nbformat_minor": 2
}
