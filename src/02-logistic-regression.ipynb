{
 "cells": [
  {
   "cell_type": "markdown",
   "metadata": {},
   "source": [
    "# Deep Learning 101\n",
    "\n",
    "This notebook presents the basics concepts that involve the concept of Deep\n",
    "Learning.\n",
    "\n",
    "1. Linear Regression\n",
    "2. **Logistic Regression**\n",
    "3. Artificial Neural Networks\n",
    "4. Deep Neural Networks\n",
    "5. Convolutional Neural Networks\n",
    "\n",
    "## 2. Logistic Regression\n",
    "\n",
    "Logistic regression is a regression model where the dependent variable is\n",
    "categorical, and the output can take only two values 0 or 1.\n",
    "* This **probability** is modeled using a function\n",
    "    * $\\hat{y}=f(Wx+b)$\n",
    "* We can use the **Sigmoid function** which takes any real input $\\mathbf{x} \\in\n",
    "  \\mathbb{R}$, and the logistic regression model thus predicts an output $y \\in\n",
    "  \\{0,1\\}$ \n",
    "    * $f(z) = \\frac{1}{1 + \\mathrm{e}^{-z}}$\n",
    "\n",
    "### Cost function\n",
    "\n",
    "* Log loss or Cross entropy cost\n",
    "    * binary-cross-entropy\n",
    "    * categorical-cross-entropy"
   ]
  },
  {
   "cell_type": "markdown",
   "metadata": {},
   "source": [
    "## Logistic Regression with Keras and TensorFlow\n",
    "\n",
    "**Activations functions** are non-linear functions applied when passing the\n",
    "output of a layer to the next layer or the final\n",
    "\n",
    "| **Keras**      | **Example**                                                         | **Link**                 |\n",
    "| -------------- |:------------------------------------------------------------------: | :-----------------------:|\n",
    "| **Activation functions**| sigmoid, step, tanh, softmax, ReLU | [keras.io/activations/](https://keras.io/activations/)|\n",
    "\n",
    "\n",
    "## 1. Load data\n",
    "\n",
    "#### Load libraries"
   ]
  },
  {
   "cell_type": "code",
   "execution_count": 1,
   "metadata": {
    "ExecuteTime": {
     "end_time": "2018-05-05T22:08:30.798072Z",
     "start_time": "2018-05-05T22:08:30.412647Z"
    }
   },
   "outputs": [],
   "source": [
    "import matplotlib.pyplot as plt\n",
    "import numpy as np\n",
    "import tensorflow as tf\n",
    "\n",
    "np.random.seed(12049)\n"
   ]
  },
  {
   "cell_type": "markdown",
   "metadata": {},
   "source": [
    "#### Getting the data"
   ]
  },
  {
   "cell_type": "code",
   "execution_count": 2,
   "metadata": {
    "ExecuteTime": {
     "end_time": "2018-05-05T22:08:47.142827Z",
     "start_time": "2018-05-05T22:08:46.838248Z"
    }
   },
   "outputs": [],
   "source": [
    "# load dataset\n",
    "(X_train, y_train), (X_test, y_test) = tf.keras.datasets.mnist.load_data()\n"
   ]
  },
  {
   "cell_type": "markdown",
   "metadata": {},
   "source": [
    "#### Explore visual data"
   ]
  },
  {
   "cell_type": "code",
   "execution_count": 3,
   "metadata": {
    "ExecuteTime": {
     "end_time": "2018-05-05T22:08:47.621917Z",
     "start_time": "2018-05-05T22:08:47.144984Z"
    }
   },
   "outputs": [
    {
     "data": {
      "image/png": "[encoded data removed]",
      "text/plain": [
       "<Figure size 640x480 with 10 Axes>"
      ]
     },
     "metadata": {},
     "output_type": "display_data"
    }
   ],
   "source": [
    "fig = plt.figure()\n",
    "for i in range(10):\n",
    "    plt.subplot(2, 5, i+1)\n",
    "    x_y = X_train[y_train == i]\n",
    "    plt.imshow(x_y[0], cmap='gray', interpolation='none')\n",
    "    plt.title(\"Class %d\" % (i))\n",
    "    plt.xticks([])\n",
    "    plt.yticks([])\n",
    "\n",
    "plt.tight_layout()\n",
    "plt.show()\n"
   ]
  },
  {
   "cell_type": "code",
   "execution_count": 4,
   "metadata": {
    "ExecuteTime": {
     "end_time": "2018-05-05T22:08:47.630704Z",
     "start_time": "2018-05-05T22:08:47.623965Z"
    }
   },
   "outputs": [
    {
     "name": "stdout",
     "output_type": "stream",
     "text": [
      "X_train.shape (60000, 28, 28)\n",
      "y_train.shape (60000,)\n",
      "X_test.shape (10000, 28, 28)\n",
      "y_test.shape (10000,)\n"
     ]
    }
   ],
   "source": [
    "print('X_train.shape', X_train.shape)\n",
    "print('y_train.shape', y_train.shape)\n",
    "print('X_test.shape', X_test.shape)\n",
    "print('y_test.shape', y_test.shape)\n"
   ]
  },
  {
   "cell_type": "markdown",
   "metadata": {},
   "source": [
    "#### Reshaping and normalizing the inputs"
   ]
  },
  {
   "cell_type": "code",
   "execution_count": 5,
   "metadata": {
    "ExecuteTime": {
     "end_time": "2018-05-05T22:08:47.849134Z",
     "start_time": "2018-05-05T22:08:47.632769Z"
    }
   },
   "outputs": [
    {
     "name": "stdout",
     "output_type": "stream",
     "text": [
      "X_train.shape (60000, 784)\n",
      "X_test.shape (10000, 784)\n"
     ]
    }
   ],
   "source": [
    "# reshaping the inputs\n",
    "X_train = X_train.reshape(60000, 28*28)\n",
    "X_test = X_test.reshape(10000, 28*28)\n",
    "\n",
    "# normalizing the inputs\n",
    "X_train = X_train.astype('float32') / 255.0\n",
    "X_test = X_test.astype('float32') / 255.0\n",
    "\n",
    "print('X_train.shape', X_train.shape)\n",
    "print('X_test.shape', X_test.shape)\n"
   ]
  },
  {
   "cell_type": "markdown",
   "metadata": {},
   "source": [
    "#### Convert class vectors to binary class matrices"
   ]
  },
  {
   "cell_type": "code",
   "execution_count": 6,
   "metadata": {
    "ExecuteTime": {
     "end_time": "2018-05-05T22:08:47.860113Z",
     "start_time": "2018-05-05T22:08:47.851248Z"
    }
   },
   "outputs": [
    {
     "name": "stdout",
     "output_type": "stream",
     "text": [
      "y_train_cat shape: (60000, 10)\n",
      "y_test_cat shape: (10000, 10)\n"
     ]
    }
   ],
   "source": [
    "# 10 classes\n",
    "y_train_cat = tf.keras.utils.to_categorical(y_train, 10)\n",
    "y_test_cat = tf.keras.utils.to_categorical(y_test, 10)\n",
    "print('y_train_cat shape:', y_train_cat.shape)\n",
    "print('y_test_cat shape:', y_test_cat.shape)\n"
   ]
  },
  {
   "cell_type": "markdown",
   "metadata": {},
   "source": [
    "## 2. Define model"
   ]
  },
  {
   "cell_type": "code",
   "execution_count": 7,
   "metadata": {
    "ExecuteTime": {
     "end_time": "2018-05-05T22:08:47.879478Z",
     "start_time": "2018-05-05T22:08:47.862102Z"
    }
   },
   "outputs": [
    {
     "name": "stdout",
     "output_type": "stream",
     "text": [
      "Metal device set to: Apple M1 Pro\n",
      "\n",
      "systemMemory: 16.00 GB\n",
      "maxCacheSize: 5.33 GB\n",
      "\n"
     ]
    },
    {
     "name": "stderr",
     "output_type": "stream",
     "text": [
      "2023-10-18 12:34:29.912402: I tensorflow/core/common_runtime/pluggable_device/pluggable_device_factory.cc:306] Could not identify NUMA node of platform GPU ID 0, defaulting to 0. Your kernel may not have been built with NUMA support.\n",
      "2023-10-18 12:34:29.912623: I tensorflow/core/common_runtime/pluggable_device/pluggable_device_factory.cc:272] Created TensorFlow device (/job:localhost/replica:0/task:0/device:GPU:0 with 0 MB memory) -> physical PluggableDevice (device: 0, name: METAL, pci bus id: <undefined>)\n"
     ]
    }
   ],
   "source": [
    "# building a linear stack of layers with the sequential model\n",
    "model = tf.keras.models.Sequential()\n",
    "# Add layer\n",
    "model.add(tf.keras.layers.Dense(10, input_dim=28*28, activation='softmax'))\n"
   ]
  },
  {
   "cell_type": "markdown",
   "metadata": {},
   "source": [
    "#### Model visualization"
   ]
  },
  {
   "cell_type": "code",
   "execution_count": 8,
   "metadata": {
    "ExecuteTime": {
     "end_time": "2018-05-05T22:08:52.022347Z",
     "start_time": "2018-05-05T22:08:47.881488Z"
    }
   },
   "outputs": [
    {
     "name": "stdout",
     "output_type": "stream",
     "text": [
      "Model: \"sequential\"\n",
      "_________________________________________________________________\n",
      " Layer (type)                Output Shape              Param #   \n",
      "=================================================================\n",
      " dense (Dense)               (None, 10)                7850      \n",
      "                                                                 \n",
      "=================================================================\n",
      "Total params: 7,850\n",
      "Trainable params: 7,850\n",
      "Non-trainable params: 0\n",
      "_________________________________________________________________\n"
     ]
    }
   ],
   "source": [
    "# plot a Keras model\n",
    "tf.keras.utils.plot_model(\n",
    "    model, \n",
    "    to_file='img/model02_log_reg.png',\n",
    "    show_shapes=True, \n",
    "    show_layer_names=True\n",
    ")\n",
    "\n",
    "# prints a summary representation of your model\n",
    "model.summary()\n"
   ]
  },
  {
   "cell_type": "markdown",
   "metadata": {},
   "source": [
    "![Logistic regression](img/model02_log_reg.png)"
   ]
  },
  {
   "cell_type": "markdown",
   "metadata": {},
   "source": [
    "## 3. Compile model"
   ]
  },
  {
   "cell_type": "code",
   "execution_count": 9,
   "metadata": {
    "ExecuteTime": {
     "end_time": "2018-05-05T22:08:52.062153Z",
     "start_time": "2018-05-05T22:08:52.024650Z"
    }
   },
   "outputs": [],
   "source": [
    "# compiling the sequential model\n",
    "model.compile(\n",
    "    'rmsprop', \n",
    "    loss='categorical_crossentropy',\n",
    "    metrics=['categorical_accuracy']\n",
    ")\n"
   ]
  },
  {
   "cell_type": "markdown",
   "metadata": {},
   "source": [
    "## 4. Fit model"
   ]
  },
  {
   "cell_type": "code",
   "execution_count": 10,
   "metadata": {
    "ExecuteTime": {
     "end_time": "2018-05-05T22:09:35.765478Z",
     "start_time": "2018-05-05T22:08:52.064129Z"
    },
    "scrolled": true
   },
   "outputs": [
    {
     "name": "stdout",
     "output_type": "stream",
     "text": [
      "Epoch 1/50\n"
     ]
    },
    {
     "name": "stderr",
     "output_type": "stream",
     "text": [
      "2023-10-18 12:34:30.837880: W tensorflow/core/platform/profile_utils/cpu_utils.cc:128] Failed to get CPU frequency: 0 Hz\n",
      "2023-10-18 12:34:31.051361: I tensorflow/core/grappler/optimizers/custom_graph_optimizer_registry.cc:114] Plugin optimizer for device_type GPU is enabled.\n",
      "2023-10-18 12:34:47.912461: I tensorflow/core/grappler/optimizers/custom_graph_optimizer_registry.cc:114] Plugin optimizer for device_type GPU is enabled.\n"
     ]
    },
    {
     "name": "stdout",
     "output_type": "stream",
     "text": [
      "235/235 - 20s - loss: 0.7566 - categorical_accuracy: 0.8208 - val_loss: 0.3944 - val_categorical_accuracy: 0.8980 - 20s/epoch - 85ms/step\n",
      "Epoch 2/50\n",
      "235/235 - 15s - loss: 0.3677 - categorical_accuracy: 0.8999 - val_loss: 0.3249 - val_categorical_accuracy: 0.9097 - 15s/epoch - 63ms/step\n",
      "Epoch 3/50\n",
      "235/235 - 15s - loss: 0.3219 - categorical_accuracy: 0.9105 - val_loss: 0.3002 - val_categorical_accuracy: 0.9153 - 15s/epoch - 63ms/step\n",
      "Epoch 4/50\n",
      "235/235 - 15s - loss: 0.3027 - categorical_accuracy: 0.9162 - val_loss: 0.2894 - val_categorical_accuracy: 0.9189 - 15s/epoch - 63ms/step\n",
      "Epoch 5/50\n",
      "235/235 - 15s - loss: 0.2915 - categorical_accuracy: 0.9191 - val_loss: 0.2846 - val_categorical_accuracy: 0.9192 - 15s/epoch - 63ms/step\n",
      "Epoch 6/50\n",
      "235/235 - 15s - loss: 0.2840 - categorical_accuracy: 0.9207 - val_loss: 0.2769 - val_categorical_accuracy: 0.9229 - 15s/epoch - 63ms/step\n",
      "Epoch 7/50\n",
      "235/235 - 15s - loss: 0.2783 - categorical_accuracy: 0.9224 - val_loss: 0.2769 - val_categorical_accuracy: 0.9225 - 15s/epoch - 63ms/step\n",
      "Epoch 8/50\n",
      "235/235 - 15s - loss: 0.2742 - categorical_accuracy: 0.9238 - val_loss: 0.2721 - val_categorical_accuracy: 0.9250 - 15s/epoch - 63ms/step\n",
      "Epoch 9/50\n",
      "235/235 - 15s - loss: 0.2703 - categorical_accuracy: 0.9250 - val_loss: 0.2719 - val_categorical_accuracy: 0.9243 - 15s/epoch - 63ms/step\n",
      "Epoch 10/50\n",
      "235/235 - 15s - loss: 0.2676 - categorical_accuracy: 0.9257 - val_loss: 0.2704 - val_categorical_accuracy: 0.9250 - 15s/epoch - 63ms/step\n",
      "Epoch 11/50\n",
      "235/235 - 15s - loss: 0.2653 - categorical_accuracy: 0.9265 - val_loss: 0.2674 - val_categorical_accuracy: 0.9258 - 15s/epoch - 63ms/step\n",
      "Epoch 12/50\n",
      "235/235 - 15s - loss: 0.2631 - categorical_accuracy: 0.9269 - val_loss: 0.2659 - val_categorical_accuracy: 0.9264 - 15s/epoch - 63ms/step\n",
      "Epoch 13/50\n",
      "235/235 - 15s - loss: 0.2612 - categorical_accuracy: 0.9278 - val_loss: 0.2669 - val_categorical_accuracy: 0.9271 - 15s/epoch - 63ms/step\n",
      "Epoch 14/50\n",
      "235/235 - 15s - loss: 0.2599 - categorical_accuracy: 0.9280 - val_loss: 0.2657 - val_categorical_accuracy: 0.9262 - 15s/epoch - 63ms/step\n",
      "Epoch 15/50\n",
      "235/235 - 15s - loss: 0.2583 - categorical_accuracy: 0.9290 - val_loss: 0.2648 - val_categorical_accuracy: 0.9271 - 15s/epoch - 63ms/step\n",
      "Epoch 16/50\n",
      "235/235 - 15s - loss: 0.2569 - categorical_accuracy: 0.9293 - val_loss: 0.2656 - val_categorical_accuracy: 0.9263 - 15s/epoch - 63ms/step\n",
      "Epoch 17/50\n",
      "235/235 - 15s - loss: 0.2558 - categorical_accuracy: 0.9299 - val_loss: 0.2680 - val_categorical_accuracy: 0.9268 - 15s/epoch - 63ms/step\n",
      "Epoch 18/50\n",
      "235/235 - 15s - loss: 0.2546 - categorical_accuracy: 0.9301 - val_loss: 0.2655 - val_categorical_accuracy: 0.9262 - 15s/epoch - 64ms/step\n",
      "Epoch 19/50\n",
      "235/235 - 15s - loss: 0.2536 - categorical_accuracy: 0.9304 - val_loss: 0.2639 - val_categorical_accuracy: 0.9278 - 15s/epoch - 65ms/step\n",
      "Epoch 20/50\n",
      "235/235 - 15s - loss: 0.2530 - categorical_accuracy: 0.9312 - val_loss: 0.2646 - val_categorical_accuracy: 0.9275 - 15s/epoch - 64ms/step\n",
      "Epoch 21/50\n",
      "235/235 - 15s - loss: 0.2520 - categorical_accuracy: 0.9310 - val_loss: 0.2651 - val_categorical_accuracy: 0.9270 - 15s/epoch - 64ms/step\n",
      "Epoch 22/50\n",
      "235/235 - 15s - loss: 0.2511 - categorical_accuracy: 0.9306 - val_loss: 0.2647 - val_categorical_accuracy: 0.9276 - 15s/epoch - 64ms/step\n",
      "Epoch 23/50\n",
      "235/235 - 15s - loss: 0.2505 - categorical_accuracy: 0.9316 - val_loss: 0.2661 - val_categorical_accuracy: 0.9273 - 15s/epoch - 64ms/step\n",
      "Epoch 24/50\n",
      "235/235 - 15s - loss: 0.2496 - categorical_accuracy: 0.9320 - val_loss: 0.2658 - val_categorical_accuracy: 0.9265 - 15s/epoch - 64ms/step\n",
      "Epoch 25/50\n",
      "235/235 - 15s - loss: 0.2490 - categorical_accuracy: 0.9321 - val_loss: 0.2662 - val_categorical_accuracy: 0.9265 - 15s/epoch - 64ms/step\n",
      "Epoch 26/50\n",
      "235/235 - 15s - loss: 0.2484 - categorical_accuracy: 0.9326 - val_loss: 0.2651 - val_categorical_accuracy: 0.9274 - 15s/epoch - 64ms/step\n",
      "Epoch 27/50\n",
      "235/235 - 15s - loss: 0.2482 - categorical_accuracy: 0.9321 - val_loss: 0.2644 - val_categorical_accuracy: 0.9268 - 15s/epoch - 64ms/step\n",
      "Epoch 28/50\n",
      "235/235 - 15s - loss: 0.2473 - categorical_accuracy: 0.9326 - val_loss: 0.2652 - val_categorical_accuracy: 0.9286 - 15s/epoch - 64ms/step\n",
      "Epoch 29/50\n",
      "235/235 - 15s - loss: 0.2467 - categorical_accuracy: 0.9330 - val_loss: 0.2674 - val_categorical_accuracy: 0.9272 - 15s/epoch - 65ms/step\n",
      "Epoch 30/50\n",
      "235/235 - 15s - loss: 0.2465 - categorical_accuracy: 0.9327 - val_loss: 0.2658 - val_categorical_accuracy: 0.9271 - 15s/epoch - 65ms/step\n",
      "Epoch 31/50\n",
      "235/235 - 15s - loss: 0.2459 - categorical_accuracy: 0.9337 - val_loss: 0.2668 - val_categorical_accuracy: 0.9273 - 15s/epoch - 64ms/step\n",
      "Epoch 32/50\n",
      "235/235 - 16s - loss: 0.2454 - categorical_accuracy: 0.9333 - val_loss: 0.2656 - val_categorical_accuracy: 0.9282 - 16s/epoch - 70ms/step\n",
      "Epoch 33/50\n",
      "235/235 - 15s - loss: 0.2452 - categorical_accuracy: 0.9338 - val_loss: 0.2664 - val_categorical_accuracy: 0.9285 - 15s/epoch - 64ms/step\n",
      "Epoch 34/50\n",
      "235/235 - 15s - loss: 0.2444 - categorical_accuracy: 0.9340 - val_loss: 0.2688 - val_categorical_accuracy: 0.9275 - 15s/epoch - 65ms/step\n",
      "Epoch 35/50\n",
      "235/235 - 15s - loss: 0.2441 - categorical_accuracy: 0.9338 - val_loss: 0.2663 - val_categorical_accuracy: 0.9280 - 15s/epoch - 65ms/step\n",
      "Epoch 36/50\n",
      "235/235 - 15s - loss: 0.2439 - categorical_accuracy: 0.9338 - val_loss: 0.2668 - val_categorical_accuracy: 0.9275 - 15s/epoch - 64ms/step\n",
      "Epoch 37/50\n",
      "235/235 - 15s - loss: 0.2434 - categorical_accuracy: 0.9344 - val_loss: 0.2667 - val_categorical_accuracy: 0.9278 - 15s/epoch - 63ms/step\n",
      "Epoch 38/50\n",
      "235/235 - 15s - loss: 0.2431 - categorical_accuracy: 0.9346 - val_loss: 0.2676 - val_categorical_accuracy: 0.9284 - 15s/epoch - 63ms/step\n",
      "Epoch 39/50\n",
      "235/235 - 15s - loss: 0.2427 - categorical_accuracy: 0.9346 - val_loss: 0.2691 - val_categorical_accuracy: 0.9287 - 15s/epoch - 63ms/step\n",
      "Epoch 40/50\n",
      "235/235 - 15s - loss: 0.2425 - categorical_accuracy: 0.9342 - val_loss: 0.2678 - val_categorical_accuracy: 0.9283 - 15s/epoch - 64ms/step\n",
      "Epoch 41/50\n",
      "235/235 - 15s - loss: 0.2424 - categorical_accuracy: 0.9345 - val_loss: 0.2666 - val_categorical_accuracy: 0.9276 - 15s/epoch - 64ms/step\n",
      "Epoch 42/50\n",
      "235/235 - 15s - loss: 0.2420 - categorical_accuracy: 0.9349 - val_loss: 0.2677 - val_categorical_accuracy: 0.9279 - 15s/epoch - 63ms/step\n",
      "Epoch 43/50\n",
      "235/235 - 15s - loss: 0.2418 - categorical_accuracy: 0.9345 - val_loss: 0.2684 - val_categorical_accuracy: 0.9278 - 15s/epoch - 63ms/step\n",
      "Epoch 44/50\n",
      "235/235 - 15s - loss: 0.2413 - categorical_accuracy: 0.9353 - val_loss: 0.2683 - val_categorical_accuracy: 0.9278 - 15s/epoch - 63ms/step\n",
      "Epoch 45/50\n",
      "235/235 - 15s - loss: 0.2411 - categorical_accuracy: 0.9349 - val_loss: 0.2687 - val_categorical_accuracy: 0.9272 - 15s/epoch - 63ms/step\n",
      "Epoch 46/50\n",
      "235/235 - 15s - loss: 0.2408 - categorical_accuracy: 0.9351 - val_loss: 0.2679 - val_categorical_accuracy: 0.9288 - 15s/epoch - 63ms/step\n",
      "Epoch 47/50\n",
      "235/235 - 15s - loss: 0.2407 - categorical_accuracy: 0.9351 - val_loss: 0.2685 - val_categorical_accuracy: 0.9288 - 15s/epoch - 63ms/step\n",
      "Epoch 48/50\n",
      "235/235 - 15s - loss: 0.2405 - categorical_accuracy: 0.9355 - val_loss: 0.2699 - val_categorical_accuracy: 0.9262 - 15s/epoch - 63ms/step\n",
      "Epoch 49/50\n",
      "235/235 - 15s - loss: 0.2403 - categorical_accuracy: 0.9354 - val_loss: 0.2690 - val_categorical_accuracy: 0.9268 - 15s/epoch - 63ms/step\n",
      "Epoch 50/50\n",
      "235/235 - 15s - loss: 0.2403 - categorical_accuracy: 0.9352 - val_loss: 0.2697 - val_categorical_accuracy: 0.9275 - 15s/epoch - 63ms/step\n"
     ]
    }
   ],
   "source": [
    "# training the model and saving metrics in history\n",
    "history = model.fit(\n",
    "    X_train,\n",
    "    y_train_cat,\n",
    "    batch_size=256,\n",
    "    epochs=50,\n",
    "    verbose=2,\n",
    "    validation_data=(X_test, y_test_cat),\n",
    ")\n"
   ]
  },
  {
   "cell_type": "markdown",
   "metadata": {},
   "source": [
    "## 5. Evaluate model"
   ]
  },
  {
   "cell_type": "code",
   "execution_count": 11,
   "metadata": {
    "ExecuteTime": {
     "end_time": "2018-05-05T22:09:35.772685Z",
     "start_time": "2018-05-05T22:09:35.767910Z"
    }
   },
   "outputs": [
    {
     "data": {
      "text/plain": [
       "dict_keys(['loss', 'categorical_accuracy', 'val_loss', 'val_categorical_accuracy'])"
      ]
     },
     "execution_count": 11,
     "metadata": {},
     "output_type": "execute_result"
    }
   ],
   "source": [
    "history.history.keys()\n"
   ]
  },
  {
   "cell_type": "code",
   "execution_count": 12,
   "metadata": {
    "ExecuteTime": {
     "end_time": "2018-05-05T22:09:36.108821Z",
     "start_time": "2018-05-05T22:09:35.774690Z"
    }
   },
   "outputs": [
    {
     "data": {
      "image/png": "[encoded data removed]",
      "text/plain": [
       "<Figure size 640x480 with 2 Axes>"
      ]
     },
     "metadata": {},
     "output_type": "display_data"
    }
   ],
   "source": [
    "# plotting the metrics\n",
    "fig = plt.figure()\n",
    "plt.subplot(2, 1, 1)\n",
    "plt.plot(history.history['categorical_accuracy'])\n",
    "plt.plot(history.history['val_categorical_accuracy'])\n",
    "plt.title('model accuracy')\n",
    "plt.ylabel('accuracy')\n",
    "plt.xlabel('epoch')\n",
    "plt.legend(['train', 'test'], loc='lower right')\n",
    "\n",
    "plt.subplot(2, 1, 2)\n",
    "plt.plot(history.history['loss'])\n",
    "plt.plot(history.history['val_loss'])\n",
    "plt.title('model loss')\n",
    "plt.ylabel('loss')\n",
    "plt.xlabel('epoch')\n",
    "plt.legend(['train', 'test'], loc='upper right')\n",
    "\n",
    "plt.tight_layout()\n"
   ]
  },
  {
   "cell_type": "code",
   "execution_count": 13,
   "metadata": {
    "ExecuteTime": {
     "end_time": "2018-05-05T22:09:36.506663Z",
     "start_time": "2018-05-05T22:09:36.110807Z"
    }
   },
   "outputs": [
    {
     "name": "stdout",
     "output_type": "stream",
     "text": [
      "313/313 [==============================] - 17s 53ms/step - loss: 0.2697 - categorical_accuracy: 0.9275\n",
      "Evaluation result on Test Data:\n",
      "Loss = 0.26974430680274963\n",
      "Accuracy = 0.9275000095367432\n"
     ]
    }
   ],
   "source": [
    "# evaluate model on test data\n",
    "[test_loss, test_acc] = model.evaluate(X_test, y_test_cat)\n",
    "print(\n",
    "    \"Evaluation result on Test Data:\\nLoss = {}\\nAccuracy = {}\".format(\n",
    "        test_loss, test_acc\n",
    "    )\n",
    ")\n"
   ]
  },
  {
   "cell_type": "markdown",
   "metadata": {},
   "source": [
    "## References\n",
    "\n",
    "* [Deep Learning Book](http://www.deeplearningbook.org)\n",
    "\n",
    "* [Zero to Deep Learning™ Udemy Video Course](https://github.com/dataweekends/zero_to_deep_learning_udemy)\n",
    "\n",
    "* [THE MNIST DATABASE](http://yann.lecun.com/exdb/mnist/)"
   ]
  }
 ],
 "metadata": {
  "kernelspec": {
   "display_name": "Python 3 (ipykernel)",
   "language": "python",
   "name": "python3"
  },
  "language_info": {
   "codemirror_mode": {
    "name": "ipython",
    "version": 3
   },
   "file_extension": ".py",
   "mimetype": "text/x-python",
   "name": "python",
   "nbconvert_exporter": "python",
   "pygments_lexer": "ipython3",
   "version": "3.10.8"
  }
 },
 "nbformat": 4,
 "nbformat_minor": 2
}
