{
 "cells": [
  {
   "cell_type": "markdown",
   "metadata": {},
   "source": [
    "# Deep Learning 101\n",
    "\n",
    "This notebook presents the basics concepts that involve the concept of Deep Learning.\n",
    "\n",
    "1. Linear Regression\n",
    "* **Logistic Regression**\n",
    "* Artificial Neural Networks\n",
    "* Deep Neural Networks\n",
    "* Convolutional Neural Networks\n",
    "\n",
    "## 2. Logistic Regression\n",
    "\n",
    "Logistic regression is a regression model where the dependent variable is categorical, and the output can take only two values 0 or 1.\n",
    "* This **probability** is modeled using a function\n",
    "    * $\\hat{y}=f(Wx+b)$\n",
    "* We can use the **Sigmoid function** which takes any real input $\\mathbf{x} \\in \\mathbb{R}$, and the logistic regression model thus predicts an output $y \\in \\{0,1\\}$ \n",
    "    * $f(z) = \\frac{1}{1 + \\mathrm{e}^{-z}}$\n",
    "\n",
    "### Cost function\n",
    "\n",
    "* Log loss or Cross entropy cost\n",
    "    * binary-cross-entropy\n",
    "    * categorical-cross-entropy\n",
    "\n",
    "---"
   ]
  },
  {
   "cell_type": "markdown",
   "metadata": {},
   "source": [
    "## Logistic Regression with Keras and TensorFlow\n",
    "\n",
    "**Activations functions** are non-linear functions applied when passing the output of a layer to the next layer or the final\n",
    "\n",
    "| **Keras**      | **Example**                                                         | **Link**                 |\n",
    "| -------------- |:------------------------------------------------------------------: | :-----------------------:|\n",
    "| **Activation functions**| sigmoid, step, tanh, softmax, ReLU | [keras.io/activations/](https://keras.io/activations/)|\n",
    "\n",
    "---\n",
    "\n",
    "## 1. Load data\n",
    "\n",
    "#### Load libraries"
   ]
  },
  {
   "cell_type": "code",
   "execution_count": 1,
   "metadata": {
    "ExecuteTime": {
     "end_time": "2018-05-05T22:08:30.798072Z",
     "start_time": "2018-05-05T22:08:30.412647Z"
    },
    "collapsed": true
   },
   "outputs": [],
   "source": [
    "import numpy as np\n",
    "\n",
    "%matplotlib inline\n",
    "import matplotlib.pyplot as plt"
   ]
  },
  {
   "cell_type": "code",
   "execution_count": 2,
   "metadata": {
    "ExecuteTime": {
     "end_time": "2018-05-05T22:08:46.835972Z",
     "start_time": "2018-05-05T22:08:30.800228Z"
    }
   },
   "outputs": [
    {
     "name": "stderr",
     "output_type": "stream",
     "text": [
      "Using TensorFlow backend.\n"
     ]
    }
   ],
   "source": [
    "from keras.datasets import mnist\n",
    "from keras.models import Sequential\n",
    "from keras.layers import Dense\n",
    "from keras.utils.np_utils import to_categorical\n",
    "from keras.utils.vis_utils import plot_model"
   ]
  },
  {
   "cell_type": "markdown",
   "metadata": {},
   "source": [
    "#### Getting the data"
   ]
  },
  {
   "cell_type": "code",
   "execution_count": 3,
   "metadata": {
    "ExecuteTime": {
     "end_time": "2018-05-05T22:08:47.142827Z",
     "start_time": "2018-05-05T22:08:46.838248Z"
    },
    "collapsed": true
   },
   "outputs": [],
   "source": [
    "# load dataset\n",
    "(X_train, y_train), (X_test, y_test) = mnist.load_data()"
   ]
  },
  {
   "cell_type": "markdown",
   "metadata": {},
   "source": [
    "#### Explore visual data"
   ]
  },
  {
   "cell_type": "code",
   "execution_count": 4,
   "metadata": {
    "ExecuteTime": {
     "end_time": "2018-05-05T22:08:47.621917Z",
     "start_time": "2018-05-05T22:08:47.144984Z"
    }
   },
   "outputs": [
    {
     "data": {
      "image/png": "[encoded data removed]",
      "text/plain": [
       "<Figure size 432x288 with 10 Axes>"
      ]
     },
     "metadata": {},
     "output_type": "display_data"
    }
   ],
   "source": [
    "fig = plt.figure()\n",
    "for i in range(10):\n",
    "    plt.subplot(2, 5, i+1)\n",
    "    x_y = X_train[y_train == i]\n",
    "    plt.imshow(x_y[0], cmap='gray', interpolation='none')\n",
    "    plt.title(\"Class %d\" % (i))\n",
    "    plt.xticks([])\n",
    "    plt.yticks([])\n",
    "\n",
    "plt.tight_layout()"
   ]
  },
  {
   "cell_type": "code",
   "execution_count": 5,
   "metadata": {
    "ExecuteTime": {
     "end_time": "2018-05-05T22:08:47.630704Z",
     "start_time": "2018-05-05T22:08:47.623965Z"
    }
   },
   "outputs": [
    {
     "name": "stdout",
     "output_type": "stream",
     "text": [
      "X_train.shape (60000, 28, 28)\n",
      "y_train.shape (60000,)\n",
      "X_test.shape (10000, 28, 28)\n",
      "y_train.shape (10000,)\n"
     ]
    }
   ],
   "source": [
    "print('X_train.shape', X_train.shape)\n",
    "print('y_train.shape', y_train.shape)\n",
    "print('X_test.shape', X_test.shape)\n",
    "print('y_test.shape', y_test.shape)"
   ]
  },
  {
   "cell_type": "markdown",
   "metadata": {},
   "source": [
    "#### Reshaping and normalizing the inputs"
   ]
  },
  {
   "cell_type": "code",
   "execution_count": 6,
   "metadata": {
    "ExecuteTime": {
     "end_time": "2018-05-05T22:08:47.849134Z",
     "start_time": "2018-05-05T22:08:47.632769Z"
    }
   },
   "outputs": [
    {
     "name": "stdout",
     "output_type": "stream",
     "text": [
      "X_train.shape (60000, 784)\n",
      "X_test.shape (10000, 784)\n"
     ]
    }
   ],
   "source": [
    "# reshaping the inputs\n",
    "X_train = X_train.reshape(60000, 28*28)\n",
    "X_test = X_test.reshape(10000, 28*28)\n",
    "\n",
    "# normalizing the inputs\n",
    "X_train = X_train.astype('float32') / 255.0\n",
    "X_test = X_test.astype('float32') / 255.0\n",
    "\n",
    "print('X_train.shape', X_train.shape)\n",
    "print('X_test.shape', X_test.shape)"
   ]
  },
  {
   "cell_type": "markdown",
   "metadata": {},
   "source": [
    "#### Convert class vectors to binary class matrices"
   ]
  },
  {
   "cell_type": "code",
   "execution_count": 7,
   "metadata": {
    "ExecuteTime": {
     "end_time": "2018-05-05T22:08:47.860113Z",
     "start_time": "2018-05-05T22:08:47.851248Z"
    }
   },
   "outputs": [
    {
     "name": "stdout",
     "output_type": "stream",
     "text": [
      "y_train_cat shape: (60000, 10)\n",
      "y_test_cat shape: (10000, 10)\n"
     ]
    }
   ],
   "source": [
    "# 10 classes\n",
    "y_train_cat = to_categorical(y_train, 10)\n",
    "y_test_cat = to_categorical(y_test, 10)\n",
    "print('y_train_cat shape:', y_train_cat.shape)\n",
    "print('y_test_cat shape:', y_test_cat.shape)"
   ]
  },
  {
   "cell_type": "markdown",
   "metadata": {},
   "source": [
    "## 2. Define model"
   ]
  },
  {
   "cell_type": "code",
   "execution_count": 8,
   "metadata": {
    "ExecuteTime": {
     "end_time": "2018-05-05T22:08:47.879478Z",
     "start_time": "2018-05-05T22:08:47.862102Z"
    },
    "collapsed": true
   },
   "outputs": [],
   "source": [
    "# building a linear stack of layers with the sequential model\n",
    "model = Sequential()\n",
    "# Add layer\n",
    "model.add(Dense(10, input_dim=28*28, activation='softmax'))"
   ]
  },
  {
   "cell_type": "markdown",
   "metadata": {},
   "source": [
    "#### Model visualization"
   ]
  },
  {
   "cell_type": "code",
   "execution_count": 9,
   "metadata": {
    "ExecuteTime": {
     "end_time": "2018-05-05T22:08:52.022347Z",
     "start_time": "2018-05-05T22:08:47.881488Z"
    }
   },
   "outputs": [
    {
     "name": "stdout",
     "output_type": "stream",
     "text": [
      "_________________________________________________________________\n",
      "Layer (type)                 Output Shape              Param #   \n",
      "=================================================================\n",
      "dense_1 (Dense)              (None, 10)                7850      \n",
      "=================================================================\n",
      "Total params: 7,850\n",
      "Trainable params: 7,850\n",
      "Non-trainable params: 0\n",
      "_________________________________________________________________\n"
     ]
    }
   ],
   "source": [
    "# plot a Keras model\n",
    "plot_model(model, to_file='img/model02_log_reg.png',\n",
    "           show_shapes=True, show_layer_names=True)\n",
    "\n",
    "# prints a summary representation of your model\n",
    "model.summary()"
   ]
  },
  {
   "cell_type": "markdown",
   "metadata": {},
   "source": [
    "![Logistic regression](img/model02_log_reg.png)"
   ]
  },
  {
   "cell_type": "markdown",
   "metadata": {},
   "source": [
    "## 3. Compile model"
   ]
  },
  {
   "cell_type": "code",
   "execution_count": 10,
   "metadata": {
    "ExecuteTime": {
     "end_time": "2018-05-05T22:08:52.062153Z",
     "start_time": "2018-05-05T22:08:52.024650Z"
    },
    "collapsed": true
   },
   "outputs": [],
   "source": [
    "# compiling the sequential model\n",
    "model.compile('rmsprop', loss='categorical_crossentropy',\n",
    "              metrics=['categorical_accuracy'])"
   ]
  },
  {
   "cell_type": "markdown",
   "metadata": {},
   "source": [
    "## 4. Fit model"
   ]
  },
  {
   "cell_type": "code",
   "execution_count": 11,
   "metadata": {
    "ExecuteTime": {
     "end_time": "2018-05-05T22:09:35.765478Z",
     "start_time": "2018-05-05T22:08:52.064129Z"
    },
    "scrolled": true
   },
   "outputs": [
    {
     "name": "stdout",
     "output_type": "stream",
     "text": [
      "Train on 60000 samples, validate on 10000 samples\n",
      "Epoch 1/50\n",
      "1s - loss: 0.7409 - categorical_accuracy: 0.8232 - val_loss: 0.3954 - val_categorical_accuracy: 0.8974\n",
      "Epoch 2/50\n",
      "0s - loss: 0.3669 - categorical_accuracy: 0.9005 - val_loss: 0.3235 - val_categorical_accuracy: 0.9111\n",
      "Epoch 3/50\n",
      "0s - loss: 0.3220 - categorical_accuracy: 0.9106 - val_loss: 0.2999 - val_categorical_accuracy: 0.9156\n",
      "Epoch 4/50\n",
      "0s - loss: 0.3025 - categorical_accuracy: 0.9161 - val_loss: 0.2877 - val_categorical_accuracy: 0.9196\n",
      "Epoch 5/50\n",
      "0s - loss: 0.2914 - categorical_accuracy: 0.9185 - val_loss: 0.2815 - val_categorical_accuracy: 0.9218\n",
      "Epoch 6/50\n",
      "0s - loss: 0.2838 - categorical_accuracy: 0.9208 - val_loss: 0.2759 - val_categorical_accuracy: 0.9224\n",
      "Epoch 7/50\n",
      "0s - loss: 0.2782 - categorical_accuracy: 0.9224 - val_loss: 0.2738 - val_categorical_accuracy: 0.9243\n",
      "Epoch 8/50\n",
      "0s - loss: 0.2739 - categorical_accuracy: 0.9235 - val_loss: 0.2705 - val_categorical_accuracy: 0.9246\n",
      "Epoch 9/50\n",
      "0s - loss: 0.2704 - categorical_accuracy: 0.9243 - val_loss: 0.2707 - val_categorical_accuracy: 0.9245\n",
      "Epoch 10/50\n",
      "0s - loss: 0.2675 - categorical_accuracy: 0.9262 - val_loss: 0.2663 - val_categorical_accuracy: 0.9255\n",
      "Epoch 11/50\n",
      "0s - loss: 0.2648 - categorical_accuracy: 0.9260 - val_loss: 0.2690 - val_categorical_accuracy: 0.9263\n",
      "Epoch 12/50\n",
      "0s - loss: 0.2628 - categorical_accuracy: 0.9274 - val_loss: 0.2665 - val_categorical_accuracy: 0.9264\n",
      "Epoch 13/50\n",
      "0s - loss: 0.2610 - categorical_accuracy: 0.9276 - val_loss: 0.2649 - val_categorical_accuracy: 0.9266\n",
      "Epoch 14/50\n",
      "0s - loss: 0.2594 - categorical_accuracy: 0.9277 - val_loss: 0.2641 - val_categorical_accuracy: 0.9280\n",
      "Epoch 15/50\n",
      "0s - loss: 0.2579 - categorical_accuracy: 0.9289 - val_loss: 0.2649 - val_categorical_accuracy: 0.9280\n",
      "Epoch 16/50\n",
      "0s - loss: 0.2568 - categorical_accuracy: 0.9294 - val_loss: 0.2659 - val_categorical_accuracy: 0.9266\n",
      "Epoch 17/50\n",
      "0s - loss: 0.2554 - categorical_accuracy: 0.9299 - val_loss: 0.2650 - val_categorical_accuracy: 0.9276\n",
      "Epoch 18/50\n",
      "0s - loss: 0.2543 - categorical_accuracy: 0.9299 - val_loss: 0.2643 - val_categorical_accuracy: 0.9269\n",
      "Epoch 19/50\n",
      "0s - loss: 0.2533 - categorical_accuracy: 0.9303 - val_loss: 0.2636 - val_categorical_accuracy: 0.9275\n",
      "Epoch 20/50\n",
      "0s - loss: 0.2525 - categorical_accuracy: 0.9307 - val_loss: 0.2651 - val_categorical_accuracy: 0.9271\n",
      "Epoch 21/50\n",
      "0s - loss: 0.2513 - categorical_accuracy: 0.9308 - val_loss: 0.2658 - val_categorical_accuracy: 0.9274\n",
      "Epoch 22/50\n",
      "0s - loss: 0.2506 - categorical_accuracy: 0.9311 - val_loss: 0.2661 - val_categorical_accuracy: 0.9268\n",
      "Epoch 23/50\n",
      "0s - loss: 0.2498 - categorical_accuracy: 0.9316 - val_loss: 0.2664 - val_categorical_accuracy: 0.9269\n",
      "Epoch 24/50\n",
      "0s - loss: 0.2494 - categorical_accuracy: 0.9317 - val_loss: 0.2662 - val_categorical_accuracy: 0.9279\n",
      "Epoch 25/50\n",
      "0s - loss: 0.2487 - categorical_accuracy: 0.9322 - val_loss: 0.2648 - val_categorical_accuracy: 0.9279\n",
      "Epoch 26/50\n",
      "0s - loss: 0.2479 - categorical_accuracy: 0.9320 - val_loss: 0.2650 - val_categorical_accuracy: 0.9281\n",
      "Epoch 27/50\n",
      "0s - loss: 0.2474 - categorical_accuracy: 0.9326 - val_loss: 0.2658 - val_categorical_accuracy: 0.9277\n",
      "Epoch 28/50\n",
      "0s - loss: 0.2469 - categorical_accuracy: 0.9326 - val_loss: 0.2672 - val_categorical_accuracy: 0.9273\n",
      "Epoch 29/50\n",
      "0s - loss: 0.2463 - categorical_accuracy: 0.9329 - val_loss: 0.2651 - val_categorical_accuracy: 0.9272\n",
      "Epoch 30/50\n",
      "0s - loss: 0.2460 - categorical_accuracy: 0.9333 - val_loss: 0.2666 - val_categorical_accuracy: 0.9278\n",
      "Epoch 31/50\n",
      "0s - loss: 0.2454 - categorical_accuracy: 0.9330 - val_loss: 0.2653 - val_categorical_accuracy: 0.9289\n",
      "Epoch 32/50\n",
      "0s - loss: 0.2447 - categorical_accuracy: 0.9333 - val_loss: 0.2649 - val_categorical_accuracy: 0.9284\n",
      "Epoch 33/50\n",
      "0s - loss: 0.2446 - categorical_accuracy: 0.9336 - val_loss: 0.2660 - val_categorical_accuracy: 0.9287\n",
      "Epoch 34/50\n",
      "0s - loss: 0.2441 - categorical_accuracy: 0.9336 - val_loss: 0.2659 - val_categorical_accuracy: 0.9272\n",
      "Epoch 35/50\n",
      "0s - loss: 0.2438 - categorical_accuracy: 0.9339 - val_loss: 0.2675 - val_categorical_accuracy: 0.9288\n",
      "Epoch 36/50\n",
      "0s - loss: 0.2433 - categorical_accuracy: 0.9339 - val_loss: 0.2680 - val_categorical_accuracy: 0.9274\n",
      "Epoch 37/50\n",
      "0s - loss: 0.2432 - categorical_accuracy: 0.9340 - val_loss: 0.2668 - val_categorical_accuracy: 0.9273\n",
      "Epoch 38/50\n",
      "0s - loss: 0.2426 - categorical_accuracy: 0.9343 - val_loss: 0.2664 - val_categorical_accuracy: 0.9280\n",
      "Epoch 39/50\n",
      "0s - loss: 0.2425 - categorical_accuracy: 0.9341 - val_loss: 0.2658 - val_categorical_accuracy: 0.9285\n",
      "Epoch 40/50\n",
      "0s - loss: 0.2421 - categorical_accuracy: 0.9343 - val_loss: 0.2672 - val_categorical_accuracy: 0.9280\n",
      "Epoch 41/50\n",
      "0s - loss: 0.2420 - categorical_accuracy: 0.9344 - val_loss: 0.2689 - val_categorical_accuracy: 0.9275\n",
      "Epoch 42/50\n",
      "0s - loss: 0.2414 - categorical_accuracy: 0.9349 - val_loss: 0.2662 - val_categorical_accuracy: 0.9297\n",
      "Epoch 43/50\n",
      "0s - loss: 0.2411 - categorical_accuracy: 0.9349 - val_loss: 0.2666 - val_categorical_accuracy: 0.9281\n",
      "Epoch 44/50\n",
      "0s - loss: 0.2408 - categorical_accuracy: 0.9349 - val_loss: 0.2687 - val_categorical_accuracy: 0.9286\n",
      "Epoch 45/50\n",
      "0s - loss: 0.2404 - categorical_accuracy: 0.9350 - val_loss: 0.2675 - val_categorical_accuracy: 0.9284\n",
      "Epoch 46/50\n",
      "0s - loss: 0.2402 - categorical_accuracy: 0.9351 - val_loss: 0.2687 - val_categorical_accuracy: 0.9288\n",
      "Epoch 47/50\n",
      "0s - loss: 0.2398 - categorical_accuracy: 0.9355 - val_loss: 0.2687 - val_categorical_accuracy: 0.9284\n",
      "Epoch 48/50\n",
      "0s - loss: 0.2396 - categorical_accuracy: 0.9355 - val_loss: 0.2751 - val_categorical_accuracy: 0.9274\n",
      "Epoch 49/50\n",
      "0s - loss: 0.2396 - categorical_accuracy: 0.9355 - val_loss: 0.2695 - val_categorical_accuracy: 0.9279\n",
      "Epoch 50/50\n",
      "0s - loss: 0.2393 - categorical_accuracy: 0.9352 - val_loss: 0.2695 - val_categorical_accuracy: 0.9279\n"
     ]
    }
   ],
   "source": [
    "# training the model and saving metrics in history\n",
    "history = model.fit(X_train, y_train_cat,\n",
    "                    batch_size=256, epochs=50,\n",
    "                    verbose=2,\n",
    "                    validation_data=(X_test, y_test_cat))"
   ]
  },
  {
   "cell_type": "markdown",
   "metadata": {},
   "source": [
    "## 5. Evaluate model"
   ]
  },
  {
   "cell_type": "code",
   "execution_count": 12,
   "metadata": {
    "ExecuteTime": {
     "end_time": "2018-05-05T22:09:35.772685Z",
     "start_time": "2018-05-05T22:09:35.767910Z"
    }
   },
   "outputs": [
    {
     "data": {
      "text/plain": [
       "dict_keys(['val_loss', 'val_categorical_accuracy', 'loss', 'categorical_accuracy'])"
      ]
     },
     "execution_count": 12,
     "metadata": {},
     "output_type": "execute_result"
    }
   ],
   "source": [
    "history.history.keys()"
   ]
  },
  {
   "cell_type": "code",
   "execution_count": 13,
   "metadata": {
    "ExecuteTime": {
     "end_time": "2018-05-05T22:09:36.108821Z",
     "start_time": "2018-05-05T22:09:35.774690Z"
    }
   },
   "outputs": [
    {
     "data": {
      "image/png": "[encoded data removed]",
      "text/plain": [
       "<Figure size 432x288 with 2 Axes>"
      ]
     },
     "metadata": {},
     "output_type": "display_data"
    }
   ],
   "source": [
    "# plotting the metrics\n",
    "fig = plt.figure()\n",
    "plt.subplot(2, 1, 1)\n",
    "plt.plot(history.history['categorical_accuracy'])\n",
    "plt.plot(history.history['val_categorical_accuracy'])\n",
    "plt.title('model accuracy')\n",
    "plt.ylabel('accuracy')\n",
    "plt.xlabel('epoch')\n",
    "plt.legend(['train', 'test'], loc='lower right')\n",
    "\n",
    "plt.subplot(2, 1, 2)\n",
    "plt.plot(history.history['loss'])\n",
    "plt.plot(history.history['val_loss'])\n",
    "plt.title('model loss')\n",
    "plt.ylabel('loss')\n",
    "plt.xlabel('epoch')\n",
    "plt.legend(['train', 'test'], loc='upper right')\n",
    "\n",
    "plt.tight_layout()"
   ]
  },
  {
   "cell_type": "code",
   "execution_count": 14,
   "metadata": {
    "ExecuteTime": {
     "end_time": "2018-05-05T22:09:36.506663Z",
     "start_time": "2018-05-05T22:09:36.110807Z"
    }
   },
   "outputs": [
    {
     "name": "stdout",
     "output_type": "stream",
     "text": [
      " 9120/10000 [==========================>...] - ETA: 0sEvaluation result on Test Data:\n",
      "Loss = 0.2694683021053672\n",
      "Accuracy = 0.9279\n"
     ]
    }
   ],
   "source": [
    "# evaluate model on test data\n",
    "[test_loss, test_acc] = model.evaluate(X_test, y_test_cat) \n",
    "print(\"Evaluation result on Test Data:\\nLoss = {}\\nAccuracy = {}\".format(test_loss, test_acc))"
   ]
  },
  {
   "cell_type": "markdown",
   "metadata": {},
   "source": [
    "## References\n",
    "\n",
    "* [Deep Learning Book](http://www.deeplearningbook.org)\n",
    "\n",
    "* [Zero to Deep Learning™ Udemy Video Course](https://github.com/dataweekends/zero_to_deep_learning_udemy)\n",
    "\n",
    "* [THE MNIST DATABASE](http://yann.lecun.com/exdb/mnist/)"
   ]
  }
 ],
 "metadata": {
  "kernelspec": {
   "display_name": "Python 3",
   "language": "python",
   "name": "python3"
  },
  "language_info": {
   "codemirror_mode": {
    "name": "ipython",
    "version": 3
   },
   "file_extension": ".py",
   "mimetype": "text/x-python",
   "name": "python",
   "nbconvert_exporter": "python",
   "pygments_lexer": "ipython3",
   "version": "3.6.5"
  }
 },
 "nbformat": 4,
 "nbformat_minor": 2
}
