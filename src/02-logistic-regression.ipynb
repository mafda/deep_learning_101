{
 "cells": [
  {
   "cell_type": "markdown",
   "metadata": {},
   "source": [
    "# Deep Learning 101\n",
    "\n",
    "This notebook presents the basics concepts that involve the concept of Deep Learning.\n",
    "\n",
    "1. Linear Regression\n",
    "* **Logistic Regression**\n",
    "* Artificial Neural Networks\n",
    "* Deep Neural Networks\n",
    "* Convolutional Neural Networks\n",
    "\n",
    "## 2. Logistic Regression\n",
    "\n",
    "Logistic regression is a regression model where the dependent variable is categorical, and the output can take only two values 0 or 1.\n",
    "* This **probability** is modeled using a function\n",
    "    * $\\hat{y}=f(Wx+b)$\n",
    "* We can use the **Sigmoid function** which takes any real input $\\mathbf{x} \\in \\mathbb{R}$, and the logistic regression model thus predicts an output $y \\in \\{0,1\\}$ \n",
    "    * $f(z) = \\frac{1}{1 + \\mathrm{e}^{-z}}$\n",
    "\n",
    "### Cost function\n",
    "\n",
    "* Log loss or Cross entropy cost\n",
    "    * binary-cross-entropy\n",
    "    * categorical-cross-entropy\n",
    "\n",
    "---"
   ]
  },
  {
   "cell_type": "markdown",
   "metadata": {},
   "source": [
    "## Logistic Regression with Keras and TensorFlow\n",
    "\n",
    "**Activations functions** are non-linear functions applied when passing the output of a layer to the next layer or the final\n",
    "\n",
    "| **Keras**      | **Example**                                                         | **Link**                 |\n",
    "| -------------- |:------------------------------------------------------------------: | :-----------------------:|\n",
    "| **Activation functions**| sigmoid, step, tanh, softmax, ReLU | [keras.io/activations/](https://keras.io/activations/)|\n",
    "\n",
    "---\n",
    "\n",
    "## 1. Load data\n",
    "\n",
    "#### Load libraries"
   ]
  },
  {
   "cell_type": "code",
   "execution_count": 1,
   "metadata": {
    "ExecuteTime": {
     "end_time": "2018-05-05T22:08:30.798072Z",
     "start_time": "2018-05-05T22:08:30.412647Z"
    }
   },
   "outputs": [],
   "source": [
    "%matplotlib inline\n",
    "import matplotlib.pyplot as plt\n",
    "\n",
    "import numpy as np"
   ]
  },
  {
   "cell_type": "code",
   "execution_count": 2,
   "metadata": {
    "ExecuteTime": {
     "end_time": "2018-05-05T22:08:46.835972Z",
     "start_time": "2018-05-05T22:08:30.800228Z"
    }
   },
   "outputs": [],
   "source": [
    "from tensorflow.keras.datasets import mnist\n",
    "from tensorflow.keras.layers import Dense\n",
    "from tensorflow.keras.models import Sequential\n",
    "from tensorflow.keras.utils import plot_model, to_categorical"
   ]
  },
  {
   "cell_type": "markdown",
   "metadata": {},
   "source": [
    "#### Getting the data"
   ]
  },
  {
   "cell_type": "code",
   "execution_count": 3,
   "metadata": {
    "ExecuteTime": {
     "end_time": "2018-05-05T22:08:47.142827Z",
     "start_time": "2018-05-05T22:08:46.838248Z"
    }
   },
   "outputs": [],
   "source": [
    "# load dataset\n",
    "(X_train, y_train), (X_test, y_test) = mnist.load_data()"
   ]
  },
  {
   "cell_type": "markdown",
   "metadata": {},
   "source": [
    "#### Explore visual data"
   ]
  },
  {
   "cell_type": "code",
   "execution_count": 4,
   "metadata": {
    "ExecuteTime": {
     "end_time": "2018-05-05T22:08:47.621917Z",
     "start_time": "2018-05-05T22:08:47.144984Z"
    }
   },
   "outputs": [
    {
     "data": {
      "image/png": "[encoded data removed]",
      "text/plain": [
       "<Figure size 432x288 with 10 Axes>"
      ]
     },
     "metadata": {},
     "output_type": "display_data"
    }
   ],
   "source": [
    "fig = plt.figure()\n",
    "for i in range(10):\n",
    "    plt.subplot(2, 5, i+1)\n",
    "    x_y = X_train[y_train == i]\n",
    "    plt.imshow(x_y[0], cmap='gray', interpolation='none')\n",
    "    plt.title(\"Class %d\" % (i))\n",
    "    plt.xticks([])\n",
    "    plt.yticks([])\n",
    "\n",
    "plt.tight_layout()"
   ]
  },
  {
   "cell_type": "code",
   "execution_count": 5,
   "metadata": {
    "ExecuteTime": {
     "end_time": "2018-05-05T22:08:47.630704Z",
     "start_time": "2018-05-05T22:08:47.623965Z"
    }
   },
   "outputs": [
    {
     "name": "stdout",
     "output_type": "stream",
     "text": [
      "X_train.shape (60000, 28, 28)\n",
      "y_train.shape (60000,)\n",
      "X_test.shape (10000, 28, 28)\n",
      "y_test.shape (10000,)\n"
     ]
    }
   ],
   "source": [
    "print('X_train.shape', X_train.shape)\n",
    "print('y_train.shape', y_train.shape)\n",
    "print('X_test.shape', X_test.shape)\n",
    "print('y_test.shape', y_test.shape)"
   ]
  },
  {
   "cell_type": "markdown",
   "metadata": {},
   "source": [
    "#### Reshaping and normalizing the inputs"
   ]
  },
  {
   "cell_type": "code",
   "execution_count": 6,
   "metadata": {
    "ExecuteTime": {
     "end_time": "2018-05-05T22:08:47.849134Z",
     "start_time": "2018-05-05T22:08:47.632769Z"
    }
   },
   "outputs": [
    {
     "name": "stdout",
     "output_type": "stream",
     "text": [
      "X_train.shape (60000, 784)\n",
      "X_test.shape (10000, 784)\n"
     ]
    }
   ],
   "source": [
    "# reshaping the inputs\n",
    "X_train = X_train.reshape(60000, 28*28)\n",
    "X_test = X_test.reshape(10000, 28*28)\n",
    "\n",
    "# normalizing the inputs\n",
    "X_train = X_train.astype('float32') / 255.0\n",
    "X_test = X_test.astype('float32') / 255.0\n",
    "\n",
    "print('X_train.shape', X_train.shape)\n",
    "print('X_test.shape', X_test.shape)"
   ]
  },
  {
   "cell_type": "markdown",
   "metadata": {},
   "source": [
    "#### Convert class vectors to binary class matrices"
   ]
  },
  {
   "cell_type": "code",
   "execution_count": 7,
   "metadata": {
    "ExecuteTime": {
     "end_time": "2018-05-05T22:08:47.860113Z",
     "start_time": "2018-05-05T22:08:47.851248Z"
    }
   },
   "outputs": [
    {
     "name": "stdout",
     "output_type": "stream",
     "text": [
      "y_train_cat shape: (60000, 10)\n",
      "y_test_cat shape: (10000, 10)\n"
     ]
    }
   ],
   "source": [
    "# 10 classes\n",
    "y_train_cat = to_categorical(y_train, 10)\n",
    "y_test_cat = to_categorical(y_test, 10)\n",
    "print('y_train_cat shape:', y_train_cat.shape)\n",
    "print('y_test_cat shape:', y_test_cat.shape)"
   ]
  },
  {
   "cell_type": "markdown",
   "metadata": {},
   "source": [
    "## 2. Define model"
   ]
  },
  {
   "cell_type": "code",
   "execution_count": 8,
   "metadata": {
    "ExecuteTime": {
     "end_time": "2018-05-05T22:08:47.879478Z",
     "start_time": "2018-05-05T22:08:47.862102Z"
    }
   },
   "outputs": [
    {
     "name": "stderr",
     "output_type": "stream",
     "text": [
      "2021-08-08 19:41:45.915570: I tensorflow/core/platform/cpu_feature_guard.cc:142] This TensorFlow binary is optimized with oneAPI Deep Neural Network Library (oneDNN) to use the following CPU instructions in performance-critical operations:  SSE4.1 SSE4.2 AVX AVX2 FMA\n",
      "To enable them in other operations, rebuild TensorFlow with the appropriate compiler flags.\n"
     ]
    }
   ],
   "source": [
    "# building a linear stack of layers with the sequential model\n",
    "model = Sequential()\n",
    "# Add layer\n",
    "model.add(Dense(10, input_dim=28*28, activation='softmax'))"
   ]
  },
  {
   "cell_type": "markdown",
   "metadata": {},
   "source": [
    "#### Model visualization"
   ]
  },
  {
   "cell_type": "code",
   "execution_count": 9,
   "metadata": {
    "ExecuteTime": {
     "end_time": "2018-05-05T22:08:52.022347Z",
     "start_time": "2018-05-05T22:08:47.881488Z"
    }
   },
   "outputs": [
    {
     "name": "stdout",
     "output_type": "stream",
     "text": [
      "('Failed to import pydot. You must `pip install pydot` and install graphviz (https://graphviz.gitlab.io/download/), ', 'for `pydotprint` to work.')\n",
      "Model: \"sequential\"\n",
      "_________________________________________________________________\n",
      "Layer (type)                 Output Shape              Param #   \n",
      "=================================================================\n",
      "dense (Dense)                (None, 10)                7850      \n",
      "=================================================================\n",
      "Total params: 7,850\n",
      "Trainable params: 7,850\n",
      "Non-trainable params: 0\n",
      "_________________________________________________________________\n"
     ]
    }
   ],
   "source": [
    "# plot a Keras model\n",
    "plot_model(model, to_file='img/model02_log_reg.png',\n",
    "           show_shapes=True, show_layer_names=True)\n",
    "\n",
    "# prints a summary representation of your model\n",
    "model.summary()"
   ]
  },
  {
   "cell_type": "markdown",
   "metadata": {},
   "source": [
    "![Logistic regression](img/model02_log_reg.png)"
   ]
  },
  {
   "cell_type": "markdown",
   "metadata": {},
   "source": [
    "## 3. Compile model"
   ]
  },
  {
   "cell_type": "code",
   "execution_count": 10,
   "metadata": {
    "ExecuteTime": {
     "end_time": "2018-05-05T22:08:52.062153Z",
     "start_time": "2018-05-05T22:08:52.024650Z"
    }
   },
   "outputs": [],
   "source": [
    "# compiling the sequential model\n",
    "model.compile('rmsprop', loss='categorical_crossentropy',\n",
    "              metrics=['categorical_accuracy'])"
   ]
  },
  {
   "cell_type": "markdown",
   "metadata": {},
   "source": [
    "## 4. Fit model"
   ]
  },
  {
   "cell_type": "code",
   "execution_count": 11,
   "metadata": {
    "ExecuteTime": {
     "end_time": "2018-05-05T22:09:35.765478Z",
     "start_time": "2018-05-05T22:08:52.064129Z"
    },
    "scrolled": true
   },
   "outputs": [
    {
     "name": "stderr",
     "output_type": "stream",
     "text": [
      "2021-08-08 19:41:46.174289: I tensorflow/compiler/mlir/mlir_graph_optimization_pass.cc:116] None of the MLIR optimization passes are enabled (registered 2)\n",
      "2021-08-08 19:41:46.193886: I tensorflow/core/platform/profile_utils/cpu_utils.cc:112] CPU Frequency: 1800000000 Hz\n"
     ]
    },
    {
     "name": "stdout",
     "output_type": "stream",
     "text": [
      "Epoch 1/50\n",
      "235/235 - 1s - loss: 0.7708 - categorical_accuracy: 0.8155 - val_loss: 0.3982 - val_categorical_accuracy: 0.8979\n",
      "Epoch 2/50\n",
      "235/235 - 0s - loss: 0.3691 - categorical_accuracy: 0.8992 - val_loss: 0.3225 - val_categorical_accuracy: 0.9117\n",
      "Epoch 3/50\n",
      "235/235 - 1s - loss: 0.3223 - categorical_accuracy: 0.9108 - val_loss: 0.2998 - val_categorical_accuracy: 0.9165\n",
      "Epoch 4/50\n",
      "235/235 - 1s - loss: 0.3030 - categorical_accuracy: 0.9154 - val_loss: 0.2899 - val_categorical_accuracy: 0.9183\n",
      "Epoch 5/50\n",
      "235/235 - 1s - loss: 0.2918 - categorical_accuracy: 0.9182 - val_loss: 0.2822 - val_categorical_accuracy: 0.9222\n",
      "Epoch 6/50\n",
      "235/235 - 1s - loss: 0.2841 - categorical_accuracy: 0.9208 - val_loss: 0.2757 - val_categorical_accuracy: 0.9242\n",
      "Epoch 7/50\n",
      "235/235 - 1s - loss: 0.2785 - categorical_accuracy: 0.9225 - val_loss: 0.2746 - val_categorical_accuracy: 0.9242\n",
      "Epoch 8/50\n",
      "235/235 - 1s - loss: 0.2742 - categorical_accuracy: 0.9235 - val_loss: 0.2721 - val_categorical_accuracy: 0.9246\n",
      "Epoch 9/50\n",
      "235/235 - 1s - loss: 0.2708 - categorical_accuracy: 0.9248 - val_loss: 0.2689 - val_categorical_accuracy: 0.9253\n",
      "Epoch 10/50\n",
      "235/235 - 1s - loss: 0.2681 - categorical_accuracy: 0.9253 - val_loss: 0.2684 - val_categorical_accuracy: 0.9258\n",
      "Epoch 11/50\n",
      "235/235 - 1s - loss: 0.2656 - categorical_accuracy: 0.9262 - val_loss: 0.2689 - val_categorical_accuracy: 0.9252\n",
      "Epoch 12/50\n",
      "235/235 - 1s - loss: 0.2631 - categorical_accuracy: 0.9273 - val_loss: 0.2664 - val_categorical_accuracy: 0.9256\n",
      "Epoch 13/50\n",
      "235/235 - 1s - loss: 0.2615 - categorical_accuracy: 0.9276 - val_loss: 0.2671 - val_categorical_accuracy: 0.9256\n",
      "Epoch 14/50\n",
      "235/235 - 1s - loss: 0.2599 - categorical_accuracy: 0.9279 - val_loss: 0.2674 - val_categorical_accuracy: 0.9264\n",
      "Epoch 15/50\n",
      "235/235 - 1s - loss: 0.2586 - categorical_accuracy: 0.9281 - val_loss: 0.2665 - val_categorical_accuracy: 0.9261\n",
      "Epoch 16/50\n",
      "235/235 - 1s - loss: 0.2573 - categorical_accuracy: 0.9286 - val_loss: 0.2653 - val_categorical_accuracy: 0.9263\n",
      "Epoch 17/50\n",
      "235/235 - 1s - loss: 0.2558 - categorical_accuracy: 0.9294 - val_loss: 0.2645 - val_categorical_accuracy: 0.9286\n",
      "Epoch 18/50\n",
      "235/235 - 1s - loss: 0.2549 - categorical_accuracy: 0.9298 - val_loss: 0.2633 - val_categorical_accuracy: 0.9288\n",
      "Epoch 19/50\n",
      "235/235 - 1s - loss: 0.2537 - categorical_accuracy: 0.9305 - val_loss: 0.2657 - val_categorical_accuracy: 0.9280\n",
      "Epoch 20/50\n",
      "235/235 - 1s - loss: 0.2528 - categorical_accuracy: 0.9307 - val_loss: 0.2641 - val_categorical_accuracy: 0.9273\n",
      "Epoch 21/50\n",
      "235/235 - 1s - loss: 0.2520 - categorical_accuracy: 0.9309 - val_loss: 0.2658 - val_categorical_accuracy: 0.9276\n",
      "Epoch 22/50\n",
      "235/235 - 1s - loss: 0.2513 - categorical_accuracy: 0.9313 - val_loss: 0.2637 - val_categorical_accuracy: 0.9282\n",
      "Epoch 23/50\n",
      "235/235 - 1s - loss: 0.2505 - categorical_accuracy: 0.9315 - val_loss: 0.2646 - val_categorical_accuracy: 0.9272\n",
      "Epoch 24/50\n",
      "235/235 - 1s - loss: 0.2499 - categorical_accuracy: 0.9314 - val_loss: 0.2662 - val_categorical_accuracy: 0.9272\n",
      "Epoch 25/50\n",
      "235/235 - 1s - loss: 0.2492 - categorical_accuracy: 0.9319 - val_loss: 0.2666 - val_categorical_accuracy: 0.9272\n",
      "Epoch 26/50\n",
      "235/235 - 1s - loss: 0.2485 - categorical_accuracy: 0.9319 - val_loss: 0.2651 - val_categorical_accuracy: 0.9285\n",
      "Epoch 27/50\n",
      "235/235 - 1s - loss: 0.2480 - categorical_accuracy: 0.9318 - val_loss: 0.2653 - val_categorical_accuracy: 0.9272\n",
      "Epoch 28/50\n",
      "235/235 - 1s - loss: 0.2475 - categorical_accuracy: 0.9323 - val_loss: 0.2645 - val_categorical_accuracy: 0.9281\n",
      "Epoch 29/50\n",
      "235/235 - 1s - loss: 0.2468 - categorical_accuracy: 0.9326 - val_loss: 0.2653 - val_categorical_accuracy: 0.9292\n",
      "Epoch 30/50\n",
      "235/235 - 1s - loss: 0.2462 - categorical_accuracy: 0.9329 - val_loss: 0.2654 - val_categorical_accuracy: 0.9283\n",
      "Epoch 31/50\n",
      "235/235 - 1s - loss: 0.2458 - categorical_accuracy: 0.9334 - val_loss: 0.2663 - val_categorical_accuracy: 0.9276\n",
      "Epoch 32/50\n",
      "235/235 - 1s - loss: 0.2454 - categorical_accuracy: 0.9329 - val_loss: 0.2669 - val_categorical_accuracy: 0.9284\n",
      "Epoch 33/50\n",
      "235/235 - 1s - loss: 0.2450 - categorical_accuracy: 0.9338 - val_loss: 0.2657 - val_categorical_accuracy: 0.9280\n",
      "Epoch 34/50\n",
      "235/235 - 1s - loss: 0.2449 - categorical_accuracy: 0.9339 - val_loss: 0.2669 - val_categorical_accuracy: 0.9279\n",
      "Epoch 35/50\n",
      "235/235 - 1s - loss: 0.2442 - categorical_accuracy: 0.9338 - val_loss: 0.2664 - val_categorical_accuracy: 0.9282\n",
      "Epoch 36/50\n",
      "235/235 - 1s - loss: 0.2440 - categorical_accuracy: 0.9333 - val_loss: 0.2682 - val_categorical_accuracy: 0.9264\n",
      "Epoch 37/50\n",
      "235/235 - 1s - loss: 0.2436 - categorical_accuracy: 0.9339 - val_loss: 0.2675 - val_categorical_accuracy: 0.9276\n",
      "Epoch 38/50\n",
      "235/235 - 1s - loss: 0.2432 - categorical_accuracy: 0.9339 - val_loss: 0.2652 - val_categorical_accuracy: 0.9282\n",
      "Epoch 39/50\n",
      "235/235 - 1s - loss: 0.2430 - categorical_accuracy: 0.9342 - val_loss: 0.2667 - val_categorical_accuracy: 0.9283\n",
      "Epoch 40/50\n",
      "235/235 - 1s - loss: 0.2426 - categorical_accuracy: 0.9340 - val_loss: 0.2684 - val_categorical_accuracy: 0.9271\n",
      "Epoch 41/50\n",
      "235/235 - 1s - loss: 0.2422 - categorical_accuracy: 0.9351 - val_loss: 0.2690 - val_categorical_accuracy: 0.9273\n",
      "Epoch 42/50\n",
      "235/235 - 1s - loss: 0.2422 - categorical_accuracy: 0.9346 - val_loss: 0.2680 - val_categorical_accuracy: 0.9293\n",
      "Epoch 43/50\n",
      "235/235 - 1s - loss: 0.2416 - categorical_accuracy: 0.9346 - val_loss: 0.2677 - val_categorical_accuracy: 0.9287\n",
      "Epoch 44/50\n",
      "235/235 - 1s - loss: 0.2414 - categorical_accuracy: 0.9347 - val_loss: 0.2706 - val_categorical_accuracy: 0.9265\n",
      "Epoch 45/50\n",
      "235/235 - 1s - loss: 0.2410 - categorical_accuracy: 0.9347 - val_loss: 0.2678 - val_categorical_accuracy: 0.9285\n",
      "Epoch 46/50\n",
      "235/235 - 1s - loss: 0.2409 - categorical_accuracy: 0.9347 - val_loss: 0.2719 - val_categorical_accuracy: 0.9267\n",
      "Epoch 47/50\n",
      "235/235 - 1s - loss: 0.2408 - categorical_accuracy: 0.9348 - val_loss: 0.2687 - val_categorical_accuracy: 0.9276\n",
      "Epoch 48/50\n",
      "235/235 - 1s - loss: 0.2404 - categorical_accuracy: 0.9353 - val_loss: 0.2695 - val_categorical_accuracy: 0.9286\n",
      "Epoch 49/50\n",
      "235/235 - 1s - loss: 0.2400 - categorical_accuracy: 0.9353 - val_loss: 0.2696 - val_categorical_accuracy: 0.9277\n",
      "Epoch 50/50\n",
      "235/235 - 1s - loss: 0.2401 - categorical_accuracy: 0.9350 - val_loss: 0.2700 - val_categorical_accuracy: 0.9276\n"
     ]
    }
   ],
   "source": [
    "# training the model and saving metrics in history\n",
    "history = model.fit(X_train, y_train_cat,\n",
    "                    batch_size=256, epochs=50,\n",
    "                    verbose=2,\n",
    "                    validation_data=(X_test, y_test_cat))"
   ]
  },
  {
   "cell_type": "markdown",
   "metadata": {},
   "source": [
    "## 5. Evaluate model"
   ]
  },
  {
   "cell_type": "code",
   "execution_count": 12,
   "metadata": {
    "ExecuteTime": {
     "end_time": "2018-05-05T22:09:35.772685Z",
     "start_time": "2018-05-05T22:09:35.767910Z"
    }
   },
   "outputs": [
    {
     "data": {
      "text/plain": [
       "dict_keys(['loss', 'categorical_accuracy', 'val_loss', 'val_categorical_accuracy'])"
      ]
     },
     "execution_count": 12,
     "metadata": {},
     "output_type": "execute_result"
    }
   ],
   "source": [
    "history.history.keys()"
   ]
  },
  {
   "cell_type": "code",
   "execution_count": 13,
   "metadata": {
    "ExecuteTime": {
     "end_time": "2018-05-05T22:09:36.108821Z",
     "start_time": "2018-05-05T22:09:35.774690Z"
    }
   },
   "outputs": [
    {
     "data": {
      "image/png": "[encoded data removed]",
      "text/plain": [
       "<Figure size 432x288 with 2 Axes>"
      ]
     },
     "metadata": {
      "needs_background": "light"
     },
     "output_type": "display_data"
    }
   ],
   "source": [
    "# plotting the metrics\n",
    "fig = plt.figure()\n",
    "plt.subplot(2, 1, 1)\n",
    "plt.plot(history.history['categorical_accuracy'])\n",
    "plt.plot(history.history['val_categorical_accuracy'])\n",
    "plt.title('model accuracy')\n",
    "plt.ylabel('accuracy')\n",
    "plt.xlabel('epoch')\n",
    "plt.legend(['train', 'test'], loc='lower right')\n",
    "\n",
    "plt.subplot(2, 1, 2)\n",
    "plt.plot(history.history['loss'])\n",
    "plt.plot(history.history['val_loss'])\n",
    "plt.title('model loss')\n",
    "plt.ylabel('loss')\n",
    "plt.xlabel('epoch')\n",
    "plt.legend(['train', 'test'], loc='upper right')\n",
    "\n",
    "plt.tight_layout()"
   ]
  },
  {
   "cell_type": "code",
   "execution_count": 14,
   "metadata": {
    "ExecuteTime": {
     "end_time": "2018-05-05T22:09:36.506663Z",
     "start_time": "2018-05-05T22:09:36.110807Z"
    }
   },
   "outputs": [
    {
     "name": "stdout",
     "output_type": "stream",
     "text": [
      "313/313 [==============================] - 0s 1ms/step - loss: 0.2700 - categorical_accuracy: 0.9276\n",
      "Evaluation result on Test Data:\n",
      "Loss = 0.2700291872024536\n",
      "Accuracy = 0.9276000261306763\n"
     ]
    }
   ],
   "source": [
    "# evaluate model on test data\n",
    "[test_loss, test_acc] = model.evaluate(X_test, y_test_cat) \n",
    "print(\"Evaluation result on Test Data:\\nLoss = {}\\nAccuracy = {}\".format(test_loss, test_acc))"
   ]
  },
  {
   "cell_type": "markdown",
   "metadata": {},
   "source": [
    "## References\n",
    "\n",
    "* [Deep Learning Book](http://www.deeplearningbook.org)\n",
    "\n",
    "* [Zero to Deep Learning™ Udemy Video Course](https://github.com/dataweekends/zero_to_deep_learning_udemy)\n",
    "\n",
    "* [THE MNIST DATABASE](http://yann.lecun.com/exdb/mnist/)"
   ]
  }
 ],
 "metadata": {
  "kernelspec": {
   "display_name": "Python 3 (ipykernel)",
   "language": "python",
   "name": "python3"
  },
  "language_info": {
   "codemirror_mode": {
    "name": "ipython",
    "version": 3
   },
   "file_extension": ".py",
   "mimetype": "text/x-python",
   "name": "python",
   "nbconvert_exporter": "python",
   "pygments_lexer": "ipython3",
   "version": "3.8.10"
  }
 },
 "nbformat": 4,
 "nbformat_minor": 2
}
