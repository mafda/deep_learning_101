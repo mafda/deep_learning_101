{
 "cells": [
  {
   "cell_type": "markdown",
   "metadata": {},
   "source": [
    "# Deep Learning 101\n",
    "\n",
    "This notebook presents the basics concepts that involve the concept of Deep Learning.\n",
    "\n",
    "1. Linear Regression\n",
    "* Logistic Regression\n",
    "* Artificial Neural Networks\n",
    "* **Deep Neural Networks**\n",
    "* Convolutional Neural Networks\n",
    "\n",
    "## 4. Deep Neural Networks\n",
    "\n",
    "Deep artificial neural networks are represented by the composition of **several hidden layers**. \n",
    "\n",
    "Researchers agree that deep learning involves more than two transformations from input to output **CAP> 2** [[Schmidhuber, 2014]](https://arxiv.org/pdf/1404.7828.pdf). \n",
    "\n",
    "\n",
    "$$\\begin{align}\n",
    "        \\hat{y} &= f(x) \\\\\n",
    "                &= f^{(n)}(\\dots f^{(2)}(f^{(1)}(x))) \\\\\n",
    "                &= \\sigma_n( W_n \\dots \\sigma_2(W_2 \\sigma_1(W_1 x + b_1) + b_2) \\dots + b_n)\n",
    "        \\end{align}\n",
    "          $$\n",
    "\n",
    "---"
   ]
  },
  {
   "cell_type": "markdown",
   "metadata": {},
   "source": [
    "## Deep Neural Networks with Keras and TensorFlow\n",
    "\n",
    "## 1. Load data\n",
    "\n",
    "#### Load libraries"
   ]
  },
  {
   "cell_type": "code",
   "execution_count": 1,
   "metadata": {
    "ExecuteTime": {
     "end_time": "2018-05-05T23:06:22.728201Z",
     "start_time": "2018-05-05T23:06:22.295494Z"
    }
   },
   "outputs": [],
   "source": [
    "%matplotlib inline\n",
    "import matplotlib.pyplot as plt\n",
    "\n",
    "import numpy as np"
   ]
  },
  {
   "cell_type": "code",
   "execution_count": 2,
   "metadata": {},
   "outputs": [],
   "source": [
    "from tensorflow.keras.datasets import mnist\n",
    "from tensorflow.keras.layers import Dense\n",
    "from tensorflow.keras.models import Sequential\n",
    "from tensorflow.keras.utils import plot_model, to_categorical"
   ]
  },
  {
   "cell_type": "markdown",
   "metadata": {},
   "source": [
    "#### Getting the data"
   ]
  },
  {
   "cell_type": "code",
   "execution_count": 3,
   "metadata": {
    "ExecuteTime": {
     "end_time": "2018-05-05T23:06:39.415126Z",
     "start_time": "2018-05-05T23:06:39.109475Z"
    }
   },
   "outputs": [],
   "source": [
    "# load dataset\n",
    "(X_train, y_train), (X_test, y_test) = mnist.load_data()"
   ]
  },
  {
   "cell_type": "markdown",
   "metadata": {},
   "source": [
    "#### Explore visual data"
   ]
  },
  {
   "cell_type": "code",
   "execution_count": 4,
   "metadata": {
    "ExecuteTime": {
     "end_time": "2018-05-05T23:06:39.888197Z",
     "start_time": "2018-05-05T23:06:39.417282Z"
    }
   },
   "outputs": [
    {
     "data": {
      "image/png": "[encoded data removed]",
      "text/plain": [
       "<Figure size 432x288 with 10 Axes>"
      ]
     },
     "metadata": {},
     "output_type": "display_data"
    }
   ],
   "source": [
    "fig = plt.figure()\n",
    "for i in range(10):\n",
    "    plt.subplot(2, 5, i+1)\n",
    "    x_y = X_train[y_train == i]\n",
    "    plt.imshow(x_y[0], cmap='gray', interpolation='none')\n",
    "    plt.title(\"Class %d\" % (i))\n",
    "    plt.xticks([])\n",
    "    plt.yticks([])\n",
    "    \n",
    "plt.tight_layout()"
   ]
  },
  {
   "cell_type": "code",
   "execution_count": 5,
   "metadata": {
    "ExecuteTime": {
     "end_time": "2018-05-05T23:06:39.897256Z",
     "start_time": "2018-05-05T23:06:39.890248Z"
    }
   },
   "outputs": [
    {
     "name": "stdout",
     "output_type": "stream",
     "text": [
      "X_train.shape (60000, 28, 28)\n",
      "y_train.shape (60000,)\n",
      "X_test.shape (10000, 28, 28)\n",
      "y_train.shape (10000,)\n"
     ]
    }
   ],
   "source": [
    "print('X_train.shape', X_train.shape)\n",
    "print('y_train.shape', y_train.shape)\n",
    "print('X_test.shape', X_test.shape)\n",
    "print('y_train.shape', y_test.shape)"
   ]
  },
  {
   "cell_type": "markdown",
   "metadata": {},
   "source": [
    "#### Reshaping and normalizing the inputs"
   ]
  },
  {
   "cell_type": "code",
   "execution_count": 6,
   "metadata": {
    "ExecuteTime": {
     "end_time": "2018-05-05T23:06:40.114477Z",
     "start_time": "2018-05-05T23:06:39.899365Z"
    }
   },
   "outputs": [
    {
     "name": "stdout",
     "output_type": "stream",
     "text": [
      "X_train reshape: (60000, 784)\n",
      "X_test reshape: (10000, 784)\n"
     ]
    }
   ],
   "source": [
    "# reshaping the inputs\n",
    "X_train = X_train.reshape(60000, 28*28)\n",
    "X_test = X_test.reshape(10000, 28*28)\n",
    "\n",
    "# normalizing the inputs\n",
    "X_train = X_train.astype('float32') / 255.0\n",
    "X_test = X_test.astype('float32') / 255.0\n",
    "print('X_train reshape:', X_train.shape)\n",
    "print('X_test reshape:', X_test.shape)"
   ]
  },
  {
   "cell_type": "markdown",
   "metadata": {},
   "source": [
    "#### Convert class vectors to binary class matrices"
   ]
  },
  {
   "cell_type": "code",
   "execution_count": 7,
   "metadata": {
    "ExecuteTime": {
     "end_time": "2018-05-05T23:06:40.125417Z",
     "start_time": "2018-05-05T23:06:40.116562Z"
    }
   },
   "outputs": [
    {
     "name": "stdout",
     "output_type": "stream",
     "text": [
      "y_train_cat shape: (60000, 10)\n",
      "y_test_cat shape: (10000, 10)\n"
     ]
    }
   ],
   "source": [
    "# 10 classes\n",
    "y_train_cat = to_categorical(y_train, 10)\n",
    "y_test_cat = to_categorical(y_test, 10)\n",
    "print('y_train_cat shape:', y_train_cat.shape)\n",
    "print('y_test_cat shape:', y_test_cat.shape)"
   ]
  },
  {
   "cell_type": "markdown",
   "metadata": {},
   "source": [
    "## 2. Define model\n",
    "\n",
    "#### Add the input-, hidden- and output-layers"
   ]
  },
  {
   "cell_type": "code",
   "execution_count": 8,
   "metadata": {
    "ExecuteTime": {
     "end_time": "2018-05-05T23:06:45.049536Z",
     "start_time": "2018-05-05T23:06:44.997848Z"
    }
   },
   "outputs": [
    {
     "name": "stderr",
     "output_type": "stream",
     "text": [
      "2021-08-08 20:27:36.214271: I tensorflow/core/platform/cpu_feature_guard.cc:142] This TensorFlow binary is optimized with oneAPI Deep Neural Network Library (oneDNN) to use the following CPU instructions in performance-critical operations:  SSE4.1 SSE4.2 AVX AVX2 FMA\n",
      "To enable them in other operations, rebuild TensorFlow with the appropriate compiler flags.\n"
     ]
    }
   ],
   "source": [
    "# building a linear stack of layers with the sequential model\n",
    "model = Sequential()\n",
    "\n",
    "# Add the input layer and hidden layer 1\n",
    "model.add(Dense(128, input_shape=(784,), activation='relu'))\n",
    "\n",
    "# Add the hidden layer 2\n",
    "model.add(Dense(64, activation='relu'))\n",
    "\n",
    "# Add the output layer\n",
    "model.add(Dense(10, activation='softmax'))"
   ]
  },
  {
   "cell_type": "markdown",
   "metadata": {},
   "source": [
    "#### Model visualization"
   ]
  },
  {
   "cell_type": "code",
   "execution_count": 9,
   "metadata": {
    "ExecuteTime": {
     "end_time": "2018-05-05T23:06:52.448201Z",
     "start_time": "2018-05-05T23:06:48.276521Z"
    }
   },
   "outputs": [
    {
     "name": "stdout",
     "output_type": "stream",
     "text": [
      "('Failed to import pydot. You must `pip install pydot` and install graphviz (https://graphviz.gitlab.io/download/), ', 'for `pydotprint` to work.')\n",
      "Model: \"sequential\"\n",
      "_________________________________________________________________\n",
      "Layer (type)                 Output Shape              Param #   \n",
      "=================================================================\n",
      "dense (Dense)                (None, 128)               100480    \n",
      "_________________________________________________________________\n",
      "dense_1 (Dense)              (None, 64)                8256      \n",
      "_________________________________________________________________\n",
      "dense_2 (Dense)              (None, 10)                650       \n",
      "=================================================================\n",
      "Total params: 109,386\n",
      "Trainable params: 109,386\n",
      "Non-trainable params: 0\n",
      "_________________________________________________________________\n"
     ]
    }
   ],
   "source": [
    "# plot a Keras model\n",
    "plot_model(model, to_file='img/model04_dnn.png',\n",
    "           show_shapes=True, show_layer_names=True)\n",
    "\n",
    "# prints a summary representation of your model\n",
    "model.summary()"
   ]
  },
  {
   "cell_type": "markdown",
   "metadata": {},
   "source": [
    "![Deep neural network](img/model04_dnn.png)"
   ]
  },
  {
   "cell_type": "markdown",
   "metadata": {},
   "source": [
    "## 3. Compile model"
   ]
  },
  {
   "cell_type": "code",
   "execution_count": 10,
   "metadata": {
    "ExecuteTime": {
     "end_time": "2018-05-05T22:14:56.728252Z",
     "start_time": "2018-05-05T22:14:56.690760Z"
    }
   },
   "outputs": [],
   "source": [
    "# compiling the sequential model\n",
    "model.compile('rmsprop', loss='categorical_crossentropy',\n",
    "              metrics=['categorical_accuracy'])"
   ]
  },
  {
   "cell_type": "markdown",
   "metadata": {},
   "source": [
    "## 4. Fit model"
   ]
  },
  {
   "cell_type": "code",
   "execution_count": 11,
   "metadata": {
    "ExecuteTime": {
     "end_time": "2018-05-05T22:15:49.424187Z",
     "start_time": "2018-05-05T22:14:56.730213Z"
    }
   },
   "outputs": [
    {
     "name": "stdout",
     "output_type": "stream",
     "text": [
      "Epoch 1/50\n"
     ]
    },
    {
     "name": "stderr",
     "output_type": "stream",
     "text": [
      "2021-08-08 20:27:36.359242: I tensorflow/compiler/mlir/mlir_graph_optimization_pass.cc:116] None of the MLIR optimization passes are enabled (registered 2)\n",
      "2021-08-08 20:27:36.377824: I tensorflow/core/platform/profile_utils/cpu_utils.cc:112] CPU Frequency: 1800000000 Hz\n"
     ]
    },
    {
     "name": "stdout",
     "output_type": "stream",
     "text": [
      "235/235 - 2s - loss: 0.3847 - categorical_accuracy: 0.8928 - val_loss: 0.1974 - val_categorical_accuracy: 0.9418\n",
      "Epoch 2/50\n",
      "235/235 - 1s - loss: 0.1675 - categorical_accuracy: 0.9509 - val_loss: 0.1785 - val_categorical_accuracy: 0.9458\n",
      "Epoch 3/50\n",
      "235/235 - 1s - loss: 0.1180 - categorical_accuracy: 0.9646 - val_loss: 0.1237 - val_categorical_accuracy: 0.9613\n",
      "Epoch 4/50\n",
      "235/235 - 1s - loss: 0.0889 - categorical_accuracy: 0.9735 - val_loss: 0.1133 - val_categorical_accuracy: 0.9652\n",
      "Epoch 5/50\n",
      "235/235 - 1s - loss: 0.0715 - categorical_accuracy: 0.9783 - val_loss: 0.0818 - val_categorical_accuracy: 0.9742\n",
      "Epoch 6/50\n",
      "235/235 - 1s - loss: 0.0587 - categorical_accuracy: 0.9822 - val_loss: 0.0857 - val_categorical_accuracy: 0.9737\n",
      "Epoch 7/50\n",
      "235/235 - 1s - loss: 0.0492 - categorical_accuracy: 0.9850 - val_loss: 0.0804 - val_categorical_accuracy: 0.9740\n",
      "Epoch 8/50\n",
      "235/235 - 1s - loss: 0.0421 - categorical_accuracy: 0.9871 - val_loss: 0.0781 - val_categorical_accuracy: 0.9775\n",
      "Epoch 9/50\n",
      "235/235 - 1s - loss: 0.0350 - categorical_accuracy: 0.9895 - val_loss: 0.0959 - val_categorical_accuracy: 0.9713\n",
      "Epoch 10/50\n",
      "235/235 - 1s - loss: 0.0306 - categorical_accuracy: 0.9906 - val_loss: 0.0822 - val_categorical_accuracy: 0.9756\n",
      "Epoch 11/50\n",
      "235/235 - 1s - loss: 0.0256 - categorical_accuracy: 0.9922 - val_loss: 0.0732 - val_categorical_accuracy: 0.9783\n",
      "Epoch 12/50\n",
      "235/235 - 1s - loss: 0.0215 - categorical_accuracy: 0.9937 - val_loss: 0.0852 - val_categorical_accuracy: 0.9761\n",
      "Epoch 13/50\n",
      "235/235 - 1s - loss: 0.0185 - categorical_accuracy: 0.9943 - val_loss: 0.0853 - val_categorical_accuracy: 0.9778\n",
      "Epoch 14/50\n",
      "235/235 - 1s - loss: 0.0154 - categorical_accuracy: 0.9956 - val_loss: 0.0770 - val_categorical_accuracy: 0.9802\n",
      "Epoch 15/50\n",
      "235/235 - 1s - loss: 0.0136 - categorical_accuracy: 0.9960 - val_loss: 0.0888 - val_categorical_accuracy: 0.9767\n",
      "Epoch 16/50\n",
      "235/235 - 1s - loss: 0.0116 - categorical_accuracy: 0.9967 - val_loss: 0.0804 - val_categorical_accuracy: 0.9799\n",
      "Epoch 17/50\n",
      "235/235 - 1s - loss: 0.0099 - categorical_accuracy: 0.9974 - val_loss: 0.0831 - val_categorical_accuracy: 0.9792\n",
      "Epoch 18/50\n",
      "235/235 - 1s - loss: 0.0077 - categorical_accuracy: 0.9980 - val_loss: 0.0849 - val_categorical_accuracy: 0.9793\n",
      "Epoch 19/50\n",
      "235/235 - 1s - loss: 0.0070 - categorical_accuracy: 0.9979 - val_loss: 0.0884 - val_categorical_accuracy: 0.9810\n",
      "Epoch 20/50\n",
      "235/235 - 1s - loss: 0.0063 - categorical_accuracy: 0.9982 - val_loss: 0.1064 - val_categorical_accuracy: 0.9769\n",
      "Epoch 21/50\n",
      "235/235 - 1s - loss: 0.0049 - categorical_accuracy: 0.9987 - val_loss: 0.1253 - val_categorical_accuracy: 0.9729\n",
      "Epoch 22/50\n",
      "235/235 - 1s - loss: 0.0045 - categorical_accuracy: 0.9988 - val_loss: 0.0998 - val_categorical_accuracy: 0.9794\n",
      "Epoch 23/50\n",
      "235/235 - 1s - loss: 0.0036 - categorical_accuracy: 0.9991 - val_loss: 0.1119 - val_categorical_accuracy: 0.9771\n",
      "Epoch 24/50\n",
      "235/235 - 1s - loss: 0.0037 - categorical_accuracy: 0.9989 - val_loss: 0.0994 - val_categorical_accuracy: 0.9802\n",
      "Epoch 25/50\n",
      "235/235 - 1s - loss: 0.0030 - categorical_accuracy: 0.9992 - val_loss: 0.1041 - val_categorical_accuracy: 0.9777\n",
      "Epoch 26/50\n",
      "235/235 - 1s - loss: 0.0031 - categorical_accuracy: 0.9989 - val_loss: 0.1026 - val_categorical_accuracy: 0.9806\n",
      "Epoch 27/50\n",
      "235/235 - 1s - loss: 0.0022 - categorical_accuracy: 0.9995 - val_loss: 0.1086 - val_categorical_accuracy: 0.9805\n",
      "Epoch 28/50\n",
      "235/235 - 1s - loss: 0.0024 - categorical_accuracy: 0.9994 - val_loss: 0.1065 - val_categorical_accuracy: 0.9801\n",
      "Epoch 29/50\n",
      "235/235 - 1s - loss: 0.0023 - categorical_accuracy: 0.9992 - val_loss: 0.1102 - val_categorical_accuracy: 0.9816\n",
      "Epoch 30/50\n",
      "235/235 - 1s - loss: 0.0020 - categorical_accuracy: 0.9994 - val_loss: 0.1216 - val_categorical_accuracy: 0.9787\n",
      "Epoch 31/50\n",
      "235/235 - 1s - loss: 0.0016 - categorical_accuracy: 0.9996 - val_loss: 0.1223 - val_categorical_accuracy: 0.9800\n",
      "Epoch 32/50\n",
      "235/235 - 1s - loss: 0.0012 - categorical_accuracy: 0.9997 - val_loss: 0.1177 - val_categorical_accuracy: 0.9795\n",
      "Epoch 33/50\n",
      "235/235 - 1s - loss: 0.0012 - categorical_accuracy: 0.9997 - val_loss: 0.1144 - val_categorical_accuracy: 0.9818\n",
      "Epoch 34/50\n",
      "235/235 - 1s - loss: 0.0014 - categorical_accuracy: 0.9997 - val_loss: 0.1303 - val_categorical_accuracy: 0.9794\n",
      "Epoch 35/50\n",
      "235/235 - 1s - loss: 0.0016 - categorical_accuracy: 0.9995 - val_loss: 0.1215 - val_categorical_accuracy: 0.9818\n",
      "Epoch 36/50\n",
      "235/235 - 1s - loss: 0.0011 - categorical_accuracy: 0.9996 - val_loss: 0.1261 - val_categorical_accuracy: 0.9811\n",
      "Epoch 37/50\n",
      "235/235 - 1s - loss: 0.0010 - categorical_accuracy: 0.9997 - val_loss: 0.1284 - val_categorical_accuracy: 0.9799\n",
      "Epoch 38/50\n",
      "235/235 - 1s - loss: 0.0013 - categorical_accuracy: 0.9996 - val_loss: 0.1305 - val_categorical_accuracy: 0.9805\n",
      "Epoch 39/50\n",
      "235/235 - 1s - loss: 9.8454e-04 - categorical_accuracy: 0.9997 - val_loss: 0.1557 - val_categorical_accuracy: 0.9781\n",
      "Epoch 40/50\n",
      "235/235 - 1s - loss: 7.7010e-04 - categorical_accuracy: 0.9998 - val_loss: 0.1311 - val_categorical_accuracy: 0.9798\n",
      "Epoch 41/50\n",
      "235/235 - 1s - loss: 7.4921e-04 - categorical_accuracy: 0.9998 - val_loss: 0.1379 - val_categorical_accuracy: 0.9797\n",
      "Epoch 42/50\n",
      "235/235 - 1s - loss: 0.0011 - categorical_accuracy: 0.9997 - val_loss: 0.1450 - val_categorical_accuracy: 0.9799\n",
      "Epoch 43/50\n",
      "235/235 - 1s - loss: 9.3898e-04 - categorical_accuracy: 0.9998 - val_loss: 0.1386 - val_categorical_accuracy: 0.9805\n",
      "Epoch 44/50\n",
      "235/235 - 1s - loss: 9.4533e-04 - categorical_accuracy: 0.9996 - val_loss: 0.1450 - val_categorical_accuracy: 0.9804\n",
      "Epoch 45/50\n",
      "235/235 - 1s - loss: 8.0124e-04 - categorical_accuracy: 0.9998 - val_loss: 0.1457 - val_categorical_accuracy: 0.9813\n",
      "Epoch 46/50\n",
      "235/235 - 1s - loss: 7.7941e-04 - categorical_accuracy: 0.9998 - val_loss: 0.1463 - val_categorical_accuracy: 0.9814\n",
      "Epoch 47/50\n",
      "235/235 - 1s - loss: 7.2025e-04 - categorical_accuracy: 0.9998 - val_loss: 0.1449 - val_categorical_accuracy: 0.9810\n",
      "Epoch 48/50\n",
      "235/235 - 1s - loss: 5.5038e-04 - categorical_accuracy: 0.9998 - val_loss: 0.1664 - val_categorical_accuracy: 0.9784\n",
      "Epoch 49/50\n",
      "235/235 - 1s - loss: 8.9560e-04 - categorical_accuracy: 0.9997 - val_loss: 0.1527 - val_categorical_accuracy: 0.9811\n",
      "Epoch 50/50\n",
      "235/235 - 1s - loss: 9.9526e-04 - categorical_accuracy: 0.9998 - val_loss: 0.1526 - val_categorical_accuracy: 0.9804\n"
     ]
    }
   ],
   "source": [
    "# training the model and saving metrics in history\n",
    "history = model.fit(X_train, y_train_cat,\n",
    "                    batch_size=256, epochs=50,\n",
    "                    verbose=2,\n",
    "                    validation_data=(X_test, y_test_cat))"
   ]
  },
  {
   "cell_type": "markdown",
   "metadata": {},
   "source": [
    "## 5. Evaluate model"
   ]
  },
  {
   "cell_type": "code",
   "execution_count": 12,
   "metadata": {
    "ExecuteTime": {
     "end_time": "2018-05-05T22:15:49.766908Z",
     "start_time": "2018-05-05T22:15:49.426627Z"
    }
   },
   "outputs": [
    {
     "data": {
      "image/png": "[encoded data removed]",
      "text/plain": [
       "<Figure size 432x288 with 2 Axes>"
      ]
     },
     "metadata": {
      "needs_background": "light"
     },
     "output_type": "display_data"
    }
   ],
   "source": [
    "# plotting the metrics\n",
    "fig = plt.figure()\n",
    "plt.subplot(2,1,1)\n",
    "plt.plot(history.history['categorical_accuracy'])\n",
    "plt.plot(history.history['val_categorical_accuracy'])\n",
    "plt.title('model accuracy')\n",
    "plt.ylabel('accuracy')\n",
    "plt.xlabel('epoch')\n",
    "plt.legend(['train', 'test'], loc='lower right')\n",
    "\n",
    "plt.subplot(2,1,2)\n",
    "plt.plot(history.history['loss'])\n",
    "plt.plot(history.history['val_loss'])\n",
    "plt.title('model loss')\n",
    "plt.ylabel('loss')\n",
    "plt.xlabel('epoch')\n",
    "plt.legend(['train', 'test'], loc='upper right')\n",
    "\n",
    "plt.tight_layout()"
   ]
  },
  {
   "cell_type": "code",
   "execution_count": 13,
   "metadata": {
    "ExecuteTime": {
     "end_time": "2018-05-05T22:15:50.190518Z",
     "start_time": "2018-05-05T22:15:49.769080Z"
    }
   },
   "outputs": [
    {
     "name": "stdout",
     "output_type": "stream",
     "text": [
      "313/313 [==============================] - 0s 554us/step - loss: 0.1526 - categorical_accuracy: 0.9804\n",
      "Evaluation result on Test Data:\n",
      "Loss = 0.1526349037885666\n",
      "Accuracy = 0.980400025844574\n"
     ]
    }
   ],
   "source": [
    "# evaluate model on test data\n",
    "[test_loss, test_acc] = model.evaluate(X_test, y_test_cat)\n",
    "print(\"Evaluation result on Test Data:\\nLoss = {}\\nAccuracy = {}\".format(test_loss, test_acc))"
   ]
  },
  {
   "cell_type": "markdown",
   "metadata": {},
   "source": [
    "## References\n",
    "\n",
    "* [Deep Learning Book](http://www.deeplearningbook.org)\n",
    "\n",
    "* [Zero to Deep Learning™ Udemy Video Course](https://github.com/dataweekends/zero_to_deep_learning_udemy)\n",
    "\n",
    "* [THE MNIST DATABASE](http://yann.lecun.com/exdb/mnist/)"
   ]
  }
 ],
 "metadata": {
  "kernelspec": {
   "display_name": "Python 3 (ipykernel)",
   "language": "python",
   "name": "python3"
  },
  "language_info": {
   "codemirror_mode": {
    "name": "ipython",
    "version": 3
   },
   "file_extension": ".py",
   "mimetype": "text/x-python",
   "name": "python",
   "nbconvert_exporter": "python",
   "pygments_lexer": "ipython3",
   "version": "3.8.10"
  }
 },
 "nbformat": 4,
 "nbformat_minor": 2
}
