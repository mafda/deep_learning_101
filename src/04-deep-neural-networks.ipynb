{
 "cells": [
  {
   "cell_type": "markdown",
   "metadata": {},
   "source": [
    "# Deep Learning 101\n",
    "\n",
    "This notebook presents the basics concepts that involve the concept of Deep Learning.\n",
    "\n",
    "1. Linear Regression\n",
    "* Logistic Regression\n",
    "* Artificial Neural Networks\n",
    "* **Deep Neural Networks**\n",
    "* Convolutional Neural Networks\n",
    "\n",
    "## 4. Deep Neural Networks\n",
    "\n",
    "Deep artificial neural networks are represented by the composition of **several hidden layers**. \n",
    "\n",
    "Researchers agree that deep learning involves more than two transformations from input to output **CAP> 2** [[Schmidhuber, 2014]](https://arxiv.org/pdf/1404.7828.pdf). \n",
    "\n",
    "\n",
    "$$\\begin{align}\n",
    "        \\hat{y} &= f(x) \\\\\n",
    "                &= f^{(n)}(\\dots f^{(2)}(f^{(1)}(x))) \\\\\n",
    "                &= \\sigma_n( W_n \\dots \\sigma_2(W_2 \\sigma_1(W_1 x + b_1) + b_2) \\dots + b_n)\n",
    "        \\end{align}\n",
    "          $$\n",
    "\n",
    "---"
   ]
  },
  {
   "cell_type": "markdown",
   "metadata": {},
   "source": [
    "## Deep Neural Networks with Keras and TensorFlow\n",
    "\n",
    "## 1. Load data\n",
    "\n",
    "#### Load libraries"
   ]
  },
  {
   "cell_type": "code",
   "execution_count": 1,
   "metadata": {
    "ExecuteTime": {
     "end_time": "2018-05-05T23:06:22.728201Z",
     "start_time": "2018-05-05T23:06:22.295494Z"
    },
    "collapsed": true
   },
   "outputs": [],
   "source": [
    "import numpy as np\n",
    "\n",
    "%matplotlib inline\n",
    "import matplotlib.pyplot as plt"
   ]
  },
  {
   "cell_type": "code",
   "execution_count": 2,
   "metadata": {
    "ExecuteTime": {
     "end_time": "2018-05-05T23:06:39.107272Z",
     "start_time": "2018-05-05T23:06:23.520425Z"
    }
   },
   "outputs": [
    {
     "name": "stderr",
     "output_type": "stream",
     "text": [
      "Using TensorFlow backend.\n"
     ]
    }
   ],
   "source": [
    "from keras.datasets import mnist\n",
    "from keras.models import Sequential\n",
    "from keras.layers import Dense\n",
    "from keras.utils.np_utils import to_categorical\n",
    "from keras.utils.vis_utils import plot_model"
   ]
  },
  {
   "cell_type": "markdown",
   "metadata": {},
   "source": [
    "#### Getting the data"
   ]
  },
  {
   "cell_type": "code",
   "execution_count": 3,
   "metadata": {
    "ExecuteTime": {
     "end_time": "2018-05-05T23:06:39.415126Z",
     "start_time": "2018-05-05T23:06:39.109475Z"
    },
    "collapsed": true
   },
   "outputs": [],
   "source": [
    "# load dataset\n",
    "(X_train, y_train), (X_test, y_test) = mnist.load_data()"
   ]
  },
  {
   "cell_type": "markdown",
   "metadata": {},
   "source": [
    "#### Explore visual data"
   ]
  },
  {
   "cell_type": "code",
   "execution_count": 4,
   "metadata": {
    "ExecuteTime": {
     "end_time": "2018-05-05T23:06:39.888197Z",
     "start_time": "2018-05-05T23:06:39.417282Z"
    }
   },
   "outputs": [
    {
     "data": {
      "image/png": "[encoded data removed]",
      "text/plain": [
       "<Figure size 432x288 with 10 Axes>"
      ]
     },
     "metadata": {},
     "output_type": "display_data"
    }
   ],
   "source": [
    "fig = plt.figure()\n",
    "for i in range(10):\n",
    "    plt.subplot(2, 5, i+1)\n",
    "    x_y = X_train[y_train == i]\n",
    "    plt.imshow(x_y[0], cmap='gray', interpolation='none')\n",
    "    plt.title(\"Class %d\" % (i))\n",
    "    plt.xticks([])\n",
    "    plt.yticks([])\n",
    "    \n",
    "plt.tight_layout()"
   ]
  },
  {
   "cell_type": "code",
   "execution_count": 5,
   "metadata": {
    "ExecuteTime": {
     "end_time": "2018-05-05T23:06:39.897256Z",
     "start_time": "2018-05-05T23:06:39.890248Z"
    }
   },
   "outputs": [
    {
     "name": "stdout",
     "output_type": "stream",
     "text": [
      "X_train.shape (60000, 28, 28)\n",
      "y_train.shape (60000,)\n",
      "X_test.shape (10000, 28, 28)\n",
      "y_train.shape (10000,)\n"
     ]
    }
   ],
   "source": [
    "print('X_train.shape', X_train.shape)\n",
    "print('y_train.shape', y_train.shape)\n",
    "print('X_test.shape', X_test.shape)\n",
    "print('y_train.shape', y_test.shape)"
   ]
  },
  {
   "cell_type": "markdown",
   "metadata": {},
   "source": [
    "#### Reshaping and normalizing the inputs"
   ]
  },
  {
   "cell_type": "code",
   "execution_count": 6,
   "metadata": {
    "ExecuteTime": {
     "end_time": "2018-05-05T23:06:40.114477Z",
     "start_time": "2018-05-05T23:06:39.899365Z"
    }
   },
   "outputs": [
    {
     "name": "stdout",
     "output_type": "stream",
     "text": [
      "X_train reshape: (60000, 784)\n",
      "X_test reshape: (10000, 784)\n"
     ]
    }
   ],
   "source": [
    "# reshaping the inputs\n",
    "X_train = X_train.reshape(60000, 28*28)\n",
    "X_test = X_test.reshape(10000, 28*28)\n",
    "# normalizing the inputs\n",
    "X_train = X_train.astype('float32') / 255.0\n",
    "X_test = X_test.astype('float32') / 255.0\n",
    "print('X_train reshape:', X_train.shape)\n",
    "print('X_test reshape:', X_test.shape)"
   ]
  },
  {
   "cell_type": "markdown",
   "metadata": {},
   "source": [
    "#### Convert class vectors to binary class matrices"
   ]
  },
  {
   "cell_type": "code",
   "execution_count": 7,
   "metadata": {
    "ExecuteTime": {
     "end_time": "2018-05-05T23:06:40.125417Z",
     "start_time": "2018-05-05T23:06:40.116562Z"
    }
   },
   "outputs": [
    {
     "name": "stdout",
     "output_type": "stream",
     "text": [
      "y_train_cat shape: (60000, 10)\n",
      "y_test_cat shape: (10000, 10)\n"
     ]
    }
   ],
   "source": [
    "# 10 classes\n",
    "y_train_cat = to_categorical(y_train, 10)\n",
    "y_test_cat = to_categorical(y_test, 10)\n",
    "print('y_train_cat shape:', y_train_cat.shape)\n",
    "print('y_test_cat shape:', y_test_cat.shape)"
   ]
  },
  {
   "cell_type": "markdown",
   "metadata": {},
   "source": [
    "## 2. Define model\n",
    "\n",
    "#### Add the input-, hidden- and output-layers"
   ]
  },
  {
   "cell_type": "code",
   "execution_count": 8,
   "metadata": {
    "ExecuteTime": {
     "end_time": "2018-05-05T23:06:45.049536Z",
     "start_time": "2018-05-05T23:06:44.997848Z"
    },
    "collapsed": true
   },
   "outputs": [],
   "source": [
    "# building a linear stack of layers with the sequential model\n",
    "model = Sequential()\n",
    "# Add the input layer and hidden layer 1\n",
    "model.add(Dense(128, input_shape=(784,), activation='relu'))\n",
    "# Add the hidden layer 2\n",
    "model.add(Dense(64, activation='relu'))\n",
    "# Add the output layer\n",
    "model.add(Dense(10, activation='softmax'))"
   ]
  },
  {
   "cell_type": "markdown",
   "metadata": {},
   "source": [
    "#### Model visualization"
   ]
  },
  {
   "cell_type": "code",
   "execution_count": 9,
   "metadata": {
    "ExecuteTime": {
     "end_time": "2018-05-05T23:06:52.448201Z",
     "start_time": "2018-05-05T23:06:48.276521Z"
    }
   },
   "outputs": [
    {
     "name": "stdout",
     "output_type": "stream",
     "text": [
      "_________________________________________________________________\n",
      "Layer (type)                 Output Shape              Param #   \n",
      "=================================================================\n",
      "dense_1 (Dense)              (None, 128)               100480    \n",
      "_________________________________________________________________\n",
      "dense_2 (Dense)              (None, 64)                8256      \n",
      "_________________________________________________________________\n",
      "dense_3 (Dense)              (None, 10)                650       \n",
      "=================================================================\n",
      "Total params: 109,386\n",
      "Trainable params: 109,386\n",
      "Non-trainable params: 0\n",
      "_________________________________________________________________\n"
     ]
    }
   ],
   "source": [
    "# plot a Keras model\n",
    "plot_model(model, to_file='img/model04_dnn.png',\n",
    "           show_shapes=True, show_layer_names=True)\n",
    "# prints a summary representation of your model\n",
    "model.summary()"
   ]
  },
  {
   "cell_type": "markdown",
   "metadata": {},
   "source": [
    "![Deep neural network](img/model04_dnn.png)"
   ]
  },
  {
   "cell_type": "markdown",
   "metadata": {},
   "source": [
    "## 3. Compile model"
   ]
  },
  {
   "cell_type": "code",
   "execution_count": 10,
   "metadata": {
    "ExecuteTime": {
     "end_time": "2018-05-05T22:14:56.728252Z",
     "start_time": "2018-05-05T22:14:56.690760Z"
    },
    "collapsed": true
   },
   "outputs": [],
   "source": [
    "# compiling the sequential model\n",
    "model.compile('rmsprop', loss='categorical_crossentropy',\n",
    "              metrics=['categorical_accuracy'])"
   ]
  },
  {
   "cell_type": "markdown",
   "metadata": {},
   "source": [
    "## 4. Fit model"
   ]
  },
  {
   "cell_type": "code",
   "execution_count": 11,
   "metadata": {
    "ExecuteTime": {
     "end_time": "2018-05-05T22:15:49.424187Z",
     "start_time": "2018-05-05T22:14:56.730213Z"
    }
   },
   "outputs": [
    {
     "name": "stdout",
     "output_type": "stream",
     "text": [
      "Train on 60000 samples, validate on 10000 samples\n",
      "Epoch 1/50\n",
      "1s - loss: 0.3734 - categorical_accuracy: 0.8971 - val_loss: 0.2105 - val_categorical_accuracy: 0.9360\n",
      "Epoch 2/50\n",
      "1s - loss: 0.1614 - categorical_accuracy: 0.9524 - val_loss: 0.1386 - val_categorical_accuracy: 0.9578\n",
      "Epoch 3/50\n",
      "1s - loss: 0.1128 - categorical_accuracy: 0.9669 - val_loss: 0.1076 - val_categorical_accuracy: 0.9669\n",
      "Epoch 4/50\n",
      "1s - loss: 0.0858 - categorical_accuracy: 0.9737 - val_loss: 0.0943 - val_categorical_accuracy: 0.9702\n",
      "Epoch 5/50\n",
      "1s - loss: 0.0691 - categorical_accuracy: 0.9791 - val_loss: 0.0827 - val_categorical_accuracy: 0.9738\n",
      "Epoch 6/50\n",
      "1s - loss: 0.0565 - categorical_accuracy: 0.9831 - val_loss: 0.0785 - val_categorical_accuracy: 0.9744\n",
      "Epoch 7/50\n",
      "1s - loss: 0.0474 - categorical_accuracy: 0.9856 - val_loss: 0.0829 - val_categorical_accuracy: 0.9738\n",
      "Epoch 8/50\n",
      "1s - loss: 0.0393 - categorical_accuracy: 0.9877 - val_loss: 0.0730 - val_categorical_accuracy: 0.9784\n",
      "Epoch 9/50\n",
      "1s - loss: 0.0328 - categorical_accuracy: 0.9900 - val_loss: 0.0905 - val_categorical_accuracy: 0.9734\n",
      "Epoch 10/50\n",
      "1s - loss: 0.0278 - categorical_accuracy: 0.9914 - val_loss: 0.0699 - val_categorical_accuracy: 0.9798\n",
      "Epoch 11/50\n",
      "1s - loss: 0.0243 - categorical_accuracy: 0.9930 - val_loss: 0.0768 - val_categorical_accuracy: 0.9780\n",
      "Epoch 12/50\n",
      "1s - loss: 0.0206 - categorical_accuracy: 0.9937 - val_loss: 0.0830 - val_categorical_accuracy: 0.9750\n",
      "Epoch 13/50\n",
      "1s - loss: 0.0172 - categorical_accuracy: 0.9950 - val_loss: 0.0806 - val_categorical_accuracy: 0.9796\n",
      "Epoch 14/50\n",
      "1s - loss: 0.0149 - categorical_accuracy: 0.9957 - val_loss: 0.0802 - val_categorical_accuracy: 0.9798\n",
      "Epoch 15/50\n",
      "1s - loss: 0.0127 - categorical_accuracy: 0.9961 - val_loss: 0.0849 - val_categorical_accuracy: 0.9795\n",
      "Epoch 16/50\n",
      "1s - loss: 0.0107 - categorical_accuracy: 0.9970 - val_loss: 0.0882 - val_categorical_accuracy: 0.9792\n",
      "Epoch 17/50\n",
      "1s - loss: 0.0091 - categorical_accuracy: 0.9976 - val_loss: 0.0900 - val_categorical_accuracy: 0.9782\n",
      "Epoch 18/50\n",
      "1s - loss: 0.0078 - categorical_accuracy: 0.9979 - val_loss: 0.0961 - val_categorical_accuracy: 0.9779\n",
      "Epoch 19/50\n",
      "1s - loss: 0.0073 - categorical_accuracy: 0.9980 - val_loss: 0.1027 - val_categorical_accuracy: 0.9779\n",
      "Epoch 20/50\n",
      "1s - loss: 0.0060 - categorical_accuracy: 0.9984 - val_loss: 0.0964 - val_categorical_accuracy: 0.9787\n",
      "Epoch 21/50\n",
      "1s - loss: 0.0053 - categorical_accuracy: 0.9986 - val_loss: 0.0951 - val_categorical_accuracy: 0.9803\n",
      "Epoch 22/50\n",
      "1s - loss: 0.0045 - categorical_accuracy: 0.9987 - val_loss: 0.0967 - val_categorical_accuracy: 0.9801\n",
      "Epoch 23/50\n",
      "1s - loss: 0.0036 - categorical_accuracy: 0.9990 - val_loss: 0.1035 - val_categorical_accuracy: 0.9800\n",
      "Epoch 24/50\n",
      "1s - loss: 0.0039 - categorical_accuracy: 0.9988 - val_loss: 0.1062 - val_categorical_accuracy: 0.9802\n",
      "Epoch 25/50\n",
      "1s - loss: 0.0034 - categorical_accuracy: 0.9991 - val_loss: 0.1110 - val_categorical_accuracy: 0.9782\n",
      "Epoch 26/50\n",
      "1s - loss: 0.0028 - categorical_accuracy: 0.9994 - val_loss: 0.1210 - val_categorical_accuracy: 0.9771\n",
      "Epoch 27/50\n",
      "1s - loss: 0.0027 - categorical_accuracy: 0.9993 - val_loss: 0.1132 - val_categorical_accuracy: 0.9792\n",
      "Epoch 28/50\n",
      "1s - loss: 0.0027 - categorical_accuracy: 0.9993 - val_loss: 0.1098 - val_categorical_accuracy: 0.9802\n",
      "Epoch 29/50\n",
      "1s - loss: 0.0028 - categorical_accuracy: 0.9993 - val_loss: 0.1130 - val_categorical_accuracy: 0.9803\n",
      "Epoch 30/50\n",
      "1s - loss: 0.0021 - categorical_accuracy: 0.9994 - val_loss: 0.1197 - val_categorical_accuracy: 0.9797\n",
      "Epoch 31/50\n",
      "1s - loss: 0.0020 - categorical_accuracy: 0.9995 - val_loss: 0.1215 - val_categorical_accuracy: 0.9793\n",
      "Epoch 32/50\n",
      "1s - loss: 0.0023 - categorical_accuracy: 0.9994 - val_loss: 0.1248 - val_categorical_accuracy: 0.9759\n",
      "Epoch 33/50\n",
      "1s - loss: 0.0014 - categorical_accuracy: 0.9997 - val_loss: 0.1236 - val_categorical_accuracy: 0.9798\n",
      "Epoch 34/50\n",
      "1s - loss: 0.0018 - categorical_accuracy: 0.9996 - val_loss: 0.1225 - val_categorical_accuracy: 0.9795\n",
      "Epoch 35/50\n",
      "1s - loss: 0.0015 - categorical_accuracy: 0.9996 - val_loss: 0.1199 - val_categorical_accuracy: 0.9806\n",
      "Epoch 36/50\n",
      "1s - loss: 0.0013 - categorical_accuracy: 0.9996 - val_loss: 0.1406 - val_categorical_accuracy: 0.9789\n",
      "Epoch 37/50\n",
      "1s - loss: 0.0017 - categorical_accuracy: 0.9995 - val_loss: 0.1261 - val_categorical_accuracy: 0.9796\n",
      "Epoch 38/50\n",
      "1s - loss: 0.0013 - categorical_accuracy: 0.9997 - val_loss: 0.1314 - val_categorical_accuracy: 0.9791\n",
      "Epoch 39/50\n",
      "1s - loss: 0.0012 - categorical_accuracy: 0.9997 - val_loss: 0.1311 - val_categorical_accuracy: 0.9794\n",
      "Epoch 40/50\n",
      "1s - loss: 0.0011 - categorical_accuracy: 0.9996 - val_loss: 0.1427 - val_categorical_accuracy: 0.9767\n",
      "Epoch 41/50\n",
      "1s - loss: 0.0011 - categorical_accuracy: 0.9997 - val_loss: 0.1339 - val_categorical_accuracy: 0.9796\n",
      "Epoch 42/50\n",
      "1s - loss: 0.0014 - categorical_accuracy: 0.9996 - val_loss: 0.1412 - val_categorical_accuracy: 0.9793\n",
      "Epoch 43/50\n",
      "1s - loss: 0.0010 - categorical_accuracy: 0.9998 - val_loss: 0.1475 - val_categorical_accuracy: 0.9783\n",
      "Epoch 44/50\n",
      "1s - loss: 9.0631e-04 - categorical_accuracy: 0.9998 - val_loss: 0.1518 - val_categorical_accuracy: 0.9761\n",
      "Epoch 45/50\n",
      "1s - loss: 0.0011 - categorical_accuracy: 0.9997 - val_loss: 0.1618 - val_categorical_accuracy: 0.9773\n",
      "Epoch 46/50\n",
      "1s - loss: 9.4950e-04 - categorical_accuracy: 0.9998 - val_loss: 0.1378 - val_categorical_accuracy: 0.9799\n",
      "Epoch 47/50\n",
      "1s - loss: 9.8652e-04 - categorical_accuracy: 0.9997 - val_loss: 0.1417 - val_categorical_accuracy: 0.9797\n",
      "Epoch 48/50\n",
      "1s - loss: 0.0011 - categorical_accuracy: 0.9998 - val_loss: 0.1440 - val_categorical_accuracy: 0.9796\n",
      "Epoch 49/50\n",
      "1s - loss: 9.6336e-04 - categorical_accuracy: 0.9997 - val_loss: 0.1364 - val_categorical_accuracy: 0.9789\n",
      "Epoch 50/50\n",
      "1s - loss: 5.1235e-04 - categorical_accuracy: 0.9999 - val_loss: 0.1427 - val_categorical_accuracy: 0.9790\n"
     ]
    }
   ],
   "source": [
    "# training the model and saving metrics in history\n",
    "history = model.fit(X_train, y_train_cat,\n",
    "                    batch_size=256, epochs=50,\n",
    "                    verbose=2,\n",
    "                    validation_data=(X_test, y_test_cat))"
   ]
  },
  {
   "cell_type": "markdown",
   "metadata": {},
   "source": [
    "## 5. Evaluate model"
   ]
  },
  {
   "cell_type": "code",
   "execution_count": 12,
   "metadata": {
    "ExecuteTime": {
     "end_time": "2018-05-05T22:15:49.766908Z",
     "start_time": "2018-05-05T22:15:49.426627Z"
    }
   },
   "outputs": [
    {
     "data": {
      "image/png": "[encoded data removed]",
      "text/plain": [
       "<Figure size 432x288 with 2 Axes>"
      ]
     },
     "metadata": {},
     "output_type": "display_data"
    }
   ],
   "source": [
    "# plotting the metrics\n",
    "fig = plt.figure()\n",
    "plt.subplot(2,1,1)\n",
    "plt.plot(history.history['categorical_accuracy'])\n",
    "plt.plot(history.history['val_categorical_accuracy'])\n",
    "plt.title('model accuracy')\n",
    "plt.ylabel('accuracy')\n",
    "plt.xlabel('epoch')\n",
    "plt.legend(['train', 'test'], loc='lower right')\n",
    "\n",
    "plt.subplot(2,1,2)\n",
    "plt.plot(history.history['loss'])\n",
    "plt.plot(history.history['val_loss'])\n",
    "plt.title('model loss')\n",
    "plt.ylabel('loss')\n",
    "plt.xlabel('epoch')\n",
    "plt.legend(['train', 'test'], loc='upper right')\n",
    "\n",
    "plt.tight_layout()"
   ]
  },
  {
   "cell_type": "code",
   "execution_count": 13,
   "metadata": {
    "ExecuteTime": {
     "end_time": "2018-05-05T22:15:50.190518Z",
     "start_time": "2018-05-05T22:15:49.769080Z"
    }
   },
   "outputs": [
    {
     "name": "stdout",
     "output_type": "stream",
     "text": [
      " 9792/10000 [============================>.] - ETA: 0sEvaluation result on Test Data:\n",
      "Loss = 0.1427272545053101\n",
      "Accuracy = 0.979\n"
     ]
    }
   ],
   "source": [
    "# evaluate model on test data\n",
    "[test_loss, test_acc] = model.evaluate(X_test, y_test_cat)\n",
    "print(\"Evaluation result on Test Data:\\nLoss = {}\\nAccuracy = {}\".format(test_loss, test_acc))"
   ]
  },
  {
   "cell_type": "markdown",
   "metadata": {},
   "source": [
    "## References\n",
    "\n",
    "* [Deep Learning Book](http://www.deeplearningbook.org)\n",
    "\n",
    "* [Zero to Deep Learning™ Udemy Video Course](https://github.com/dataweekends/zero_to_deep_learning_udemy)\n",
    "\n",
    "* [THE MNIST DATABASE](http://yann.lecun.com/exdb/mnist/)"
   ]
  }
 ],
 "metadata": {
  "kernelspec": {
   "display_name": "Python 3",
   "language": "python",
   "name": "python3"
  },
  "language_info": {
   "codemirror_mode": {
    "name": "ipython",
    "version": 3
   },
   "file_extension": ".py",
   "mimetype": "text/x-python",
   "name": "python",
   "nbconvert_exporter": "python",
   "pygments_lexer": "ipython3",
   "version": "3.6.5"
  }
 },
 "nbformat": 4,
 "nbformat_minor": 2
}
