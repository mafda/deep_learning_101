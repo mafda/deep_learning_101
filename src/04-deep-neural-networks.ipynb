{
 "cells": [
  {
   "cell_type": "markdown",
   "metadata": {},
   "source": [
    "# Deep Learning 101\n",
    "\n",
    "This notebook presents the basics concepts that involve the concept of Deep Learning.\n",
    "\n",
    "1. Linear Regression\n",
    "2. Logistic Regression\n",
    "3. Artificial Neural Networks\n",
    "4. **Deep Neural Networks**\n",
    "5. Convolutional Neural Networks\n",
    "\n",
    "## 4. Deep Neural Networks\n",
    "\n",
    "Deep artificial neural networks are represented by the composition of **several hidden layers**. \n",
    "\n",
    "Researchers agree that deep learning involves more than two transformations from input to output **CAP> 2** [[Schmidhuber, 2014]](https://arxiv.org/pdf/1404.7828.pdf). \n",
    "\n",
    "\n",
    "$$\\begin{align}\n",
    "        \\hat{y} &= f(x) \\\\\n",
    "                &= f^{(n)}(\\dots f^{(2)}(f^{(1)}(x))) \\\\\n",
    "                &= \\sigma_n( W_n \\dots \\sigma_2(W_2 \\sigma_1(W_1 x + b_1) + b_2) \\dots + b_n)\n",
    "        \\end{align}\n",
    "          $$"
   ]
  },
  {
   "cell_type": "markdown",
   "metadata": {},
   "source": [
    "## Deep Neural Networks with Keras and TensorFlow\n",
    "\n",
    "## 1. Load data\n",
    "\n",
    "#### Load libraries"
   ]
  },
  {
   "cell_type": "code",
   "execution_count": 1,
   "metadata": {
    "ExecuteTime": {
     "end_time": "2018-05-05T23:06:22.728201Z",
     "start_time": "2018-05-05T23:06:22.295494Z"
    }
   },
   "outputs": [
    {
     "name": "stderr",
     "output_type": "stream",
     "text": [
      "2023-10-16 14:51:59.708614: I tensorflow/core/platform/cpu_feature_guard.cc:193] This TensorFlow binary is optimized with oneAPI Deep Neural Network Library (oneDNN) to use the following CPU instructions in performance-critical operations:  SSE4.1 SSE4.2 AVX AVX2 AVX_VNNI FMA\n",
      "To enable them in other operations, rebuild TensorFlow with the appropriate compiler flags.\n",
      "2023-10-16 14:51:59.741908: I tensorflow/core/util/util.cc:169] oneDNN custom operations are on. You may see slightly different numerical results due to floating-point round-off errors from different computation orders. To turn them off, set the environment variable `TF_ENABLE_ONEDNN_OPTS=0`.\n"
     ]
    }
   ],
   "source": [
    "import matplotlib.pyplot as plt\n",
    "import numpy as np\n",
    "import tensorflow as tf\n",
    "\n",
    "np.random.seed(12049)\n"
   ]
  },
  {
   "cell_type": "markdown",
   "metadata": {},
   "source": [
    "#### Getting the data"
   ]
  },
  {
   "cell_type": "code",
   "execution_count": 2,
   "metadata": {
    "ExecuteTime": {
     "end_time": "2018-05-05T23:06:39.415126Z",
     "start_time": "2018-05-05T23:06:39.109475Z"
    }
   },
   "outputs": [],
   "source": [
    "# load dataset\n",
    "(X_train, y_train), (X_test, y_test) = tf.keras.datasets.mnist.load_data()\n"
   ]
  },
  {
   "cell_type": "markdown",
   "metadata": {},
   "source": [
    "#### Explore visual data"
   ]
  },
  {
   "cell_type": "code",
   "execution_count": 3,
   "metadata": {
    "ExecuteTime": {
     "end_time": "2018-05-05T23:06:39.888197Z",
     "start_time": "2018-05-05T23:06:39.417282Z"
    }
   },
   "outputs": [
    {
     "data": {
      "image/png": "[encoded data removed]",
      "text/plain": [
       "<Figure size 640x480 with 10 Axes>"
      ]
     },
     "metadata": {},
     "output_type": "display_data"
    }
   ],
   "source": [
    "fig = plt.figure()\n",
    "for i in range(10):\n",
    "    plt.subplot(2, 5, i+1)\n",
    "    x_y = X_train[y_train == i]\n",
    "    plt.imshow(x_y[0], cmap='gray', interpolation='none')\n",
    "    plt.title(\"Class %d\" % (i))\n",
    "    plt.xticks([])\n",
    "    plt.yticks([])\n",
    "    \n",
    "plt.tight_layout()\n"
   ]
  },
  {
   "cell_type": "code",
   "execution_count": 4,
   "metadata": {
    "ExecuteTime": {
     "end_time": "2018-05-05T23:06:39.897256Z",
     "start_time": "2018-05-05T23:06:39.890248Z"
    }
   },
   "outputs": [
    {
     "name": "stdout",
     "output_type": "stream",
     "text": [
      "X_train.shape (60000, 28, 28)\n",
      "y_train.shape (60000,)\n",
      "X_test.shape (10000, 28, 28)\n",
      "y_train.shape (10000,)\n"
     ]
    }
   ],
   "source": [
    "print('X_train.shape', X_train.shape)\n",
    "print('y_train.shape', y_train.shape)\n",
    "print('X_test.shape', X_test.shape)\n",
    "print('y_train.shape', y_test.shape)\n"
   ]
  },
  {
   "cell_type": "markdown",
   "metadata": {},
   "source": [
    "#### Reshaping and normalizing the inputs"
   ]
  },
  {
   "cell_type": "code",
   "execution_count": 5,
   "metadata": {
    "ExecuteTime": {
     "end_time": "2018-05-05T23:06:40.114477Z",
     "start_time": "2018-05-05T23:06:39.899365Z"
    }
   },
   "outputs": [
    {
     "name": "stdout",
     "output_type": "stream",
     "text": [
      "X_train reshape: (60000, 784)\n",
      "X_test reshape: (10000, 784)\n"
     ]
    }
   ],
   "source": [
    "# reshaping the inputs\n",
    "X_train = X_train.reshape(60000, 28*28)\n",
    "X_test = X_test.reshape(10000, 28*28)\n",
    "\n",
    "# normalizing the inputs\n",
    "X_train = X_train.astype('float32') / 255.0\n",
    "X_test = X_test.astype('float32') / 255.0\n",
    "print('X_train reshape:', X_train.shape)\n",
    "print('X_test reshape:', X_test.shape)\n"
   ]
  },
  {
   "cell_type": "markdown",
   "metadata": {},
   "source": [
    "#### Convert class vectors to binary class matrices"
   ]
  },
  {
   "cell_type": "code",
   "execution_count": 6,
   "metadata": {
    "ExecuteTime": {
     "end_time": "2018-05-05T23:06:40.125417Z",
     "start_time": "2018-05-05T23:06:40.116562Z"
    }
   },
   "outputs": [
    {
     "name": "stdout",
     "output_type": "stream",
     "text": [
      "y_train_cat shape: (60000, 10)\n",
      "y_test_cat shape: (10000, 10)\n"
     ]
    }
   ],
   "source": [
    "# 10 classes\n",
    "y_train_cat = tf.keras.utils.to_categorical(y_train, 10)\n",
    "y_test_cat = tf.keras.utils.to_categorical(y_test, 10)\n",
    "print('y_train_cat shape:', y_train_cat.shape)\n",
    "print('y_test_cat shape:', y_test_cat.shape)\n"
   ]
  },
  {
   "cell_type": "markdown",
   "metadata": {},
   "source": [
    "## 2. Define model\n",
    "\n",
    "#### Add the input-, hidden- and output-layers"
   ]
  },
  {
   "cell_type": "code",
   "execution_count": 7,
   "metadata": {
    "ExecuteTime": {
     "end_time": "2018-05-05T23:06:45.049536Z",
     "start_time": "2018-05-05T23:06:44.997848Z"
    }
   },
   "outputs": [
    {
     "name": "stderr",
     "output_type": "stream",
     "text": [
      "2023-10-16 14:52:00.832823: I tensorflow/stream_executor/cuda/cuda_gpu_executor.cc:980] successful NUMA node read from SysFS had negative value (-1), but there must be at least one NUMA node, so returning NUMA node zero\n",
      "2023-10-16 14:52:00.847219: I tensorflow/stream_executor/cuda/cuda_gpu_executor.cc:980] successful NUMA node read from SysFS had negative value (-1), but there must be at least one NUMA node, so returning NUMA node zero\n",
      "2023-10-16 14:52:00.847334: I tensorflow/stream_executor/cuda/cuda_gpu_executor.cc:980] successful NUMA node read from SysFS had negative value (-1), but there must be at least one NUMA node, so returning NUMA node zero\n",
      "2023-10-16 14:52:00.847864: I tensorflow/core/platform/cpu_feature_guard.cc:193] This TensorFlow binary is optimized with oneAPI Deep Neural Network Library (oneDNN) to use the following CPU instructions in performance-critical operations:  SSE4.1 SSE4.2 AVX AVX2 AVX_VNNI FMA\n",
      "To enable them in other operations, rebuild TensorFlow with the appropriate compiler flags.\n",
      "2023-10-16 14:52:00.849093: I tensorflow/stream_executor/cuda/cuda_gpu_executor.cc:980] successful NUMA node read from SysFS had negative value (-1), but there must be at least one NUMA node, so returning NUMA node zero\n",
      "2023-10-16 14:52:00.849185: I tensorflow/stream_executor/cuda/cuda_gpu_executor.cc:980] successful NUMA node read from SysFS had negative value (-1), but there must be at least one NUMA node, so returning NUMA node zero\n",
      "2023-10-16 14:52:00.849239: I tensorflow/stream_executor/cuda/cuda_gpu_executor.cc:980] successful NUMA node read from SysFS had negative value (-1), but there must be at least one NUMA node, so returning NUMA node zero\n",
      "2023-10-16 14:52:00.899468: I tensorflow/stream_executor/cuda/cuda_gpu_executor.cc:980] successful NUMA node read from SysFS had negative value (-1), but there must be at least one NUMA node, so returning NUMA node zero\n",
      "2023-10-16 14:52:00.899588: I tensorflow/stream_executor/cuda/cuda_gpu_executor.cc:980] successful NUMA node read from SysFS had negative value (-1), but there must be at least one NUMA node, so returning NUMA node zero\n",
      "2023-10-16 14:52:00.899645: I tensorflow/stream_executor/cuda/cuda_gpu_executor.cc:980] successful NUMA node read from SysFS had negative value (-1), but there must be at least one NUMA node, so returning NUMA node zero\n",
      "2023-10-16 14:52:00.899703: I tensorflow/core/common_runtime/gpu/gpu_device.cc:1616] Created device /job:localhost/replica:0/task:0/device:GPU:0 with 14030 MB memory:  -> device: 0, name: NVIDIA GeForce RTX 3080 Ti Laptop GPU, pci bus id: 0000:01:00.0, compute capability: 8.6\n"
     ]
    }
   ],
   "source": [
    "# building a linear stack of layers with the sequential model\n",
    "model = tf.keras.models.Sequential()\n",
    "\n",
    "# Add the input layer and hidden layer 1\n",
    "model.add(\n",
    "    tf.keras.layers.Dense(\n",
    "        128, \n",
    "        input_shape=(784,), \n",
    "        activation='relu'\n",
    "    )\n",
    ")\n",
    "\n",
    "# Add the hidden layer 2\n",
    "model.add(\n",
    "    tf.keras.layers.Dense(\n",
    "        64, \n",
    "        activation='relu'\n",
    "    )\n",
    ")\n",
    "\n",
    "# Add the output layer\n",
    "model.add(tf.keras.layers.Dense(10, activation='softmax'))\n"
   ]
  },
  {
   "cell_type": "markdown",
   "metadata": {},
   "source": [
    "#### Model visualization"
   ]
  },
  {
   "cell_type": "code",
   "execution_count": 8,
   "metadata": {
    "ExecuteTime": {
     "end_time": "2018-05-05T23:06:52.448201Z",
     "start_time": "2018-05-05T23:06:48.276521Z"
    }
   },
   "outputs": [
    {
     "name": "stdout",
     "output_type": "stream",
     "text": [
      "Model: \"sequential\"\n",
      "_________________________________________________________________\n",
      " Layer (type)                Output Shape              Param #   \n",
      "=================================================================\n",
      " dense (Dense)               (None, 128)               100480    \n",
      "                                                                 \n",
      " dense_1 (Dense)             (None, 64)                8256      \n",
      "                                                                 \n",
      " dense_2 (Dense)             (None, 10)                650       \n",
      "                                                                 \n",
      "=================================================================\n",
      "Total params: 109,386\n",
      "Trainable params: 109,386\n",
      "Non-trainable params: 0\n",
      "_________________________________________________________________\n"
     ]
    }
   ],
   "source": [
    "# plot a Keras model\n",
    "tf.keras.utils.plot_model(\n",
    "    model, \n",
    "    to_file='img/model04_dnn.png',\n",
    "    show_shapes=True, \n",
    "    show_layer_names=True\n",
    ")\n",
    "\n",
    "# prints a summary representation of your model\n",
    "model.summary()\n"
   ]
  },
  {
   "cell_type": "markdown",
   "metadata": {},
   "source": [
    "![Deep neural network](img/model04_dnn.png)"
   ]
  },
  {
   "cell_type": "markdown",
   "metadata": {},
   "source": [
    "## 3. Compile model"
   ]
  },
  {
   "cell_type": "code",
   "execution_count": 9,
   "metadata": {
    "ExecuteTime": {
     "end_time": "2018-05-05T22:14:56.728252Z",
     "start_time": "2018-05-05T22:14:56.690760Z"
    }
   },
   "outputs": [],
   "source": [
    "# compiling the sequential model\n",
    "model.compile(\n",
    "    'rmsprop', \n",
    "    loss='categorical_crossentropy',\n",
    "    metrics=['categorical_accuracy']\n",
    ")\n"
   ]
  },
  {
   "cell_type": "markdown",
   "metadata": {},
   "source": [
    "## 4. Fit model"
   ]
  },
  {
   "cell_type": "code",
   "execution_count": 10,
   "metadata": {
    "ExecuteTime": {
     "end_time": "2018-05-05T22:15:49.424187Z",
     "start_time": "2018-05-05T22:14:56.730213Z"
    }
   },
   "outputs": [
    {
     "name": "stdout",
     "output_type": "stream",
     "text": [
      "Epoch 1/50\n"
     ]
    },
    {
     "name": "stderr",
     "output_type": "stream",
     "text": [
      "2023-10-16 14:52:01.397554: I tensorflow/stream_executor/cuda/cuda_blas.cc:1614] TensorFloat-32 will be used for the matrix multiplication. This will only be logged once.\n"
     ]
    },
    {
     "name": "stdout",
     "output_type": "stream",
     "text": [
      "235/235 - 1s - loss: 0.3899 - categorical_accuracy: 0.8908 - val_loss: 0.2144 - val_categorical_accuracy: 0.9360 - 568ms/epoch - 2ms/step\n",
      "Epoch 2/50\n",
      "235/235 - 0s - loss: 0.1674 - categorical_accuracy: 0.9509 - val_loss: 0.1474 - val_categorical_accuracy: 0.9527 - 270ms/epoch - 1ms/step\n",
      "Epoch 3/50\n",
      "235/235 - 0s - loss: 0.1161 - categorical_accuracy: 0.9659 - val_loss: 0.1100 - val_categorical_accuracy: 0.9667 - 279ms/epoch - 1ms/step\n",
      "Epoch 4/50\n",
      "235/235 - 0s - loss: 0.0879 - categorical_accuracy: 0.9738 - val_loss: 0.0955 - val_categorical_accuracy: 0.9702 - 271ms/epoch - 1ms/step\n",
      "Epoch 5/50\n",
      "235/235 - 0s - loss: 0.0702 - categorical_accuracy: 0.9784 - val_loss: 0.0810 - val_categorical_accuracy: 0.9765 - 279ms/epoch - 1ms/step\n",
      "Epoch 6/50\n",
      "235/235 - 0s - loss: 0.0576 - categorical_accuracy: 0.9827 - val_loss: 0.0888 - val_categorical_accuracy: 0.9728 - 289ms/epoch - 1ms/step\n",
      "Epoch 7/50\n",
      "235/235 - 0s - loss: 0.0476 - categorical_accuracy: 0.9857 - val_loss: 0.0737 - val_categorical_accuracy: 0.9772 - 271ms/epoch - 1ms/step\n",
      "Epoch 8/50\n",
      "235/235 - 0s - loss: 0.0404 - categorical_accuracy: 0.9877 - val_loss: 0.0717 - val_categorical_accuracy: 0.9786 - 280ms/epoch - 1ms/step\n",
      "Epoch 9/50\n",
      "235/235 - 0s - loss: 0.0339 - categorical_accuracy: 0.9899 - val_loss: 0.0784 - val_categorical_accuracy: 0.9773 - 285ms/epoch - 1ms/step\n",
      "Epoch 10/50\n",
      "235/235 - 0s - loss: 0.0287 - categorical_accuracy: 0.9910 - val_loss: 0.0800 - val_categorical_accuracy: 0.9769 - 264ms/epoch - 1ms/step\n",
      "Epoch 11/50\n",
      "235/235 - 0s - loss: 0.0234 - categorical_accuracy: 0.9931 - val_loss: 0.0760 - val_categorical_accuracy: 0.9786 - 284ms/epoch - 1ms/step\n",
      "Epoch 12/50\n",
      "235/235 - 0s - loss: 0.0198 - categorical_accuracy: 0.9941 - val_loss: 0.0667 - val_categorical_accuracy: 0.9816 - 289ms/epoch - 1ms/step\n",
      "Epoch 13/50\n",
      "235/235 - 0s - loss: 0.0170 - categorical_accuracy: 0.9945 - val_loss: 0.0698 - val_categorical_accuracy: 0.9815 - 277ms/epoch - 1ms/step\n",
      "Epoch 14/50\n",
      "235/235 - 0s - loss: 0.0142 - categorical_accuracy: 0.9956 - val_loss: 0.0778 - val_categorical_accuracy: 0.9796 - 285ms/epoch - 1ms/step\n",
      "Epoch 15/50\n",
      "235/235 - 0s - loss: 0.0122 - categorical_accuracy: 0.9963 - val_loss: 0.0843 - val_categorical_accuracy: 0.9789 - 307ms/epoch - 1ms/step\n",
      "Epoch 16/50\n",
      "235/235 - 0s - loss: 0.0106 - categorical_accuracy: 0.9969 - val_loss: 0.0799 - val_categorical_accuracy: 0.9805 - 286ms/epoch - 1ms/step\n",
      "Epoch 17/50\n",
      "235/235 - 0s - loss: 0.0091 - categorical_accuracy: 0.9975 - val_loss: 0.0841 - val_categorical_accuracy: 0.9800 - 272ms/epoch - 1ms/step\n",
      "Epoch 18/50\n",
      "235/235 - 0s - loss: 0.0074 - categorical_accuracy: 0.9977 - val_loss: 0.0903 - val_categorical_accuracy: 0.9788 - 282ms/epoch - 1ms/step\n",
      "Epoch 19/50\n",
      "235/235 - 0s - loss: 0.0065 - categorical_accuracy: 0.9982 - val_loss: 0.0869 - val_categorical_accuracy: 0.9791 - 276ms/epoch - 1ms/step\n",
      "Epoch 20/50\n",
      "235/235 - 0s - loss: 0.0059 - categorical_accuracy: 0.9985 - val_loss: 0.0848 - val_categorical_accuracy: 0.9812 - 272ms/epoch - 1ms/step\n",
      "Epoch 21/50\n",
      "235/235 - 0s - loss: 0.0049 - categorical_accuracy: 0.9985 - val_loss: 0.0950 - val_categorical_accuracy: 0.9795 - 289ms/epoch - 1ms/step\n",
      "Epoch 22/50\n",
      "235/235 - 0s - loss: 0.0041 - categorical_accuracy: 0.9988 - val_loss: 0.0933 - val_categorical_accuracy: 0.9808 - 271ms/epoch - 1ms/step\n",
      "Epoch 23/50\n",
      "235/235 - 0s - loss: 0.0035 - categorical_accuracy: 0.9991 - val_loss: 0.0967 - val_categorical_accuracy: 0.9805 - 284ms/epoch - 1ms/step\n",
      "Epoch 24/50\n",
      "235/235 - 0s - loss: 0.0035 - categorical_accuracy: 0.9990 - val_loss: 0.0973 - val_categorical_accuracy: 0.9802 - 288ms/epoch - 1ms/step\n",
      "Epoch 25/50\n",
      "235/235 - 0s - loss: 0.0027 - categorical_accuracy: 0.9994 - val_loss: 0.1032 - val_categorical_accuracy: 0.9790 - 296ms/epoch - 1ms/step\n",
      "Epoch 26/50\n",
      "235/235 - 0s - loss: 0.0028 - categorical_accuracy: 0.9992 - val_loss: 0.1055 - val_categorical_accuracy: 0.9802 - 289ms/epoch - 1ms/step\n",
      "Epoch 27/50\n",
      "235/235 - 0s - loss: 0.0020 - categorical_accuracy: 0.9995 - val_loss: 0.1152 - val_categorical_accuracy: 0.9810 - 295ms/epoch - 1ms/step\n",
      "Epoch 28/50\n",
      "235/235 - 0s - loss: 0.0020 - categorical_accuracy: 0.9994 - val_loss: 0.1052 - val_categorical_accuracy: 0.9815 - 295ms/epoch - 1ms/step\n",
      "Epoch 29/50\n",
      "235/235 - 0s - loss: 0.0017 - categorical_accuracy: 0.9995 - val_loss: 0.1190 - val_categorical_accuracy: 0.9783 - 273ms/epoch - 1ms/step\n",
      "Epoch 30/50\n",
      "235/235 - 0s - loss: 0.0021 - categorical_accuracy: 0.9993 - val_loss: 0.1225 - val_categorical_accuracy: 0.9805 - 293ms/epoch - 1ms/step\n",
      "Epoch 31/50\n",
      "235/235 - 0s - loss: 0.0016 - categorical_accuracy: 0.9995 - val_loss: 0.1276 - val_categorical_accuracy: 0.9783 - 282ms/epoch - 1ms/step\n",
      "Epoch 32/50\n",
      "235/235 - 0s - loss: 0.0015 - categorical_accuracy: 0.9996 - val_loss: 0.1275 - val_categorical_accuracy: 0.9797 - 301ms/epoch - 1ms/step\n",
      "Epoch 33/50\n",
      "235/235 - 0s - loss: 0.0013 - categorical_accuracy: 0.9996 - val_loss: 0.1226 - val_categorical_accuracy: 0.9800 - 275ms/epoch - 1ms/step\n",
      "Epoch 34/50\n",
      "235/235 - 0s - loss: 9.7597e-04 - categorical_accuracy: 0.9998 - val_loss: 0.1243 - val_categorical_accuracy: 0.9803 - 288ms/epoch - 1ms/step\n",
      "Epoch 35/50\n",
      "235/235 - 0s - loss: 8.3455e-04 - categorical_accuracy: 0.9998 - val_loss: 0.1443 - val_categorical_accuracy: 0.9797 - 281ms/epoch - 1ms/step\n",
      "Epoch 36/50\n",
      "235/235 - 0s - loss: 0.0010 - categorical_accuracy: 0.9997 - val_loss: 0.1266 - val_categorical_accuracy: 0.9801 - 266ms/epoch - 1ms/step\n",
      "Epoch 37/50\n",
      "235/235 - 0s - loss: 0.0016 - categorical_accuracy: 0.9995 - val_loss: 0.1312 - val_categorical_accuracy: 0.9800 - 272ms/epoch - 1ms/step\n",
      "Epoch 38/50\n",
      "235/235 - 0s - loss: 7.7000e-04 - categorical_accuracy: 0.9998 - val_loss: 0.1375 - val_categorical_accuracy: 0.9802 - 276ms/epoch - 1ms/step\n",
      "Epoch 39/50\n",
      "235/235 - 0s - loss: 0.0011 - categorical_accuracy: 0.9997 - val_loss: 0.1382 - val_categorical_accuracy: 0.9798 - 271ms/epoch - 1ms/step\n",
      "Epoch 40/50\n",
      "235/235 - 0s - loss: 8.6661e-04 - categorical_accuracy: 0.9998 - val_loss: 0.1405 - val_categorical_accuracy: 0.9801 - 276ms/epoch - 1ms/step\n",
      "Epoch 41/50\n",
      "235/235 - 0s - loss: 9.6434e-04 - categorical_accuracy: 0.9997 - val_loss: 0.1362 - val_categorical_accuracy: 0.9811 - 304ms/epoch - 1ms/step\n",
      "Epoch 42/50\n",
      "235/235 - 0s - loss: 5.9304e-04 - categorical_accuracy: 0.9998 - val_loss: 0.1426 - val_categorical_accuracy: 0.9807 - 298ms/epoch - 1ms/step\n",
      "Epoch 43/50\n",
      "235/235 - 0s - loss: 9.5519e-04 - categorical_accuracy: 0.9997 - val_loss: 0.1493 - val_categorical_accuracy: 0.9814 - 292ms/epoch - 1ms/step\n",
      "Epoch 44/50\n",
      "235/235 - 0s - loss: 5.0944e-04 - categorical_accuracy: 0.9999 - val_loss: 0.1421 - val_categorical_accuracy: 0.9809 - 299ms/epoch - 1ms/step\n",
      "Epoch 45/50\n",
      "235/235 - 0s - loss: 9.7030e-04 - categorical_accuracy: 0.9996 - val_loss: 0.1542 - val_categorical_accuracy: 0.9802 - 279ms/epoch - 1ms/step\n",
      "Epoch 46/50\n",
      "235/235 - 0s - loss: 7.5262e-04 - categorical_accuracy: 0.9997 - val_loss: 0.1547 - val_categorical_accuracy: 0.9800 - 279ms/epoch - 1ms/step\n",
      "Epoch 47/50\n",
      "235/235 - 0s - loss: 3.6402e-04 - categorical_accuracy: 0.9998 - val_loss: 0.1552 - val_categorical_accuracy: 0.9798 - 275ms/epoch - 1ms/step\n",
      "Epoch 48/50\n",
      "235/235 - 0s - loss: 4.5838e-04 - categorical_accuracy: 0.9999 - val_loss: 0.1639 - val_categorical_accuracy: 0.9808 - 280ms/epoch - 1ms/step\n",
      "Epoch 49/50\n",
      "235/235 - 0s - loss: 2.4638e-04 - categorical_accuracy: 0.9999 - val_loss: 0.1777 - val_categorical_accuracy: 0.9776 - 270ms/epoch - 1ms/step\n",
      "Epoch 50/50\n",
      "235/235 - 0s - loss: 7.2706e-04 - categorical_accuracy: 0.9998 - val_loss: 0.1590 - val_categorical_accuracy: 0.9802 - 278ms/epoch - 1ms/step\n"
     ]
    }
   ],
   "source": [
    "# training the model and saving metrics in history\n",
    "history = model.fit(\n",
    "    X_train, \n",
    "    y_train_cat,\n",
    "    batch_size=256, \n",
    "    epochs=50,\n",
    "    verbose=2,\n",
    "    validation_data=(X_test, y_test_cat)\n",
    ")\n"
   ]
  },
  {
   "cell_type": "markdown",
   "metadata": {},
   "source": [
    "## 5. Evaluate model"
   ]
  },
  {
   "cell_type": "code",
   "execution_count": 11,
   "metadata": {
    "ExecuteTime": {
     "end_time": "2018-05-05T22:15:49.766908Z",
     "start_time": "2018-05-05T22:15:49.426627Z"
    }
   },
   "outputs": [
    {
     "data": {
      "image/png": "[encoded data removed]",
      "text/plain": [
       "<Figure size 640x480 with 2 Axes>"
      ]
     },
     "metadata": {},
     "output_type": "display_data"
    }
   ],
   "source": [
    "# plotting the metrics\n",
    "fig = plt.figure()\n",
    "plt.subplot(2,1,1)\n",
    "plt.plot(history.history['categorical_accuracy'])\n",
    "plt.plot(history.history['val_categorical_accuracy'])\n",
    "plt.title('model accuracy')\n",
    "plt.ylabel('accuracy')\n",
    "plt.xlabel('epoch')\n",
    "plt.legend(['train', 'test'], loc='lower right')\n",
    "\n",
    "plt.subplot(2,1,2)\n",
    "plt.plot(history.history['loss'])\n",
    "plt.plot(history.history['val_loss'])\n",
    "plt.title('model loss')\n",
    "plt.ylabel('loss')\n",
    "plt.xlabel('epoch')\n",
    "plt.legend(['train', 'test'], loc='upper right')\n",
    "\n",
    "plt.tight_layout()\n"
   ]
  },
  {
   "cell_type": "code",
   "execution_count": 12,
   "metadata": {
    "ExecuteTime": {
     "end_time": "2018-05-05T22:15:50.190518Z",
     "start_time": "2018-05-05T22:15:49.769080Z"
    }
   },
   "outputs": [
    {
     "name": "stdout",
     "output_type": "stream",
     "text": [
      "313/313 [==============================] - 0s 734us/step - loss: 0.1591 - categorical_accuracy: 0.9802\n",
      "Evaluation result on Test Data:\n",
      "Loss = 0.15905721485614777\n",
      "Accuracy = 0.9801999926567078\n"
     ]
    }
   ],
   "source": [
    "# evaluate model on test data\n",
    "[test_loss, test_acc] = model.evaluate(X_test, y_test_cat)\n",
    "print(\n",
    "    \"Evaluation result on Test Data:\\nLoss = {}\\nAccuracy = {}\".format(\n",
    "        test_loss, test_acc\n",
    "    )\n",
    ")\n"
   ]
  },
  {
   "cell_type": "markdown",
   "metadata": {},
   "source": [
    "## References\n",
    "\n",
    "* [Deep Learning Book](http://www.deeplearningbook.org)\n",
    "\n",
    "* [Zero to Deep Learning™ Udemy Video Course](https://github.com/dataweekends/zero_to_deep_learning_udemy)\n",
    "\n",
    "* [THE MNIST DATABASE](http://yann.lecun.com/exdb/mnist/)"
   ]
  }
 ],
 "metadata": {
  "kernelspec": {
   "display_name": "Python 3 (ipykernel)",
   "language": "python",
   "name": "python3"
  },
  "language_info": {
   "codemirror_mode": {
    "name": "ipython",
    "version": 3
   },
   "file_extension": ".py",
   "mimetype": "text/x-python",
   "name": "python",
   "nbconvert_exporter": "python",
   "pygments_lexer": "ipython3",
   "version": "3.10.8"
  }
 },
 "nbformat": 4,
 "nbformat_minor": 2
}
