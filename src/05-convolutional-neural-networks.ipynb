{
 "cells": [
  {
   "cell_type": "markdown",
   "metadata": {},
   "source": [
    "# Deep Learning 101\n",
    "\n",
    "This notebook presents the basics concepts that involve the concept of Deep Learning.\n",
    "\n",
    "1. Linear Regression\n",
    "* Logistic Regression\n",
    "* Artificial Neural Networks\n",
    "* Deep Neural Networks\n",
    "* **Convolutional Neural Networks**\n",
    "\n",
    "## 4. Convolutional Neural Networks\n",
    "\n",
    "Convolutional networks are simply neural networks that use convolution in place of general matrix multiplication in at least one of their layers.\n",
    "\n",
    "---"
   ]
  },
  {
   "cell_type": "markdown",
   "metadata": {},
   "source": [
    "## Convolutional Neural Networks with Keras and TensorFlow\n",
    "\n",
    "## 1. Load data\n",
    "\n",
    "#### Load libraries"
   ]
  },
  {
   "cell_type": "code",
   "execution_count": 2,
   "metadata": {
    "ExecuteTime": {
     "end_time": "2018-05-05T23:02:23.319377Z",
     "start_time": "2018-05-05T23:02:23.311356Z"
    },
    "collapsed": true
   },
   "outputs": [],
   "source": [
    "import numpy as np\n",
    "\n",
    "%matplotlib inline\n",
    "import matplotlib.pyplot as plt"
   ]
  },
  {
   "cell_type": "code",
   "execution_count": 3,
   "metadata": {
    "ExecuteTime": {
     "end_time": "2018-05-05T23:03:05.771993Z",
     "start_time": "2018-05-05T23:02:49.651850Z"
    }
   },
   "outputs": [
    {
     "name": "stderr",
     "output_type": "stream",
     "text": [
      "Using TensorFlow backend.\n"
     ]
    }
   ],
   "source": [
    "from keras.datasets import mnist\n",
    "from keras.models import Sequential\n",
    "from keras.layers import Dense, Conv2D, Flatten\n",
    "from keras.utils.np_utils import to_categorical\n",
    "from keras.utils.vis_utils import plot_model\n",
    "from keras import backend as K"
   ]
  },
  {
   "cell_type": "markdown",
   "metadata": {},
   "source": [
    "#### Getting the data"
   ]
  },
  {
   "cell_type": "code",
   "execution_count": 4,
   "metadata": {
    "ExecuteTime": {
     "end_time": "2018-05-05T23:03:06.079298Z",
     "start_time": "2018-05-05T23:03:05.774131Z"
    },
    "collapsed": true
   },
   "outputs": [],
   "source": [
    "# load dataset\n",
    "(X_train, y_train), (X_test, y_test) = mnist.load_data()"
   ]
  },
  {
   "cell_type": "markdown",
   "metadata": {},
   "source": [
    "#### Explore visual data"
   ]
  },
  {
   "cell_type": "code",
   "execution_count": 5,
   "metadata": {
    "ExecuteTime": {
     "end_time": "2018-05-05T23:03:08.104333Z",
     "start_time": "2018-05-05T23:03:07.634641Z"
    }
   },
   "outputs": [
    {
     "data": {
      "image/png": "[encoded data removed]",
      "text/plain": [
       "<Figure size 432x288 with 10 Axes>"
      ]
     },
     "metadata": {},
     "output_type": "display_data"
    }
   ],
   "source": [
    "fig = plt.figure()\n",
    "for i in range(10):\n",
    "    plt.subplot(2, 5, i+1)\n",
    "    x_y = X_train[y_train == i]\n",
    "    plt.imshow(x_y[0], cmap='gray', interpolation='none')\n",
    "    plt.title(\"Class %d\" % (i))\n",
    "    plt.xticks([])\n",
    "    plt.yticks([])\n",
    "    \n",
    "plt.tight_layout()"
   ]
  },
  {
   "cell_type": "code",
   "execution_count": 6,
   "metadata": {
    "ExecuteTime": {
     "end_time": "2018-05-05T23:03:10.403122Z",
     "start_time": "2018-05-05T23:03:10.396027Z"
    }
   },
   "outputs": [
    {
     "name": "stdout",
     "output_type": "stream",
     "text": [
      "X_train.shape (60000, 28, 28)\n",
      "y_train.shape (60000,)\n",
      "X_test.shape (10000, 28, 28)\n",
      "y_train.shape (10000,)\n"
     ]
    }
   ],
   "source": [
    "print('X_train.shape', X_train.shape)\n",
    "print('y_train.shape', y_train.shape)\n",
    "print('X_test.shape', X_test.shape)\n",
    "print('y_train.shape', y_test.shape)"
   ]
  },
  {
   "cell_type": "markdown",
   "metadata": {},
   "source": [
    "#### Reshaping and normalizing the inputs"
   ]
  },
  {
   "cell_type": "code",
   "execution_count": 7,
   "metadata": {
    "ExecuteTime": {
     "end_time": "2018-05-05T23:03:12.673579Z",
     "start_time": "2018-05-05T23:03:12.418084Z"
    }
   },
   "outputs": [
    {
     "name": "stdout",
     "output_type": "stream",
     "text": [
      "X_train reshape: (60000, 28, 28, 1)\n",
      "X_test reshape: (10000, 28, 28, 1)\n"
     ]
    }
   ],
   "source": [
    "# reshaping the inputs\n",
    "\n",
    "if K.image_data_format() == 'channels_first':\n",
    "    X_train = X_train.reshape(X_train.shape[0], 1, 28, 28)\n",
    "    X_test = X_test.reshape(X_test.shape[0], 1, 28, 28)\n",
    "    input_shape = (1, 28, 28)\n",
    "else:\n",
    "    X_train = X_train.reshape(X_train.shape[0], 28, 28, 1)\n",
    "    X_test = X_test.reshape(X_test.shape[0], 28, 28, 1)\n",
    "    input_shape = (28, 28, 1)\n",
    "\n",
    "# normalizing the inputs\n",
    "X_train = X_train.astype('float32') / 255.0\n",
    "X_test = X_test.astype('float32') / 255.0\n",
    "\n",
    "print('X_train reshape:', X_train.shape)\n",
    "print('X_test reshape:', X_test.shape)"
   ]
  },
  {
   "cell_type": "markdown",
   "metadata": {},
   "source": [
    "#### Convert class vectors to binary class matrices"
   ]
  },
  {
   "cell_type": "code",
   "execution_count": 8,
   "metadata": {
    "ExecuteTime": {
     "end_time": "2018-05-05T23:03:15.293300Z",
     "start_time": "2018-05-05T23:03:15.281655Z"
    }
   },
   "outputs": [
    {
     "name": "stdout",
     "output_type": "stream",
     "text": [
      "y_train_cat shape: (60000, 10)\n",
      "y_test_cat shape: (10000, 10)\n"
     ]
    }
   ],
   "source": [
    "# 10 classes\n",
    "y_train_cat = to_categorical(y_train, 10)\n",
    "y_test_cat = to_categorical(y_test, 10)\n",
    "print('y_train_cat shape:', y_train_cat.shape)\n",
    "print('y_test_cat shape:', y_test_cat.shape)"
   ]
  },
  {
   "cell_type": "markdown",
   "metadata": {},
   "source": [
    "## 2. Define model\n",
    "\n",
    "#### Add the input-, hidden- and output-layers"
   ]
  },
  {
   "cell_type": "code",
   "execution_count": 9,
   "metadata": {
    "ExecuteTime": {
     "end_time": "2018-05-05T23:03:17.217732Z",
     "start_time": "2018-05-05T23:03:17.138483Z"
    },
    "collapsed": true
   },
   "outputs": [],
   "source": [
    "# building a linear stack of layers with the sequential model\n",
    "model = Sequential()\n",
    "# Add the input layer and hidden layer 1\n",
    "model.add(Conv2D(32, kernel_size=(3, 3), activation='relu', input_shape=input_shape))\n",
    "# Add the input layer and hidden layer 2\n",
    "model.add(Conv2D(64, (3, 3), activation='relu'))\n",
    "# Flatten convolutional output\n",
    "model.add(Flatten())\n",
    "# Add the input layer and hidden layer 3\n",
    "model.add(Dense(128, activation='relu'))\n",
    "# Add the output layer\n",
    "model.add(Dense(10, activation='softmax'))"
   ]
  },
  {
   "cell_type": "markdown",
   "metadata": {},
   "source": [
    "#### Model visualization"
   ]
  },
  {
   "cell_type": "code",
   "execution_count": 10,
   "metadata": {
    "ExecuteTime": {
     "end_time": "2018-05-05T23:03:23.454884Z",
     "start_time": "2018-05-05T23:03:19.263234Z"
    }
   },
   "outputs": [
    {
     "name": "stdout",
     "output_type": "stream",
     "text": [
      "_________________________________________________________________\n",
      "Layer (type)                 Output Shape              Param #   \n",
      "=================================================================\n",
      "conv2d_1 (Conv2D)            (None, 26, 26, 32)        320       \n",
      "_________________________________________________________________\n",
      "conv2d_2 (Conv2D)            (None, 24, 24, 64)        18496     \n",
      "_________________________________________________________________\n",
      "flatten_1 (Flatten)          (None, 36864)             0         \n",
      "_________________________________________________________________\n",
      "dense_1 (Dense)              (None, 128)               4718720   \n",
      "_________________________________________________________________\n",
      "dense_2 (Dense)              (None, 10)                1290      \n",
      "=================================================================\n",
      "Total params: 4,738,826\n",
      "Trainable params: 4,738,826\n",
      "Non-trainable params: 0\n",
      "_________________________________________________________________\n"
     ]
    }
   ],
   "source": [
    "# plot a Keras model\n",
    "plot_model(model, to_file='img/model05_cnn.png',\n",
    "           show_shapes=True, show_layer_names=True)\n",
    "# prints a summary representation of your model\n",
    "model.summary()"
   ]
  },
  {
   "cell_type": "markdown",
   "metadata": {},
   "source": [
    "![Deep neural network](img/model05_cnn.png)"
   ]
  },
  {
   "cell_type": "markdown",
   "metadata": {},
   "source": [
    "## 3. Compile model"
   ]
  },
  {
   "cell_type": "code",
   "execution_count": 10,
   "metadata": {
    "ExecuteTime": {
     "end_time": "2018-05-05T22:23:38.915185Z",
     "start_time": "2018-05-05T22:23:38.877109Z"
    },
    "collapsed": true
   },
   "outputs": [],
   "source": [
    "# compiling the sequential model\n",
    "model.compile('rmsprop', loss='categorical_crossentropy',\n",
    "              metrics=['categorical_accuracy'])"
   ]
  },
  {
   "cell_type": "markdown",
   "metadata": {},
   "source": [
    "## 4. Fit model"
   ]
  },
  {
   "cell_type": "code",
   "execution_count": 11,
   "metadata": {
    "ExecuteTime": {
     "end_time": "2018-05-05T22:36:54.093863Z",
     "start_time": "2018-05-05T22:23:38.917142Z"
    }
   },
   "outputs": [
    {
     "name": "stdout",
     "output_type": "stream",
     "text": [
      "Train on 60000 samples, validate on 10000 samples\n",
      "Epoch 1/50\n",
      "18s - loss: 0.1668 - categorical_accuracy: 0.9490 - val_loss: 0.0597 - val_categorical_accuracy: 0.9801\n",
      "Epoch 2/50\n",
      "15s - loss: 0.0414 - categorical_accuracy: 0.9873 - val_loss: 0.0373 - val_categorical_accuracy: 0.9876\n",
      "Epoch 3/50\n",
      "15s - loss: 0.0229 - categorical_accuracy: 0.9932 - val_loss: 0.0379 - val_categorical_accuracy: 0.9881\n",
      "Epoch 4/50\n",
      "15s - loss: 0.0131 - categorical_accuracy: 0.9959 - val_loss: 0.0444 - val_categorical_accuracy: 0.9866\n",
      "Epoch 5/50\n",
      "15s - loss: 0.0073 - categorical_accuracy: 0.9979 - val_loss: 0.0493 - val_categorical_accuracy: 0.9875\n",
      "Epoch 6/50\n",
      "15s - loss: 0.0050 - categorical_accuracy: 0.9985 - val_loss: 0.0638 - val_categorical_accuracy: 0.9858\n",
      "Epoch 7/50\n",
      "15s - loss: 0.0039 - categorical_accuracy: 0.9987 - val_loss: 0.0503 - val_categorical_accuracy: 0.9897\n",
      "Epoch 8/50\n",
      "15s - loss: 0.0027 - categorical_accuracy: 0.9993 - val_loss: 0.0485 - val_categorical_accuracy: 0.9899\n",
      "Epoch 9/50\n",
      "15s - loss: 0.0019 - categorical_accuracy: 0.9994 - val_loss: 0.0665 - val_categorical_accuracy: 0.9864\n",
      "Epoch 10/50\n",
      "15s - loss: 0.0014 - categorical_accuracy: 0.9998 - val_loss: 0.0618 - val_categorical_accuracy: 0.9888\n",
      "Epoch 11/50\n",
      "15s - loss: 0.0014 - categorical_accuracy: 0.9996 - val_loss: 0.0685 - val_categorical_accuracy: 0.9891\n",
      "Epoch 12/50\n",
      "15s - loss: 8.5826e-04 - categorical_accuracy: 0.9998 - val_loss: 0.0752 - val_categorical_accuracy: 0.9889\n",
      "Epoch 13/50\n",
      "15s - loss: 0.0014 - categorical_accuracy: 0.9997 - val_loss: 0.0715 - val_categorical_accuracy: 0.9893\n",
      "Epoch 14/50\n",
      "15s - loss: 0.0010 - categorical_accuracy: 0.9998 - val_loss: 0.0806 - val_categorical_accuracy: 0.9878\n",
      "Epoch 15/50\n",
      "15s - loss: 7.5386e-04 - categorical_accuracy: 0.9998 - val_loss: 0.0862 - val_categorical_accuracy: 0.9888\n",
      "Epoch 16/50\n",
      "15s - loss: 5.7980e-04 - categorical_accuracy: 0.9999 - val_loss: 0.0855 - val_categorical_accuracy: 0.9886\n",
      "Epoch 17/50\n",
      "15s - loss: 9.0621e-04 - categorical_accuracy: 0.9998 - val_loss: 0.0818 - val_categorical_accuracy: 0.9889\n",
      "Epoch 18/50\n",
      "15s - loss: 6.5240e-04 - categorical_accuracy: 0.9999 - val_loss: 0.0849 - val_categorical_accuracy: 0.9892\n",
      "Epoch 19/50\n",
      "15s - loss: 6.7735e-04 - categorical_accuracy: 0.9999 - val_loss: 0.0909 - val_categorical_accuracy: 0.9890\n",
      "Epoch 20/50\n",
      "15s - loss: 5.9371e-04 - categorical_accuracy: 1.0000 - val_loss: 0.0963 - val_categorical_accuracy: 0.9881\n",
      "Epoch 21/50\n",
      "15s - loss: 7.5569e-04 - categorical_accuracy: 0.9999 - val_loss: 0.1024 - val_categorical_accuracy: 0.9883\n",
      "Epoch 22/50\n",
      "15s - loss: 5.0999e-04 - categorical_accuracy: 0.9999 - val_loss: 0.1008 - val_categorical_accuracy: 0.9885\n",
      "Epoch 23/50\n",
      "15s - loss: 0.0011 - categorical_accuracy: 0.9997 - val_loss: 0.0971 - val_categorical_accuracy: 0.9888\n",
      "Epoch 24/50\n",
      "15s - loss: 4.8470e-04 - categorical_accuracy: 0.9999 - val_loss: 0.0921 - val_categorical_accuracy: 0.9889\n",
      "Epoch 25/50\n",
      "15s - loss: 3.1173e-04 - categorical_accuracy: 1.0000 - val_loss: 0.1045 - val_categorical_accuracy: 0.9886\n",
      "Epoch 26/50\n",
      "15s - loss: 4.6253e-04 - categorical_accuracy: 1.0000 - val_loss: 0.1128 - val_categorical_accuracy: 0.9881\n",
      "Epoch 27/50\n",
      "15s - loss: 4.8260e-04 - categorical_accuracy: 0.9999 - val_loss: 0.1168 - val_categorical_accuracy: 0.9877\n",
      "Epoch 28/50\n",
      "15s - loss: 7.3591e-04 - categorical_accuracy: 0.9999 - val_loss: 0.1043 - val_categorical_accuracy: 0.9876\n",
      "Epoch 29/50\n",
      "15s - loss: 3.7980e-04 - categorical_accuracy: 1.0000 - val_loss: 0.1030 - val_categorical_accuracy: 0.9885\n",
      "Epoch 30/50\n",
      "15s - loss: 7.1276e-04 - categorical_accuracy: 0.9999 - val_loss: 0.1025 - val_categorical_accuracy: 0.9881\n",
      "Epoch 31/50\n",
      "15s - loss: 5.4000e-04 - categorical_accuracy: 0.9999 - val_loss: 0.1043 - val_categorical_accuracy: 0.9886\n",
      "Epoch 32/50\n",
      "15s - loss: 3.1552e-04 - categorical_accuracy: 1.0000 - val_loss: 0.0967 - val_categorical_accuracy: 0.9895\n",
      "Epoch 33/50\n",
      "15s - loss: 6.4638e-04 - categorical_accuracy: 0.9999 - val_loss: 0.1090 - val_categorical_accuracy: 0.9884\n",
      "Epoch 34/50\n",
      "15s - loss: 6.3442e-04 - categorical_accuracy: 0.9999 - val_loss: 0.1012 - val_categorical_accuracy: 0.9893\n",
      "Epoch 35/50\n",
      "15s - loss: 6.8033e-04 - categorical_accuracy: 1.0000 - val_loss: 0.1035 - val_categorical_accuracy: 0.9882\n",
      "Epoch 36/50\n",
      "15s - loss: 3.9558e-04 - categorical_accuracy: 0.9999 - val_loss: 0.1241 - val_categorical_accuracy: 0.9885\n",
      "Epoch 37/50\n",
      "15s - loss: 4.5613e-04 - categorical_accuracy: 0.9999 - val_loss: 0.1044 - val_categorical_accuracy: 0.9892\n",
      "Epoch 38/50\n",
      "15s - loss: 5.7465e-04 - categorical_accuracy: 0.9999 - val_loss: 0.1096 - val_categorical_accuracy: 0.9894\n",
      "Epoch 39/50\n",
      "15s - loss: 4.2216e-04 - categorical_accuracy: 1.0000 - val_loss: 0.1010 - val_categorical_accuracy: 0.9901\n",
      "Epoch 40/50\n",
      "15s - loss: 4.0226e-04 - categorical_accuracy: 1.0000 - val_loss: 0.1095 - val_categorical_accuracy: 0.9889\n",
      "Epoch 41/50\n",
      "15s - loss: 3.7682e-04 - categorical_accuracy: 1.0000 - val_loss: 0.1141 - val_categorical_accuracy: 0.9891\n",
      "Epoch 42/50\n",
      "15s - loss: 3.9192e-04 - categorical_accuracy: 1.0000 - val_loss: 0.1149 - val_categorical_accuracy: 0.9890\n",
      "Epoch 43/50\n",
      "15s - loss: 2.6877e-04 - categorical_accuracy: 1.0000 - val_loss: 0.1176 - val_categorical_accuracy: 0.9891\n",
      "Epoch 44/50\n",
      "15s - loss: 3.3162e-04 - categorical_accuracy: 1.0000 - val_loss: 0.1256 - val_categorical_accuracy: 0.9888\n",
      "Epoch 45/50\n",
      "15s - loss: 4.4101e-04 - categorical_accuracy: 1.0000 - val_loss: 0.1182 - val_categorical_accuracy: 0.9891\n",
      "Epoch 46/50\n",
      "15s - loss: 2.7050e-04 - categorical_accuracy: 1.0000 - val_loss: 0.1250 - val_categorical_accuracy: 0.9887\n",
      "Epoch 47/50\n",
      "15s - loss: 0.0013 - categorical_accuracy: 0.9999 - val_loss: 0.1194 - val_categorical_accuracy: 0.9887\n",
      "Epoch 48/50\n",
      "15s - loss: 3.0820e-04 - categorical_accuracy: 1.0000 - val_loss: 0.1268 - val_categorical_accuracy: 0.9872\n",
      "Epoch 49/50\n",
      "15s - loss: 3.4949e-04 - categorical_accuracy: 1.0000 - val_loss: 0.1226 - val_categorical_accuracy: 0.9889\n",
      "Epoch 50/50\n",
      "15s - loss: 3.3074e-04 - categorical_accuracy: 1.0000 - val_loss: 0.1154 - val_categorical_accuracy: 0.9884\n"
     ]
    }
   ],
   "source": [
    "# training the model and saving metrics in history\n",
    "history = model.fit(X_train, y_train_cat,\n",
    "                    batch_size=256, epochs=50,\n",
    "                    verbose=2,\n",
    "                    validation_data=(X_test, y_test_cat))"
   ]
  },
  {
   "cell_type": "markdown",
   "metadata": {},
   "source": [
    "## 5. Evaluate model"
   ]
  },
  {
   "cell_type": "code",
   "execution_count": 12,
   "metadata": {
    "ExecuteTime": {
     "end_time": "2018-05-05T22:36:54.446810Z",
     "start_time": "2018-05-05T22:36:54.096264Z"
    }
   },
   "outputs": [
    {
     "data": {
      "image/png": "[encoded data removed]",
      "text/plain": [
       "<Figure size 432x288 with 2 Axes>"
      ]
     },
     "metadata": {},
     "output_type": "display_data"
    }
   ],
   "source": [
    "# plotting the metrics\n",
    "fig = plt.figure()\n",
    "plt.subplot(2,1,1)\n",
    "plt.plot(history.history['categorical_accuracy'])\n",
    "plt.plot(history.history['val_categorical_accuracy'])\n",
    "plt.title('model accuracy')\n",
    "plt.ylabel('accuracy')\n",
    "plt.xlabel('epoch')\n",
    "plt.legend(['train', 'test'], loc='lower right')\n",
    "\n",
    "plt.subplot(2,1,2)\n",
    "plt.plot(history.history['loss'])\n",
    "plt.plot(history.history['val_loss'])\n",
    "plt.title('model loss')\n",
    "plt.ylabel('loss')\n",
    "plt.xlabel('epoch')\n",
    "plt.legend(['train', 'test'], loc='upper right')\n",
    "\n",
    "plt.tight_layout()"
   ]
  },
  {
   "cell_type": "code",
   "execution_count": 13,
   "metadata": {
    "ExecuteTime": {
     "end_time": "2018-05-05T22:36:56.099721Z",
     "start_time": "2018-05-05T22:36:54.448778Z"
    }
   },
   "outputs": [
    {
     "name": "stdout",
     "output_type": "stream",
     "text": [
      " 9952/10000 [============================>.] - ETA: 0sEvaluation result on Test Data:\n",
      "Loss = 0.1153681599060689\n",
      "Accuracy = 0.9884\n"
     ]
    }
   ],
   "source": [
    "# evaluate model on test data\n",
    "[test_loss, test_acc] = model.evaluate(X_test, y_test_cat)\n",
    "print(\"Evaluation result on Test Data:\\nLoss = {}\\nAccuracy = {}\".format(test_loss, test_acc))"
   ]
  },
  {
   "cell_type": "markdown",
   "metadata": {},
   "source": [
    "## References\n",
    "\n",
    "* [Deep Learning Book](http://www.deeplearningbook.org)\n",
    "\n",
    "* [Zero to Deep Learning™ Udemy Video Course](https://github.com/dataweekends/zero_to_deep_learning_udemy)\n",
    "\n",
    "* [THE MNIST DATABASE](http://yann.lecun.com/exdb/mnist/)"
   ]
  }
 ],
 "metadata": {
  "kernelspec": {
   "display_name": "Python 3",
   "language": "python",
   "name": "python3"
  },
  "language_info": {
   "codemirror_mode": {
    "name": "ipython",
    "version": 3
   },
   "file_extension": ".py",
   "mimetype": "text/x-python",
   "name": "python",
   "nbconvert_exporter": "python",
   "pygments_lexer": "ipython3",
   "version": "3.6.5"
  }
 },
 "nbformat": 4,
 "nbformat_minor": 2
}
