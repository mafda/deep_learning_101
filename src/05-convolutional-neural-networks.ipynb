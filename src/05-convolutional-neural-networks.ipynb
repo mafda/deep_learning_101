{
 "cells": [
  {
   "cell_type": "markdown",
   "metadata": {},
   "source": [
    "# Deep Learning 101\n",
    "\n",
    "This notebook presents the basics concepts that involve the concept of Deep Learning.\n",
    "\n",
    "1. Linear Regression\n",
    "* Logistic Regression\n",
    "* Artificial Neural Networks\n",
    "* Deep Neural Networks\n",
    "* **Convolutional Neural Networks**\n",
    "\n",
    "## 4. Convolutional Neural Networks\n",
    "\n",
    "Convolutional networks are simply neural networks that use convolution in place of general matrix multiplication in at least one of their layers.\n",
    "\n",
    "---"
   ]
  },
  {
   "cell_type": "markdown",
   "metadata": {},
   "source": [
    "## Convolutional Neural Networks with Keras and TensorFlow\n",
    "\n",
    "## 1. Load data\n",
    "\n",
    "#### Load libraries"
   ]
  },
  {
   "cell_type": "code",
   "execution_count": 1,
   "metadata": {
    "ExecuteTime": {
     "end_time": "2018-05-05T23:02:23.319377Z",
     "start_time": "2018-05-05T23:02:23.311356Z"
    }
   },
   "outputs": [],
   "source": [
    "%matplotlib inline\n",
    "import matplotlib.pyplot as plt\n",
    "\n",
    "import numpy as np"
   ]
  },
  {
   "cell_type": "code",
   "execution_count": 2,
   "metadata": {},
   "outputs": [],
   "source": [
    "from tensorflow.keras.datasets import mnist\n",
    "from tensorflow.keras.layers import Dense, Conv2D, Flatten\n",
    "from tensorflow.keras.models import Sequential\n",
    "from tensorflow.keras.utils import plot_model, to_categorical\n",
    "from tensorflow.keras import backend as K"
   ]
  },
  {
   "cell_type": "markdown",
   "metadata": {},
   "source": [
    "#### Getting the data"
   ]
  },
  {
   "cell_type": "code",
   "execution_count": 3,
   "metadata": {
    "ExecuteTime": {
     "end_time": "2018-05-05T23:03:06.079298Z",
     "start_time": "2018-05-05T23:03:05.774131Z"
    }
   },
   "outputs": [],
   "source": [
    "# load dataset\n",
    "(X_train, y_train), (X_test, y_test) = mnist.load_data()"
   ]
  },
  {
   "cell_type": "markdown",
   "metadata": {},
   "source": [
    "#### Explore visual data"
   ]
  },
  {
   "cell_type": "code",
   "execution_count": 4,
   "metadata": {
    "ExecuteTime": {
     "end_time": "2018-05-05T23:03:08.104333Z",
     "start_time": "2018-05-05T23:03:07.634641Z"
    }
   },
   "outputs": [
    {
     "data": {
      "image/png": "[encoded data removed]",
      "text/plain": [
       "<Figure size 432x288 with 10 Axes>"
      ]
     },
     "metadata": {},
     "output_type": "display_data"
    }
   ],
   "source": [
    "fig = plt.figure()\n",
    "for i in range(10):\n",
    "    plt.subplot(2, 5, i+1)\n",
    "    x_y = X_train[y_train == i]\n",
    "    plt.imshow(x_y[0], cmap='gray', interpolation='none')\n",
    "    plt.title(\"Class %d\" % (i))\n",
    "    plt.xticks([])\n",
    "    plt.yticks([])\n",
    "    \n",
    "plt.tight_layout()"
   ]
  },
  {
   "cell_type": "code",
   "execution_count": 5,
   "metadata": {
    "ExecuteTime": {
     "end_time": "2018-05-05T23:03:10.403122Z",
     "start_time": "2018-05-05T23:03:10.396027Z"
    }
   },
   "outputs": [
    {
     "name": "stdout",
     "output_type": "stream",
     "text": [
      "X_train.shape (60000, 28, 28)\n",
      "y_train.shape (60000,)\n",
      "X_test.shape (10000, 28, 28)\n",
      "y_train.shape (10000,)\n"
     ]
    }
   ],
   "source": [
    "print('X_train.shape', X_train.shape)\n",
    "print('y_train.shape', y_train.shape)\n",
    "print('X_test.shape', X_test.shape)\n",
    "print('y_train.shape', y_test.shape)"
   ]
  },
  {
   "cell_type": "markdown",
   "metadata": {},
   "source": [
    "#### Reshaping and normalizing the inputs"
   ]
  },
  {
   "cell_type": "code",
   "execution_count": 6,
   "metadata": {
    "ExecuteTime": {
     "end_time": "2018-05-05T23:03:12.673579Z",
     "start_time": "2018-05-05T23:03:12.418084Z"
    }
   },
   "outputs": [
    {
     "name": "stdout",
     "output_type": "stream",
     "text": [
      "X_train reshape: (60000, 28, 28, 1)\n",
      "X_test reshape: (10000, 28, 28, 1)\n"
     ]
    }
   ],
   "source": [
    "# reshaping the inputs\n",
    "\n",
    "if K.image_data_format() == 'channels_first':\n",
    "    X_train = X_train.reshape(X_train.shape[0], 1, 28, 28)\n",
    "    X_test = X_test.reshape(X_test.shape[0], 1, 28, 28)\n",
    "    input_shape = (1, 28, 28)\n",
    "else:\n",
    "    X_train = X_train.reshape(X_train.shape[0], 28, 28, 1)\n",
    "    X_test = X_test.reshape(X_test.shape[0], 28, 28, 1)\n",
    "    input_shape = (28, 28, 1)\n",
    "\n",
    "# normalizing the inputs\n",
    "X_train = X_train.astype('float32') / 255.0\n",
    "X_test = X_test.astype('float32') / 255.0\n",
    "\n",
    "print('X_train reshape:', X_train.shape)\n",
    "print('X_test reshape:', X_test.shape)"
   ]
  },
  {
   "cell_type": "markdown",
   "metadata": {},
   "source": [
    "#### Convert class vectors to binary class matrices"
   ]
  },
  {
   "cell_type": "code",
   "execution_count": 7,
   "metadata": {
    "ExecuteTime": {
     "end_time": "2018-05-05T23:03:15.293300Z",
     "start_time": "2018-05-05T23:03:15.281655Z"
    }
   },
   "outputs": [
    {
     "name": "stdout",
     "output_type": "stream",
     "text": [
      "y_train_cat shape: (60000, 10)\n",
      "y_test_cat shape: (10000, 10)\n"
     ]
    }
   ],
   "source": [
    "# 10 classes\n",
    "y_train_cat = to_categorical(y_train, 10)\n",
    "y_test_cat = to_categorical(y_test, 10)\n",
    "print('y_train_cat shape:', y_train_cat.shape)\n",
    "print('y_test_cat shape:', y_test_cat.shape)"
   ]
  },
  {
   "cell_type": "markdown",
   "metadata": {},
   "source": [
    "## 2. Define model\n",
    "\n",
    "#### Add the input-, hidden- and output-layers"
   ]
  },
  {
   "cell_type": "code",
   "execution_count": 8,
   "metadata": {
    "ExecuteTime": {
     "end_time": "2018-05-05T23:03:17.217732Z",
     "start_time": "2018-05-05T23:03:17.138483Z"
    }
   },
   "outputs": [
    {
     "name": "stderr",
     "output_type": "stream",
     "text": [
      "2021-08-08 20:32:44.785119: I tensorflow/core/platform/cpu_feature_guard.cc:142] This TensorFlow binary is optimized with oneAPI Deep Neural Network Library (oneDNN) to use the following CPU instructions in performance-critical operations:  SSE4.1 SSE4.2 AVX AVX2 FMA\n",
      "To enable them in other operations, rebuild TensorFlow with the appropriate compiler flags.\n"
     ]
    }
   ],
   "source": [
    "# building a linear stack of layers with the sequential model\n",
    "model = Sequential()\n",
    "\n",
    "# Add the input layer and hidden layer 1\n",
    "model.add(Conv2D(32, kernel_size=(3, 3), activation='relu', input_shape=input_shape))\n",
    "\n",
    "# Add the input layer and hidden layer 2\n",
    "model.add(Conv2D(64, (3, 3), activation='relu'))\n",
    "\n",
    "# Flatten convolutional output\n",
    "model.add(Flatten())\n",
    "\n",
    "# Add the input layer and hidden layer 3\n",
    "model.add(Dense(128, activation='relu'))\n",
    "\n",
    "# Add the output layer\n",
    "model.add(Dense(10, activation='softmax'))"
   ]
  },
  {
   "cell_type": "markdown",
   "metadata": {},
   "source": [
    "#### Model visualization"
   ]
  },
  {
   "cell_type": "code",
   "execution_count": 9,
   "metadata": {
    "ExecuteTime": {
     "end_time": "2018-05-05T23:03:23.454884Z",
     "start_time": "2018-05-05T23:03:19.263234Z"
    }
   },
   "outputs": [
    {
     "name": "stdout",
     "output_type": "stream",
     "text": [
      "('Failed to import pydot. You must `pip install pydot` and install graphviz (https://graphviz.gitlab.io/download/), ', 'for `pydotprint` to work.')\n",
      "Model: \"sequential\"\n",
      "_________________________________________________________________\n",
      "Layer (type)                 Output Shape              Param #   \n",
      "=================================================================\n",
      "conv2d (Conv2D)              (None, 26, 26, 32)        320       \n",
      "_________________________________________________________________\n",
      "conv2d_1 (Conv2D)            (None, 24, 24, 64)        18496     \n",
      "_________________________________________________________________\n",
      "flatten (Flatten)            (None, 36864)             0         \n",
      "_________________________________________________________________\n",
      "dense (Dense)                (None, 128)               4718720   \n",
      "_________________________________________________________________\n",
      "dense_1 (Dense)              (None, 10)                1290      \n",
      "=================================================================\n",
      "Total params: 4,738,826\n",
      "Trainable params: 4,738,826\n",
      "Non-trainable params: 0\n",
      "_________________________________________________________________\n"
     ]
    }
   ],
   "source": [
    "# plot a Keras model\n",
    "plot_model(model, to_file='img/model05_cnn.png',\n",
    "           show_shapes=True, show_layer_names=True)\n",
    "\n",
    "# prints a summary representation of your model\n",
    "model.summary()"
   ]
  },
  {
   "cell_type": "markdown",
   "metadata": {},
   "source": [
    "![Deep neural network](img/model05_cnn.png)"
   ]
  },
  {
   "cell_type": "markdown",
   "metadata": {},
   "source": [
    "## 3. Compile model"
   ]
  },
  {
   "cell_type": "code",
   "execution_count": 10,
   "metadata": {
    "ExecuteTime": {
     "end_time": "2018-05-05T22:23:38.915185Z",
     "start_time": "2018-05-05T22:23:38.877109Z"
    }
   },
   "outputs": [],
   "source": [
    "# compiling the sequential model\n",
    "model.compile('rmsprop', loss='categorical_crossentropy',\n",
    "              metrics=['categorical_accuracy'])"
   ]
  },
  {
   "cell_type": "markdown",
   "metadata": {},
   "source": [
    "## 4. Fit model"
   ]
  },
  {
   "cell_type": "code",
   "execution_count": 11,
   "metadata": {
    "ExecuteTime": {
     "end_time": "2018-05-05T22:36:54.093863Z",
     "start_time": "2018-05-05T22:23:38.917142Z"
    }
   },
   "outputs": [
    {
     "name": "stdout",
     "output_type": "stream",
     "text": [
      "Epoch 1/50\n"
     ]
    },
    {
     "name": "stderr",
     "output_type": "stream",
     "text": [
      "2021-08-08 20:32:44.997853: I tensorflow/compiler/mlir/mlir_graph_optimization_pass.cc:116] None of the MLIR optimization passes are enabled (registered 2)\n",
      "2021-08-08 20:32:45.021693: I tensorflow/core/platform/profile_utils/cpu_utils.cc:112] CPU Frequency: 1800000000 Hz\n"
     ]
    },
    {
     "name": "stdout",
     "output_type": "stream",
     "text": [
      "235/235 - 65s - loss: 0.1856 - categorical_accuracy: 0.9435 - val_loss: 0.0595 - val_categorical_accuracy: 0.9807\n",
      "Epoch 2/50\n",
      "235/235 - 72s - loss: 0.0450 - categorical_accuracy: 0.9857 - val_loss: 0.0531 - val_categorical_accuracy: 0.9818\n",
      "Epoch 3/50\n",
      "235/235 - 67s - loss: 0.0248 - categorical_accuracy: 0.9923 - val_loss: 0.0373 - val_categorical_accuracy: 0.9877\n",
      "Epoch 4/50\n",
      "235/235 - 63s - loss: 0.0137 - categorical_accuracy: 0.9956 - val_loss: 0.0663 - val_categorical_accuracy: 0.9789\n",
      "Epoch 5/50\n",
      "235/235 - 56s - loss: 0.0082 - categorical_accuracy: 0.9975 - val_loss: 0.0470 - val_categorical_accuracy: 0.9863\n",
      "Epoch 6/50\n",
      "235/235 - 50s - loss: 0.0045 - categorical_accuracy: 0.9985 - val_loss: 0.0524 - val_categorical_accuracy: 0.9882\n",
      "Epoch 7/50\n",
      "235/235 - 50s - loss: 0.0034 - categorical_accuracy: 0.9990 - val_loss: 0.0526 - val_categorical_accuracy: 0.9874\n",
      "Epoch 8/50\n",
      "235/235 - 50s - loss: 0.0022 - categorical_accuracy: 0.9993 - val_loss: 0.0548 - val_categorical_accuracy: 0.9885\n",
      "Epoch 9/50\n",
      "235/235 - 51s - loss: 0.0012 - categorical_accuracy: 0.9997 - val_loss: 0.0690 - val_categorical_accuracy: 0.9888\n",
      "Epoch 10/50\n",
      "235/235 - 50s - loss: 0.0012 - categorical_accuracy: 0.9996 - val_loss: 0.0914 - val_categorical_accuracy: 0.9854\n",
      "Epoch 11/50\n",
      "235/235 - 50s - loss: 9.0294e-04 - categorical_accuracy: 0.9997 - val_loss: 0.0647 - val_categorical_accuracy: 0.9887\n",
      "Epoch 12/50\n",
      "235/235 - 51s - loss: 6.9175e-04 - categorical_accuracy: 0.9998 - val_loss: 0.0777 - val_categorical_accuracy: 0.9889\n",
      "Epoch 13/50\n",
      "235/235 - 50s - loss: 6.4072e-04 - categorical_accuracy: 0.9998 - val_loss: 0.0831 - val_categorical_accuracy: 0.9882\n",
      "Epoch 14/50\n",
      "235/235 - 51s - loss: 5.4299e-04 - categorical_accuracy: 0.9998 - val_loss: 0.1066 - val_categorical_accuracy: 0.9868\n",
      "Epoch 15/50\n",
      "235/235 - 51s - loss: 5.1578e-04 - categorical_accuracy: 0.9998 - val_loss: 0.0947 - val_categorical_accuracy: 0.9885\n",
      "Epoch 16/50\n",
      "235/235 - 51s - loss: 3.8386e-04 - categorical_accuracy: 0.9999 - val_loss: 0.0871 - val_categorical_accuracy: 0.9893\n",
      "Epoch 17/50\n",
      "235/235 - 51s - loss: 3.4566e-04 - categorical_accuracy: 0.9999 - val_loss: 0.0992 - val_categorical_accuracy: 0.9890\n",
      "Epoch 18/50\n",
      "235/235 - 51s - loss: 2.3503e-04 - categorical_accuracy: 0.9999 - val_loss: 0.1238 - val_categorical_accuracy: 0.9880\n",
      "Epoch 19/50\n",
      "235/235 - 51s - loss: 1.9493e-04 - categorical_accuracy: 0.9999 - val_loss: 0.1099 - val_categorical_accuracy: 0.9891\n",
      "Epoch 20/50\n",
      "235/235 - 51s - loss: 2.1389e-04 - categorical_accuracy: 0.9999 - val_loss: 0.1103 - val_categorical_accuracy: 0.9883\n",
      "Epoch 21/50\n",
      "235/235 - 51s - loss: 3.5423e-04 - categorical_accuracy: 0.9999 - val_loss: 0.1100 - val_categorical_accuracy: 0.9884\n",
      "Epoch 22/50\n",
      "235/235 - 51s - loss: 3.8156e-04 - categorical_accuracy: 0.9999 - val_loss: 0.1267 - val_categorical_accuracy: 0.9890\n",
      "Epoch 23/50\n",
      "235/235 - 51s - loss: 2.0686e-04 - categorical_accuracy: 1.0000 - val_loss: 0.1178 - val_categorical_accuracy: 0.9883\n",
      "Epoch 24/50\n",
      "235/235 - 51s - loss: 7.4742e-05 - categorical_accuracy: 1.0000 - val_loss: 0.1408 - val_categorical_accuracy: 0.9871\n",
      "Epoch 25/50\n",
      "235/235 - 50s - loss: 7.8460e-04 - categorical_accuracy: 0.9998 - val_loss: 0.1358 - val_categorical_accuracy: 0.9877\n",
      "Epoch 26/50\n",
      "235/235 - 51s - loss: 7.2813e-05 - categorical_accuracy: 1.0000 - val_loss: 0.1402 - val_categorical_accuracy: 0.9878\n",
      "Epoch 27/50\n",
      "235/235 - 51s - loss: 4.4970e-04 - categorical_accuracy: 0.9999 - val_loss: 0.1201 - val_categorical_accuracy: 0.9893\n",
      "Epoch 28/50\n",
      "235/235 - 51s - loss: 3.9914e-06 - categorical_accuracy: 1.0000 - val_loss: 0.1455 - val_categorical_accuracy: 0.9876\n",
      "Epoch 29/50\n",
      "235/235 - 50s - loss: 1.5536e-04 - categorical_accuracy: 0.9999 - val_loss: 0.1384 - val_categorical_accuracy: 0.9885\n",
      "Epoch 30/50\n",
      "235/235 - 50s - loss: 4.3219e-05 - categorical_accuracy: 1.0000 - val_loss: 0.1564 - val_categorical_accuracy: 0.9879\n",
      "Epoch 31/50\n",
      "235/235 - 51s - loss: 2.3990e-06 - categorical_accuracy: 1.0000 - val_loss: 0.1496 - val_categorical_accuracy: 0.9887\n",
      "Epoch 32/50\n",
      "235/235 - 50s - loss: 3.2007e-08 - categorical_accuracy: 1.0000 - val_loss: 0.1610 - val_categorical_accuracy: 0.9883\n",
      "Epoch 33/50\n",
      "235/235 - 51s - loss: 1.7007e-04 - categorical_accuracy: 1.0000 - val_loss: 0.1591 - val_categorical_accuracy: 0.9895\n",
      "Epoch 34/50\n",
      "235/235 - 50s - loss: 2.7162e-08 - categorical_accuracy: 1.0000 - val_loss: 0.1586 - val_categorical_accuracy: 0.9888\n",
      "Epoch 35/50\n",
      "235/235 - 51s - loss: 7.3512e-10 - categorical_accuracy: 1.0000 - val_loss: 0.1587 - val_categorical_accuracy: 0.9886\n",
      "Epoch 36/50\n",
      "235/235 - 50s - loss: 2.0663e-10 - categorical_accuracy: 1.0000 - val_loss: 0.1589 - val_categorical_accuracy: 0.9883\n",
      "Epoch 37/50\n",
      "235/235 - 50s - loss: 7.7486e-11 - categorical_accuracy: 1.0000 - val_loss: 0.1586 - val_categorical_accuracy: 0.9886\n",
      "Epoch 38/50\n",
      "235/235 - 51s - loss: 6.7552e-11 - categorical_accuracy: 1.0000 - val_loss: 0.1584 - val_categorical_accuracy: 0.9884\n",
      "Epoch 39/50\n",
      "235/235 - 50s - loss: 5.3644e-11 - categorical_accuracy: 1.0000 - val_loss: 0.1582 - val_categorical_accuracy: 0.9885\n",
      "Epoch 40/50\n",
      "235/235 - 51s - loss: 4.3710e-11 - categorical_accuracy: 1.0000 - val_loss: 0.1580 - val_categorical_accuracy: 0.9885\n",
      "Epoch 41/50\n",
      "235/235 - 50s - loss: 4.7684e-11 - categorical_accuracy: 1.0000 - val_loss: 0.1579 - val_categorical_accuracy: 0.9885\n",
      "Epoch 42/50\n",
      "235/235 - 50s - loss: 4.1723e-11 - categorical_accuracy: 1.0000 - val_loss: 0.1578 - val_categorical_accuracy: 0.9886\n",
      "Epoch 43/50\n",
      "235/235 - 51s - loss: 3.1789e-11 - categorical_accuracy: 1.0000 - val_loss: 0.1576 - val_categorical_accuracy: 0.9886\n",
      "Epoch 44/50\n",
      "235/235 - 51s - loss: 2.9802e-11 - categorical_accuracy: 1.0000 - val_loss: 0.1574 - val_categorical_accuracy: 0.9886\n",
      "Epoch 45/50\n",
      "235/235 - 51s - loss: 2.7815e-11 - categorical_accuracy: 1.0000 - val_loss: 0.1572 - val_categorical_accuracy: 0.9888\n",
      "Epoch 46/50\n",
      "235/235 - 50s - loss: 2.9802e-11 - categorical_accuracy: 1.0000 - val_loss: 0.1570 - val_categorical_accuracy: 0.9888\n",
      "Epoch 47/50\n",
      "235/235 - 51s - loss: 2.3842e-11 - categorical_accuracy: 1.0000 - val_loss: 0.1568 - val_categorical_accuracy: 0.9888\n",
      "Epoch 48/50\n",
      "235/235 - 50s - loss: 2.5829e-11 - categorical_accuracy: 1.0000 - val_loss: 0.1567 - val_categorical_accuracy: 0.9889\n",
      "Epoch 49/50\n",
      "235/235 - 50s - loss: 1.7881e-11 - categorical_accuracy: 1.0000 - val_loss: 0.1565 - val_categorical_accuracy: 0.9889\n",
      "Epoch 50/50\n",
      "235/235 - 51s - loss: 1.5895e-11 - categorical_accuracy: 1.0000 - val_loss: 0.1564 - val_categorical_accuracy: 0.9888\n"
     ]
    }
   ],
   "source": [
    "# training the model and saving metrics in history\n",
    "history = model.fit(X_train, y_train_cat,\n",
    "                    batch_size=256, epochs=50,\n",
    "                    verbose=2,\n",
    "                    validation_data=(X_test, y_test_cat))"
   ]
  },
  {
   "cell_type": "markdown",
   "metadata": {},
   "source": [
    "## 5. Evaluate model"
   ]
  },
  {
   "cell_type": "code",
   "execution_count": 12,
   "metadata": {
    "ExecuteTime": {
     "end_time": "2018-05-05T22:36:54.446810Z",
     "start_time": "2018-05-05T22:36:54.096264Z"
    }
   },
   "outputs": [
    {
     "data": {
      "image/png": "[encoded data removed]",
      "text/plain": [
       "<Figure size 432x288 with 2 Axes>"
      ]
     },
     "metadata": {
      "needs_background": "light"
     },
     "output_type": "display_data"
    }
   ],
   "source": [
    "# plotting the metrics\n",
    "fig = plt.figure()\n",
    "plt.subplot(2,1,1)\n",
    "plt.plot(history.history['categorical_accuracy'])\n",
    "plt.plot(history.history['val_categorical_accuracy'])\n",
    "plt.title('model accuracy')\n",
    "plt.ylabel('accuracy')\n",
    "plt.xlabel('epoch')\n",
    "plt.legend(['train', 'test'], loc='lower right')\n",
    "\n",
    "plt.subplot(2,1,2)\n",
    "plt.plot(history.history['loss'])\n",
    "plt.plot(history.history['val_loss'])\n",
    "plt.title('model loss')\n",
    "plt.ylabel('loss')\n",
    "plt.xlabel('epoch')\n",
    "plt.legend(['train', 'test'], loc='upper right')\n",
    "\n",
    "plt.tight_layout()"
   ]
  },
  {
   "cell_type": "code",
   "execution_count": 13,
   "metadata": {
    "ExecuteTime": {
     "end_time": "2018-05-05T22:36:56.099721Z",
     "start_time": "2018-05-05T22:36:54.448778Z"
    }
   },
   "outputs": [
    {
     "name": "stdout",
     "output_type": "stream",
     "text": [
      "313/313 [==============================] - 3s 8ms/step - loss: 0.1564 - categorical_accuracy: 0.9888\n",
      "Evaluation result on Test Data:\n",
      "Loss = 0.15637844800949097\n",
      "Accuracy = 0.9887999892234802\n"
     ]
    }
   ],
   "source": [
    "# evaluate model on test data\n",
    "[test_loss, test_acc] = model.evaluate(X_test, y_test_cat)\n",
    "print(\"Evaluation result on Test Data:\\nLoss = {}\\nAccuracy = {}\".format(test_loss, test_acc))"
   ]
  },
  {
   "cell_type": "markdown",
   "metadata": {},
   "source": [
    "## References\n",
    "\n",
    "* [Deep Learning Book](http://www.deeplearningbook.org)\n",
    "\n",
    "* [Zero to Deep Learning™ Udemy Video Course](https://github.com/dataweekends/zero_to_deep_learning_udemy)\n",
    "\n",
    "* [THE MNIST DATABASE](http://yann.lecun.com/exdb/mnist/)"
   ]
  }
 ],
 "metadata": {
  "kernelspec": {
   "display_name": "Python 3 (ipykernel)",
   "language": "python",
   "name": "python3"
  },
  "language_info": {
   "codemirror_mode": {
    "name": "ipython",
    "version": 3
   },
   "file_extension": ".py",
   "mimetype": "text/x-python",
   "name": "python",
   "nbconvert_exporter": "python",
   "pygments_lexer": "ipython3",
   "version": "3.8.10"
  }
 },
 "nbformat": 4,
 "nbformat_minor": 2
}
