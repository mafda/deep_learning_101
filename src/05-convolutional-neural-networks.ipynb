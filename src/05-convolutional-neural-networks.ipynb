{
 "cells": [
  {
   "cell_type": "markdown",
   "metadata": {},
   "source": [
    "# Deep Learning 101\n",
    "\n",
    "This notebook presents the basics concepts that involve the concept of Deep\n",
    "Learning.\n",
    "\n",
    "1. Linear Regression\n",
    "2. Logistic Regression\n",
    "3. Artificial Neural Networks\n",
    "4. Deep Neural Networks\n",
    "5. **Convolutional Neural Networks**\n",
    "\n",
    "## 4. Convolutional Neural Networks\n",
    "\n",
    "Convolutional networks are simply neural networks that use convolution in place\n",
    "of general matrix multiplication in at least one of their layers."
   ]
  },
  {
   "cell_type": "markdown",
   "metadata": {},
   "source": [
    "## Convolutional Neural Networks with Keras and TensorFlow\n",
    "\n",
    "## 1. Load data\n",
    "\n",
    "#### Load libraries"
   ]
  },
  {
   "cell_type": "code",
   "execution_count": 1,
   "metadata": {
    "ExecuteTime": {
     "end_time": "2018-05-05T23:02:23.319377Z",
     "start_time": "2018-05-05T23:02:23.311356Z"
    }
   },
   "outputs": [
    {
     "name": "stderr",
     "output_type": "stream",
     "text": [
      "2023-10-16 14:56:59.041247: I tensorflow/core/platform/cpu_feature_guard.cc:193] This TensorFlow binary is optimized with oneAPI Deep Neural Network Library (oneDNN) to use the following CPU instructions in performance-critical operations:  SSE4.1 SSE4.2 AVX AVX2 AVX_VNNI FMA\n",
      "To enable them in other operations, rebuild TensorFlow with the appropriate compiler flags.\n",
      "2023-10-16 14:56:59.074528: I tensorflow/core/util/util.cc:169] oneDNN custom operations are on. You may see slightly different numerical results due to floating-point round-off errors from different computation orders. To turn them off, set the environment variable `TF_ENABLE_ONEDNN_OPTS=0`.\n"
     ]
    }
   ],
   "source": [
    "import matplotlib.pyplot as plt\n",
    "import numpy as np\n",
    "import tensorflow as tf\n",
    "\n",
    "np.random.seed(12049)\n"
   ]
  },
  {
   "cell_type": "markdown",
   "metadata": {},
   "source": [
    "#### Getting the data"
   ]
  },
  {
   "cell_type": "code",
   "execution_count": 2,
   "metadata": {
    "ExecuteTime": {
     "end_time": "2018-05-05T23:03:06.079298Z",
     "start_time": "2018-05-05T23:03:05.774131Z"
    }
   },
   "outputs": [],
   "source": [
    "# load dataset\n",
    "(X_train, y_train), (X_test, y_test) = tf.keras.datasets.mnist.load_data()\n"
   ]
  },
  {
   "cell_type": "markdown",
   "metadata": {},
   "source": [
    "#### Explore visual data"
   ]
  },
  {
   "cell_type": "code",
   "execution_count": 3,
   "metadata": {
    "ExecuteTime": {
     "end_time": "2018-05-05T23:03:08.104333Z",
     "start_time": "2018-05-05T23:03:07.634641Z"
    }
   },
   "outputs": [
    {
     "data": {
      "image/png": "[encoded data removed]",
      "text/plain": [
       "<Figure size 640x480 with 10 Axes>"
      ]
     },
     "metadata": {},
     "output_type": "display_data"
    }
   ],
   "source": [
    "fig = plt.figure()\n",
    "for i in range(10):\n",
    "    plt.subplot(2, 5, i+1)\n",
    "    x_y = X_train[y_train == i]\n",
    "    plt.imshow(x_y[0], cmap='gray', interpolation='none')\n",
    "    plt.title(\"Class %d\" % (i))\n",
    "    plt.xticks([])\n",
    "    plt.yticks([])\n",
    "    \n",
    "plt.tight_layout()\n"
   ]
  },
  {
   "cell_type": "code",
   "execution_count": 4,
   "metadata": {
    "ExecuteTime": {
     "end_time": "2018-05-05T23:03:10.403122Z",
     "start_time": "2018-05-05T23:03:10.396027Z"
    }
   },
   "outputs": [
    {
     "name": "stdout",
     "output_type": "stream",
     "text": [
      "X_train.shape (60000, 28, 28)\n",
      "y_train.shape (60000,)\n",
      "X_test.shape (10000, 28, 28)\n",
      "y_train.shape (10000,)\n"
     ]
    }
   ],
   "source": [
    "print('X_train.shape', X_train.shape)\n",
    "print('y_train.shape', y_train.shape)\n",
    "print('X_test.shape', X_test.shape)\n",
    "print('y_train.shape', y_test.shape)\n"
   ]
  },
  {
   "cell_type": "markdown",
   "metadata": {},
   "source": [
    "#### Reshaping and normalizing the inputs"
   ]
  },
  {
   "cell_type": "code",
   "execution_count": 5,
   "metadata": {
    "ExecuteTime": {
     "end_time": "2018-05-05T23:03:12.673579Z",
     "start_time": "2018-05-05T23:03:12.418084Z"
    }
   },
   "outputs": [
    {
     "name": "stdout",
     "output_type": "stream",
     "text": [
      "X_train reshape: (60000, 28, 28, 1)\n",
      "X_test reshape: (10000, 28, 28, 1)\n"
     ]
    }
   ],
   "source": [
    "# reshaping the inputs\n",
    "\n",
    "if tf.keras.backend.image_data_format() == 'channels_first':\n",
    "    X_train = X_train.reshape(X_train.shape[0], 1, 28, 28)\n",
    "    X_test = X_test.reshape(X_test.shape[0], 1, 28, 28)\n",
    "    input_shape = (1, 28, 28)\n",
    "else:\n",
    "    X_train = X_train.reshape(X_train.shape[0], 28, 28, 1)\n",
    "    X_test = X_test.reshape(X_test.shape[0], 28, 28, 1)\n",
    "    input_shape = (28, 28, 1)\n",
    "\n",
    "# normalizing the inputs\n",
    "X_train = X_train.astype('float32') / 255.0\n",
    "X_test = X_test.astype('float32') / 255.0\n",
    "\n",
    "print('X_train reshape:', X_train.shape)\n",
    "print('X_test reshape:', X_test.shape)\n"
   ]
  },
  {
   "cell_type": "markdown",
   "metadata": {},
   "source": [
    "#### Convert class vectors to binary class matrices"
   ]
  },
  {
   "cell_type": "code",
   "execution_count": 6,
   "metadata": {
    "ExecuteTime": {
     "end_time": "2018-05-05T23:03:15.293300Z",
     "start_time": "2018-05-05T23:03:15.281655Z"
    }
   },
   "outputs": [
    {
     "name": "stdout",
     "output_type": "stream",
     "text": [
      "y_train_cat shape: (60000, 10)\n",
      "y_test_cat shape: (10000, 10)\n"
     ]
    }
   ],
   "source": [
    "# 10 classes\n",
    "y_train_cat = tf.keras.utils.to_categorical(y_train, 10)\n",
    "y_test_cat = tf.keras.utils.to_categorical(y_test, 10)\n",
    "print('y_train_cat shape:', y_train_cat.shape)\n",
    "print('y_test_cat shape:', y_test_cat.shape)\n"
   ]
  },
  {
   "cell_type": "markdown",
   "metadata": {},
   "source": [
    "## 2. Define model\n",
    "\n",
    "#### Add the input-, hidden- and output-layers"
   ]
  },
  {
   "cell_type": "code",
   "execution_count": 7,
   "metadata": {
    "ExecuteTime": {
     "end_time": "2018-05-05T23:03:17.217732Z",
     "start_time": "2018-05-05T23:03:17.138483Z"
    }
   },
   "outputs": [
    {
     "name": "stderr",
     "output_type": "stream",
     "text": [
      "2023-10-16 14:57:00.183134: I tensorflow/stream_executor/cuda/cuda_gpu_executor.cc:980] successful NUMA node read from SysFS had negative value (-1), but there must be at least one NUMA node, so returning NUMA node zero\n",
      "2023-10-16 14:57:00.197417: I tensorflow/stream_executor/cuda/cuda_gpu_executor.cc:980] successful NUMA node read from SysFS had negative value (-1), but there must be at least one NUMA node, so returning NUMA node zero\n",
      "2023-10-16 14:57:00.197554: I tensorflow/stream_executor/cuda/cuda_gpu_executor.cc:980] successful NUMA node read from SysFS had negative value (-1), but there must be at least one NUMA node, so returning NUMA node zero\n",
      "2023-10-16 14:57:00.197919: I tensorflow/core/platform/cpu_feature_guard.cc:193] This TensorFlow binary is optimized with oneAPI Deep Neural Network Library (oneDNN) to use the following CPU instructions in performance-critical operations:  SSE4.1 SSE4.2 AVX AVX2 AVX_VNNI FMA\n",
      "To enable them in other operations, rebuild TensorFlow with the appropriate compiler flags.\n",
      "2023-10-16 14:57:00.199271: I tensorflow/stream_executor/cuda/cuda_gpu_executor.cc:980] successful NUMA node read from SysFS had negative value (-1), but there must be at least one NUMA node, so returning NUMA node zero\n",
      "2023-10-16 14:57:00.199393: I tensorflow/stream_executor/cuda/cuda_gpu_executor.cc:980] successful NUMA node read from SysFS had negative value (-1), but there must be at least one NUMA node, so returning NUMA node zero\n",
      "2023-10-16 14:57:00.199452: I tensorflow/stream_executor/cuda/cuda_gpu_executor.cc:980] successful NUMA node read from SysFS had negative value (-1), but there must be at least one NUMA node, so returning NUMA node zero\n",
      "2023-10-16 14:57:00.249606: I tensorflow/stream_executor/cuda/cuda_gpu_executor.cc:980] successful NUMA node read from SysFS had negative value (-1), but there must be at least one NUMA node, so returning NUMA node zero\n",
      "2023-10-16 14:57:00.249709: I tensorflow/stream_executor/cuda/cuda_gpu_executor.cc:980] successful NUMA node read from SysFS had negative value (-1), but there must be at least one NUMA node, so returning NUMA node zero\n",
      "2023-10-16 14:57:00.249765: I tensorflow/stream_executor/cuda/cuda_gpu_executor.cc:980] successful NUMA node read from SysFS had negative value (-1), but there must be at least one NUMA node, so returning NUMA node zero\n",
      "2023-10-16 14:57:00.249820: I tensorflow/core/common_runtime/gpu/gpu_device.cc:1616] Created device /job:localhost/replica:0/task:0/device:GPU:0 with 14030 MB memory:  -> device: 0, name: NVIDIA GeForce RTX 3080 Ti Laptop GPU, pci bus id: 0000:01:00.0, compute capability: 8.6\n"
     ]
    }
   ],
   "source": [
    "# building a linear stack of layers with the sequential model\n",
    "model = tf.keras.models.Sequential()\n",
    "\n",
    "# Add the input layer and hidden layer 1\n",
    "model.add(tf.keras.layers.Conv2D(\n",
    "    32, \n",
    "    kernel_size=(3, 3), \n",
    "    activation='relu', \n",
    "    input_shape=input_shape)\n",
    ")\n",
    "\n",
    "# Add the input layer and hidden layer 2\n",
    "model.add(tf.keras.layers.Conv2D(\n",
    "    64, \n",
    "    (3, 3), \n",
    "    activation='relu')\n",
    ")\n",
    "\n",
    "# Flatten convolutional output\n",
    "model.add(tf.keras.layers.Flatten())\n",
    "\n",
    "# Add the input layer and hidden layer 3\n",
    "model.add(tf.keras.layers.Dense(128, activation='relu'))\n",
    "\n",
    "# Add the output layer\n",
    "model.add(tf.keras.layers.Dense(10, activation='softmax'))\n"
   ]
  },
  {
   "cell_type": "markdown",
   "metadata": {},
   "source": [
    "#### Model visualization"
   ]
  },
  {
   "cell_type": "code",
   "execution_count": 8,
   "metadata": {
    "ExecuteTime": {
     "end_time": "2018-05-05T23:03:23.454884Z",
     "start_time": "2018-05-05T23:03:19.263234Z"
    }
   },
   "outputs": [
    {
     "name": "stdout",
     "output_type": "stream",
     "text": [
      "Model: \"sequential\"\n",
      "_________________________________________________________________\n",
      " Layer (type)                Output Shape              Param #   \n",
      "=================================================================\n",
      " conv2d (Conv2D)             (None, 26, 26, 32)        320       \n",
      "                                                                 \n",
      " conv2d_1 (Conv2D)           (None, 24, 24, 64)        18496     \n",
      "                                                                 \n",
      " flatten (Flatten)           (None, 36864)             0         \n",
      "                                                                 \n",
      " dense (Dense)               (None, 128)               4718720   \n",
      "                                                                 \n",
      " dense_1 (Dense)             (None, 10)                1290      \n",
      "                                                                 \n",
      "=================================================================\n",
      "Total params: 4,738,826\n",
      "Trainable params: 4,738,826\n",
      "Non-trainable params: 0\n",
      "_________________________________________________________________\n"
     ]
    }
   ],
   "source": [
    "# plot a Keras model\n",
    "tf.keras.utils.plot_model(\n",
    "    model, \n",
    "    to_file='img/model05_cnn.png',\n",
    "    show_shapes=True, \n",
    "    show_layer_names=True\n",
    ")\n",
    "\n",
    "# prints a summary representation of your model\n",
    "model.summary()\n"
   ]
  },
  {
   "cell_type": "markdown",
   "metadata": {},
   "source": [
    "![Deep neural network](src/img/model05_cnn.png)"
   ]
  },
  {
   "cell_type": "markdown",
   "metadata": {},
   "source": [
    "## 3. Compile model"
   ]
  },
  {
   "cell_type": "code",
   "execution_count": 9,
   "metadata": {
    "ExecuteTime": {
     "end_time": "2018-05-05T22:23:38.915185Z",
     "start_time": "2018-05-05T22:23:38.877109Z"
    }
   },
   "outputs": [],
   "source": [
    "# compiling the sequential model\n",
    "model.compile(\n",
    "    \"rmsprop\",\n",
    "    loss=\"categorical_crossentropy\",\n",
    "    metrics=[\"categorical_accuracy\"],\n",
    ")\n"
   ]
  },
  {
   "cell_type": "markdown",
   "metadata": {},
   "source": [
    "## 4. Fit model"
   ]
  },
  {
   "cell_type": "code",
   "execution_count": 10,
   "metadata": {
    "ExecuteTime": {
     "end_time": "2018-05-05T22:36:54.093863Z",
     "start_time": "2018-05-05T22:23:38.917142Z"
    }
   },
   "outputs": [
    {
     "name": "stdout",
     "output_type": "stream",
     "text": [
      "Epoch 1/50\n"
     ]
    },
    {
     "name": "stderr",
     "output_type": "stream",
     "text": [
      "2023-10-16 14:57:00.796142: I tensorflow/stream_executor/cuda/cuda_dnn.cc:384] Loaded cuDNN version 8800\n",
      "2023-10-16 14:57:00.858921: I tensorflow/core/platform/default/subprocess.cc:304] Start cannot spawn child process: No such file or directory\n",
      "2023-10-16 14:57:00.859520: I tensorflow/core/platform/default/subprocess.cc:304] Start cannot spawn child process: No such file or directory\n",
      "2023-10-16 14:57:00.859536: W tensorflow/stream_executor/gpu/asm_compiler.cc:80] Couldn't get ptxas version string: INTERNAL: Couldn't invoke ptxas --version\n",
      "2023-10-16 14:57:00.860076: I tensorflow/core/platform/default/subprocess.cc:304] Start cannot spawn child process: No such file or directory\n",
      "2023-10-16 14:57:00.860097: W tensorflow/stream_executor/gpu/redzone_allocator.cc:314] INTERNAL: Failed to launch ptxas\n",
      "Relying on driver to perform ptx compilation. \n",
      "Modify $PATH to customize ptxas location.\n",
      "This message will be only logged once.\n",
      "2023-10-16 14:57:00.901000: I tensorflow/stream_executor/cuda/cuda_blas.cc:1614] TensorFloat-32 will be used for the matrix multiplication. This will only be logged once.\n"
     ]
    },
    {
     "name": "stdout",
     "output_type": "stream",
     "text": [
      "235/235 - 2s - loss: 0.1925 - categorical_accuracy: 0.9425 - val_loss: 0.0567 - val_categorical_accuracy: 0.9814 - 2s/epoch - 10ms/step\n",
      "Epoch 2/50\n",
      "235/235 - 1s - loss: 0.0431 - categorical_accuracy: 0.9870 - val_loss: 0.0383 - val_categorical_accuracy: 0.9873 - 1s/epoch - 6ms/step\n",
      "Epoch 3/50\n",
      "235/235 - 2s - loss: 0.0239 - categorical_accuracy: 0.9926 - val_loss: 0.0383 - val_categorical_accuracy: 0.9872 - 2s/epoch - 6ms/step\n",
      "Epoch 4/50\n",
      "235/235 - 2s - loss: 0.0130 - categorical_accuracy: 0.9958 - val_loss: 0.0406 - val_categorical_accuracy: 0.9887 - 2s/epoch - 7ms/step\n",
      "Epoch 5/50\n",
      "235/235 - 1s - loss: 0.0084 - categorical_accuracy: 0.9974 - val_loss: 0.0490 - val_categorical_accuracy: 0.9866 - 1s/epoch - 6ms/step\n",
      "Epoch 6/50\n",
      "235/235 - 2s - loss: 0.0055 - categorical_accuracy: 0.9983 - val_loss: 0.0481 - val_categorical_accuracy: 0.9879 - 2s/epoch - 6ms/step\n",
      "Epoch 7/50\n",
      "235/235 - 1s - loss: 0.0033 - categorical_accuracy: 0.9991 - val_loss: 0.0407 - val_categorical_accuracy: 0.9903 - 1s/epoch - 6ms/step\n",
      "Epoch 8/50\n",
      "235/235 - 1s - loss: 0.0022 - categorical_accuracy: 0.9993 - val_loss: 0.0524 - val_categorical_accuracy: 0.9901 - 1s/epoch - 6ms/step\n",
      "Epoch 9/50\n",
      "235/235 - 1s - loss: 0.0013 - categorical_accuracy: 0.9996 - val_loss: 0.0610 - val_categorical_accuracy: 0.9885 - 1s/epoch - 6ms/step\n",
      "Epoch 10/50\n",
      "235/235 - 1s - loss: 9.0926e-04 - categorical_accuracy: 0.9997 - val_loss: 0.0645 - val_categorical_accuracy: 0.9895 - 1s/epoch - 6ms/step\n",
      "Epoch 11/50\n",
      "235/235 - 2s - loss: 8.8504e-04 - categorical_accuracy: 0.9997 - val_loss: 0.0678 - val_categorical_accuracy: 0.9885 - 2s/epoch - 6ms/step\n",
      "Epoch 12/50\n",
      "235/235 - 1s - loss: 7.2606e-04 - categorical_accuracy: 0.9997 - val_loss: 0.0815 - val_categorical_accuracy: 0.9879 - 1s/epoch - 6ms/step\n",
      "Epoch 13/50\n",
      "235/235 - 1s - loss: 6.7812e-04 - categorical_accuracy: 0.9998 - val_loss: 0.0823 - val_categorical_accuracy: 0.9880 - 1s/epoch - 6ms/step\n",
      "Epoch 14/50\n",
      "235/235 - 1s - loss: 6.5632e-04 - categorical_accuracy: 0.9998 - val_loss: 0.0819 - val_categorical_accuracy: 0.9900 - 1s/epoch - 6ms/step\n",
      "Epoch 15/50\n",
      "235/235 - 1s - loss: 0.0011 - categorical_accuracy: 0.9996 - val_loss: 0.0835 - val_categorical_accuracy: 0.9878 - 1s/epoch - 6ms/step\n",
      "Epoch 16/50\n",
      "235/235 - 1s - loss: 4.8736e-04 - categorical_accuracy: 0.9998 - val_loss: 0.0877 - val_categorical_accuracy: 0.9883 - 1s/epoch - 6ms/step\n",
      "Epoch 17/50\n",
      "235/235 - 1s - loss: 3.6219e-04 - categorical_accuracy: 0.9999 - val_loss: 0.0909 - val_categorical_accuracy: 0.9892 - 1s/epoch - 6ms/step\n",
      "Epoch 18/50\n",
      "235/235 - 1s - loss: 2.9491e-04 - categorical_accuracy: 0.9999 - val_loss: 0.0929 - val_categorical_accuracy: 0.9888 - 1s/epoch - 6ms/step\n",
      "Epoch 19/50\n",
      "235/235 - 2s - loss: 8.4291e-05 - categorical_accuracy: 0.9999 - val_loss: 0.0922 - val_categorical_accuracy: 0.9887 - 2s/epoch - 6ms/step\n",
      "Epoch 20/50\n",
      "235/235 - 1s - loss: 4.2544e-04 - categorical_accuracy: 0.9999 - val_loss: 0.1025 - val_categorical_accuracy: 0.9891 - 1s/epoch - 6ms/step\n",
      "Epoch 21/50\n",
      "235/235 - 1s - loss: 2.8694e-04 - categorical_accuracy: 0.9999 - val_loss: 0.1005 - val_categorical_accuracy: 0.9880 - 1s/epoch - 6ms/step\n",
      "Epoch 22/50\n",
      "235/235 - 1s - loss: 2.3826e-04 - categorical_accuracy: 0.9999 - val_loss: 0.0991 - val_categorical_accuracy: 0.9890 - 1s/epoch - 6ms/step\n",
      "Epoch 23/50\n",
      "235/235 - 1s - loss: 2.4650e-04 - categorical_accuracy: 0.9999 - val_loss: 0.1005 - val_categorical_accuracy: 0.9889 - 1s/epoch - 6ms/step\n",
      "Epoch 24/50\n",
      "235/235 - 1s - loss: 4.3056e-04 - categorical_accuracy: 0.9999 - val_loss: 0.1120 - val_categorical_accuracy: 0.9897 - 1s/epoch - 6ms/step\n",
      "Epoch 25/50\n",
      "235/235 - 1s - loss: 4.6688e-05 - categorical_accuracy: 1.0000 - val_loss: 0.1171 - val_categorical_accuracy: 0.9891 - 1s/epoch - 6ms/step\n",
      "Epoch 26/50\n",
      "235/235 - 1s - loss: 1.1032e-04 - categorical_accuracy: 0.9999 - val_loss: 0.1258 - val_categorical_accuracy: 0.9888 - 1s/epoch - 6ms/step\n",
      "Epoch 27/50\n",
      "235/235 - 1s - loss: 1.9069e-04 - categorical_accuracy: 1.0000 - val_loss: 0.1308 - val_categorical_accuracy: 0.9888 - 1s/epoch - 6ms/step\n",
      "Epoch 28/50\n",
      "235/235 - 1s - loss: 6.9236e-05 - categorical_accuracy: 0.9999 - val_loss: 0.1169 - val_categorical_accuracy: 0.9885 - 1s/epoch - 6ms/step\n",
      "Epoch 29/50\n",
      "235/235 - 1s - loss: 2.6233e-04 - categorical_accuracy: 0.9999 - val_loss: 0.1109 - val_categorical_accuracy: 0.9901 - 1s/epoch - 6ms/step\n",
      "Epoch 30/50\n",
      "235/235 - 1s - loss: 1.6660e-04 - categorical_accuracy: 1.0000 - val_loss: 0.1163 - val_categorical_accuracy: 0.9896 - 1s/epoch - 6ms/step\n",
      "Epoch 31/50\n",
      "235/235 - 1s - loss: 3.1990e-08 - categorical_accuracy: 1.0000 - val_loss: 0.1404 - val_categorical_accuracy: 0.9887 - 1s/epoch - 6ms/step\n",
      "Epoch 32/50\n",
      "235/235 - 1s - loss: 3.7471e-09 - categorical_accuracy: 1.0000 - val_loss: 0.1328 - val_categorical_accuracy: 0.9900 - 1s/epoch - 6ms/step\n",
      "Epoch 33/50\n",
      "235/235 - 1s - loss: 2.2848e-10 - categorical_accuracy: 1.0000 - val_loss: 0.1327 - val_categorical_accuracy: 0.9898 - 1s/epoch - 6ms/step\n",
      "Epoch 34/50\n",
      "235/235 - 1s - loss: 1.2914e-10 - categorical_accuracy: 1.0000 - val_loss: 0.1332 - val_categorical_accuracy: 0.9898 - 1s/epoch - 6ms/step\n",
      "Epoch 35/50\n",
      "235/235 - 1s - loss: 1.0133e-10 - categorical_accuracy: 1.0000 - val_loss: 0.1329 - val_categorical_accuracy: 0.9899 - 1s/epoch - 6ms/step\n",
      "Epoch 36/50\n",
      "235/235 - 2s - loss: 9.7354e-11 - categorical_accuracy: 1.0000 - val_loss: 0.1330 - val_categorical_accuracy: 0.9898 - 2s/epoch - 6ms/step\n",
      "Epoch 37/50\n",
      "235/235 - 1s - loss: 8.1460e-11 - categorical_accuracy: 1.0000 - val_loss: 0.1330 - val_categorical_accuracy: 0.9898 - 1s/epoch - 6ms/step\n",
      "Epoch 38/50\n",
      "235/235 - 2s - loss: 6.9539e-11 - categorical_accuracy: 1.0000 - val_loss: 0.1331 - val_categorical_accuracy: 0.9899 - 2s/epoch - 6ms/step\n",
      "Epoch 39/50\n",
      "235/235 - 1s - loss: 6.1591e-11 - categorical_accuracy: 1.0000 - val_loss: 0.1328 - val_categorical_accuracy: 0.9899 - 1s/epoch - 6ms/step\n",
      "Epoch 40/50\n",
      "235/235 - 1s - loss: 5.7618e-11 - categorical_accuracy: 1.0000 - val_loss: 0.1329 - val_categorical_accuracy: 0.9898 - 1s/epoch - 6ms/step\n",
      "Epoch 41/50\n",
      "235/235 - 1s - loss: 5.7618e-11 - categorical_accuracy: 1.0000 - val_loss: 0.1326 - val_categorical_accuracy: 0.9899 - 1s/epoch - 6ms/step\n",
      "Epoch 42/50\n",
      "235/235 - 1s - loss: 5.1657e-11 - categorical_accuracy: 1.0000 - val_loss: 0.1324 - val_categorical_accuracy: 0.9900 - 1s/epoch - 6ms/step\n",
      "Epoch 43/50\n",
      "235/235 - 1s - loss: 4.9671e-11 - categorical_accuracy: 1.0000 - val_loss: 0.1323 - val_categorical_accuracy: 0.9900 - 1s/epoch - 6ms/step\n",
      "Epoch 44/50\n",
      "235/235 - 1s - loss: 4.3710e-11 - categorical_accuracy: 1.0000 - val_loss: 0.1323 - val_categorical_accuracy: 0.9900 - 1s/epoch - 6ms/step\n",
      "Epoch 45/50\n",
      "235/235 - 1s - loss: 3.7750e-11 - categorical_accuracy: 1.0000 - val_loss: 0.1323 - val_categorical_accuracy: 0.9898 - 1s/epoch - 6ms/step\n",
      "Epoch 46/50\n",
      "235/235 - 1s - loss: 4.1723e-11 - categorical_accuracy: 1.0000 - val_loss: 0.1319 - val_categorical_accuracy: 0.9900 - 1s/epoch - 6ms/step\n",
      "Epoch 47/50\n",
      "235/235 - 1s - loss: 5.3644e-11 - categorical_accuracy: 1.0000 - val_loss: 0.1320 - val_categorical_accuracy: 0.9899 - 1s/epoch - 6ms/step\n",
      "Epoch 48/50\n",
      "235/235 - 1s - loss: 4.5697e-11 - categorical_accuracy: 1.0000 - val_loss: 0.1319 - val_categorical_accuracy: 0.9899 - 1s/epoch - 6ms/step\n",
      "Epoch 49/50\n",
      "235/235 - 2s - loss: 3.5763e-11 - categorical_accuracy: 1.0000 - val_loss: 0.1319 - val_categorical_accuracy: 0.9899 - 2s/epoch - 6ms/step\n",
      "Epoch 50/50\n",
      "235/235 - 1s - loss: 4.1723e-11 - categorical_accuracy: 1.0000 - val_loss: 0.1316 - val_categorical_accuracy: 0.9899 - 1s/epoch - 6ms/step\n"
     ]
    }
   ],
   "source": [
    "# training the model and saving metrics in history\n",
    "history = model.fit(\n",
    "    X_train,\n",
    "    y_train_cat,\n",
    "    batch_size=256,\n",
    "    epochs=50,\n",
    "    verbose=2,\n",
    "    validation_data=(X_test, y_test_cat),\n",
    ")\n"
   ]
  },
  {
   "cell_type": "markdown",
   "metadata": {},
   "source": [
    "## 5. Evaluate model"
   ]
  },
  {
   "cell_type": "code",
   "execution_count": 11,
   "metadata": {
    "ExecuteTime": {
     "end_time": "2018-05-05T22:36:54.446810Z",
     "start_time": "2018-05-05T22:36:54.096264Z"
    }
   },
   "outputs": [
    {
     "data": {
      "image/png": "[encoded data removed]",
      "text/plain": [
       "<Figure size 640x480 with 2 Axes>"
      ]
     },
     "metadata": {},
     "output_type": "display_data"
    }
   ],
   "source": [
    "# plotting the metrics\n",
    "fig = plt.figure()\n",
    "plt.subplot(2,1,1)\n",
    "plt.plot(history.history['categorical_accuracy'])\n",
    "plt.plot(history.history['val_categorical_accuracy'])\n",
    "plt.title('model accuracy')\n",
    "plt.ylabel('accuracy')\n",
    "plt.xlabel('epoch')\n",
    "plt.legend(['train', 'test'], loc='lower right')\n",
    "\n",
    "plt.subplot(2,1,2)\n",
    "plt.plot(history.history['loss'])\n",
    "plt.plot(history.history['val_loss'])\n",
    "plt.title('model loss')\n",
    "plt.ylabel('loss')\n",
    "plt.xlabel('epoch')\n",
    "plt.legend(['train', 'test'], loc='upper right')\n",
    "\n",
    "plt.tight_layout()\n"
   ]
  },
  {
   "cell_type": "code",
   "execution_count": 12,
   "metadata": {
    "ExecuteTime": {
     "end_time": "2018-05-05T22:36:56.099721Z",
     "start_time": "2018-05-05T22:36:54.448778Z"
    }
   },
   "outputs": [
    {
     "name": "stdout",
     "output_type": "stream",
     "text": [
      "313/313 [==============================] - 0s 1ms/step - loss: 0.1316 - categorical_accuracy: 0.9899\n",
      "Evaluation result on Test Data:\n",
      "Loss = 0.13159455358982086\n",
      "Accuracy = 0.9898999929428101\n"
     ]
    }
   ],
   "source": [
    "# evaluate model on test data\n",
    "[test_loss, test_acc] = model.evaluate(X_test, y_test_cat)\n",
    "print(\n",
    "    \"Evaluation result on Test Data:\\nLoss = {}\\nAccuracy = {}\".format(\n",
    "        test_loss, test_acc\n",
    "    )\n",
    ")\n"
   ]
  },
  {
   "cell_type": "markdown",
   "metadata": {},
   "source": [
    "## References\n",
    "\n",
    "* [Deep Learning Book](http://www.deeplearningbook.org)\n",
    "\n",
    "* [Zero to Deep Learning™ Udemy Video Course](https://github.com/dataweekends/zero_to_deep_learning_udemy)\n",
    "\n",
    "* [THE MNIST DATABASE](http://yann.lecun.com/exdb/mnist/)"
   ]
  }
 ],
 "metadata": {
  "kernelspec": {
   "display_name": "Python 3 (ipykernel)",
   "language": "python",
   "name": "python3"
  },
  "language_info": {
   "codemirror_mode": {
    "name": "ipython",
    "version": 3
   },
   "file_extension": ".py",
   "mimetype": "text/x-python",
   "name": "python",
   "nbconvert_exporter": "python",
   "pygments_lexer": "ipython3",
   "version": "3.10.8"
  }
 },
 "nbformat": 4,
 "nbformat_minor": 2
}
