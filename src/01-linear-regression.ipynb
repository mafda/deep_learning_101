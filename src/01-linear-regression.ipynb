{
 "cells": [
  {
   "cell_type": "markdown",
   "metadata": {},
   "source": [
    "# Deep Learning 101\n",
    "\n",
    "This notebook presents the basic notions that involve the concept of Deep Learning.\n",
    "\n",
    "1. **Linear Regression**\n",
    "2. Logistic Regression\n",
    "3. Artificial Neural Networks\n",
    "4. Deep Neural Networks\n",
    "5. Convolutional Neural Networks\n",
    "\n",
    "## 1. Linear Regression\n",
    "\n",
    "Linear regression is a simple machine learning algorithm. This solves a regression problem. \n",
    "\n",
    "* The goal is to build a system that can take a vector $\\mathbf{x} \\in \\mathbb{R}^n$ as input and predict the value of a scalar $y \\in \\mathbb{R}$ as its output.\n",
    "* The output is a linear function of the input.\n",
    "* We define the output to be $\\hat{y}=\\mathbf{w}^{\\top}\\mathbf{x}+\\mathbf{b}$\n",
    "    * $\\hat{y}$ is the value that our model predicts\n",
    "    * $\\mathbf{w}$ as a set of weights\n",
    "    * $\\mathbf{b}$ the bias parameter\n",
    "    \n",
    "In order **to find the best possible model to describe our data, we need to find a way to decide how good a model is.**\n",
    "\n",
    "\n",
    "### Cost function\n",
    "\n",
    "It's often preferable to use the cost function called **Mean Squared Error**.\n",
    "\n",
    "$$MSE = \\frac{1}{n} \\sum_{i} (y_i - \\hat{y}_i)^2$$\n",
    " \n",
    "The MSE is preferable because it's smooth and is guaranteed to have a global minimum.\n",
    "\n",
    "### Gradient Descent\n",
    "\n",
    "Gradient descent is an optimization algorithm that refers to the task of either minimizing or maximizing some function $f (x)$ by altering $x$.\n",
    "\n",
    "When we are minimizing it, we may also call it the **cost function, loss function**, or **error function**.\n",
    "\n",
    "We can thus reduce $f(x)$ by moving $x$ in **small steps** with opposite sign of the derivative.\n",
    "\n",
    "$$\\nabla f =\n",
    "    \\begin{bmatrix}\n",
    "        \\frac{\\partial f}{\\partial x_1} \\\\\n",
    "        \\frac{\\partial f}{\\partial x_2}\n",
    "    \\end{bmatrix}\n",
    "$$\n",
    "\n",
    "\n",
    "### Learning Rate\n",
    "\n",
    "Positive scalar determining the size of the step.\n",
    "\n",
    "$$x'=x-\\epsilon\\nabla_x f(x)$$\n",
    "* $\\epsilon$ this is called **learning rate**\n",
    "\n",
    "----\n"
   ]
  },
  {
   "cell_type": "markdown",
   "metadata": {},
   "source": [
    "## Linear Regression with Keras and TensorFlow\n",
    "\n",
    "\n",
    "| **Keras**      | **Example**                                                         | **Link**                 |\n",
    "| -------------- |:------------------------------------------------------------------: | :-----------------------:|\n",
    "| **Loss functions**| binary-cross-entropy, categorical-cross-entropy, mean-squared-error | [keras.io/losses/](https://keras.io/losses/)|\n",
    "| **Optimizers** | SGD, Adam, RMSprop, AdaGrad, AdaDelta | [keras.io/optimizers/](https://keras.io/optimizers/)|\n",
    "\n",
    "![optimizers gif](img/optimizers.gif)\n",
    "\n",
    "---\n",
    "\n",
    "## 1. Load data\n",
    "\n",
    "#### Load libraries"
   ]
  },
  {
   "cell_type": "code",
   "execution_count": 1,
   "metadata": {
    "ExecuteTime": {
     "end_time": "2018-05-05T21:24:47.270942Z",
     "start_time": "2018-05-05T21:24:46.619760Z"
    }
   },
   "outputs": [],
   "source": [
    "import matplotlib.pyplot as plt\n",
    "import numpy as np\n",
    "import pandas as pd\n",
    "import tensorflow as tf"
   ]
  },
  {
   "cell_type": "code",
   "execution_count": 2,
   "metadata": {},
   "outputs": [],
   "source": [
    "np.random.seed(12049)"
   ]
  },
  {
   "cell_type": "markdown",
   "metadata": {},
   "source": [
    "#### Getting the data"
   ]
  },
  {
   "cell_type": "code",
   "execution_count": 3,
   "metadata": {
    "ExecuteTime": {
     "end_time": "2018-05-05T21:25:03.315671Z",
     "start_time": "2018-05-05T21:25:03.285697Z"
    }
   },
   "outputs": [
    {
     "data": {
      "text/html": [
       "<div>\n",
       "<style scoped>\n",
       "    .dataframe tbody tr th:only-of-type {\n",
       "        vertical-align: middle;\n",
       "    }\n",
       "\n",
       "    .dataframe tbody tr th {\n",
       "        vertical-align: top;\n",
       "    }\n",
       "\n",
       "    .dataframe thead th {\n",
       "        text-align: right;\n",
       "    }\n",
       "</style>\n",
       "<table border=\"1\" class=\"dataframe\">\n",
       "  <thead>\n",
       "    <tr style=\"text-align: right;\">\n",
       "      <th></th>\n",
       "      <th>Gender</th>\n",
       "      <th>Height</th>\n",
       "      <th>Weight</th>\n",
       "    </tr>\n",
       "  </thead>\n",
       "  <tbody>\n",
       "    <tr>\n",
       "      <th>0</th>\n",
       "      <td>Male</td>\n",
       "      <td>73.847017</td>\n",
       "      <td>241.893563</td>\n",
       "    </tr>\n",
       "    <tr>\n",
       "      <th>1</th>\n",
       "      <td>Male</td>\n",
       "      <td>68.781904</td>\n",
       "      <td>162.310473</td>\n",
       "    </tr>\n",
       "    <tr>\n",
       "      <th>2</th>\n",
       "      <td>Male</td>\n",
       "      <td>74.110105</td>\n",
       "      <td>212.740856</td>\n",
       "    </tr>\n",
       "    <tr>\n",
       "      <th>3</th>\n",
       "      <td>Male</td>\n",
       "      <td>71.730978</td>\n",
       "      <td>220.042470</td>\n",
       "    </tr>\n",
       "    <tr>\n",
       "      <th>4</th>\n",
       "      <td>Male</td>\n",
       "      <td>69.881796</td>\n",
       "      <td>206.349801</td>\n",
       "    </tr>\n",
       "  </tbody>\n",
       "</table>\n",
       "</div>"
      ],
      "text/plain": [
       "  Gender     Height      Weight\n",
       "0   Male  73.847017  241.893563\n",
       "1   Male  68.781904  162.310473\n",
       "2   Male  74.110105  212.740856\n",
       "3   Male  71.730978  220.042470\n",
       "4   Male  69.881796  206.349801"
      ]
     },
     "execution_count": 3,
     "metadata": {},
     "output_type": "execute_result"
    }
   ],
   "source": [
    "# read csv function, dataset\n",
    "df = pd.read_csv('data/weight-height.csv')\n",
    "# head method shows the first five lines of data frame\n",
    "df.head()"
   ]
  },
  {
   "cell_type": "markdown",
   "metadata": {},
   "source": [
    "#### Explore visual data"
   ]
  },
  {
   "cell_type": "code",
   "execution_count": 10,
   "metadata": {
    "ExecuteTime": {
     "end_time": "2018-05-05T21:25:03.639405Z",
     "start_time": "2018-05-05T21:25:03.317599Z"
    }
   },
   "outputs": [
    {
     "data": {
      "image/png": "[encoded data removed]",
      "text/plain": [
       "<Figure size 640x480 with 1 Axes>"
      ]
     },
     "metadata": {},
     "output_type": "display_data"
    }
   ],
   "source": [
    "# scatter plot (not order, correlation)\n",
    "plot = df.plot(kind='scatter',\n",
    "        x='Height', y='Weight',\n",
    "        title='Weight(lb) and Height(in) in adults')"
   ]
  },
  {
   "cell_type": "code",
   "execution_count": 7,
   "metadata": {
    "ExecuteTime": {
     "end_time": "2018-05-05T21:25:03.645796Z",
     "start_time": "2018-05-05T21:25:03.641427Z"
    }
   },
   "outputs": [],
   "source": [
    "# independent variable\n",
    "X = df[['Height']].values\n",
    "\n",
    "# dependent variable\n",
    "y_true = df['Weight'].values"
   ]
  },
  {
   "cell_type": "markdown",
   "metadata": {},
   "source": [
    "## 2. Define model"
   ]
  },
  {
   "cell_type": "code",
   "execution_count": 8,
   "metadata": {
    "ExecuteTime": {
     "end_time": "2018-05-05T21:25:03.664508Z",
     "start_time": "2018-05-05T21:25:03.647794Z"
    }
   },
   "outputs": [],
   "source": [
    "# building a linear stack of layers with the sequential model\n",
    "model = tf.keras.Sequential()\n",
    "\n",
    "# Add layer\n",
    "model.add(tf.keras.layers.Dense(1, input_shape=(1,)))"
   ]
  },
  {
   "cell_type": "markdown",
   "metadata": {},
   "source": [
    "#### Model visualization"
   ]
  },
  {
   "cell_type": "code",
   "execution_count": 9,
   "metadata": {
    "ExecuteTime": {
     "end_time": "2018-05-05T21:25:08.079037Z",
     "start_time": "2018-05-05T21:25:03.666464Z"
    }
   },
   "outputs": [
    {
     "name": "stdout",
     "output_type": "stream",
     "text": [
      "Model: \"sequential\"\n",
      "_________________________________________________________________\n",
      " Layer (type)                Output Shape              Param #   \n",
      "=================================================================\n",
      " dense (Dense)               (None, 1)                 2         \n",
      "                                                                 \n",
      "=================================================================\n",
      "Total params: 2\n",
      "Trainable params: 2\n",
      "Non-trainable params: 0\n",
      "_________________________________________________________________\n"
     ]
    }
   ],
   "source": [
    "# plot a Keras model\n",
    "tf.keras.utils.plot_model(model, to_file='img/model01_lin_reg.png',\n",
    "           show_shapes=True, show_layer_names=True)\n",
    "\n",
    "# prints a summary representation of your model\n",
    "model.summary()"
   ]
  },
  {
   "cell_type": "markdown",
   "metadata": {},
   "source": [
    "![Linear regression](img/model01_lin_reg.png)"
   ]
  },
  {
   "cell_type": "markdown",
   "metadata": {},
   "source": [
    "## 3. Compile model"
   ]
  },
  {
   "cell_type": "code",
   "execution_count": 12,
   "metadata": {
    "ExecuteTime": {
     "end_time": "2018-05-05T21:25:08.113576Z",
     "start_time": "2018-05-05T21:25:08.081324Z"
    }
   },
   "outputs": [
    {
     "name": "stderr",
     "output_type": "stream",
     "text": [
      "WARNING:absl:At this time, the v2.11+ optimizer `tf.keras.optimizers.Adam` runs slowly on M1/M2 Macs, please use the legacy Keras optimizer instead, located at `tf.keras.optimizers.legacy.Adam`.\n",
      "WARNING:absl:There is a known slowdown when using v2.11+ Keras optimizers on M1/M2 Macs. Falling back to the legacy Keras optimizer, i.e., `tf.keras.optimizers.legacy.Adam`.\n"
     ]
    }
   ],
   "source": [
    "# compiling the sequential model\n",
    "model.compile(tf.keras.optimizers.Adam(learning_rate=0.6), loss='mean_squared_error', metrics=['mse'])"
   ]
  },
  {
   "cell_type": "markdown",
   "metadata": {},
   "source": [
    "## 4. Fit model"
   ]
  },
  {
   "cell_type": "code",
   "execution_count": 13,
   "metadata": {
    "ExecuteTime": {
     "end_time": "2018-05-05T21:25:43.776445Z",
     "start_time": "2018-05-05T21:25:08.115538Z"
    }
   },
   "outputs": [
    {
     "name": "stdout",
     "output_type": "stream",
     "text": [
      "Epoch 1/50\n",
      "  1/313 [..............................] - ETA: 53s - loss: 48450.5391 - mse: 48450.5391"
     ]
    },
    {
     "name": "stderr",
     "output_type": "stream",
     "text": [
      "2023-10-12 16:14:37.601951: W tensorflow/tsl/platform/profile_utils/cpu_utils.cc:128] Failed to get CPU frequency: 0 Hz\n"
     ]
    },
    {
     "name": "stdout",
     "output_type": "stream",
     "text": [
      "313/313 [==============================] - 0s 501us/step - loss: 1130.7733 - mse: 1130.7733\n",
      "Epoch 2/50\n",
      "313/313 [==============================] - 0s 459us/step - loss: 564.2110 - mse: 564.2110\n",
      "Epoch 3/50\n",
      "313/313 [==============================] - 0s 457us/step - loss: 536.7604 - mse: 536.7604\n",
      "Epoch 4/50\n",
      "313/313 [==============================] - 0s 460us/step - loss: 499.5184 - mse: 499.5184\n",
      "Epoch 5/50\n",
      "313/313 [==============================] - 0s 456us/step - loss: 474.5327 - mse: 474.5327\n",
      "Epoch 6/50\n",
      "313/313 [==============================] - 0s 457us/step - loss: 445.9250 - mse: 445.9250\n",
      "Epoch 7/50\n",
      "313/313 [==============================] - 0s 459us/step - loss: 398.9161 - mse: 398.9161\n",
      "Epoch 8/50\n",
      "313/313 [==============================] - 0s 455us/step - loss: 391.0186 - mse: 391.0186\n",
      "Epoch 9/50\n",
      "313/313 [==============================] - 0s 457us/step - loss: 339.4918 - mse: 339.4918\n",
      "Epoch 10/50\n",
      "313/313 [==============================] - 0s 456us/step - loss: 315.3807 - mse: 315.3807\n",
      "Epoch 11/50\n",
      "313/313 [==============================] - 0s 462us/step - loss: 292.6156 - mse: 292.6156\n",
      "Epoch 12/50\n",
      "313/313 [==============================] - 0s 461us/step - loss: 276.7660 - mse: 276.7660\n",
      "Epoch 13/50\n",
      "313/313 [==============================] - 0s 517us/step - loss: 253.8212 - mse: 253.8212\n",
      "Epoch 14/50\n",
      "313/313 [==============================] - 0s 462us/step - loss: 249.8539 - mse: 249.8539\n",
      "Epoch 15/50\n",
      "313/313 [==============================] - 0s 451us/step - loss: 225.3709 - mse: 225.3709\n",
      "Epoch 16/50\n",
      "313/313 [==============================] - 0s 453us/step - loss: 223.4085 - mse: 223.4085\n",
      "Epoch 17/50\n",
      "313/313 [==============================] - 0s 455us/step - loss: 204.5017 - mse: 204.5017\n",
      "Epoch 18/50\n",
      "313/313 [==============================] - 0s 459us/step - loss: 204.9339 - mse: 204.9339\n",
      "Epoch 19/50\n",
      "313/313 [==============================] - 0s 456us/step - loss: 193.5944 - mse: 193.5944\n",
      "Epoch 20/50\n",
      "313/313 [==============================] - 0s 459us/step - loss: 194.0239 - mse: 194.0239\n",
      "Epoch 21/50\n",
      "313/313 [==============================] - 0s 461us/step - loss: 184.5125 - mse: 184.5125\n",
      "Epoch 22/50\n",
      "313/313 [==============================] - 0s 453us/step - loss: 184.4092 - mse: 184.4092\n",
      "Epoch 23/50\n",
      "313/313 [==============================] - 0s 457us/step - loss: 183.0672 - mse: 183.0672\n",
      "Epoch 24/50\n",
      "313/313 [==============================] - 0s 455us/step - loss: 182.7090 - mse: 182.7090\n",
      "Epoch 25/50\n",
      "313/313 [==============================] - 0s 455us/step - loss: 171.7654 - mse: 171.7654\n",
      "Epoch 26/50\n",
      "313/313 [==============================] - 0s 456us/step - loss: 178.7883 - mse: 178.7883\n",
      "Epoch 27/50\n",
      "313/313 [==============================] - 0s 508us/step - loss: 177.8242 - mse: 177.8242\n",
      "Epoch 28/50\n",
      "313/313 [==============================] - 0s 457us/step - loss: 178.0233 - mse: 178.0233\n",
      "Epoch 29/50\n",
      "313/313 [==============================] - 0s 459us/step - loss: 182.0415 - mse: 182.0415\n",
      "Epoch 30/50\n",
      "313/313 [==============================] - 0s 465us/step - loss: 167.5934 - mse: 167.5934\n",
      "Epoch 31/50\n",
      "313/313 [==============================] - 0s 467us/step - loss: 178.0130 - mse: 178.0130\n",
      "Epoch 32/50\n",
      "313/313 [==============================] - 0s 453us/step - loss: 163.1718 - mse: 163.1718\n",
      "Epoch 33/50\n",
      "313/313 [==============================] - 0s 455us/step - loss: 183.8253 - mse: 183.8253\n",
      "Epoch 34/50\n",
      "313/313 [==============================] - 0s 455us/step - loss: 175.7763 - mse: 175.7763\n",
      "Epoch 35/50\n",
      "313/313 [==============================] - 0s 456us/step - loss: 168.8093 - mse: 168.8093\n",
      "Epoch 36/50\n",
      "313/313 [==============================] - 0s 459us/step - loss: 176.8924 - mse: 176.8924\n",
      "Epoch 37/50\n",
      "313/313 [==============================] - 0s 506us/step - loss: 166.0965 - mse: 166.0965\n",
      "Epoch 38/50\n",
      "313/313 [==============================] - 0s 450us/step - loss: 178.1290 - mse: 178.1290\n",
      "Epoch 39/50\n",
      "313/313 [==============================] - 0s 456us/step - loss: 168.9378 - mse: 168.9378\n",
      "Epoch 40/50\n",
      "313/313 [==============================] - 0s 450us/step - loss: 172.8736 - mse: 172.8736\n",
      "Epoch 41/50\n",
      "313/313 [==============================] - 0s 457us/step - loss: 169.7001 - mse: 169.7001\n",
      "Epoch 42/50\n",
      "313/313 [==============================] - 0s 460us/step - loss: 184.0713 - mse: 184.0713\n",
      "Epoch 43/50\n",
      "313/313 [==============================] - 0s 463us/step - loss: 171.9408 - mse: 171.9408\n",
      "Epoch 44/50\n",
      "313/313 [==============================] - 0s 466us/step - loss: 169.6759 - mse: 169.6759\n",
      "Epoch 45/50\n",
      "313/313 [==============================] - 0s 467us/step - loss: 167.1686 - mse: 167.1686\n",
      "Epoch 46/50\n",
      "313/313 [==============================] - 0s 481us/step - loss: 169.3548 - mse: 169.3548\n",
      "Epoch 47/50\n",
      "313/313 [==============================] - 0s 478us/step - loss: 173.3024 - mse: 173.3024\n",
      "Epoch 48/50\n",
      "313/313 [==============================] - 0s 593us/step - loss: 168.4536 - mse: 168.4536\n",
      "Epoch 49/50\n",
      "313/313 [==============================] - 0s 469us/step - loss: 174.3110 - mse: 174.3110\n",
      "Epoch 50/50\n",
      "313/313 [==============================] - 0s 457us/step - loss: 171.3573 - mse: 171.3573\n"
     ]
    }
   ],
   "source": [
    "# training the model and saving metrics in history\n",
    "history = model.fit(X, y_true, epochs=50, verbose=1)"
   ]
  },
  {
   "cell_type": "markdown",
   "metadata": {},
   "source": [
    "## 5. Evaluate model"
   ]
  },
  {
   "cell_type": "code",
   "execution_count": 14,
   "metadata": {
    "ExecuteTime": {
     "end_time": "2018-05-05T21:25:43.783548Z",
     "start_time": "2018-05-05T21:25:43.778821Z"
    }
   },
   "outputs": [
    {
     "data": {
      "text/plain": [
       "dict_keys(['loss', 'mse'])"
      ]
     },
     "execution_count": 14,
     "metadata": {},
     "output_type": "execute_result"
    }
   ],
   "source": [
    "history.history.keys()"
   ]
  },
  {
   "cell_type": "code",
   "execution_count": 16,
   "metadata": {
    "ExecuteTime": {
     "end_time": "2018-05-05T21:25:43.935496Z",
     "start_time": "2018-05-05T21:25:43.785502Z"
    }
   },
   "outputs": [
    {
     "data": {
      "image/png": "[encoded data removed]",
      "text/plain": [
       "<Figure size 640x480 with 1 Axes>"
      ]
     },
     "metadata": {},
     "output_type": "display_data"
    }
   ],
   "source": [
    "plt.plot(history.history['mse'])\n",
    "plt.show()"
   ]
  },
  {
   "cell_type": "code",
   "execution_count": 17,
   "metadata": {
    "ExecuteTime": {
     "end_time": "2018-05-05T21:25:44.247768Z",
     "start_time": "2018-05-05T21:25:43.937460Z"
    }
   },
   "outputs": [
    {
     "name": "stdout",
     "output_type": "stream",
     "text": [
      "313/313 [==============================] - 0s 419us/step - loss: 236.2993 - mse: 236.2993\n",
      "Test score: [236.29934692382812, 236.29934692382812]\n"
     ]
    }
   ],
   "source": [
    "# evaluate the model performance\n",
    "score = model.evaluate(X, y_true) \n",
    "\n",
    "print('Test score:', score)"
   ]
  },
  {
   "cell_type": "code",
   "execution_count": 19,
   "metadata": {
    "ExecuteTime": {
     "end_time": "2018-05-05T21:25:44.684663Z",
     "start_time": "2018-05-05T21:25:44.249763Z"
    }
   },
   "outputs": [
    {
     "name": "stdout",
     "output_type": "stream",
     "text": [
      "313/313 [==============================] - 0s 438us/step\n"
     ]
    },
    {
     "data": {
      "image/png": "[encoded data removed]",
      "text/plain": [
       "<Figure size 640x480 with 1 Axes>"
      ]
     },
     "metadata": {},
     "output_type": "display_data"
    }
   ],
   "source": [
    "# generate predictions\n",
    "y_pred = model.predict(X)\n",
    "\n",
    "df.plot(kind='scatter', x='Height', y='Weight', \n",
    "        title='Weight and Height in adults')\n",
    "plt.plot(X, y_pred, color='red')\n",
    "plt.show()"
   ]
  },
  {
   "cell_type": "markdown",
   "metadata": {},
   "source": [
    "## References\n",
    "\n",
    "* [Deep Learning Book](http://www.deeplearningbook.org)\n",
    "\n",
    "* [Zero to Deep Learning™ Udemy Video Course](https://github.com/dataweekends/zero_to_deep_learning_udemy)\n",
    "\n",
    "* [weight-height.csv](https://www.kaggle.com/mustafaali96/weight-height)"
   ]
  }
 ],
 "metadata": {
  "kernelspec": {
   "display_name": "Python 3 (ipykernel)",
   "language": "python",
   "name": "python3"
  },
  "language_info": {
   "codemirror_mode": {
    "name": "ipython",
    "version": 3
   },
   "file_extension": ".py",
   "mimetype": "text/x-python",
   "name": "python",
   "nbconvert_exporter": "python",
   "pygments_lexer": "ipython3",
   "version": "3.11.6"
  }
 },
 "nbformat": 4,
 "nbformat_minor": 2
}
