{
 "cells": [
  {
   "cell_type": "markdown",
   "metadata": {},
   "source": [
    "# Deep Learning 101\n",
    "\n",
    "This notebook presents the basic notions that involve the concept of Deep Learning.\n",
    "\n",
    "1. **Linear Regression**\n",
    "* Logistic Regression\n",
    "* Artificial Neural Networks\n",
    "* Deep Neural Networks\n",
    "* Convolutional Neural Networks\n",
    "\n",
    "## 1. Linear Regression\n",
    "\n",
    "Linear regression is a simple machine learning algorithm. This solves a regression problem. \n",
    "\n",
    "* The goal is to build a system that can take a vector $\\mathbf{x} \\in \\mathbb{R}^n$ as input and predict the value of a scalar $y \\in \\mathbb{R}$ as its output.\n",
    "* The output is a linear function of the input.\n",
    "* We define the output to be $\\hat{y}=\\mathbf{w}^{\\top}\\mathbf{x}+\\mathbf{b}$\n",
    "    * $\\hat{y}$ is the value that our model predicts\n",
    "    * $\\mathbf{w}$ as a set of weights\n",
    "    * $\\mathbf{b}$ the bias parameter\n",
    "    \n",
    "In order **to find the best possible model to describe our data, we need to find a way to decide how good a model is.**\n",
    "\n",
    "\n",
    "### Cost function\n",
    "\n",
    "It's often preferable to use the cost function called **Mean Squared Error**.\n",
    "\n",
    "$$MSE = \\frac{1}{n} \\sum_{i} (y_i - \\hat{y}_i)^2$$\n",
    " \n",
    "The MSE is preferable because it's smooth and is guaranteed to have a global minimum.\n",
    "\n",
    "### Gradient Descent\n",
    "\n",
    "Gradient descent is an optimization algorithm that refers to the task of either minimizing or maximizing some function $f (x)$ by altering $x$.\n",
    "\n",
    "When we are minimizing it, we may also call it the **cost function, loss function**, or **error function**.\n",
    "\n",
    "We can thus reduce $f(x)$ by moving $x$ in **small steps** with opposite sign of the derivative.\n",
    "\n",
    "$$\\nabla f =\n",
    "    \\begin{bmatrix}\n",
    "        \\frac{\\partial f}{\\partial x_1} \\\\\n",
    "        \\frac{\\partial f}{\\partial x_2}\n",
    "    \\end{bmatrix}\n",
    "$$\n",
    "\n",
    "\n",
    "### Learning Rate\n",
    "\n",
    "Positive scalar determining the size of the step.\n",
    "\n",
    "$$x'=x-\\epsilon\\nabla_x f(x)$$\n",
    "* $\\epsilon$ this is called **learning rate**\n",
    "\n",
    "----\n"
   ]
  },
  {
   "cell_type": "markdown",
   "metadata": {},
   "source": [
    "## Linear Regression with Keras and TensorFlow\n",
    "\n",
    "\n",
    "| **Keras**      | **Example**                                                         | **Link**                 |\n",
    "| -------------- |:------------------------------------------------------------------: | :-----------------------:|\n",
    "| **Loss functions**| binary-cross-entropy, categorical-cross-entropy, mean-squared-error | [keras.io/losses/](https://keras.io/losses/)|\n",
    "| **Optimizers** | SGD, Adam, RMSprop, AdaGrad, AdaDelta | [keras.io/optimizers/](https://keras.io/optimizers/)|\n",
    "\n",
    "![optimizers gif](img/optimizers.gif)\n",
    "\n",
    "---\n",
    "\n",
    "## 1. Load data\n",
    "\n",
    "#### Load libraries"
   ]
  },
  {
   "cell_type": "code",
   "execution_count": 1,
   "metadata": {
    "ExecuteTime": {
     "end_time": "2018-05-05T21:24:47.270942Z",
     "start_time": "2018-05-05T21:24:46.619760Z"
    }
   },
   "outputs": [],
   "source": [
    "%matplotlib inline\n",
    "import matplotlib.pyplot as plt\n",
    "\n",
    "import numpy as np\n",
    "import pandas as pd"
   ]
  },
  {
   "cell_type": "code",
   "execution_count": 2,
   "metadata": {},
   "outputs": [],
   "source": [
    "from tensorflow.keras.models import Sequential\n",
    "from tensorflow.keras.layers import Dense\n",
    "from tensorflow.keras.optimizers import Adam\n",
    "from tensorflow.keras.utils import plot_model"
   ]
  },
  {
   "cell_type": "markdown",
   "metadata": {},
   "source": [
    "#### Getting the data"
   ]
  },
  {
   "cell_type": "code",
   "execution_count": 3,
   "metadata": {
    "ExecuteTime": {
     "end_time": "2018-05-05T21:25:03.315671Z",
     "start_time": "2018-05-05T21:25:03.285697Z"
    }
   },
   "outputs": [
    {
     "data": {
      "text/html": [
       "<div>\n",
       "<style scoped>\n",
       "    .dataframe tbody tr th:only-of-type {\n",
       "        vertical-align: middle;\n",
       "    }\n",
       "\n",
       "    .dataframe tbody tr th {\n",
       "        vertical-align: top;\n",
       "    }\n",
       "\n",
       "    .dataframe thead th {\n",
       "        text-align: right;\n",
       "    }\n",
       "</style>\n",
       "<table border=\"1\" class=\"dataframe\">\n",
       "  <thead>\n",
       "    <tr style=\"text-align: right;\">\n",
       "      <th></th>\n",
       "      <th>Gender</th>\n",
       "      <th>Height</th>\n",
       "      <th>Weight</th>\n",
       "    </tr>\n",
       "  </thead>\n",
       "  <tbody>\n",
       "    <tr>\n",
       "      <th>0</th>\n",
       "      <td>Male</td>\n",
       "      <td>73.847017</td>\n",
       "      <td>241.893563</td>\n",
       "    </tr>\n",
       "    <tr>\n",
       "      <th>1</th>\n",
       "      <td>Male</td>\n",
       "      <td>68.781904</td>\n",
       "      <td>162.310473</td>\n",
       "    </tr>\n",
       "    <tr>\n",
       "      <th>2</th>\n",
       "      <td>Male</td>\n",
       "      <td>74.110105</td>\n",
       "      <td>212.740856</td>\n",
       "    </tr>\n",
       "    <tr>\n",
       "      <th>3</th>\n",
       "      <td>Male</td>\n",
       "      <td>71.730978</td>\n",
       "      <td>220.042470</td>\n",
       "    </tr>\n",
       "    <tr>\n",
       "      <th>4</th>\n",
       "      <td>Male</td>\n",
       "      <td>69.881796</td>\n",
       "      <td>206.349801</td>\n",
       "    </tr>\n",
       "  </tbody>\n",
       "</table>\n",
       "</div>"
      ],
      "text/plain": [
       "  Gender     Height      Weight\n",
       "0   Male  73.847017  241.893563\n",
       "1   Male  68.781904  162.310473\n",
       "2   Male  74.110105  212.740856\n",
       "3   Male  71.730978  220.042470\n",
       "4   Male  69.881796  206.349801"
      ]
     },
     "execution_count": 3,
     "metadata": {},
     "output_type": "execute_result"
    }
   ],
   "source": [
    "# read csv function, dataset\n",
    "# df because the type of this variable is data frame\n",
    "df = pd.read_csv('data/weight-height.csv')\n",
    "# head method shows the first five lines of data frame\n",
    "df.head()"
   ]
  },
  {
   "cell_type": "markdown",
   "metadata": {},
   "source": [
    "#### Explore visual data"
   ]
  },
  {
   "cell_type": "code",
   "execution_count": 4,
   "metadata": {
    "ExecuteTime": {
     "end_time": "2018-05-05T21:25:03.639405Z",
     "start_time": "2018-05-05T21:25:03.317599Z"
    }
   },
   "outputs": [
    {
     "data": {
      "text/plain": [
       "<AxesSubplot:title={'center':'Weight(lb) and Height(in) in adults'}, xlabel='Height', ylabel='Weight'>"
      ]
     },
     "execution_count": 4,
     "metadata": {},
     "output_type": "execute_result"
    },
    {
     "data": {
      "image/png": "[encoded data removed]",
      "text/plain": [
       "<Figure size 432x288 with 1 Axes>"
      ]
     },
     "metadata": {
      "needs_background": "light"
     },
     "output_type": "display_data"
    }
   ],
   "source": [
    "# scatter plot (not order, correlation)\n",
    "df.plot(kind='scatter',\n",
    "        x='Height', y='Weight',\n",
    "        title='Weight(lb) and Height(in) in adults')"
   ]
  },
  {
   "cell_type": "code",
   "execution_count": 5,
   "metadata": {
    "ExecuteTime": {
     "end_time": "2018-05-05T21:25:03.645796Z",
     "start_time": "2018-05-05T21:25:03.641427Z"
    }
   },
   "outputs": [],
   "source": [
    "# independent variable\n",
    "X = df[['Height']].values\n",
    "\n",
    "# dependent variable\n",
    "y_true = df['Weight'].values"
   ]
  },
  {
   "cell_type": "markdown",
   "metadata": {},
   "source": [
    "## 2. Define model"
   ]
  },
  {
   "cell_type": "code",
   "execution_count": 6,
   "metadata": {
    "ExecuteTime": {
     "end_time": "2018-05-05T21:25:03.664508Z",
     "start_time": "2018-05-05T21:25:03.647794Z"
    }
   },
   "outputs": [
    {
     "name": "stderr",
     "output_type": "stream",
     "text": [
      "2021-08-08 19:36:39.384412: I tensorflow/core/platform/cpu_feature_guard.cc:142] This TensorFlow binary is optimized with oneAPI Deep Neural Network Library (oneDNN) to use the following CPU instructions in performance-critical operations:  SSE4.1 SSE4.2 AVX AVX2 FMA\n",
      "To enable them in other operations, rebuild TensorFlow with the appropriate compiler flags.\n"
     ]
    }
   ],
   "source": [
    "# building a linear stack of layers with the sequential model\n",
    "model = Sequential()\n",
    "\n",
    "# Add layer\n",
    "model.add(Dense(1, input_shape=(1,)))"
   ]
  },
  {
   "cell_type": "markdown",
   "metadata": {},
   "source": [
    "#### Model visualization"
   ]
  },
  {
   "cell_type": "code",
   "execution_count": 7,
   "metadata": {
    "ExecuteTime": {
     "end_time": "2018-05-05T21:25:08.079037Z",
     "start_time": "2018-05-05T21:25:03.666464Z"
    }
   },
   "outputs": [
    {
     "name": "stdout",
     "output_type": "stream",
     "text": [
      "('Failed to import pydot. You must `pip install pydot` and install graphviz (https://graphviz.gitlab.io/download/), ', 'for `pydotprint` to work.')\n",
      "Model: \"sequential\"\n",
      "_________________________________________________________________\n",
      "Layer (type)                 Output Shape              Param #   \n",
      "=================================================================\n",
      "dense (Dense)                (None, 1)                 2         \n",
      "=================================================================\n",
      "Total params: 2\n",
      "Trainable params: 2\n",
      "Non-trainable params: 0\n",
      "_________________________________________________________________\n"
     ]
    }
   ],
   "source": [
    "# plot a Keras model\n",
    "plot_model(model, to_file='img/model01_lin_reg.png',\n",
    "           show_shapes=True, show_layer_names=True)\n",
    "\n",
    "# prints a summary representation of your model\n",
    "model.summary()"
   ]
  },
  {
   "cell_type": "markdown",
   "metadata": {},
   "source": [
    "![Linear regression](img/model01_lin_reg.png)"
   ]
  },
  {
   "cell_type": "markdown",
   "metadata": {},
   "source": [
    "## 3. Compile model"
   ]
  },
  {
   "cell_type": "code",
   "execution_count": 8,
   "metadata": {
    "ExecuteTime": {
     "end_time": "2018-05-05T21:25:08.113576Z",
     "start_time": "2018-05-05T21:25:08.081324Z"
    }
   },
   "outputs": [],
   "source": [
    "# compiling the sequential model\n",
    "model.compile(Adam(lr=0.6), loss='mean_squared_error', metrics=['mse'])"
   ]
  },
  {
   "cell_type": "markdown",
   "metadata": {},
   "source": [
    "## 4. Fit model"
   ]
  },
  {
   "cell_type": "code",
   "execution_count": 9,
   "metadata": {
    "ExecuteTime": {
     "end_time": "2018-05-05T21:25:43.776445Z",
     "start_time": "2018-05-05T21:25:08.115538Z"
    }
   },
   "outputs": [
    {
     "name": "stderr",
     "output_type": "stream",
     "text": [
      "2021-08-08 19:36:39.501283: I tensorflow/compiler/mlir/mlir_graph_optimization_pass.cc:116] None of the MLIR optimization passes are enabled (registered 2)\n",
      "2021-08-08 19:36:39.521765: I tensorflow/core/platform/profile_utils/cpu_utils.cc:112] CPU Frequency: 1800000000 Hz\n"
     ]
    },
    {
     "name": "stdout",
     "output_type": "stream",
     "text": [
      "Epoch 1/50\n",
      "313/313 [==============================] - 1s 1ms/step - loss: 1114.1626 - mse: 1114.1626\n",
      "Epoch 2/50\n",
      "313/313 [==============================] - 1s 2ms/step - loss: 562.7419 - mse: 562.7419\n",
      "Epoch 3/50\n",
      "313/313 [==============================] - 0s 2ms/step - loss: 510.5913 - mse: 510.5913\n",
      "Epoch 4/50\n",
      "313/313 [==============================] - 0s 1ms/step - loss: 483.3813 - mse: 483.3813\n",
      "Epoch 5/50\n",
      "313/313 [==============================] - 0s 1ms/step - loss: 438.8152 - mse: 438.8152\n",
      "Epoch 6/50\n",
      "313/313 [==============================] - 0s 1ms/step - loss: 387.2433 - mse: 387.2433\n",
      "Epoch 7/50\n",
      "313/313 [==============================] - 0s 1ms/step - loss: 350.8524 - mse: 350.8524\n",
      "Epoch 8/50\n",
      "313/313 [==============================] - 0s 1ms/step - loss: 325.5308 - mse: 325.5308\n",
      "Epoch 9/50\n",
      "313/313 [==============================] - 0s 921us/step - loss: 317.1741 - mse: 317.1741\n",
      "Epoch 10/50\n",
      "313/313 [==============================] - 0s 1ms/step - loss: 288.3093 - mse: 288.3093\n",
      "Epoch 11/50\n",
      "313/313 [==============================] - 0s 1ms/step - loss: 269.9308 - mse: 269.9308\n",
      "Epoch 12/50\n",
      "313/313 [==============================] - 0s 1ms/step - loss: 245.9923 - mse: 245.9923\n",
      "Epoch 13/50\n",
      "313/313 [==============================] - 0s 1ms/step - loss: 231.9183 - mse: 231.9183\n",
      "Epoch 14/50\n",
      "313/313 [==============================] - 1s 2ms/step - loss: 215.4388 - mse: 215.4388\n",
      "Epoch 15/50\n",
      "313/313 [==============================] - 1s 3ms/step - loss: 227.4437 - mse: 227.4437\n",
      "Epoch 16/50\n",
      "313/313 [==============================] - 1s 2ms/step - loss: 205.8648 - mse: 205.8648\n",
      "Epoch 17/50\n",
      "313/313 [==============================] - 1s 2ms/step - loss: 187.9409 - mse: 187.9409\n",
      "Epoch 18/50\n",
      "313/313 [==============================] - 1s 2ms/step - loss: 183.5678 - mse: 183.5678\n",
      "Epoch 19/50\n",
      "313/313 [==============================] - 1s 2ms/step - loss: 200.7573 - mse: 200.7573\n",
      "Epoch 20/50\n",
      "313/313 [==============================] - 0s 2ms/step - loss: 187.4362 - mse: 187.4362\n",
      "Epoch 21/50\n",
      "313/313 [==============================] - 0s 1ms/step - loss: 195.6448 - mse: 195.6448\n",
      "Epoch 22/50\n",
      "313/313 [==============================] - 0s 1ms/step - loss: 174.2461 - mse: 174.2461\n",
      "Epoch 23/50\n",
      "313/313 [==============================] - 0s 1ms/step - loss: 189.0734 - mse: 189.0734\n",
      "Epoch 24/50\n",
      "313/313 [==============================] - 1s 2ms/step - loss: 185.1835 - mse: 185.1835\n",
      "Epoch 25/50\n",
      "313/313 [==============================] - 0s 2ms/step - loss: 185.0990 - mse: 185.0990\n",
      "Epoch 26/50\n",
      "313/313 [==============================] - 1s 2ms/step - loss: 171.5130 - mse: 171.5130\n",
      "Epoch 27/50\n",
      "313/313 [==============================] - 0s 1ms/step - loss: 171.6068 - mse: 171.6068\n",
      "Epoch 28/50\n",
      "313/313 [==============================] - 0s 1ms/step - loss: 184.7493 - mse: 184.7493\n",
      "Epoch 29/50\n",
      "313/313 [==============================] - 0s 1ms/step - loss: 168.6430 - mse: 168.6430\n",
      "Epoch 30/50\n",
      "313/313 [==============================] - 0s 2ms/step - loss: 170.0925 - mse: 170.0925\n",
      "Epoch 31/50\n",
      "313/313 [==============================] - 1s 2ms/step - loss: 181.0936 - mse: 181.0936\n",
      "Epoch 32/50\n",
      "313/313 [==============================] - 1s 2ms/step - loss: 176.6920 - mse: 176.6920\n",
      "Epoch 33/50\n",
      "313/313 [==============================] - 1s 2ms/step - loss: 176.2226 - mse: 176.2226\n",
      "Epoch 34/50\n",
      "313/313 [==============================] - 1s 2ms/step - loss: 170.9554 - mse: 170.9554\n",
      "Epoch 35/50\n",
      "313/313 [==============================] - 0s 1ms/step - loss: 176.9315 - mse: 176.9315\n",
      "Epoch 36/50\n",
      "313/313 [==============================] - 0s 1ms/step - loss: 171.6650 - mse: 171.6650\n",
      "Epoch 37/50\n",
      "313/313 [==============================] - 0s 1ms/step - loss: 165.3732 - mse: 165.3732\n",
      "Epoch 38/50\n",
      "313/313 [==============================] - 0s 1ms/step - loss: 166.0888 - mse: 166.0888\n",
      "Epoch 39/50\n",
      "313/313 [==============================] - 0s 1ms/step - loss: 175.6520 - mse: 175.6520\n",
      "Epoch 40/50\n",
      "313/313 [==============================] - 0s 1ms/step - loss: 168.8662 - mse: 168.8662\n",
      "Epoch 41/50\n",
      "313/313 [==============================] - 0s 1ms/step - loss: 170.2873 - mse: 170.2873\n",
      "Epoch 42/50\n",
      "313/313 [==============================] - 0s 1ms/step - loss: 177.4873 - mse: 177.4873\n",
      "Epoch 43/50\n",
      "313/313 [==============================] - 0s 1ms/step - loss: 167.3362 - mse: 167.3362\n",
      "Epoch 44/50\n",
      "313/313 [==============================] - 0s 1ms/step - loss: 178.5306 - mse: 178.5306\n",
      "Epoch 45/50\n",
      "313/313 [==============================] - 0s 1ms/step - loss: 170.9342 - mse: 170.9342\n",
      "Epoch 46/50\n",
      "313/313 [==============================] - 0s 1ms/step - loss: 179.2368 - mse: 179.2368\n",
      "Epoch 47/50\n",
      "313/313 [==============================] - 0s 1ms/step - loss: 175.7121 - mse: 175.7121\n",
      "Epoch 48/50\n",
      "313/313 [==============================] - 0s 1ms/step - loss: 167.5285 - mse: 167.5285\n",
      "Epoch 49/50\n",
      "313/313 [==============================] - 0s 1ms/step - loss: 168.0115 - mse: 168.0115\n",
      "Epoch 50/50\n",
      "313/313 [==============================] - 0s 1ms/step - loss: 169.9065 - mse: 169.9065\n"
     ]
    }
   ],
   "source": [
    "# training the model and saving metrics in history\n",
    "history = model.fit(X, y_true, epochs=50, verbose=1)"
   ]
  },
  {
   "cell_type": "markdown",
   "metadata": {},
   "source": [
    "## 5. Evaluate model"
   ]
  },
  {
   "cell_type": "code",
   "execution_count": 10,
   "metadata": {
    "ExecuteTime": {
     "end_time": "2018-05-05T21:25:43.783548Z",
     "start_time": "2018-05-05T21:25:43.778821Z"
    }
   },
   "outputs": [
    {
     "data": {
      "text/plain": [
       "dict_keys(['loss', 'mse'])"
      ]
     },
     "execution_count": 10,
     "metadata": {},
     "output_type": "execute_result"
    }
   ],
   "source": [
    "history.history.keys()"
   ]
  },
  {
   "cell_type": "code",
   "execution_count": 11,
   "metadata": {
    "ExecuteTime": {
     "end_time": "2018-05-05T21:25:43.935496Z",
     "start_time": "2018-05-05T21:25:43.785502Z"
    }
   },
   "outputs": [
    {
     "data": {
      "text/plain": [
       "[<matplotlib.lines.Line2D at 0x7f11e4720b50>]"
      ]
     },
     "execution_count": 11,
     "metadata": {},
     "output_type": "execute_result"
    },
    {
     "data": {
      "image/png": "[encoded data removed]",
      "text/plain": [
       "<Figure size 432x288 with 1 Axes>"
      ]
     },
     "metadata": {
      "needs_background": "light"
     },
     "output_type": "display_data"
    }
   ],
   "source": [
    "plt.plot(history.history['mse'])"
   ]
  },
  {
   "cell_type": "code",
   "execution_count": 12,
   "metadata": {
    "ExecuteTime": {
     "end_time": "2018-05-05T21:25:44.247768Z",
     "start_time": "2018-05-05T21:25:43.937460Z"
    }
   },
   "outputs": [
    {
     "name": "stdout",
     "output_type": "stream",
     "text": [
      "313/313 [==============================] - 0s 882us/step - loss: 174.1279 - mse: 174.1279\n",
      "Test score: [174.1279296875, 174.1279296875]\n"
     ]
    }
   ],
   "source": [
    "# evaluate the model performance\n",
    "score = model.evaluate(X, y_true) \n",
    "\n",
    "print('Test score:', score)"
   ]
  },
  {
   "cell_type": "code",
   "execution_count": 13,
   "metadata": {
    "ExecuteTime": {
     "end_time": "2018-05-05T21:25:44.684663Z",
     "start_time": "2018-05-05T21:25:44.249763Z"
    }
   },
   "outputs": [
    {
     "data": {
      "text/plain": [
       "[<matplotlib.lines.Line2D at 0x7f11e46a3ee0>]"
      ]
     },
     "execution_count": 13,
     "metadata": {},
     "output_type": "execute_result"
    },
    {
     "data": {
      "image/png": "[encoded data removed]",
      "text/plain": [
       "<Figure size 432x288 with 1 Axes>"
      ]
     },
     "metadata": {
      "needs_background": "light"
     },
     "output_type": "display_data"
    }
   ],
   "source": [
    "# generate predictions\n",
    "y_pred = model.predict(X)\n",
    "\n",
    "df.plot(kind='scatter', x='Height', y='Weight', \n",
    "        title='Weight and Height in adults')\n",
    "plt.plot(X, y_pred, color='red')"
   ]
  },
  {
   "cell_type": "markdown",
   "metadata": {},
   "source": [
    "## References\n",
    "\n",
    "* [Deep Learning Book](http://www.deeplearningbook.org)\n",
    "\n",
    "* [Zero to Deep Learning™ Udemy Video Course](https://github.com/dataweekends/zero_to_deep_learning_udemy)\n",
    "\n",
    "* [weight-height.csv](https://www.kaggle.com/mustafaali96/weight-height)"
   ]
  }
 ],
 "metadata": {
  "kernelspec": {
   "display_name": "Python 3 (ipykernel)",
   "language": "python",
   "name": "python3"
  },
  "language_info": {
   "codemirror_mode": {
    "name": "ipython",
    "version": 3
   },
   "file_extension": ".py",
   "mimetype": "text/x-python",
   "name": "python",
   "nbconvert_exporter": "python",
   "pygments_lexer": "ipython3",
   "version": "3.8.10"
  }
 },
 "nbformat": 4,
 "nbformat_minor": 2
}
