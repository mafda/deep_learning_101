{
 "cells": [
  {
   "cell_type": "markdown",
   "metadata": {},
   "source": [
    "# Deep Learning 101\n",
    "\n",
    "This notebook presents the basic notions that involve the concept of Deep Learning.\n",
    "\n",
    "1. **Linear Regression**\n",
    "* Logistic Regression\n",
    "* Artificial Neural Networks\n",
    "* Deep Neural Networks\n",
    "* Convolutional Neural Networks\n",
    "\n",
    "## 1. Linear Regression\n",
    "\n",
    "Linear regression is a simple machine learning algorithm. This solves a regression problem. \n",
    "\n",
    "* The goal is to build a system that can take a vector $\\mathbf{x} \\in \\mathbb{R}^n$ as input and predict the value of a scalar $y \\in \\mathbb{R}$ as its output.\n",
    "* The output is a linear function of the input.\n",
    "* We define the output to be $\\hat{y}=\\mathbf{w}^{\\top}\\mathbf{x}+\\mathbf{b}$\n",
    "    * $\\hat{y}$ is the value that our model predicts\n",
    "    * $\\mathbf{w}$ as a set of weights\n",
    "    * $\\mathbf{b}$ the bias parameter\n",
    "    \n",
    "In order **to find the best possible model to describe our data, we need to find a way to decide how good a model is.**\n",
    "\n",
    "\n",
    "### Cost function\n",
    "\n",
    "It's often preferable to use the cost function called **Mean Squared Error**.\n",
    "\n",
    "$$MSE = \\frac{1}{n} \\sum_{i} (y_i - \\hat{y}_i)^2$$\n",
    " \n",
    "The MSE is preferable because it's smooth and is guaranteed to have a global minimum.\n",
    "\n",
    "### Gradient Descent\n",
    "\n",
    "Gradient descent is an optimization algorithm that refers to the task of either minimizing or maximizing some function $f (x)$ by altering $x$.\n",
    "\n",
    "When we are minimizing it, we may also call it the **cost function, loss function**, or **error function**.\n",
    "\n",
    "We can thus reduce $f(x)$ by moving $x$ in **small steps** with opposite sign of the derivative.\n",
    "\n",
    "$$\\nabla f =\n",
    "    \\begin{bmatrix}\n",
    "        \\frac{\\partial f}{\\partial x_1} \\\\\n",
    "        \\frac{\\partial f}{\\partial x_2}\n",
    "    \\end{bmatrix}\n",
    "$$\n",
    "\n",
    "\n",
    "### Learning Rate\n",
    "\n",
    "Positive scalar determining the size of the step.\n",
    "\n",
    "$$x'=x-\\epsilon\\nabla_x f(x)$$\n",
    "* $\\epsilon$ this is called **learning rate**\n",
    "\n",
    "----\n"
   ]
  },
  {
   "cell_type": "markdown",
   "metadata": {},
   "source": [
    "## Linear Regression with Keras and TensorFlow\n",
    "\n",
    "\n",
    "| **Keras**      | **Example**                                                         | **Link**                 |\n",
    "| -------------- |:------------------------------------------------------------------: | :-----------------------:|\n",
    "| **Loss functions**| binary-cross-entropy, categorical-cross-entropy, mean-squared-error | [keras.io/losses/](https://keras.io/losses/)|\n",
    "| **Optimizers** | SGD, Adam, RMSprop, AdaGrad, AdaDelta | [keras.io/optimizers/](https://keras.io/optimizers/)|\n",
    "\n",
    "![optimizers gif](img/optimizers.gif)\n",
    "\n",
    "---\n",
    "\n",
    "## 1. Load data\n",
    "\n",
    "#### Load libraries"
   ]
  },
  {
   "cell_type": "code",
   "execution_count": 1,
   "metadata": {
    "ExecuteTime": {
     "end_time": "2018-05-05T21:24:47.270942Z",
     "start_time": "2018-05-05T21:24:46.619760Z"
    }
   },
   "outputs": [],
   "source": [
    "import numpy as np\n",
    "import pandas as pd\n",
    "\n",
    "%matplotlib inline\n",
    "import matplotlib.pyplot as plt"
   ]
  },
  {
   "cell_type": "code",
   "execution_count": 2,
   "metadata": {
    "ExecuteTime": {
     "end_time": "2018-05-05T21:25:03.283394Z",
     "start_time": "2018-05-05T21:24:47.273095Z"
    }
   },
   "outputs": [
    {
     "name": "stderr",
     "output_type": "stream",
     "text": [
      "/usr/local/lib/python3.6/site-packages/h5py/__init__.py:36: FutureWarning: Conversion of the second argument of issubdtype from `float` to `np.floating` is deprecated. In future, it will be treated as `np.float64 == np.dtype(float).type`.\n",
      "  from ._conv import register_converters as _register_converters\n",
      "Using TensorFlow backend.\n"
     ]
    }
   ],
   "source": [
    "from keras.models import Sequential\n",
    "from keras.layers import Dense\n",
    "from keras.optimizers import Adam\n",
    "from keras.utils.vis_utils import plot_model"
   ]
  },
  {
   "cell_type": "markdown",
   "metadata": {},
   "source": [
    "#### Getting the data"
   ]
  },
  {
   "cell_type": "code",
   "execution_count": 3,
   "metadata": {
    "ExecuteTime": {
     "end_time": "2018-05-05T21:25:03.315671Z",
     "start_time": "2018-05-05T21:25:03.285697Z"
    }
   },
   "outputs": [
    {
     "data": {
      "text/html": [
       "<div>\n",
       "<style scoped>\n",
       "    .dataframe tbody tr th:only-of-type {\n",
       "        vertical-align: middle;\n",
       "    }\n",
       "\n",
       "    .dataframe tbody tr th {\n",
       "        vertical-align: top;\n",
       "    }\n",
       "\n",
       "    .dataframe thead th {\n",
       "        text-align: right;\n",
       "    }\n",
       "</style>\n",
       "<table border=\"1\" class=\"dataframe\">\n",
       "  <thead>\n",
       "    <tr style=\"text-align: right;\">\n",
       "      <th></th>\n",
       "      <th>Gender</th>\n",
       "      <th>Height</th>\n",
       "      <th>Weight</th>\n",
       "    </tr>\n",
       "  </thead>\n",
       "  <tbody>\n",
       "    <tr>\n",
       "      <th>0</th>\n",
       "      <td>Male</td>\n",
       "      <td>73.847017</td>\n",
       "      <td>241.893563</td>\n",
       "    </tr>\n",
       "    <tr>\n",
       "      <th>1</th>\n",
       "      <td>Male</td>\n",
       "      <td>68.781904</td>\n",
       "      <td>162.310473</td>\n",
       "    </tr>\n",
       "    <tr>\n",
       "      <th>2</th>\n",
       "      <td>Male</td>\n",
       "      <td>74.110105</td>\n",
       "      <td>212.740856</td>\n",
       "    </tr>\n",
       "    <tr>\n",
       "      <th>3</th>\n",
       "      <td>Male</td>\n",
       "      <td>71.730978</td>\n",
       "      <td>220.042470</td>\n",
       "    </tr>\n",
       "    <tr>\n",
       "      <th>4</th>\n",
       "      <td>Male</td>\n",
       "      <td>69.881796</td>\n",
       "      <td>206.349801</td>\n",
       "    </tr>\n",
       "  </tbody>\n",
       "</table>\n",
       "</div>"
      ],
      "text/plain": [
       "  Gender     Height      Weight\n",
       "0   Male  73.847017  241.893563\n",
       "1   Male  68.781904  162.310473\n",
       "2   Male  74.110105  212.740856\n",
       "3   Male  71.730978  220.042470\n",
       "4   Male  69.881796  206.349801"
      ]
     },
     "execution_count": 3,
     "metadata": {},
     "output_type": "execute_result"
    }
   ],
   "source": [
    "# read csv function, dataset\n",
    "# df because the type of this variable is data frame\n",
    "df = pd.read_csv('data/weight-height.csv')\n",
    "# head method shows the first five lines of data frame\n",
    "df.head()"
   ]
  },
  {
   "cell_type": "markdown",
   "metadata": {},
   "source": [
    "#### Explore visual data"
   ]
  },
  {
   "cell_type": "code",
   "execution_count": 4,
   "metadata": {
    "ExecuteTime": {
     "end_time": "2018-05-05T21:25:03.639405Z",
     "start_time": "2018-05-05T21:25:03.317599Z"
    }
   },
   "outputs": [
    {
     "data": {
      "text/plain": [
       "<matplotlib.axes._subplots.AxesSubplot at 0x1189e6da0>"
      ]
     },
     "execution_count": 4,
     "metadata": {},
     "output_type": "execute_result"
    },
    {
     "data": {
      "image/png": "[encoded data removed]",
      "text/plain": [
       "<Figure size 432x288 with 1 Axes>"
      ]
     },
     "metadata": {},
     "output_type": "display_data"
    }
   ],
   "source": [
    "# scatter plot (not order, correlation)\n",
    "df.plot(kind='scatter',\n",
    "        x='Height', y='Weight',\n",
    "        title='Weight(lb) and Height(in) in adults')"
   ]
  },
  {
   "cell_type": "code",
   "execution_count": 5,
   "metadata": {
    "ExecuteTime": {
     "end_time": "2018-05-05T21:25:03.645796Z",
     "start_time": "2018-05-05T21:25:03.641427Z"
    }
   },
   "outputs": [],
   "source": [
    "# independent variable\n",
    "X = df[['Height']].values\n",
    "# dependent variable\n",
    "y_true = df['Weight'].values"
   ]
  },
  {
   "cell_type": "markdown",
   "metadata": {},
   "source": [
    "## 2. Define model"
   ]
  },
  {
   "cell_type": "code",
   "execution_count": 6,
   "metadata": {
    "ExecuteTime": {
     "end_time": "2018-05-05T21:25:03.664508Z",
     "start_time": "2018-05-05T21:25:03.647794Z"
    }
   },
   "outputs": [],
   "source": [
    "# building a linear stack of layers with the sequential model\n",
    "model = Sequential()\n",
    "# Add layer\n",
    "model.add(Dense(1, input_shape=(1,)))"
   ]
  },
  {
   "cell_type": "markdown",
   "metadata": {},
   "source": [
    "#### Model visualization"
   ]
  },
  {
   "cell_type": "code",
   "execution_count": 7,
   "metadata": {
    "ExecuteTime": {
     "end_time": "2018-05-05T21:25:08.079037Z",
     "start_time": "2018-05-05T21:25:03.666464Z"
    }
   },
   "outputs": [
    {
     "name": "stdout",
     "output_type": "stream",
     "text": [
      "_________________________________________________________________\n",
      "Layer (type)                 Output Shape              Param #   \n",
      "=================================================================\n",
      "dense_1 (Dense)              (None, 1)                 2         \n",
      "=================================================================\n",
      "Total params: 2\n",
      "Trainable params: 2\n",
      "Non-trainable params: 0\n",
      "_________________________________________________________________\n"
     ]
    }
   ],
   "source": [
    "# plot a Keras model\n",
    "plot_model(model, to_file='img/model01_lin_reg.png',\n",
    "           show_shapes=True, show_layer_names=True)\n",
    "# prints a summary representation of your model\n",
    "model.summary()"
   ]
  },
  {
   "cell_type": "markdown",
   "metadata": {},
   "source": [
    "![Linear regression](img/model01_lin_reg.png)"
   ]
  },
  {
   "cell_type": "markdown",
   "metadata": {},
   "source": [
    "## 3. Compile model"
   ]
  },
  {
   "cell_type": "code",
   "execution_count": 8,
   "metadata": {
    "ExecuteTime": {
     "end_time": "2018-05-05T21:25:08.113576Z",
     "start_time": "2018-05-05T21:25:08.081324Z"
    }
   },
   "outputs": [],
   "source": [
    "# compiling the sequential model\n",
    "model.compile(Adam(lr=0.6), loss='mean_squared_error', metrics=['mse'])"
   ]
  },
  {
   "cell_type": "markdown",
   "metadata": {},
   "source": [
    "## 4. Fit model"
   ]
  },
  {
   "cell_type": "code",
   "execution_count": 9,
   "metadata": {
    "ExecuteTime": {
     "end_time": "2018-05-05T21:25:43.776445Z",
     "start_time": "2018-05-05T21:25:08.115538Z"
    }
   },
   "outputs": [
    {
     "name": "stdout",
     "output_type": "stream",
     "text": [
      "Epoch 1/50\n",
      "10000/10000 [==============================] - 1s 60us/step - loss: 835.5917 - mean_squared_error: 835.5917\n",
      "Epoch 2/50\n",
      "10000/10000 [==============================] - 0s 41us/step - loss: 563.4888 - mean_squared_error: 563.4888\n",
      "Epoch 3/50\n",
      "10000/10000 [==============================] - 0s 40us/step - loss: 526.9261 - mean_squared_error: 526.9261\n",
      "Epoch 4/50\n",
      "10000/10000 [==============================] - 0s 40us/step - loss: 480.3351 - mean_squared_error: 480.3351\n",
      "Epoch 5/50\n",
      "10000/10000 [==============================] - 0s 40us/step - loss: 448.0974 - mean_squared_error: 448.0974\n",
      "Epoch 6/50\n",
      "10000/10000 [==============================] - 0s 42us/step - loss: 409.7130 - mean_squared_error: 409.7130\n",
      "Epoch 7/50\n",
      "10000/10000 [==============================] - 0s 44us/step - loss: 383.8566 - mean_squared_error: 383.8566\n",
      "Epoch 8/50\n",
      "10000/10000 [==============================] - 0s 44us/step - loss: 342.8342 - mean_squared_error: 342.8342\n",
      "Epoch 9/50\n",
      "10000/10000 [==============================] - 0s 41us/step - loss: 310.0644 - mean_squared_error: 310.0644\n",
      "Epoch 10/50\n",
      "10000/10000 [==============================] - 0s 48us/step - loss: 294.0164 - mean_squared_error: 294.0164\n",
      "Epoch 11/50\n",
      "10000/10000 [==============================] - 0s 48us/step - loss: 262.6215 - mean_squared_error: 262.6215\n",
      "Epoch 12/50\n",
      "10000/10000 [==============================] - 0s 43us/step - loss: 256.7412 - mean_squared_error: 256.7412\n",
      "Epoch 13/50\n",
      "10000/10000 [==============================] - 0s 41us/step - loss: 236.7687 - mean_squared_error: 236.7687\n",
      "Epoch 14/50\n",
      "10000/10000 [==============================] - 0s 41us/step - loss: 233.1821 - mean_squared_error: 233.1821\n",
      "Epoch 15/50\n",
      "10000/10000 [==============================] - 0s 40us/step - loss: 223.0300 - mean_squared_error: 223.0300\n",
      "Epoch 16/50\n",
      "10000/10000 [==============================] - 0s 40us/step - loss: 207.3709 - mean_squared_error: 207.3709\n",
      "Epoch 17/50\n",
      "10000/10000 [==============================] - 0s 40us/step - loss: 213.2410 - mean_squared_error: 213.2410\n",
      "Epoch 18/50\n",
      "10000/10000 [==============================] - 0s 41us/step - loss: 195.6357 - mean_squared_error: 195.6357\n",
      "Epoch 19/50\n",
      "10000/10000 [==============================] - 0s 41us/step - loss: 180.8110 - mean_squared_error: 180.8110\n",
      "Epoch 20/50\n",
      "10000/10000 [==============================] - 0s 41us/step - loss: 178.2232 - mean_squared_error: 178.2232\n",
      "Epoch 21/50\n",
      "10000/10000 [==============================] - 0s 40us/step - loss: 182.1066 - mean_squared_error: 182.1066\n",
      "Epoch 22/50\n",
      "10000/10000 [==============================] - 0s 41us/step - loss: 185.6432 - mean_squared_error: 185.6432\n",
      "Epoch 23/50\n",
      "10000/10000 [==============================] - 0s 41us/step - loss: 182.8029 - mean_squared_error: 182.8029\n",
      "Epoch 24/50\n",
      "10000/10000 [==============================] - 0s 41us/step - loss: 178.8478 - mean_squared_error: 178.8478\n",
      "Epoch 25/50\n",
      "10000/10000 [==============================] - 0s 42us/step - loss: 178.8192 - mean_squared_error: 178.8192\n",
      "Epoch 26/50\n",
      "10000/10000 [==============================] - 0s 41us/step - loss: 172.0373 - mean_squared_error: 172.0373\n",
      "Epoch 27/50\n",
      "10000/10000 [==============================] - 0s 41us/step - loss: 181.1758 - mean_squared_error: 181.1758\n",
      "Epoch 28/50\n",
      "10000/10000 [==============================] - 0s 42us/step - loss: 176.5872 - mean_squared_error: 176.5872\n",
      "Epoch 29/50\n",
      "10000/10000 [==============================] - 0s 42us/step - loss: 164.7022 - mean_squared_error: 164.7022\n",
      "Epoch 30/50\n",
      "10000/10000 [==============================] - 0s 42us/step - loss: 166.0063 - mean_squared_error: 166.0063\n",
      "Epoch 31/50\n",
      "10000/10000 [==============================] - 0s 43us/step - loss: 172.7292 - mean_squared_error: 172.7292\n",
      "Epoch 32/50\n",
      "10000/10000 [==============================] - 0s 42us/step - loss: 166.1752 - mean_squared_error: 166.1752\n",
      "Epoch 33/50\n",
      "10000/10000 [==============================] - 0s 42us/step - loss: 180.3413 - mean_squared_error: 180.3413\n",
      "Epoch 34/50\n",
      "10000/10000 [==============================] - 0s 42us/step - loss: 176.3208 - mean_squared_error: 176.3208\n",
      "Epoch 35/50\n",
      "10000/10000 [==============================] - 0s 41us/step - loss: 177.3953 - mean_squared_error: 177.3953\n",
      "Epoch 36/50\n",
      "10000/10000 [==============================] - 0s 47us/step - loss: 172.5151 - mean_squared_error: 172.5151\n",
      "Epoch 37/50\n",
      "10000/10000 [==============================] - 0s 49us/step - loss: 176.6747 - mean_squared_error: 176.6747\n",
      "Epoch 38/50\n",
      "10000/10000 [==============================] - 0s 47us/step - loss: 177.9322 - mean_squared_error: 177.9322\n",
      "Epoch 39/50\n",
      "10000/10000 [==============================] - 0s 47us/step - loss: 175.3460 - mean_squared_error: 175.3460\n",
      "Epoch 40/50\n",
      "10000/10000 [==============================] - 0s 46us/step - loss: 161.6577 - mean_squared_error: 161.6577\n",
      "Epoch 41/50\n",
      "10000/10000 [==============================] - 0s 42us/step - loss: 164.4137 - mean_squared_error: 164.4137\n",
      "Epoch 42/50\n",
      "10000/10000 [==============================] - 0s 43us/step - loss: 164.8219 - mean_squared_error: 164.8219\n",
      "Epoch 43/50\n",
      "10000/10000 [==============================] - 0s 43us/step - loss: 176.4368 - mean_squared_error: 176.4368\n",
      "Epoch 44/50\n",
      "10000/10000 [==============================] - 1s 50us/step - loss: 165.6618 - mean_squared_error: 165.6618\n",
      "Epoch 45/50\n",
      "10000/10000 [==============================] - 0s 46us/step - loss: 176.9274 - mean_squared_error: 176.9274\n",
      "Epoch 46/50\n",
      "10000/10000 [==============================] - 0s 44us/step - loss: 165.2755 - mean_squared_error: 165.2755\n",
      "Epoch 47/50\n",
      "10000/10000 [==============================] - 0s 50us/step - loss: 165.3741 - mean_squared_error: 165.3741\n",
      "Epoch 48/50\n",
      "10000/10000 [==============================] - 0s 46us/step - loss: 171.7440 - mean_squared_error: 171.7440\n",
      "Epoch 49/50\n",
      "10000/10000 [==============================] - 0s 45us/step - loss: 173.8442 - mean_squared_error: 173.8442\n",
      "Epoch 50/50\n",
      "10000/10000 [==============================] - 0s 48us/step - loss: 176.2887 - mean_squared_error: 176.2887\n"
     ]
    }
   ],
   "source": [
    "# training the model and saving metrics in history\n",
    "history = model.fit(X, y_true, epochs=50, verbose=1)"
   ]
  },
  {
   "cell_type": "markdown",
   "metadata": {},
   "source": [
    "## 5. Evaluate model"
   ]
  },
  {
   "cell_type": "code",
   "execution_count": 10,
   "metadata": {
    "ExecuteTime": {
     "end_time": "2018-05-05T21:25:43.783548Z",
     "start_time": "2018-05-05T21:25:43.778821Z"
    }
   },
   "outputs": [
    {
     "data": {
      "text/plain": [
       "dict_keys(['loss', 'mean_squared_error'])"
      ]
     },
     "execution_count": 10,
     "metadata": {},
     "output_type": "execute_result"
    }
   ],
   "source": [
    "history.history.keys()"
   ]
  },
  {
   "cell_type": "code",
   "execution_count": 11,
   "metadata": {
    "ExecuteTime": {
     "end_time": "2018-05-05T21:25:43.935496Z",
     "start_time": "2018-05-05T21:25:43.785502Z"
    }
   },
   "outputs": [
    {
     "data": {
      "text/plain": [
       "[<matplotlib.lines.Line2D at 0x106711860>]"
      ]
     },
     "execution_count": 11,
     "metadata": {},
     "output_type": "execute_result"
    },
    {
     "data": {
      "image/png": "[encoded data removed]",
      "text/plain": [
       "<Figure size 432x288 with 1 Axes>"
      ]
     },
     "metadata": {},
     "output_type": "display_data"
    }
   ],
   "source": [
    "plt.plot(history.history['mean_squared_error'])"
   ]
  },
  {
   "cell_type": "code",
   "execution_count": 12,
   "metadata": {
    "ExecuteTime": {
     "end_time": "2018-05-05T21:25:44.247768Z",
     "start_time": "2018-05-05T21:25:43.937460Z"
    }
   },
   "outputs": [
    {
     "name": "stdout",
     "output_type": "stream",
     "text": [
      "10000/10000 [==============================] - 0s 22us/step\n",
      "Test score: [152.86417114257813, 152.86417114257813]\n"
     ]
    }
   ],
   "source": [
    "# evaluate the model performance\n",
    "score = model.evaluate(X, y_true) \n",
    "\n",
    "print('Test score:', score)"
   ]
  },
  {
   "cell_type": "code",
   "execution_count": 13,
   "metadata": {
    "ExecuteTime": {
     "end_time": "2018-05-05T21:25:44.684663Z",
     "start_time": "2018-05-05T21:25:44.249763Z"
    }
   },
   "outputs": [
    {
     "data": {
      "text/plain": [
       "[<matplotlib.lines.Line2D at 0x106735e10>]"
      ]
     },
     "execution_count": 13,
     "metadata": {},
     "output_type": "execute_result"
    },
    {
     "data": {
      "image/png": "[encoded data removed]",
      "text/plain": [
       "<Figure size 432x288 with 1 Axes>"
      ]
     },
     "metadata": {},
     "output_type": "display_data"
    }
   ],
   "source": [
    "# generate predictions\n",
    "y_pred = model.predict(X)\n",
    "\n",
    "df.plot(kind='scatter', x='Height', y='Weight', \n",
    "        title='Weight and Height in adults')\n",
    "plt.plot(X, y_pred, color='red')"
   ]
  },
  {
   "cell_type": "markdown",
   "metadata": {},
   "source": [
    "## References\n",
    "\n",
    "* [Deep Learning Book](http://www.deeplearningbook.org)\n",
    "\n",
    "* [Zero to Deep Learning™ Udemy Video Course](https://github.com/dataweekends/zero_to_deep_learning_udemy)"
   ]
  }
 ],
 "metadata": {
  "kernelspec": {
   "display_name": "Python 3",
   "language": "python",
   "name": "python3"
  },
  "language_info": {
   "codemirror_mode": {
    "name": "ipython",
    "version": 3
   },
   "file_extension": ".py",
   "mimetype": "text/x-python",
   "name": "python",
   "nbconvert_exporter": "python",
   "pygments_lexer": "ipython3",
   "version": "3.6.5"
  }
 },
 "nbformat": 4,
 "nbformat_minor": 2
}
