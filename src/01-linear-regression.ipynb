{
 "cells": [
  {
   "cell_type": "markdown",
   "metadata": {},
   "source": [
    "# Deep Learning 101\n",
    "\n",
    "This notebook presents the basic notions that involve the concept of Deep\n",
    "Learning.\n",
    "\n",
    "1. **Linear Regression**\n",
    "2. Logistic Regression\n",
    "3. Artificial Neural Networks\n",
    "4. Deep Neural Networks\n",
    "5. Convolutional Neural Networks\n",
    "\n",
    "## 1. Linear Regression\n",
    "\n",
    "Linear regression is a simple machine learning algorithm. This solves a\n",
    "regression problem. \n",
    "\n",
    "* The goal is to build a system that can take a vector $\\mathbf{x} \\in\n",
    "  \\mathbb{R}^n$ as input and predict the value of a scalar $y \\in \\mathbb{R}$ as\n",
    "  its output.\n",
    "* The output is a linear function of the input.\n",
    "* We define the output to be $\\hat{y}=\\mathbf{w}^{\\top}\\mathbf{x}+\\mathbf{b}$\n",
    "    * $\\hat{y}$ is the value that our model predicts\n",
    "    * $\\mathbf{w}$ as a set of weights\n",
    "    * $\\mathbf{b}$ the bias parameter\n",
    "    \n",
    "In order **to find the best possible model to describe our data, we need to find\n",
    "a way to decide how good a model is.**\n",
    "\n",
    "\n",
    "### Cost function\n",
    "\n",
    "It's often preferable to use the cost function called **Mean Squared Error**.\n",
    "\n",
    "$$MSE = \\frac{1}{n} \\sum_{i} (y_i - \\hat{y}_i)^2$$\n",
    " \n",
    "The MSE is preferable because it's smooth and is guaranteed to have a global\n",
    "minimum.\n",
    "\n",
    "### Gradient Descent\n",
    "\n",
    "Gradient descent is an optimization algorithm that refers to the task of either\n",
    "minimizing or maximizing some function $f (x)$ by altering $x$.\n",
    "\n",
    "When we are minimizing it, we may also call it the **cost function, loss\n",
    "function**, or **error function**.\n",
    "\n",
    "We can thus reduce $f(x)$ by moving $x$ in **small steps** with opposite sign of\n",
    "the derivative.\n",
    "\n",
    "$$\\nabla f =\n",
    "    \\begin{bmatrix}\n",
    "        \\frac{\\partial f}{\\partial x_1} \\\\\n",
    "        \\frac{\\partial f}{\\partial x_2}\n",
    "    \\end{bmatrix}\n",
    "$$\n",
    "\n",
    "### Learning Rate\n",
    "\n",
    "Positive scalar determining the size of the step.\n",
    "\n",
    "$$x'=x-\\epsilon\\nabla_x f(x)$$\n",
    "* $\\epsilon$ this is called **learning rate**"
   ]
  },
  {
   "cell_type": "markdown",
   "metadata": {},
   "source": [
    "## Linear Regression with Keras and TensorFlow\n",
    "\n",
    "\n",
    "| **Keras**      | **Example**                                                         | **Link**                 |\n",
    "| -------------- |:------------------------------------------------------------------: | :-----------------------:|\n",
    "| **Loss functions**| binary-cross-entropy, categorical-cross-entropy, mean-squared-error | [keras.io/losses/](https://keras.io/losses/)|\n",
    "| **Optimizers** | SGD, Adam, RMSprop, AdaGrad, AdaDelta | [keras.io/optimizers/](https://keras.io/optimizers/)|\n",
    "\n",
    "![optimizers gif](img/optimizers.gif)\n",
    "\n",
    "\n",
    "## 1. Load data\n",
    "\n",
    "#### Load libraries"
   ]
  },
  {
   "cell_type": "code",
   "execution_count": 1,
   "metadata": {
    "ExecuteTime": {
     "end_time": "2018-05-05T21:24:47.270942Z",
     "start_time": "2018-05-05T21:24:46.619760Z"
    }
   },
   "outputs": [
    {
     "name": "stderr",
     "output_type": "stream",
     "text": [
      "2023-10-13 18:25:25.126634: I tensorflow/core/platform/cpu_feature_guard.cc:193] This TensorFlow binary is optimized with oneAPI Deep Neural Network Library (oneDNN) to use the following CPU instructions in performance-critical operations:  SSE4.1 SSE4.2 AVX AVX2 AVX_VNNI FMA\n",
      "To enable them in other operations, rebuild TensorFlow with the appropriate compiler flags.\n",
      "2023-10-13 18:25:25.160992: I tensorflow/core/util/util.cc:169] oneDNN custom operations are on. You may see slightly different numerical results due to floating-point round-off errors from different computation orders. To turn them off, set the environment variable `TF_ENABLE_ONEDNN_OPTS=0`.\n"
     ]
    }
   ],
   "source": [
    "import matplotlib.pyplot as plt\n",
    "import numpy as np\n",
    "import pandas as pd\n",
    "import tensorflow as tf\n",
    "\n",
    "np.random.seed(12049)\n"
   ]
  },
  {
   "cell_type": "markdown",
   "metadata": {},
   "source": [
    "#### Getting the data"
   ]
  },
  {
   "cell_type": "code",
   "execution_count": 2,
   "metadata": {
    "ExecuteTime": {
     "end_time": "2018-05-05T21:25:03.315671Z",
     "start_time": "2018-05-05T21:25:03.285697Z"
    }
   },
   "outputs": [
    {
     "data": {
      "text/html": [
       "<div>\n",
       "<style scoped>\n",
       "    .dataframe tbody tr th:only-of-type {\n",
       "        vertical-align: middle;\n",
       "    }\n",
       "\n",
       "    .dataframe tbody tr th {\n",
       "        vertical-align: top;\n",
       "    }\n",
       "\n",
       "    .dataframe thead th {\n",
       "        text-align: right;\n",
       "    }\n",
       "</style>\n",
       "<table border=\"1\" class=\"dataframe\">\n",
       "  <thead>\n",
       "    <tr style=\"text-align: right;\">\n",
       "      <th></th>\n",
       "      <th>Gender</th>\n",
       "      <th>Height</th>\n",
       "      <th>Weight</th>\n",
       "    </tr>\n",
       "  </thead>\n",
       "  <tbody>\n",
       "    <tr>\n",
       "      <th>0</th>\n",
       "      <td>Male</td>\n",
       "      <td>73.847017</td>\n",
       "      <td>241.893563</td>\n",
       "    </tr>\n",
       "    <tr>\n",
       "      <th>1</th>\n",
       "      <td>Male</td>\n",
       "      <td>68.781904</td>\n",
       "      <td>162.310473</td>\n",
       "    </tr>\n",
       "    <tr>\n",
       "      <th>2</th>\n",
       "      <td>Male</td>\n",
       "      <td>74.110105</td>\n",
       "      <td>212.740856</td>\n",
       "    </tr>\n",
       "    <tr>\n",
       "      <th>3</th>\n",
       "      <td>Male</td>\n",
       "      <td>71.730978</td>\n",
       "      <td>220.042470</td>\n",
       "    </tr>\n",
       "    <tr>\n",
       "      <th>4</th>\n",
       "      <td>Male</td>\n",
       "      <td>69.881796</td>\n",
       "      <td>206.349801</td>\n",
       "    </tr>\n",
       "  </tbody>\n",
       "</table>\n",
       "</div>"
      ],
      "text/plain": [
       "  Gender     Height      Weight\n",
       "0   Male  73.847017  241.893563\n",
       "1   Male  68.781904  162.310473\n",
       "2   Male  74.110105  212.740856\n",
       "3   Male  71.730978  220.042470\n",
       "4   Male  69.881796  206.349801"
      ]
     },
     "execution_count": 2,
     "metadata": {},
     "output_type": "execute_result"
    }
   ],
   "source": [
    "# read csv function, dataset\n",
    "df = pd.read_csv('data/weight-height.csv')\n",
    "# head method shows the first five lines of data frame\n",
    "df.head()\n"
   ]
  },
  {
   "cell_type": "markdown",
   "metadata": {},
   "source": [
    "#### Explore visual data"
   ]
  },
  {
   "cell_type": "code",
   "execution_count": 3,
   "metadata": {
    "ExecuteTime": {
     "end_time": "2018-05-05T21:25:03.639405Z",
     "start_time": "2018-05-05T21:25:03.317599Z"
    }
   },
   "outputs": [
    {
     "data": {
      "image/png": "[encoded data removed]",
      "text/plain": [
       "<Figure size 640x480 with 1 Axes>"
      ]
     },
     "metadata": {},
     "output_type": "display_data"
    }
   ],
   "source": [
    "# scatter plot (not order, correlation)\n",
    "plot = df.plot(\n",
    "    kind=\"scatter\",\n",
    "    x=\"Height\",\n",
    "    y=\"Weight\",\n",
    "    title=\"Weight(lb) and Height(in) in adults\",\n",
    ")\n"
   ]
  },
  {
   "cell_type": "code",
   "execution_count": 4,
   "metadata": {
    "ExecuteTime": {
     "end_time": "2018-05-05T21:25:03.645796Z",
     "start_time": "2018-05-05T21:25:03.641427Z"
    }
   },
   "outputs": [],
   "source": [
    "# independent variable\n",
    "X = df[['Height']].values\n",
    "\n",
    "# dependent variable\n",
    "y_true = df['Weight'].values\n"
   ]
  },
  {
   "cell_type": "markdown",
   "metadata": {},
   "source": [
    "## 2. Define model"
   ]
  },
  {
   "cell_type": "code",
   "execution_count": 5,
   "metadata": {
    "ExecuteTime": {
     "end_time": "2018-05-05T21:25:03.664508Z",
     "start_time": "2018-05-05T21:25:03.647794Z"
    }
   },
   "outputs": [
    {
     "name": "stderr",
     "output_type": "stream",
     "text": [
      "2023-10-13 18:25:25.919600: I tensorflow/stream_executor/cuda/cuda_gpu_executor.cc:980] successful NUMA node read from SysFS had negative value (-1), but there must be at least one NUMA node, so returning NUMA node zero\n",
      "2023-10-13 18:25:25.936008: I tensorflow/stream_executor/cuda/cuda_gpu_executor.cc:980] successful NUMA node read from SysFS had negative value (-1), but there must be at least one NUMA node, so returning NUMA node zero\n",
      "2023-10-13 18:25:25.936156: I tensorflow/stream_executor/cuda/cuda_gpu_executor.cc:980] successful NUMA node read from SysFS had negative value (-1), but there must be at least one NUMA node, so returning NUMA node zero\n",
      "2023-10-13 18:25:25.936380: I tensorflow/core/platform/cpu_feature_guard.cc:193] This TensorFlow binary is optimized with oneAPI Deep Neural Network Library (oneDNN) to use the following CPU instructions in performance-critical operations:  SSE4.1 SSE4.2 AVX AVX2 AVX_VNNI FMA\n",
      "To enable them in other operations, rebuild TensorFlow with the appropriate compiler flags.\n",
      "2023-10-13 18:25:25.937381: I tensorflow/stream_executor/cuda/cuda_gpu_executor.cc:980] successful NUMA node read from SysFS had negative value (-1), but there must be at least one NUMA node, so returning NUMA node zero\n",
      "2023-10-13 18:25:25.937616: I tensorflow/stream_executor/cuda/cuda_gpu_executor.cc:980] successful NUMA node read from SysFS had negative value (-1), but there must be at least one NUMA node, so returning NUMA node zero\n",
      "2023-10-13 18:25:25.937724: I tensorflow/stream_executor/cuda/cuda_gpu_executor.cc:980] successful NUMA node read from SysFS had negative value (-1), but there must be at least one NUMA node, so returning NUMA node zero\n",
      "2023-10-13 18:25:25.980290: I tensorflow/stream_executor/cuda/cuda_gpu_executor.cc:980] successful NUMA node read from SysFS had negative value (-1), but there must be at least one NUMA node, so returning NUMA node zero\n",
      "2023-10-13 18:25:25.980390: I tensorflow/stream_executor/cuda/cuda_gpu_executor.cc:980] successful NUMA node read from SysFS had negative value (-1), but there must be at least one NUMA node, so returning NUMA node zero\n",
      "2023-10-13 18:25:25.980450: I tensorflow/stream_executor/cuda/cuda_gpu_executor.cc:980] successful NUMA node read from SysFS had negative value (-1), but there must be at least one NUMA node, so returning NUMA node zero\n",
      "2023-10-13 18:25:25.980521: I tensorflow/core/common_runtime/gpu/gpu_device.cc:1616] Created device /job:localhost/replica:0/task:0/device:GPU:0 with 1109 MB memory:  -> device: 0, name: NVIDIA GeForce RTX 3080 Ti Laptop GPU, pci bus id: 0000:01:00.0, compute capability: 8.6\n"
     ]
    }
   ],
   "source": [
    "# building a linear stack of layers with the sequential model\n",
    "model = tf.keras.Sequential()\n",
    "\n",
    "# Add layer\n",
    "model.add(tf.keras.layers.Dense(1, input_shape=(1,)))\n"
   ]
  },
  {
   "cell_type": "markdown",
   "metadata": {},
   "source": [
    "#### Model visualization"
   ]
  },
  {
   "cell_type": "code",
   "execution_count": 6,
   "metadata": {
    "ExecuteTime": {
     "end_time": "2018-05-05T21:25:08.079037Z",
     "start_time": "2018-05-05T21:25:03.666464Z"
    }
   },
   "outputs": [
    {
     "name": "stdout",
     "output_type": "stream",
     "text": [
      "Model: \"sequential\"\n",
      "_________________________________________________________________\n",
      " Layer (type)                Output Shape              Param #   \n",
      "=================================================================\n",
      " dense (Dense)               (None, 1)                 2         \n",
      "                                                                 \n",
      "=================================================================\n",
      "Total params: 2\n",
      "Trainable params: 2\n",
      "Non-trainable params: 0\n",
      "_________________________________________________________________\n"
     ]
    }
   ],
   "source": [
    "# plot a Keras model\n",
    "tf.keras.utils.plot_model(\n",
    "    model,\n",
    "    to_file=\"img/model01_lin_reg.png\",\n",
    "    show_shapes=True,\n",
    "    show_layer_names=True,\n",
    ")\n",
    "\n",
    "# prints a summary representation of your model\n",
    "model.summary()\n"
   ]
  },
  {
   "cell_type": "markdown",
   "metadata": {},
   "source": [
    "![Linear regression](img/model01_lin_reg.png)"
   ]
  },
  {
   "cell_type": "markdown",
   "metadata": {},
   "source": [
    "## 3. Compile model"
   ]
  },
  {
   "cell_type": "code",
   "execution_count": 7,
   "metadata": {
    "ExecuteTime": {
     "end_time": "2018-05-05T21:25:08.113576Z",
     "start_time": "2018-05-05T21:25:08.081324Z"
    }
   },
   "outputs": [],
   "source": [
    "# compiling the sequential model\n",
    "model.compile(\n",
    "    tf.keras.optimizers.Adam(learning_rate=0.6),\n",
    "    loss=\"mean_squared_error\",\n",
    "    metrics=[\"mse\"],\n",
    ")\n"
   ]
  },
  {
   "cell_type": "markdown",
   "metadata": {},
   "source": [
    "## 4. Fit model"
   ]
  },
  {
   "cell_type": "code",
   "execution_count": 8,
   "metadata": {
    "ExecuteTime": {
     "end_time": "2018-05-05T21:25:43.776445Z",
     "start_time": "2018-05-05T21:25:08.115538Z"
    }
   },
   "outputs": [
    {
     "name": "stdout",
     "output_type": "stream",
     "text": [
      "Epoch 1/50\n",
      "313/313 [==============================] - 0s 674us/step - loss: 796.6616 - mse: 796.6616\n",
      "Epoch 2/50\n",
      "313/313 [==============================] - 0s 651us/step - loss: 557.8491 - mse: 557.8491\n",
      "Epoch 3/50\n",
      "313/313 [==============================] - 0s 627us/step - loss: 525.2637 - mse: 525.2637\n",
      "Epoch 4/50\n",
      "313/313 [==============================] - 0s 633us/step - loss: 471.9498 - mse: 471.9498\n",
      "Epoch 5/50\n",
      "313/313 [==============================] - 0s 599us/step - loss: 447.2499 - mse: 447.2499\n",
      "Epoch 6/50\n",
      "313/313 [==============================] - 0s 606us/step - loss: 392.8886 - mse: 392.8886\n",
      "Epoch 7/50\n",
      "313/313 [==============================] - 0s 587us/step - loss: 365.5808 - mse: 365.5808\n",
      "Epoch 8/50\n",
      "313/313 [==============================] - 0s 685us/step - loss: 331.8320 - mse: 331.8320\n",
      "Epoch 9/50\n",
      "313/313 [==============================] - 0s 610us/step - loss: 309.0944 - mse: 309.0944\n",
      "Epoch 10/50\n",
      "313/313 [==============================] - 0s 644us/step - loss: 298.9635 - mse: 298.9635\n",
      "Epoch 11/50\n",
      "313/313 [==============================] - 0s 646us/step - loss: 272.0796 - mse: 272.0796\n",
      "Epoch 12/50\n",
      "313/313 [==============================] - 0s 640us/step - loss: 249.3977 - mse: 249.3977\n",
      "Epoch 13/50\n",
      "313/313 [==============================] - 0s 665us/step - loss: 235.0428 - mse: 235.0428\n",
      "Epoch 14/50\n",
      "313/313 [==============================] - 0s 680us/step - loss: 223.1866 - mse: 223.1866\n",
      "Epoch 15/50\n",
      "313/313 [==============================] - 0s 641us/step - loss: 210.1926 - mse: 210.1926\n",
      "Epoch 16/50\n",
      "313/313 [==============================] - 0s 613us/step - loss: 206.5016 - mse: 206.5016\n",
      "Epoch 17/50\n",
      "313/313 [==============================] - 0s 609us/step - loss: 206.0315 - mse: 206.0315\n",
      "Epoch 18/50\n",
      "313/313 [==============================] - 0s 614us/step - loss: 197.2479 - mse: 197.2479\n",
      "Epoch 19/50\n",
      "313/313 [==============================] - 0s 593us/step - loss: 186.8695 - mse: 186.8695\n",
      "Epoch 20/50\n",
      "313/313 [==============================] - 0s 613us/step - loss: 185.3843 - mse: 185.3843\n",
      "Epoch 21/50\n",
      "313/313 [==============================] - 0s 602us/step - loss: 179.3811 - mse: 179.3811\n",
      "Epoch 22/50\n",
      "313/313 [==============================] - 0s 623us/step - loss: 181.1973 - mse: 181.1973\n",
      "Epoch 23/50\n",
      "313/313 [==============================] - 0s 659us/step - loss: 177.3652 - mse: 177.3652\n",
      "Epoch 24/50\n",
      "313/313 [==============================] - 0s 641us/step - loss: 169.3354 - mse: 169.3354\n",
      "Epoch 25/50\n",
      "313/313 [==============================] - 0s 628us/step - loss: 165.2105 - mse: 165.2105\n",
      "Epoch 26/50\n",
      "313/313 [==============================] - 0s 608us/step - loss: 177.7036 - mse: 177.7036\n",
      "Epoch 27/50\n",
      "313/313 [==============================] - 0s 620us/step - loss: 177.2274 - mse: 177.2274\n",
      "Epoch 28/50\n",
      "313/313 [==============================] - 0s 664us/step - loss: 181.5844 - mse: 181.5844\n",
      "Epoch 29/50\n",
      "313/313 [==============================] - 0s 633us/step - loss: 179.5041 - mse: 179.5041\n",
      "Epoch 30/50\n",
      "313/313 [==============================] - 0s 616us/step - loss: 163.7576 - mse: 163.7576\n",
      "Epoch 31/50\n",
      "313/313 [==============================] - 0s 593us/step - loss: 176.1794 - mse: 176.1794\n",
      "Epoch 32/50\n",
      "313/313 [==============================] - 0s 648us/step - loss: 172.3594 - mse: 172.3594\n",
      "Epoch 33/50\n",
      "313/313 [==============================] - 0s 618us/step - loss: 165.4522 - mse: 165.4522\n",
      "Epoch 34/50\n",
      "313/313 [==============================] - 0s 641us/step - loss: 173.1686 - mse: 173.1686\n",
      "Epoch 35/50\n",
      "313/313 [==============================] - 0s 610us/step - loss: 175.3315 - mse: 175.3315\n",
      "Epoch 36/50\n",
      "313/313 [==============================] - 0s 629us/step - loss: 180.0674 - mse: 180.0674\n",
      "Epoch 37/50\n",
      "313/313 [==============================] - 0s 609us/step - loss: 166.4633 - mse: 166.4633\n",
      "Epoch 38/50\n",
      "313/313 [==============================] - 0s 607us/step - loss: 167.6137 - mse: 167.6137\n",
      "Epoch 39/50\n",
      "313/313 [==============================] - 0s 616us/step - loss: 163.9352 - mse: 163.9352\n",
      "Epoch 40/50\n",
      "313/313 [==============================] - 0s 624us/step - loss: 172.7687 - mse: 172.7687\n",
      "Epoch 41/50\n",
      "313/313 [==============================] - 0s 620us/step - loss: 169.1169 - mse: 169.1169\n",
      "Epoch 42/50\n",
      "313/313 [==============================] - 0s 602us/step - loss: 163.0531 - mse: 163.0531\n",
      "Epoch 43/50\n",
      "313/313 [==============================] - 0s 626us/step - loss: 168.9086 - mse: 168.9086\n",
      "Epoch 44/50\n",
      "313/313 [==============================] - 0s 686us/step - loss: 176.3174 - mse: 176.3174\n",
      "Epoch 45/50\n",
      "313/313 [==============================] - 0s 621us/step - loss: 177.9804 - mse: 177.9804\n",
      "Epoch 46/50\n",
      "313/313 [==============================] - 0s 659us/step - loss: 166.0322 - mse: 166.0322\n",
      "Epoch 47/50\n",
      "313/313 [==============================] - 0s 625us/step - loss: 184.7386 - mse: 184.7386\n",
      "Epoch 48/50\n",
      "313/313 [==============================] - 0s 636us/step - loss: 174.3986 - mse: 174.3986\n",
      "Epoch 49/50\n",
      "313/313 [==============================] - 0s 652us/step - loss: 163.9174 - mse: 163.9174\n",
      "Epoch 50/50\n",
      "313/313 [==============================] - 0s 637us/step - loss: 174.8338 - mse: 174.8338\n"
     ]
    }
   ],
   "source": [
    "# training the model and saving metrics in history\n",
    "history = model.fit(X, y_true, epochs=50, verbose=1)\n"
   ]
  },
  {
   "cell_type": "markdown",
   "metadata": {},
   "source": [
    "## 5. Evaluate model"
   ]
  },
  {
   "cell_type": "code",
   "execution_count": 9,
   "metadata": {
    "ExecuteTime": {
     "end_time": "2018-05-05T21:25:43.783548Z",
     "start_time": "2018-05-05T21:25:43.778821Z"
    }
   },
   "outputs": [
    {
     "data": {
      "text/plain": [
       "dict_keys(['loss', 'mse'])"
      ]
     },
     "execution_count": 9,
     "metadata": {},
     "output_type": "execute_result"
    }
   ],
   "source": [
    "history.history.keys()\n"
   ]
  },
  {
   "cell_type": "code",
   "execution_count": 10,
   "metadata": {
    "ExecuteTime": {
     "end_time": "2018-05-05T21:25:43.935496Z",
     "start_time": "2018-05-05T21:25:43.785502Z"
    }
   },
   "outputs": [
    {
     "data": {
      "image/png": "[encoded data removed]",
      "text/plain": [
       "<Figure size 640x480 with 1 Axes>"
      ]
     },
     "metadata": {},
     "output_type": "display_data"
    }
   ],
   "source": [
    "plt.plot(history.history['mse'])\n",
    "plt.ylabel('mse')\n",
    "plt.xlabel('epochs')\n",
    "plt.show()\n"
   ]
  },
  {
   "cell_type": "code",
   "execution_count": 11,
   "metadata": {
    "ExecuteTime": {
     "end_time": "2018-05-05T21:25:44.247768Z",
     "start_time": "2018-05-05T21:25:43.937460Z"
    }
   },
   "outputs": [
    {
     "name": "stdout",
     "output_type": "stream",
     "text": [
      "313/313 [==============================] - 0s 522us/step - loss: 151.6599 - mse: 151.6599\n",
      "Test score: [151.65988159179688, 151.65988159179688]\n"
     ]
    }
   ],
   "source": [
    "# evaluate the model performance\n",
    "score = model.evaluate(X, y_true) \n",
    "print('Test score:', score)\n"
   ]
  },
  {
   "cell_type": "code",
   "execution_count": 12,
   "metadata": {
    "ExecuteTime": {
     "end_time": "2018-05-05T21:25:44.684663Z",
     "start_time": "2018-05-05T21:25:44.249763Z"
    }
   },
   "outputs": [
    {
     "name": "stdout",
     "output_type": "stream",
     "text": [
      "313/313 [==============================] - 0s 324us/step\n"
     ]
    },
    {
     "data": {
      "image/png": "[encoded data removed]",
      "text/plain": [
       "<Figure size 640x480 with 1 Axes>"
      ]
     },
     "metadata": {},
     "output_type": "display_data"
    }
   ],
   "source": [
    "# generate predictions\n",
    "y_pred = model.predict(X)\n",
    "\n",
    "df.plot(\n",
    "    kind=\"scatter\", x=\"Height\", y=\"Weight\", title=\"Weight and Height in adults\"\n",
    ")\n",
    "plt.plot(X, y_pred, color=\"red\")\n",
    "plt.show()\n"
   ]
  },
  {
   "cell_type": "markdown",
   "metadata": {},
   "source": [
    "## References\n",
    "\n",
    "* [Deep Learning Book](http://www.deeplearningbook.org)\n",
    "\n",
    "* [Zero to Deep Learning™ Udemy Video Course](https://github.com/dataweekends/zero_to_deep_learning_udemy)\n",
    "\n",
    "* [weight-height.csv](https://www.kaggle.com/mustafaali96/weight-height)"
   ]
  }
 ],
 "metadata": {
  "kernelspec": {
   "display_name": "Python 3 (ipykernel)",
   "language": "python",
   "name": "python3"
  },
  "language_info": {
   "codemirror_mode": {
    "name": "ipython",
    "version": 3
   },
   "file_extension": ".py",
   "mimetype": "text/x-python",
   "name": "python",
   "nbconvert_exporter": "python",
   "pygments_lexer": "ipython3",
   "version": "3.10.8"
  }
 },
 "nbformat": 4,
 "nbformat_minor": 2
}
