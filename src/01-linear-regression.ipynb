{
 "cells": [
  {
   "cell_type": "markdown",
   "metadata": {},
   "source": [
    "# Deep Learning 101\n",
    "\n",
    "This notebook presents the basic notions that involve the concept of Deep\n",
    "Learning.\n",
    "\n",
    "1. **Linear Regression**\n",
    "2. Logistic Regression\n",
    "3. Artificial Neural Networks\n",
    "4. Deep Neural Networks\n",
    "5. Convolutional Neural Networks\n",
    "\n",
    "## 1. Linear Regression\n",
    "\n",
    "Linear regression is a simple machine learning algorithm. This solves a\n",
    "regression problem. \n",
    "\n",
    "* The goal is to build a system that can take a vector $\\mathbf{x} \\in\n",
    "  \\mathbb{R}^n$ as input and predict the value of a scalar $y \\in \\mathbb{R}$ as\n",
    "  its output.\n",
    "* The output is a linear function of the input.\n",
    "* We define the output to be $\\hat{y}=\\mathbf{w}^{\\top}\\mathbf{x}+\\mathbf{b}$\n",
    "    * $\\hat{y}$ is the value that our model predicts\n",
    "    * $\\mathbf{w}$ as a set of weights\n",
    "    * $\\mathbf{b}$ the bias parameter\n",
    "    \n",
    "In order **to find the best possible model to describe our data, we need to find\n",
    "a way to decide how good a model is.**\n",
    "\n",
    "\n",
    "### Cost function\n",
    "\n",
    "It's often preferable to use the cost function called **Mean Squared Error**.\n",
    "\n",
    "$$MSE = \\frac{1}{n} \\sum_{i} (y_i - \\hat{y}_i)^2$$\n",
    " \n",
    "The MSE is preferable because it's smooth and is guaranteed to have a global\n",
    "minimum.\n",
    "\n",
    "### Gradient Descent\n",
    "\n",
    "Gradient descent is an optimization algorithm that refers to the task of either\n",
    "minimizing or maximizing some function $f (x)$ by altering $x$.\n",
    "\n",
    "When we are minimizing it, we may also call it the **cost function, loss\n",
    "function**, or **error function**.\n",
    "\n",
    "We can thus reduce $f(x)$ by moving $x$ in **small steps** with opposite sign of\n",
    "the derivative.\n",
    "\n",
    "$$\\nabla f =\n",
    "    \\begin{bmatrix}\n",
    "        \\frac{\\partial f}{\\partial x_1} \\\\\n",
    "        \\frac{\\partial f}{\\partial x_2}\n",
    "    \\end{bmatrix}\n",
    "$$\n",
    "\n",
    "### Learning Rate\n",
    "\n",
    "Positive scalar determining the size of the step.\n",
    "\n",
    "$$x'=x-\\epsilon\\nabla_x f(x)$$\n",
    "* $\\epsilon$ this is called **learning rate**"
   ]
  },
  {
   "cell_type": "markdown",
   "metadata": {},
   "source": [
    "## Linear Regression with Keras and TensorFlow\n",
    "\n",
    "\n",
    "| **Keras**      | **Example**                                                         | **Link**                 |\n",
    "| -------------- |:------------------------------------------------------------------: | :-----------------------:|\n",
    "| **Loss functions**| binary-cross-entropy, categorical-cross-entropy, mean-squared-error | [keras.io/losses/](https://keras.io/losses/)|\n",
    "| **Optimizers** | SGD, Adam, RMSprop, AdaGrad, AdaDelta | [keras.io/optimizers/](https://keras.io/optimizers/)|\n",
    "\n",
    "![optimizers gif](img/optimizers.gif)\n",
    "\n",
    "\n",
    "## 1. Load data\n",
    "\n",
    "#### Load libraries"
   ]
  },
  {
   "cell_type": "code",
   "execution_count": 1,
   "metadata": {
    "ExecuteTime": {
     "end_time": "2018-05-05T21:24:47.270942Z",
     "start_time": "2018-05-05T21:24:46.619760Z"
    }
   },
   "outputs": [
    {
     "name": "stderr",
     "output_type": "stream",
     "text": [
      "2023-10-13 14:18:18.938084: I tensorflow/core/platform/cpu_feature_guard.cc:193] This TensorFlow binary is optimized with oneAPI Deep Neural Network Library (oneDNN) to use the following CPU instructions in performance-critical operations:  SSE4.1 SSE4.2 AVX AVX2 AVX_VNNI FMA\n",
      "To enable them in other operations, rebuild TensorFlow with the appropriate compiler flags.\n",
      "2023-10-13 14:18:18.971589: I tensorflow/core/util/util.cc:169] oneDNN custom operations are on. You may see slightly different numerical results due to floating-point round-off errors from different computation orders. To turn them off, set the environment variable `TF_ENABLE_ONEDNN_OPTS=0`.\n"
     ]
    }
   ],
   "source": [
    "import matplotlib.pyplot as plt\n",
    "import numpy as np\n",
    "import pandas as pd\n",
    "import tensorflow as tf\n",
    "\n",
    "np.random.seed(12049)\n"
   ]
  },
  {
   "cell_type": "markdown",
   "metadata": {},
   "source": [
    "#### Getting the data"
   ]
  },
  {
   "cell_type": "code",
   "execution_count": 2,
   "metadata": {
    "ExecuteTime": {
     "end_time": "2018-05-05T21:25:03.315671Z",
     "start_time": "2018-05-05T21:25:03.285697Z"
    }
   },
   "outputs": [
    {
     "data": {
      "text/html": [
       "<div>\n",
       "<style scoped>\n",
       "    .dataframe tbody tr th:only-of-type {\n",
       "        vertical-align: middle;\n",
       "    }\n",
       "\n",
       "    .dataframe tbody tr th {\n",
       "        vertical-align: top;\n",
       "    }\n",
       "\n",
       "    .dataframe thead th {\n",
       "        text-align: right;\n",
       "    }\n",
       "</style>\n",
       "<table border=\"1\" class=\"dataframe\">\n",
       "  <thead>\n",
       "    <tr style=\"text-align: right;\">\n",
       "      <th></th>\n",
       "      <th>Gender</th>\n",
       "      <th>Height</th>\n",
       "      <th>Weight</th>\n",
       "    </tr>\n",
       "  </thead>\n",
       "  <tbody>\n",
       "    <tr>\n",
       "      <th>0</th>\n",
       "      <td>Male</td>\n",
       "      <td>73.847017</td>\n",
       "      <td>241.893563</td>\n",
       "    </tr>\n",
       "    <tr>\n",
       "      <th>1</th>\n",
       "      <td>Male</td>\n",
       "      <td>68.781904</td>\n",
       "      <td>162.310473</td>\n",
       "    </tr>\n",
       "    <tr>\n",
       "      <th>2</th>\n",
       "      <td>Male</td>\n",
       "      <td>74.110105</td>\n",
       "      <td>212.740856</td>\n",
       "    </tr>\n",
       "    <tr>\n",
       "      <th>3</th>\n",
       "      <td>Male</td>\n",
       "      <td>71.730978</td>\n",
       "      <td>220.042470</td>\n",
       "    </tr>\n",
       "    <tr>\n",
       "      <th>4</th>\n",
       "      <td>Male</td>\n",
       "      <td>69.881796</td>\n",
       "      <td>206.349801</td>\n",
       "    </tr>\n",
       "  </tbody>\n",
       "</table>\n",
       "</div>"
      ],
      "text/plain": [
       "  Gender     Height      Weight\n",
       "0   Male  73.847017  241.893563\n",
       "1   Male  68.781904  162.310473\n",
       "2   Male  74.110105  212.740856\n",
       "3   Male  71.730978  220.042470\n",
       "4   Male  69.881796  206.349801"
      ]
     },
     "execution_count": 2,
     "metadata": {},
     "output_type": "execute_result"
    }
   ],
   "source": [
    "# read csv function, dataset\n",
    "df = pd.read_csv('data/weight-height.csv')\n",
    "# head method shows the first five lines of data frame\n",
    "df.head()\n"
   ]
  },
  {
   "cell_type": "markdown",
   "metadata": {},
   "source": [
    "#### Explore visual data"
   ]
  },
  {
   "cell_type": "code",
   "execution_count": 3,
   "metadata": {
    "ExecuteTime": {
     "end_time": "2018-05-05T21:25:03.639405Z",
     "start_time": "2018-05-05T21:25:03.317599Z"
    }
   },
   "outputs": [
    {
     "data": {
      "image/png": "[encoded data removed]",
      "text/plain": [
       "<Figure size 640x480 with 1 Axes>"
      ]
     },
     "metadata": {},
     "output_type": "display_data"
    }
   ],
   "source": [
    "# scatter plot (not order, correlation)\n",
    "plot = df.plot(\n",
    "    kind=\"scatter\",\n",
    "    x=\"Height\",\n",
    "    y=\"Weight\",\n",
    "    title=\"Weight(lb) and Height(in) in adults\",\n",
    ")\n"
   ]
  },
  {
   "cell_type": "code",
   "execution_count": 4,
   "metadata": {
    "ExecuteTime": {
     "end_time": "2018-05-05T21:25:03.645796Z",
     "start_time": "2018-05-05T21:25:03.641427Z"
    }
   },
   "outputs": [],
   "source": [
    "# independent variable\n",
    "X = df[['Height']].values\n",
    "\n",
    "# dependent variable\n",
    "y_true = df['Weight'].values\n"
   ]
  },
  {
   "cell_type": "markdown",
   "metadata": {},
   "source": [
    "## 2. Define model"
   ]
  },
  {
   "cell_type": "code",
   "execution_count": 5,
   "metadata": {
    "ExecuteTime": {
     "end_time": "2018-05-05T21:25:03.664508Z",
     "start_time": "2018-05-05T21:25:03.647794Z"
    }
   },
   "outputs": [
    {
     "name": "stderr",
     "output_type": "stream",
     "text": [
      "2023-10-13 14:18:19.704934: I tensorflow/stream_executor/cuda/cuda_gpu_executor.cc:980] successful NUMA node read from SysFS had negative value (-1), but there must be at least one NUMA node, so returning NUMA node zero\n",
      "2023-10-13 14:18:19.719181: I tensorflow/stream_executor/cuda/cuda_gpu_executor.cc:980] successful NUMA node read from SysFS had negative value (-1), but there must be at least one NUMA node, so returning NUMA node zero\n",
      "2023-10-13 14:18:19.719310: I tensorflow/stream_executor/cuda/cuda_gpu_executor.cc:980] successful NUMA node read from SysFS had negative value (-1), but there must be at least one NUMA node, so returning NUMA node zero\n",
      "2023-10-13 14:18:19.719856: I tensorflow/core/platform/cpu_feature_guard.cc:193] This TensorFlow binary is optimized with oneAPI Deep Neural Network Library (oneDNN) to use the following CPU instructions in performance-critical operations:  SSE4.1 SSE4.2 AVX AVX2 AVX_VNNI FMA\n",
      "To enable them in other operations, rebuild TensorFlow with the appropriate compiler flags.\n",
      "2023-10-13 14:18:19.720587: I tensorflow/stream_executor/cuda/cuda_gpu_executor.cc:980] successful NUMA node read from SysFS had negative value (-1), but there must be at least one NUMA node, so returning NUMA node zero\n",
      "2023-10-13 14:18:19.720676: I tensorflow/stream_executor/cuda/cuda_gpu_executor.cc:980] successful NUMA node read from SysFS had negative value (-1), but there must be at least one NUMA node, so returning NUMA node zero\n",
      "2023-10-13 14:18:19.720734: I tensorflow/stream_executor/cuda/cuda_gpu_executor.cc:980] successful NUMA node read from SysFS had negative value (-1), but there must be at least one NUMA node, so returning NUMA node zero\n",
      "2023-10-13 14:18:19.770819: I tensorflow/stream_executor/cuda/cuda_gpu_executor.cc:980] successful NUMA node read from SysFS had negative value (-1), but there must be at least one NUMA node, so returning NUMA node zero\n",
      "2023-10-13 14:18:19.770951: I tensorflow/stream_executor/cuda/cuda_gpu_executor.cc:980] successful NUMA node read from SysFS had negative value (-1), but there must be at least one NUMA node, so returning NUMA node zero\n",
      "2023-10-13 14:18:19.771016: I tensorflow/stream_executor/cuda/cuda_gpu_executor.cc:980] successful NUMA node read from SysFS had negative value (-1), but there must be at least one NUMA node, so returning NUMA node zero\n",
      "2023-10-13 14:18:19.771077: I tensorflow/core/common_runtime/gpu/gpu_device.cc:1616] Created device /job:localhost/replica:0/task:0/device:GPU:0 with 1109 MB memory:  -> device: 0, name: NVIDIA GeForce RTX 3080 Ti Laptop GPU, pci bus id: 0000:01:00.0, compute capability: 8.6\n"
     ]
    }
   ],
   "source": [
    "# building a linear stack of layers with the sequential model\n",
    "model = tf.keras.Sequential()\n",
    "\n",
    "# Add layer\n",
    "model.add(tf.keras.layers.Dense(1, input_shape=(1,)))\n"
   ]
  },
  {
   "cell_type": "markdown",
   "metadata": {},
   "source": [
    "#### Model visualization"
   ]
  },
  {
   "cell_type": "code",
   "execution_count": 6,
   "metadata": {
    "ExecuteTime": {
     "end_time": "2018-05-05T21:25:08.079037Z",
     "start_time": "2018-05-05T21:25:03.666464Z"
    }
   },
   "outputs": [
    {
     "name": "stdout",
     "output_type": "stream",
     "text": [
      "Model: \"sequential\"\n",
      "_________________________________________________________________\n",
      " Layer (type)                Output Shape              Param #   \n",
      "=================================================================\n",
      " dense (Dense)               (None, 1)                 2         \n",
      "                                                                 \n",
      "=================================================================\n",
      "Total params: 2\n",
      "Trainable params: 2\n",
      "Non-trainable params: 0\n",
      "_________________________________________________________________\n"
     ]
    }
   ],
   "source": [
    "# plot a Keras model\n",
    "tf.keras.utils.plot_model(\n",
    "    model,\n",
    "    to_file=\"img/model01_lin_reg.png\",\n",
    "    show_shapes=True,\n",
    "    show_layer_names=True,\n",
    ")\n",
    "\n",
    "# prints a summary representation of your model\n",
    "model.summary()\n"
   ]
  },
  {
   "cell_type": "markdown",
   "metadata": {},
   "source": [
    "![Linear regression](img/model01_lin_reg.png)"
   ]
  },
  {
   "cell_type": "markdown",
   "metadata": {},
   "source": [
    "## 3. Compile model"
   ]
  },
  {
   "cell_type": "code",
   "execution_count": 7,
   "metadata": {
    "ExecuteTime": {
     "end_time": "2018-05-05T21:25:08.113576Z",
     "start_time": "2018-05-05T21:25:08.081324Z"
    }
   },
   "outputs": [],
   "source": [
    "# compiling the sequential model\n",
    "model.compile(\n",
    "    tf.keras.optimizers.Adam(learning_rate=0.6),\n",
    "    loss=\"mean_squared_error\",\n",
    "    metrics=[\"mse\"],\n",
    ")\n"
   ]
  },
  {
   "cell_type": "markdown",
   "metadata": {},
   "source": [
    "## 4. Fit model"
   ]
  },
  {
   "cell_type": "code",
   "execution_count": 8,
   "metadata": {
    "ExecuteTime": {
     "end_time": "2018-05-05T21:25:43.776445Z",
     "start_time": "2018-05-05T21:25:08.115538Z"
    }
   },
   "outputs": [
    {
     "name": "stdout",
     "output_type": "stream",
     "text": [
      "Epoch 1/50\n",
      "313/313 [==============================] - 0s 709us/step - loss: 927.5759 - mse: 927.5759\n",
      "Epoch 2/50\n",
      "313/313 [==============================] - 0s 618us/step - loss: 554.2180 - mse: 554.2180\n",
      "Epoch 3/50\n",
      "313/313 [==============================] - 0s 673us/step - loss: 532.0526 - mse: 532.0526\n",
      "Epoch 4/50\n",
      "313/313 [==============================] - 0s 597us/step - loss: 497.0309 - mse: 497.0309\n",
      "Epoch 5/50\n",
      "313/313 [==============================] - 0s 614us/step - loss: 457.3089 - mse: 457.3089\n",
      "Epoch 6/50\n",
      "313/313 [==============================] - 0s 609us/step - loss: 430.6739 - mse: 430.6739\n",
      "Epoch 7/50\n",
      "313/313 [==============================] - 0s 639us/step - loss: 378.7910 - mse: 378.7910\n",
      "Epoch 8/50\n",
      "313/313 [==============================] - 0s 632us/step - loss: 347.4156 - mse: 347.4156\n",
      "Epoch 9/50\n",
      "313/313 [==============================] - 0s 648us/step - loss: 326.6108 - mse: 326.6108\n",
      "Epoch 10/50\n",
      "313/313 [==============================] - 0s 625us/step - loss: 298.0714 - mse: 298.0714\n",
      "Epoch 11/50\n",
      "313/313 [==============================] - 0s 673us/step - loss: 289.9574 - mse: 289.9574\n",
      "Epoch 12/50\n",
      "313/313 [==============================] - 0s 651us/step - loss: 270.5981 - mse: 270.5981\n",
      "Epoch 13/50\n",
      "313/313 [==============================] - 0s 608us/step - loss: 249.4086 - mse: 249.4086\n",
      "Epoch 14/50\n",
      "313/313 [==============================] - 0s 602us/step - loss: 225.8859 - mse: 225.8859\n",
      "Epoch 15/50\n",
      "313/313 [==============================] - 0s 609us/step - loss: 226.2948 - mse: 226.2948\n",
      "Epoch 16/50\n",
      "313/313 [==============================] - 0s 612us/step - loss: 218.8541 - mse: 218.8541\n",
      "Epoch 17/50\n",
      "313/313 [==============================] - 0s 649us/step - loss: 204.6967 - mse: 204.6967\n",
      "Epoch 18/50\n",
      "313/313 [==============================] - 0s 706us/step - loss: 197.4792 - mse: 197.4792\n",
      "Epoch 19/50\n",
      "313/313 [==============================] - 0s 667us/step - loss: 195.9141 - mse: 195.9141\n",
      "Epoch 20/50\n",
      "313/313 [==============================] - 0s 633us/step - loss: 186.7194 - mse: 186.7194\n",
      "Epoch 21/50\n",
      "313/313 [==============================] - 0s 619us/step - loss: 179.5934 - mse: 179.5934\n",
      "Epoch 22/50\n",
      "313/313 [==============================] - 0s 617us/step - loss: 194.7995 - mse: 194.7995\n",
      "Epoch 23/50\n",
      "313/313 [==============================] - 0s 615us/step - loss: 175.0338 - mse: 175.0338\n",
      "Epoch 24/50\n",
      "313/313 [==============================] - 0s 642us/step - loss: 178.7675 - mse: 178.7675\n",
      "Epoch 25/50\n",
      "313/313 [==============================] - 0s 659us/step - loss: 178.4480 - mse: 178.4480\n",
      "Epoch 26/50\n",
      "313/313 [==============================] - 0s 630us/step - loss: 174.9750 - mse: 174.9750\n",
      "Epoch 27/50\n",
      "313/313 [==============================] - 0s 661us/step - loss: 175.0372 - mse: 175.0372\n",
      "Epoch 28/50\n",
      "313/313 [==============================] - 0s 610us/step - loss: 170.7460 - mse: 170.7460\n",
      "Epoch 29/50\n",
      "313/313 [==============================] - 0s 599us/step - loss: 170.3745 - mse: 170.3745\n",
      "Epoch 30/50\n",
      "313/313 [==============================] - 0s 628us/step - loss: 171.1440 - mse: 171.1440\n",
      "Epoch 31/50\n",
      "313/313 [==============================] - 0s 653us/step - loss: 168.6180 - mse: 168.6180\n",
      "Epoch 32/50\n",
      "313/313 [==============================] - 0s 592us/step - loss: 174.9197 - mse: 174.9197\n",
      "Epoch 33/50\n",
      "313/313 [==============================] - 0s 606us/step - loss: 167.1025 - mse: 167.1025\n",
      "Epoch 34/50\n",
      "313/313 [==============================] - 0s 632us/step - loss: 172.0093 - mse: 172.0093\n",
      "Epoch 35/50\n",
      "313/313 [==============================] - 0s 588us/step - loss: 167.3376 - mse: 167.3376\n",
      "Epoch 36/50\n",
      "313/313 [==============================] - 0s 692us/step - loss: 169.8856 - mse: 169.8856\n",
      "Epoch 37/50\n",
      "313/313 [==============================] - 0s 581us/step - loss: 168.9875 - mse: 168.9875\n",
      "Epoch 38/50\n",
      "313/313 [==============================] - 0s 614us/step - loss: 175.5816 - mse: 175.5816\n",
      "Epoch 39/50\n",
      "313/313 [==============================] - 0s 640us/step - loss: 180.6924 - mse: 180.6924\n",
      "Epoch 40/50\n",
      "313/313 [==============================] - 0s 628us/step - loss: 166.1416 - mse: 166.1416\n",
      "Epoch 41/50\n",
      "313/313 [==============================] - 0s 637us/step - loss: 167.8914 - mse: 167.8914\n",
      "Epoch 42/50\n",
      "313/313 [==============================] - 0s 671us/step - loss: 173.4832 - mse: 173.4832\n",
      "Epoch 43/50\n",
      "313/313 [==============================] - 0s 673us/step - loss: 176.5386 - mse: 176.5386\n",
      "Epoch 44/50\n",
      "313/313 [==============================] - 0s 636us/step - loss: 178.6889 - mse: 178.6889\n",
      "Epoch 45/50\n",
      "313/313 [==============================] - 0s 611us/step - loss: 167.4465 - mse: 167.4465\n",
      "Epoch 46/50\n",
      "313/313 [==============================] - 0s 613us/step - loss: 164.5826 - mse: 164.5826\n",
      "Epoch 47/50\n",
      "313/313 [==============================] - 0s 635us/step - loss: 179.2120 - mse: 179.2120\n",
      "Epoch 48/50\n",
      "313/313 [==============================] - 0s 636us/step - loss: 175.5022 - mse: 175.5022\n",
      "Epoch 49/50\n",
      "313/313 [==============================] - 0s 648us/step - loss: 168.0541 - mse: 168.0541\n",
      "Epoch 50/50\n",
      "313/313 [==============================] - 0s 652us/step - loss: 171.5258 - mse: 171.5258\n"
     ]
    }
   ],
   "source": [
    "# training the model and saving metrics in history\n",
    "history = model.fit(X, y_true, epochs=50, verbose=1)\n"
   ]
  },
  {
   "cell_type": "markdown",
   "metadata": {},
   "source": [
    "## 5. Evaluate model"
   ]
  },
  {
   "cell_type": "code",
   "execution_count": 9,
   "metadata": {
    "ExecuteTime": {
     "end_time": "2018-05-05T21:25:43.783548Z",
     "start_time": "2018-05-05T21:25:43.778821Z"
    }
   },
   "outputs": [
    {
     "data": {
      "text/plain": [
       "dict_keys(['loss', 'mse'])"
      ]
     },
     "execution_count": 9,
     "metadata": {},
     "output_type": "execute_result"
    }
   ],
   "source": [
    "history.history.keys()\n"
   ]
  },
  {
   "cell_type": "code",
   "execution_count": 10,
   "metadata": {
    "ExecuteTime": {
     "end_time": "2018-05-05T21:25:43.935496Z",
     "start_time": "2018-05-05T21:25:43.785502Z"
    }
   },
   "outputs": [
    {
     "data": {
      "image/png": "[encoded data removed]",
      "text/plain": [
       "<Figure size 640x480 with 1 Axes>"
      ]
     },
     "metadata": {},
     "output_type": "display_data"
    }
   ],
   "source": [
    "plt.plot(history.history['mse'])\n",
    "plt.ylabel('mse')\n",
    "plt.xlabel('epochs')\n",
    "plt.show()\n"
   ]
  },
  {
   "cell_type": "code",
   "execution_count": 11,
   "metadata": {
    "ExecuteTime": {
     "end_time": "2018-05-05T21:25:44.247768Z",
     "start_time": "2018-05-05T21:25:43.937460Z"
    }
   },
   "outputs": [
    {
     "name": "stdout",
     "output_type": "stream",
     "text": [
      "313/313 [==============================] - 0s 531us/step - loss: 154.5155 - mse: 154.5155\n",
      "Test score: [154.5154571533203, 154.5154571533203]\n"
     ]
    }
   ],
   "source": [
    "# evaluate the model performance\n",
    "score = model.evaluate(X, y_true) \n",
    "print('Test score:', score)\n"
   ]
  },
  {
   "cell_type": "code",
   "execution_count": 12,
   "metadata": {
    "ExecuteTime": {
     "end_time": "2018-05-05T21:25:44.684663Z",
     "start_time": "2018-05-05T21:25:44.249763Z"
    }
   },
   "outputs": [
    {
     "name": "stdout",
     "output_type": "stream",
     "text": [
      "313/313 [==============================] - 0s 318us/step\n"
     ]
    },
    {
     "data": {
      "image/png": "[encoded data removed]",
      "text/plain": [
       "<Figure size 640x480 with 1 Axes>"
      ]
     },
     "metadata": {},
     "output_type": "display_data"
    }
   ],
   "source": [
    "# generate predictions\n",
    "y_pred = model.predict(X)\n",
    "\n",
    "df.plot(\n",
    "    kind=\"scatter\", x=\"Height\", y=\"Weight\", title=\"Weight and Height in adults\"\n",
    ")\n",
    "plt.plot(X, y_pred, color=\"red\")\n",
    "plt.show()\n"
   ]
  },
  {
   "cell_type": "markdown",
   "metadata": {},
   "source": [
    "## References\n",
    "\n",
    "* [Deep Learning Book](http://www.deeplearningbook.org)\n",
    "\n",
    "* [Zero to Deep Learning™ Udemy Video Course](https://github.com/dataweekends/zero_to_deep_learning_udemy)\n",
    "\n",
    "* [weight-height.csv](https://www.kaggle.com/mustafaali96/weight-height)"
   ]
  }
 ],
 "metadata": {
  "kernelspec": {
   "display_name": "Python 3 (ipykernel)",
   "language": "python",
   "name": "python3"
  },
  "language_info": {
   "codemirror_mode": {
    "name": "ipython",
    "version": 3
   },
   "file_extension": ".py",
   "mimetype": "text/x-python",
   "name": "python",
   "nbconvert_exporter": "python",
   "pygments_lexer": "ipython3",
   "version": "3.10.8"
  }
 },
 "nbformat": 4,
 "nbformat_minor": 2
}
