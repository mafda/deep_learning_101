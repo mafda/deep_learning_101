{
 "cells": [
  {
   "cell_type": "markdown",
   "metadata": {},
   "source": [
    "# Deep Learning 101\n",
    "\n",
    "This notebook presents the basics concepts that involve the concept of Deep Learning.\n",
    "\n",
    "1. Linear Regression\n",
    "* Logistic Regression\n",
    "* **Artificial Neural Networks**\n",
    "* Deep Neural Networks\n",
    "* Convolutional Neural Networks\n",
    "\n",
    "## 3. Artificial Neural Networks\n",
    "\n",
    "These models are called *feedforward* because information **flows** through the function being evaluated from $x$, through the intermediate computations used to define $f$, and finally to the output $y$.\n",
    "\n",
    "*Feedforward* neural networks are called networks because they are typically represented by composing together many different functions.\n",
    "\n",
    "$$\n",
    "    \\begin{align}\n",
    "    \\hat{y} &= f(x) \\\\\n",
    "            &= f^{(2)}(f^{(1)}(x))\n",
    "    \\end{align}\n",
    "$$\n",
    "\n",
    "$$f^{(i)}(h) = \\sigma_i(W_ih + b_i)$$\n",
    "\n",
    "\n",
    "$$\\hat{y} = \\sigma_2(W_2 \\sigma_1(W_1 x + b_1) + b_2)$$\n",
    "---"
   ]
  },
  {
   "cell_type": "markdown",
   "metadata": {},
   "source": [
    "## Artificial Neural Networks with Keras and TensorFlow\n",
    "\n",
    "**Activations functions** are non-linear functions applied when passing the output of a layer to the next layer or the final\n",
    "\n",
    "| **Keras**      | **Example**                                                         | **Link**                 |\n",
    "| -------------- |:------------------------------------------------------------------: | :-----------------------:|\n",
    "| **Activation functions**| sigmoid, step, tanh, softmax, ReLU | [keras.io/activations/](https://keras.io/activations/)|\n",
    "\n",
    "---\n",
    "\n",
    "## 1. Load data\n",
    "\n",
    "#### Load libraries"
   ]
  },
  {
   "cell_type": "code",
   "execution_count": 1,
   "metadata": {
    "ExecuteTime": {
     "end_time": "2018-05-05T22:57:53.030419Z",
     "start_time": "2018-05-05T22:57:52.612434Z"
    }
   },
   "outputs": [],
   "source": [
    "%matplotlib inline\n",
    "import matplotlib.pyplot as plt\n",
    "\n",
    "import numpy as np"
   ]
  },
  {
   "cell_type": "code",
   "execution_count": 2,
   "metadata": {},
   "outputs": [],
   "source": [
    "from tensorflow.keras.datasets import mnist\n",
    "from tensorflow.keras.layers import Dense\n",
    "from tensorflow.keras.models import Sequential\n",
    "from tensorflow.keras.utils import plot_model, to_categorical"
   ]
  },
  {
   "cell_type": "markdown",
   "metadata": {},
   "source": [
    "#### Getting the data"
   ]
  },
  {
   "cell_type": "code",
   "execution_count": 3,
   "metadata": {
    "ExecuteTime": {
     "end_time": "2018-05-05T22:58:09.437997Z",
     "start_time": "2018-05-05T22:58:09.133163Z"
    }
   },
   "outputs": [],
   "source": [
    "# load dataset\n",
    "(X_train, y_train), (X_test, y_test) = mnist.load_data()"
   ]
  },
  {
   "cell_type": "markdown",
   "metadata": {},
   "source": [
    "#### Explore visual data"
   ]
  },
  {
   "cell_type": "code",
   "execution_count": 4,
   "metadata": {
    "ExecuteTime": {
     "end_time": "2018-05-05T22:58:09.912826Z",
     "start_time": "2018-05-05T22:58:09.440100Z"
    }
   },
   "outputs": [
    {
     "data": {
      "image/png": "[encoded data removed]",
      "text/plain": [
       "<Figure size 432x288 with 10 Axes>"
      ]
     },
     "metadata": {},
     "output_type": "display_data"
    }
   ],
   "source": [
    "fig = plt.figure()\n",
    "for i in range(10):\n",
    "    plt.subplot(2, 5, i+1)\n",
    "    x_y = X_train[y_train == i]\n",
    "    plt.imshow(x_y[0], cmap='gray', interpolation='none')\n",
    "    plt.title(\"Class %d\" % (i))\n",
    "    plt.xticks([])\n",
    "    plt.yticks([])\n",
    "    \n",
    "plt.tight_layout()"
   ]
  },
  {
   "cell_type": "code",
   "execution_count": 5,
   "metadata": {
    "ExecuteTime": {
     "end_time": "2018-05-05T22:58:09.921681Z",
     "start_time": "2018-05-05T22:58:09.914854Z"
    }
   },
   "outputs": [
    {
     "name": "stdout",
     "output_type": "stream",
     "text": [
      "X_train.shape (60000, 28, 28)\n",
      "y_train.shape (60000,)\n",
      "X_test.shape (10000, 28, 28)\n",
      "y_train.shape (10000,)\n"
     ]
    }
   ],
   "source": [
    "print('X_train.shape', X_train.shape)\n",
    "print('y_train.shape', y_train.shape)\n",
    "print('X_test.shape', X_test.shape)\n",
    "print('y_train.shape', y_test.shape)"
   ]
  },
  {
   "cell_type": "markdown",
   "metadata": {},
   "source": [
    "#### Reshaping and normalizing the inputs"
   ]
  },
  {
   "cell_type": "code",
   "execution_count": 6,
   "metadata": {
    "ExecuteTime": {
     "end_time": "2018-05-05T22:58:10.139272Z",
     "start_time": "2018-05-05T22:58:09.923779Z"
    }
   },
   "outputs": [
    {
     "name": "stdout",
     "output_type": "stream",
     "text": [
      "X_train reshape: (60000, 784)\n",
      "X_test reshape: (10000, 784)\n"
     ]
    }
   ],
   "source": [
    "# reshaping the inputs\n",
    "X_train = X_train.reshape(60000, 28*28)\n",
    "X_test = X_test.reshape(10000, 28*28)\n",
    "\n",
    "# normalizing the inputs\n",
    "X_train = X_train.astype('float32') / 255.0\n",
    "X_test = X_test.astype('float32') / 255.0\n",
    "print('X_train reshape:', X_train.shape)\n",
    "print('X_test reshape:', X_test.shape)"
   ]
  },
  {
   "cell_type": "markdown",
   "metadata": {},
   "source": [
    "#### Convert class vectors to binary class matrices"
   ]
  },
  {
   "cell_type": "code",
   "execution_count": 7,
   "metadata": {
    "ExecuteTime": {
     "end_time": "2018-05-05T22:58:10.150447Z",
     "start_time": "2018-05-05T22:58:10.141339Z"
    }
   },
   "outputs": [
    {
     "name": "stdout",
     "output_type": "stream",
     "text": [
      "y_train_cat shape: (60000, 10)\n",
      "y_test_cat shape: (10000, 10)\n"
     ]
    }
   ],
   "source": [
    "# 10 classes\n",
    "y_train_cat = to_categorical(y_train, 10)\n",
    "y_test_cat = to_categorical(y_test, 10)\n",
    "\n",
    "print('y_train_cat shape:', y_train_cat.shape)\n",
    "print('y_test_cat shape:', y_test_cat.shape)"
   ]
  },
  {
   "cell_type": "markdown",
   "metadata": {},
   "source": [
    "## 2. Define model"
   ]
  },
  {
   "cell_type": "markdown",
   "metadata": {},
   "source": [
    "#### Add the input-, hidden- and output-layers"
   ]
  },
  {
   "cell_type": "code",
   "execution_count": 8,
   "metadata": {
    "ExecuteTime": {
     "end_time": "2018-05-05T22:58:10.182804Z",
     "start_time": "2018-05-05T22:58:10.152395Z"
    }
   },
   "outputs": [
    {
     "name": "stderr",
     "output_type": "stream",
     "text": [
      "2021-08-08 20:22:18.077419: I tensorflow/core/platform/cpu_feature_guard.cc:142] This TensorFlow binary is optimized with oneAPI Deep Neural Network Library (oneDNN) to use the following CPU instructions in performance-critical operations:  SSE4.1 SSE4.2 AVX AVX2 FMA\n",
      "To enable them in other operations, rebuild TensorFlow with the appropriate compiler flags.\n"
     ]
    }
   ],
   "source": [
    "# building a linear stack of layers with the sequential model\n",
    "model = Sequential()\n",
    "\n",
    "# Add the input layer and hidden layer 1\n",
    "model.add(Dense(32, input_shape=(784,), activation='sigmoid'))\n",
    "\n",
    "# Add the output layer\n",
    "model.add(Dense(10, activation='softmax'))"
   ]
  },
  {
   "cell_type": "markdown",
   "metadata": {},
   "source": [
    "#### Model visualization"
   ]
  },
  {
   "cell_type": "code",
   "execution_count": 9,
   "metadata": {
    "ExecuteTime": {
     "end_time": "2018-05-05T22:58:14.335955Z",
     "start_time": "2018-05-05T22:58:10.184766Z"
    }
   },
   "outputs": [
    {
     "name": "stdout",
     "output_type": "stream",
     "text": [
      "('Failed to import pydot. You must `pip install pydot` and install graphviz (https://graphviz.gitlab.io/download/), ', 'for `pydotprint` to work.')\n",
      "Model: \"sequential\"\n",
      "_________________________________________________________________\n",
      "Layer (type)                 Output Shape              Param #   \n",
      "=================================================================\n",
      "dense (Dense)                (None, 32)                25120     \n",
      "_________________________________________________________________\n",
      "dense_1 (Dense)              (None, 10)                330       \n",
      "=================================================================\n",
      "Total params: 25,450\n",
      "Trainable params: 25,450\n",
      "Non-trainable params: 0\n",
      "_________________________________________________________________\n"
     ]
    }
   ],
   "source": [
    "# plot a Keras model\n",
    "plot_model(model, to_file='img/model03_ann.png',\n",
    "           show_shapes=True, show_layer_names=True)\n",
    "\n",
    "# prints a summary representation of your model\n",
    "model.summary()"
   ]
  },
  {
   "cell_type": "markdown",
   "metadata": {},
   "source": [
    "![Artificial neural network](img/model03_ann.png)"
   ]
  },
  {
   "cell_type": "markdown",
   "metadata": {},
   "source": [
    "## 3. Compile model"
   ]
  },
  {
   "cell_type": "code",
   "execution_count": 10,
   "metadata": {
    "ExecuteTime": {
     "end_time": "2018-05-05T22:58:14.376880Z",
     "start_time": "2018-05-05T22:58:14.338293Z"
    }
   },
   "outputs": [],
   "source": [
    "# compiling the sequential model\n",
    "model.compile('rmsprop', loss='categorical_crossentropy',\n",
    "              metrics=['categorical_accuracy'])"
   ]
  },
  {
   "cell_type": "markdown",
   "metadata": {},
   "source": [
    "## 4. Fit model"
   ]
  },
  {
   "cell_type": "code",
   "execution_count": 11,
   "metadata": {
    "ExecuteTime": {
     "end_time": "2018-05-05T22:59:01.591170Z",
     "start_time": "2018-05-05T22:58:14.378895Z"
    }
   },
   "outputs": [
    {
     "name": "stderr",
     "output_type": "stream",
     "text": [
      "2021-08-08 20:22:18.239332: I tensorflow/compiler/mlir/mlir_graph_optimization_pass.cc:116] None of the MLIR optimization passes are enabled (registered 2)\n",
      "2021-08-08 20:22:18.257943: I tensorflow/core/platform/profile_utils/cpu_utils.cc:112] CPU Frequency: 1800000000 Hz\n"
     ]
    },
    {
     "name": "stdout",
     "output_type": "stream",
     "text": [
      "Epoch 1/50\n",
      "235/235 - 1s - loss: 1.1466 - categorical_accuracy: 0.7612 - val_loss: 0.6066 - val_categorical_accuracy: 0.8823\n",
      "Epoch 2/50\n",
      "235/235 - 0s - loss: 0.4703 - categorical_accuracy: 0.8931 - val_loss: 0.3661 - val_categorical_accuracy: 0.9092\n",
      "Epoch 3/50\n",
      "235/235 - 0s - loss: 0.3327 - categorical_accuracy: 0.9122 - val_loss: 0.2948 - val_categorical_accuracy: 0.9195\n",
      "Epoch 4/50\n",
      "235/235 - 0s - loss: 0.2804 - categorical_accuracy: 0.9229 - val_loss: 0.2610 - val_categorical_accuracy: 0.9287\n",
      "Epoch 5/50\n",
      "235/235 - 0s - loss: 0.2507 - categorical_accuracy: 0.9301 - val_loss: 0.2393 - val_categorical_accuracy: 0.9321\n",
      "Epoch 6/50\n",
      "235/235 - 0s - loss: 0.2301 - categorical_accuracy: 0.9359 - val_loss: 0.2220 - val_categorical_accuracy: 0.9363\n",
      "Epoch 7/50\n",
      "235/235 - 0s - loss: 0.2136 - categorical_accuracy: 0.9400 - val_loss: 0.2093 - val_categorical_accuracy: 0.9393\n",
      "Epoch 8/50\n",
      "235/235 - 0s - loss: 0.2004 - categorical_accuracy: 0.9432 - val_loss: 0.1989 - val_categorical_accuracy: 0.9414\n",
      "Epoch 9/50\n",
      "235/235 - 0s - loss: 0.1892 - categorical_accuracy: 0.9464 - val_loss: 0.1923 - val_categorical_accuracy: 0.9430\n",
      "Epoch 10/50\n",
      "235/235 - 1s - loss: 0.1796 - categorical_accuracy: 0.9496 - val_loss: 0.1833 - val_categorical_accuracy: 0.9460\n",
      "Epoch 11/50\n",
      "235/235 - 0s - loss: 0.1711 - categorical_accuracy: 0.9518 - val_loss: 0.1776 - val_categorical_accuracy: 0.9480\n",
      "Epoch 12/50\n",
      "235/235 - 0s - loss: 0.1636 - categorical_accuracy: 0.9535 - val_loss: 0.1716 - val_categorical_accuracy: 0.9490\n",
      "Epoch 13/50\n",
      "235/235 - 0s - loss: 0.1568 - categorical_accuracy: 0.9557 - val_loss: 0.1666 - val_categorical_accuracy: 0.9510\n",
      "Epoch 14/50\n",
      "235/235 - 0s - loss: 0.1509 - categorical_accuracy: 0.9572 - val_loss: 0.1637 - val_categorical_accuracy: 0.9508\n",
      "Epoch 15/50\n",
      "235/235 - 0s - loss: 0.1455 - categorical_accuracy: 0.9592 - val_loss: 0.1588 - val_categorical_accuracy: 0.9523\n",
      "Epoch 16/50\n",
      "235/235 - 0s - loss: 0.1406 - categorical_accuracy: 0.9598 - val_loss: 0.1542 - val_categorical_accuracy: 0.9536\n",
      "Epoch 17/50\n",
      "235/235 - 0s - loss: 0.1363 - categorical_accuracy: 0.9613 - val_loss: 0.1519 - val_categorical_accuracy: 0.9543\n",
      "Epoch 18/50\n",
      "235/235 - 0s - loss: 0.1322 - categorical_accuracy: 0.9622 - val_loss: 0.1496 - val_categorical_accuracy: 0.9571\n",
      "Epoch 19/50\n",
      "235/235 - 0s - loss: 0.1282 - categorical_accuracy: 0.9634 - val_loss: 0.1467 - val_categorical_accuracy: 0.9556\n",
      "Epoch 20/50\n",
      "235/235 - 0s - loss: 0.1246 - categorical_accuracy: 0.9649 - val_loss: 0.1451 - val_categorical_accuracy: 0.9558\n",
      "Epoch 21/50\n",
      "235/235 - 0s - loss: 0.1212 - categorical_accuracy: 0.9658 - val_loss: 0.1436 - val_categorical_accuracy: 0.9582\n",
      "Epoch 22/50\n",
      "235/235 - 0s - loss: 0.1182 - categorical_accuracy: 0.9669 - val_loss: 0.1408 - val_categorical_accuracy: 0.9578\n",
      "Epoch 23/50\n",
      "235/235 - 1s - loss: 0.1152 - categorical_accuracy: 0.9674 - val_loss: 0.1392 - val_categorical_accuracy: 0.9580\n",
      "Epoch 24/50\n",
      "235/235 - 1s - loss: 0.1125 - categorical_accuracy: 0.9682 - val_loss: 0.1371 - val_categorical_accuracy: 0.9588\n",
      "Epoch 25/50\n",
      "235/235 - 0s - loss: 0.1096 - categorical_accuracy: 0.9691 - val_loss: 0.1361 - val_categorical_accuracy: 0.9597\n",
      "Epoch 26/50\n",
      "235/235 - 0s - loss: 0.1073 - categorical_accuracy: 0.9697 - val_loss: 0.1329 - val_categorical_accuracy: 0.9607\n",
      "Epoch 27/50\n",
      "235/235 - 0s - loss: 0.1050 - categorical_accuracy: 0.9704 - val_loss: 0.1320 - val_categorical_accuracy: 0.9623\n",
      "Epoch 28/50\n",
      "235/235 - 0s - loss: 0.1027 - categorical_accuracy: 0.9713 - val_loss: 0.1312 - val_categorical_accuracy: 0.9611\n",
      "Epoch 29/50\n",
      "235/235 - 0s - loss: 0.1004 - categorical_accuracy: 0.9715 - val_loss: 0.1312 - val_categorical_accuracy: 0.9614\n",
      "Epoch 30/50\n",
      "235/235 - 0s - loss: 0.0985 - categorical_accuracy: 0.9724 - val_loss: 0.1282 - val_categorical_accuracy: 0.9621\n",
      "Epoch 31/50\n",
      "235/235 - 0s - loss: 0.0962 - categorical_accuracy: 0.9728 - val_loss: 0.1274 - val_categorical_accuracy: 0.9631\n",
      "Epoch 32/50\n",
      "235/235 - 0s - loss: 0.0946 - categorical_accuracy: 0.9732 - val_loss: 0.1264 - val_categorical_accuracy: 0.9630\n",
      "Epoch 33/50\n",
      "235/235 - 0s - loss: 0.0929 - categorical_accuracy: 0.9738 - val_loss: 0.1264 - val_categorical_accuracy: 0.9625\n",
      "Epoch 34/50\n",
      "235/235 - 0s - loss: 0.0911 - categorical_accuracy: 0.9741 - val_loss: 0.1259 - val_categorical_accuracy: 0.9626\n",
      "Epoch 35/50\n",
      "235/235 - 1s - loss: 0.0893 - categorical_accuracy: 0.9746 - val_loss: 0.1253 - val_categorical_accuracy: 0.9625\n",
      "Epoch 36/50\n",
      "235/235 - 0s - loss: 0.0880 - categorical_accuracy: 0.9753 - val_loss: 0.1241 - val_categorical_accuracy: 0.9637\n",
      "Epoch 37/50\n",
      "235/235 - 1s - loss: 0.0865 - categorical_accuracy: 0.9754 - val_loss: 0.1240 - val_categorical_accuracy: 0.9630\n",
      "Epoch 38/50\n",
      "235/235 - 1s - loss: 0.0848 - categorical_accuracy: 0.9758 - val_loss: 0.1238 - val_categorical_accuracy: 0.9647\n",
      "Epoch 39/50\n",
      "235/235 - 1s - loss: 0.0833 - categorical_accuracy: 0.9762 - val_loss: 0.1230 - val_categorical_accuracy: 0.9651\n",
      "Epoch 40/50\n",
      "235/235 - 1s - loss: 0.0822 - categorical_accuracy: 0.9769 - val_loss: 0.1230 - val_categorical_accuracy: 0.9634\n",
      "Epoch 41/50\n",
      "235/235 - 1s - loss: 0.0807 - categorical_accuracy: 0.9776 - val_loss: 0.1215 - val_categorical_accuracy: 0.9644\n",
      "Epoch 42/50\n",
      "235/235 - 0s - loss: 0.0795 - categorical_accuracy: 0.9775 - val_loss: 0.1214 - val_categorical_accuracy: 0.9641\n",
      "Epoch 43/50\n",
      "235/235 - 0s - loss: 0.0782 - categorical_accuracy: 0.9779 - val_loss: 0.1230 - val_categorical_accuracy: 0.9633\n",
      "Epoch 44/50\n",
      "235/235 - 0s - loss: 0.0771 - categorical_accuracy: 0.9786 - val_loss: 0.1223 - val_categorical_accuracy: 0.9654\n",
      "Epoch 45/50\n",
      "235/235 - 0s - loss: 0.0759 - categorical_accuracy: 0.9785 - val_loss: 0.1215 - val_categorical_accuracy: 0.9646\n",
      "Epoch 46/50\n",
      "235/235 - 0s - loss: 0.0747 - categorical_accuracy: 0.9791 - val_loss: 0.1209 - val_categorical_accuracy: 0.9652\n",
      "Epoch 47/50\n",
      "235/235 - 0s - loss: 0.0735 - categorical_accuracy: 0.9796 - val_loss: 0.1208 - val_categorical_accuracy: 0.9656\n",
      "Epoch 48/50\n",
      "235/235 - 0s - loss: 0.0725 - categorical_accuracy: 0.9797 - val_loss: 0.1206 - val_categorical_accuracy: 0.9658\n",
      "Epoch 49/50\n",
      "235/235 - 0s - loss: 0.0716 - categorical_accuracy: 0.9798 - val_loss: 0.1200 - val_categorical_accuracy: 0.9646\n",
      "Epoch 50/50\n",
      "235/235 - 0s - loss: 0.0703 - categorical_accuracy: 0.9806 - val_loss: 0.1202 - val_categorical_accuracy: 0.9641\n"
     ]
    }
   ],
   "source": [
    "# training the model and saving metrics in history\n",
    "history = model.fit(X_train, y_train_cat,\n",
    "                    batch_size=256, epochs=50,\n",
    "                    verbose=2,\n",
    "                    validation_data=(X_test, y_test_cat))"
   ]
  },
  {
   "cell_type": "markdown",
   "metadata": {},
   "source": [
    "## 5. Evaluate model"
   ]
  },
  {
   "cell_type": "code",
   "execution_count": 12,
   "metadata": {
    "ExecuteTime": {
     "end_time": "2018-05-05T22:59:01.928715Z",
     "start_time": "2018-05-05T22:59:01.593686Z"
    }
   },
   "outputs": [
    {
     "data": {
      "image/png": "[encoded data removed]",
      "text/plain": [
       "<Figure size 432x288 with 2 Axes>"
      ]
     },
     "metadata": {
      "needs_background": "light"
     },
     "output_type": "display_data"
    }
   ],
   "source": [
    "# plotting the metrics\n",
    "fig = plt.figure()\n",
    "plt.subplot(2,1,1)\n",
    "plt.plot(history.history['categorical_accuracy'])\n",
    "plt.plot(history.history['val_categorical_accuracy'])\n",
    "plt.title('model accuracy')\n",
    "plt.ylabel('accuracy')\n",
    "plt.xlabel('epoch')\n",
    "plt.legend(['train', 'test'], loc='lower right')\n",
    "\n",
    "plt.subplot(2,1,2)\n",
    "plt.plot(history.history['loss'])\n",
    "plt.plot(history.history['val_loss'])\n",
    "plt.title('model loss')\n",
    "plt.ylabel('loss')\n",
    "plt.xlabel('epoch')\n",
    "plt.legend(['train', 'test'], loc='upper right')\n",
    "\n",
    "plt.tight_layout()"
   ]
  },
  {
   "cell_type": "code",
   "execution_count": 13,
   "metadata": {
    "ExecuteTime": {
     "end_time": "2018-05-05T22:59:02.355093Z",
     "start_time": "2018-05-05T22:59:01.930745Z"
    }
   },
   "outputs": [
    {
     "name": "stdout",
     "output_type": "stream",
     "text": [
      "313/313 [==============================] - 0s 512us/step - loss: 0.1202 - categorical_accuracy: 0.9641\n",
      "Evaluation result on Test Data:\n",
      "Loss = 0.12018612027168274\n",
      "Accuracy = 0.9641000032424927\n"
     ]
    }
   ],
   "source": [
    "# evaluate model on test data\n",
    "[test_loss, test_acc] = model.evaluate(X_test, y_test_cat)\n",
    "print(\"Evaluation result on Test Data:\\nLoss = {}\\nAccuracy = {}\".format(test_loss, test_acc))"
   ]
  },
  {
   "cell_type": "markdown",
   "metadata": {},
   "source": [
    "## References\n",
    "\n",
    "* [Deep Learning Book](http://www.deeplearningbook.org)\n",
    "\n",
    "* [Zero to Deep Learning™ Udemy Video Course](https://github.com/dataweekends/zero_to_deep_learning_udemy)\n",
    "\n",
    "* [THE MNIST DATABASE](http://yann.lecun.com/exdb/mnist/)"
   ]
  }
 ],
 "metadata": {
  "kernelspec": {
   "display_name": "Python 3 (ipykernel)",
   "language": "python",
   "name": "python3"
  },
  "language_info": {
   "codemirror_mode": {
    "name": "ipython",
    "version": 3
   },
   "file_extension": ".py",
   "mimetype": "text/x-python",
   "name": "python",
   "nbconvert_exporter": "python",
   "pygments_lexer": "ipython3",
   "version": "3.8.10"
  }
 },
 "nbformat": 4,
 "nbformat_minor": 2
}
