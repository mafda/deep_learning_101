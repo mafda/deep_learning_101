{
 "cells": [
  {
   "cell_type": "markdown",
   "metadata": {},
   "source": [
    "# Deep Learning 101\n",
    "\n",
    "This notebook presents the basics concepts that involve the concept of Deep Learning.\n",
    "\n",
    "1. Linear Regression\n",
    "2. Logistic Regression\n",
    "3. **Artificial Neural Networks**\n",
    "4. Deep Neural Networks\n",
    "5. Convolutional Neural Networks\n",
    "\n",
    "## 3. Artificial Neural Networks\n",
    "\n",
    "These models are called *feedforward* because information **flows** through the function being evaluated from $x$, through the intermediate computations used to define $f$, and finally to the output $y$.\n",
    "\n",
    "*Feedforward* neural networks are called networks because they are typically represented by composing together many different functions.\n",
    "\n",
    "$$\n",
    "    \\begin{align}\n",
    "    \\hat{y} &= f(x) \\\\\n",
    "            &= f^{(2)}(f^{(1)}(x))\n",
    "    \\end{align}\n",
    "$$\n",
    "\n",
    "$$f^{(i)}(h) = \\sigma_i(W_ih + b_i)$$\n",
    "\n",
    "\n",
    "$$\\hat{y} = \\sigma_2(W_2 \\sigma_1(W_1 x + b_1) + b_2)$$"
   ]
  },
  {
   "cell_type": "markdown",
   "metadata": {},
   "source": [
    "## Artificial Neural Networks with Keras and TensorFlow\n",
    "\n",
    "**Activations functions** are non-linear functions applied when passing the output of a layer to the next layer or the final\n",
    "\n",
    "| **Keras**      | **Example**                                                         | **Link**                 |\n",
    "| -------------- |:------------------------------------------------------------------: | :-----------------------:|\n",
    "| **Activation functions**| sigmoid, step, tanh, softmax, ReLU | [keras.io/activations/](https://keras.io/activations/)|\n",
    "\n",
    "\n",
    "\n",
    "## 1. Load data\n",
    "\n",
    "#### Load libraries"
   ]
  },
  {
   "cell_type": "code",
   "execution_count": 1,
   "metadata": {
    "ExecuteTime": {
     "end_time": "2018-05-05T22:57:53.030419Z",
     "start_time": "2018-05-05T22:57:52.612434Z"
    }
   },
   "outputs": [
    {
     "name": "stderr",
     "output_type": "stream",
     "text": [
      "2023-10-16 12:21:24.736786: I tensorflow/core/platform/cpu_feature_guard.cc:193] This TensorFlow binary is optimized with oneAPI Deep Neural Network Library (oneDNN) to use the following CPU instructions in performance-critical operations:  SSE4.1 SSE4.2 AVX AVX2 AVX_VNNI FMA\n",
      "To enable them in other operations, rebuild TensorFlow with the appropriate compiler flags.\n",
      "2023-10-16 12:21:24.769333: I tensorflow/core/util/util.cc:169] oneDNN custom operations are on. You may see slightly different numerical results due to floating-point round-off errors from different computation orders. To turn them off, set the environment variable `TF_ENABLE_ONEDNN_OPTS=0`.\n"
     ]
    }
   ],
   "source": [
    "import matplotlib.pyplot as plt\n",
    "import numpy as np\n",
    "import tensorflow as tf\n",
    "\n",
    "np.random.seed(12049)\n"
   ]
  },
  {
   "cell_type": "markdown",
   "metadata": {},
   "source": [
    "#### Getting the data"
   ]
  },
  {
   "cell_type": "code",
   "execution_count": 2,
   "metadata": {
    "ExecuteTime": {
     "end_time": "2018-05-05T22:58:09.437997Z",
     "start_time": "2018-05-05T22:58:09.133163Z"
    }
   },
   "outputs": [],
   "source": [
    "# load dataset\n",
    "(X_train, y_train), (X_test, y_test) = tf.keras.datasets.mnist.load_data()\n"
   ]
  },
  {
   "cell_type": "markdown",
   "metadata": {},
   "source": [
    "#### Explore visual data"
   ]
  },
  {
   "cell_type": "code",
   "execution_count": 3,
   "metadata": {
    "ExecuteTime": {
     "end_time": "2018-05-05T22:58:09.912826Z",
     "start_time": "2018-05-05T22:58:09.440100Z"
    }
   },
   "outputs": [
    {
     "data": {
      "image/png": "[encoded data removed]",
      "text/plain": [
       "<Figure size 640x480 with 10 Axes>"
      ]
     },
     "metadata": {},
     "output_type": "display_data"
    }
   ],
   "source": [
    "fig = plt.figure()\n",
    "for i in range(10):\n",
    "    plt.subplot(2, 5, i+1)\n",
    "    x_y = X_train[y_train == i]\n",
    "    plt.imshow(x_y[0], cmap='gray', interpolation='none')\n",
    "    plt.title(\"Class %d\" % (i))\n",
    "    plt.xticks([])\n",
    "    plt.yticks([])\n",
    "    \n",
    "plt.tight_layout()\n"
   ]
  },
  {
   "cell_type": "code",
   "execution_count": 4,
   "metadata": {
    "ExecuteTime": {
     "end_time": "2018-05-05T22:58:09.921681Z",
     "start_time": "2018-05-05T22:58:09.914854Z"
    }
   },
   "outputs": [
    {
     "name": "stdout",
     "output_type": "stream",
     "text": [
      "X_train.shape (60000, 28, 28)\n",
      "y_train.shape (60000,)\n",
      "X_test.shape (10000, 28, 28)\n",
      "y_train.shape (10000,)\n"
     ]
    }
   ],
   "source": [
    "print('X_train.shape', X_train.shape)\n",
    "print('y_train.shape', y_train.shape)\n",
    "print('X_test.shape', X_test.shape)\n",
    "print('y_train.shape', y_test.shape)\n"
   ]
  },
  {
   "cell_type": "markdown",
   "metadata": {},
   "source": [
    "#### Reshaping and normalizing the inputs"
   ]
  },
  {
   "cell_type": "code",
   "execution_count": 5,
   "metadata": {
    "ExecuteTime": {
     "end_time": "2018-05-05T22:58:10.139272Z",
     "start_time": "2018-05-05T22:58:09.923779Z"
    }
   },
   "outputs": [
    {
     "name": "stdout",
     "output_type": "stream",
     "text": [
      "X_train reshape: (60000, 784)\n",
      "X_test reshape: (10000, 784)\n"
     ]
    }
   ],
   "source": [
    "# reshaping the inputs\n",
    "X_train = X_train.reshape(60000, 28*28)\n",
    "X_test = X_test.reshape(10000, 28*28)\n",
    "\n",
    "# normalizing the inputs\n",
    "X_train = X_train.astype('float32') / 255.0\n",
    "X_test = X_test.astype('float32') / 255.0\n",
    "print('X_train reshape:', X_train.shape)\n",
    "print('X_test reshape:', X_test.shape)\n"
   ]
  },
  {
   "cell_type": "markdown",
   "metadata": {},
   "source": [
    "#### Convert class vectors to binary class matrices"
   ]
  },
  {
   "cell_type": "code",
   "execution_count": 6,
   "metadata": {
    "ExecuteTime": {
     "end_time": "2018-05-05T22:58:10.150447Z",
     "start_time": "2018-05-05T22:58:10.141339Z"
    }
   },
   "outputs": [
    {
     "name": "stdout",
     "output_type": "stream",
     "text": [
      "y_train_cat shape: (60000, 10)\n",
      "y_test_cat shape: (10000, 10)\n"
     ]
    }
   ],
   "source": [
    "# 10 classes\n",
    "y_train_cat = tf.keras.utils.to_categorical(y_train, 10)\n",
    "y_test_cat = tf.keras.utils.to_categorical(y_test, 10)\n",
    "\n",
    "print('y_train_cat shape:', y_train_cat.shape)\n",
    "print('y_test_cat shape:', y_test_cat.shape)\n"
   ]
  },
  {
   "cell_type": "markdown",
   "metadata": {},
   "source": [
    "## 2. Define model"
   ]
  },
  {
   "cell_type": "markdown",
   "metadata": {},
   "source": [
    "#### Add the input-, hidden- and output-layers"
   ]
  },
  {
   "cell_type": "code",
   "execution_count": 7,
   "metadata": {
    "ExecuteTime": {
     "end_time": "2018-05-05T22:58:10.182804Z",
     "start_time": "2018-05-05T22:58:10.152395Z"
    }
   },
   "outputs": [
    {
     "name": "stderr",
     "output_type": "stream",
     "text": [
      "2023-10-16 12:21:25.871040: I tensorflow/stream_executor/cuda/cuda_gpu_executor.cc:980] successful NUMA node read from SysFS had negative value (-1), but there must be at least one NUMA node, so returning NUMA node zero\n",
      "2023-10-16 12:21:25.885909: I tensorflow/stream_executor/cuda/cuda_gpu_executor.cc:980] successful NUMA node read from SysFS had negative value (-1), but there must be at least one NUMA node, so returning NUMA node zero\n",
      "2023-10-16 12:21:25.886030: I tensorflow/stream_executor/cuda/cuda_gpu_executor.cc:980] successful NUMA node read from SysFS had negative value (-1), but there must be at least one NUMA node, so returning NUMA node zero\n",
      "2023-10-16 12:21:25.886548: I tensorflow/core/platform/cpu_feature_guard.cc:193] This TensorFlow binary is optimized with oneAPI Deep Neural Network Library (oneDNN) to use the following CPU instructions in performance-critical operations:  SSE4.1 SSE4.2 AVX AVX2 AVX_VNNI FMA\n",
      "To enable them in other operations, rebuild TensorFlow with the appropriate compiler flags.\n",
      "2023-10-16 12:21:25.887516: I tensorflow/stream_executor/cuda/cuda_gpu_executor.cc:980] successful NUMA node read from SysFS had negative value (-1), but there must be at least one NUMA node, so returning NUMA node zero\n",
      "2023-10-16 12:21:25.887606: I tensorflow/stream_executor/cuda/cuda_gpu_executor.cc:980] successful NUMA node read from SysFS had negative value (-1), but there must be at least one NUMA node, so returning NUMA node zero\n",
      "2023-10-16 12:21:25.887664: I tensorflow/stream_executor/cuda/cuda_gpu_executor.cc:980] successful NUMA node read from SysFS had negative value (-1), but there must be at least one NUMA node, so returning NUMA node zero\n",
      "2023-10-16 12:21:25.934065: I tensorflow/stream_executor/cuda/cuda_gpu_executor.cc:980] successful NUMA node read from SysFS had negative value (-1), but there must be at least one NUMA node, so returning NUMA node zero\n",
      "2023-10-16 12:21:25.934185: I tensorflow/stream_executor/cuda/cuda_gpu_executor.cc:980] successful NUMA node read from SysFS had negative value (-1), but there must be at least one NUMA node, so returning NUMA node zero\n",
      "2023-10-16 12:21:25.934248: I tensorflow/stream_executor/cuda/cuda_gpu_executor.cc:980] successful NUMA node read from SysFS had negative value (-1), but there must be at least one NUMA node, so returning NUMA node zero\n",
      "2023-10-16 12:21:25.934307: I tensorflow/core/common_runtime/gpu/gpu_device.cc:1616] Created device /job:localhost/replica:0/task:0/device:GPU:0 with 14030 MB memory:  -> device: 0, name: NVIDIA GeForce RTX 3080 Ti Laptop GPU, pci bus id: 0000:01:00.0, compute capability: 8.6\n"
     ]
    }
   ],
   "source": [
    "# building a linear stack of layers with the sequential model\n",
    "model = tf.keras.models.Sequential()\n",
    "\n",
    "# Add the input layer and hidden layer 1\n",
    "model.add(tf.keras.layers.Dense(32, input_shape=(784,), activation='sigmoid'))\n",
    "\n",
    "# Add the output layer\n",
    "model.add(tf.keras.layers.Dense(10, activation='softmax'))\n"
   ]
  },
  {
   "cell_type": "markdown",
   "metadata": {},
   "source": [
    "#### Model visualization"
   ]
  },
  {
   "cell_type": "code",
   "execution_count": 8,
   "metadata": {
    "ExecuteTime": {
     "end_time": "2018-05-05T22:58:14.335955Z",
     "start_time": "2018-05-05T22:58:10.184766Z"
    }
   },
   "outputs": [
    {
     "name": "stdout",
     "output_type": "stream",
     "text": [
      "Model: \"sequential\"\n",
      "_________________________________________________________________\n",
      " Layer (type)                Output Shape              Param #   \n",
      "=================================================================\n",
      " dense (Dense)               (None, 32)                25120     \n",
      "                                                                 \n",
      " dense_1 (Dense)             (None, 10)                330       \n",
      "                                                                 \n",
      "=================================================================\n",
      "Total params: 25,450\n",
      "Trainable params: 25,450\n",
      "Non-trainable params: 0\n",
      "_________________________________________________________________\n"
     ]
    }
   ],
   "source": [
    "# plot a Keras model\n",
    "tf.keras.utils.plot_model(\n",
    "    model,\n",
    "    to_file=\"img/model03_ann.png\",\n",
    "    show_shapes=True,\n",
    "    show_layer_names=True,\n",
    ")\n",
    "\n",
    "\n",
    "# prints a summary representation of your model\n",
    "model.summary()\n"
   ]
  },
  {
   "cell_type": "markdown",
   "metadata": {},
   "source": [
    "![Artificial neural network](img/model03_ann.png)"
   ]
  },
  {
   "cell_type": "markdown",
   "metadata": {},
   "source": [
    "## 3. Compile model"
   ]
  },
  {
   "cell_type": "code",
   "execution_count": 9,
   "metadata": {
    "ExecuteTime": {
     "end_time": "2018-05-05T22:58:14.376880Z",
     "start_time": "2018-05-05T22:58:14.338293Z"
    }
   },
   "outputs": [],
   "source": [
    "# compiling the sequential model\n",
    "model.compile(\n",
    "    \"rmsprop\",\n",
    "    loss=\"categorical_crossentropy\",\n",
    "    metrics=[\"categorical_accuracy\"],\n",
    ")\n"
   ]
  },
  {
   "cell_type": "markdown",
   "metadata": {},
   "source": [
    "## 4. Fit model"
   ]
  },
  {
   "cell_type": "code",
   "execution_count": 10,
   "metadata": {
    "ExecuteTime": {
     "end_time": "2018-05-05T22:59:01.591170Z",
     "start_time": "2018-05-05T22:58:14.378895Z"
    }
   },
   "outputs": [
    {
     "name": "stdout",
     "output_type": "stream",
     "text": [
      "Epoch 1/50\n"
     ]
    },
    {
     "name": "stderr",
     "output_type": "stream",
     "text": [
      "2023-10-16 12:21:26.395889: I tensorflow/stream_executor/cuda/cuda_blas.cc:1614] TensorFloat-32 will be used for the matrix multiplication. This will only be logged once.\n"
     ]
    },
    {
     "name": "stdout",
     "output_type": "stream",
     "text": [
      "235/235 - 1s - loss: 1.0596 - categorical_accuracy: 0.7950 - val_loss: 0.5665 - val_categorical_accuracy: 0.8911 - 512ms/epoch - 2ms/step\n",
      "Epoch 2/50\n",
      "235/235 - 0s - loss: 0.4479 - categorical_accuracy: 0.8972 - val_loss: 0.3556 - val_categorical_accuracy: 0.9112 - 249ms/epoch - 1ms/step\n",
      "Epoch 3/50\n",
      "235/235 - 0s - loss: 0.3256 - categorical_accuracy: 0.9140 - val_loss: 0.2906 - val_categorical_accuracy: 0.9217 - 254ms/epoch - 1ms/step\n",
      "Epoch 4/50\n",
      "235/235 - 0s - loss: 0.2778 - categorical_accuracy: 0.9235 - val_loss: 0.2596 - val_categorical_accuracy: 0.9272 - 227ms/epoch - 967us/step\n",
      "Epoch 5/50\n",
      "235/235 - 0s - loss: 0.2496 - categorical_accuracy: 0.9303 - val_loss: 0.2400 - val_categorical_accuracy: 0.9320 - 252ms/epoch - 1ms/step\n",
      "Epoch 6/50\n",
      "235/235 - 0s - loss: 0.2293 - categorical_accuracy: 0.9354 - val_loss: 0.2244 - val_categorical_accuracy: 0.9352 - 237ms/epoch - 1ms/step\n",
      "Epoch 7/50\n",
      "235/235 - 0s - loss: 0.2140 - categorical_accuracy: 0.9401 - val_loss: 0.2118 - val_categorical_accuracy: 0.9390 - 248ms/epoch - 1ms/step\n",
      "Epoch 8/50\n",
      "235/235 - 0s - loss: 0.2012 - categorical_accuracy: 0.9430 - val_loss: 0.2024 - val_categorical_accuracy: 0.9422 - 231ms/epoch - 983us/step\n",
      "Epoch 9/50\n",
      "235/235 - 0s - loss: 0.1908 - categorical_accuracy: 0.9460 - val_loss: 0.1926 - val_categorical_accuracy: 0.9452 - 244ms/epoch - 1ms/step\n",
      "Epoch 10/50\n",
      "235/235 - 0s - loss: 0.1813 - categorical_accuracy: 0.9481 - val_loss: 0.1897 - val_categorical_accuracy: 0.9449 - 270ms/epoch - 1ms/step\n",
      "Epoch 11/50\n",
      "235/235 - 0s - loss: 0.1735 - categorical_accuracy: 0.9505 - val_loss: 0.1810 - val_categorical_accuracy: 0.9479 - 263ms/epoch - 1ms/step\n",
      "Epoch 12/50\n",
      "235/235 - 0s - loss: 0.1661 - categorical_accuracy: 0.9530 - val_loss: 0.1748 - val_categorical_accuracy: 0.9494 - 240ms/epoch - 1ms/step\n",
      "Epoch 13/50\n",
      "235/235 - 0s - loss: 0.1599 - categorical_accuracy: 0.9546 - val_loss: 0.1693 - val_categorical_accuracy: 0.9513 - 261ms/epoch - 1ms/step\n",
      "Epoch 14/50\n",
      "235/235 - 0s - loss: 0.1542 - categorical_accuracy: 0.9565 - val_loss: 0.1677 - val_categorical_accuracy: 0.9488 - 248ms/epoch - 1ms/step\n",
      "Epoch 15/50\n",
      "235/235 - 0s - loss: 0.1488 - categorical_accuracy: 0.9577 - val_loss: 0.1631 - val_categorical_accuracy: 0.9524 - 263ms/epoch - 1ms/step\n",
      "Epoch 16/50\n",
      "235/235 - 0s - loss: 0.1439 - categorical_accuracy: 0.9593 - val_loss: 0.1599 - val_categorical_accuracy: 0.9544 - 243ms/epoch - 1ms/step\n",
      "Epoch 17/50\n",
      "235/235 - 0s - loss: 0.1397 - categorical_accuracy: 0.9605 - val_loss: 0.1572 - val_categorical_accuracy: 0.9534 - 260ms/epoch - 1ms/step\n",
      "Epoch 18/50\n",
      "235/235 - 0s - loss: 0.1354 - categorical_accuracy: 0.9616 - val_loss: 0.1540 - val_categorical_accuracy: 0.9544 - 253ms/epoch - 1ms/step\n",
      "Epoch 19/50\n",
      "235/235 - 0s - loss: 0.1317 - categorical_accuracy: 0.9627 - val_loss: 0.1496 - val_categorical_accuracy: 0.9562 - 225ms/epoch - 956us/step\n",
      "Epoch 20/50\n",
      "235/235 - 0s - loss: 0.1279 - categorical_accuracy: 0.9635 - val_loss: 0.1480 - val_categorical_accuracy: 0.9558 - 261ms/epoch - 1ms/step\n",
      "Epoch 21/50\n",
      "235/235 - 0s - loss: 0.1248 - categorical_accuracy: 0.9642 - val_loss: 0.1458 - val_categorical_accuracy: 0.9565 - 254ms/epoch - 1ms/step\n",
      "Epoch 22/50\n",
      "235/235 - 0s - loss: 0.1215 - categorical_accuracy: 0.9654 - val_loss: 0.1463 - val_categorical_accuracy: 0.9547 - 251ms/epoch - 1ms/step\n",
      "Epoch 23/50\n",
      "235/235 - 0s - loss: 0.1185 - categorical_accuracy: 0.9660 - val_loss: 0.1452 - val_categorical_accuracy: 0.9568 - 255ms/epoch - 1ms/step\n",
      "Epoch 24/50\n",
      "235/235 - 0s - loss: 0.1157 - categorical_accuracy: 0.9667 - val_loss: 0.1434 - val_categorical_accuracy: 0.9550 - 277ms/epoch - 1ms/step\n",
      "Epoch 25/50\n",
      "235/235 - 0s - loss: 0.1133 - categorical_accuracy: 0.9674 - val_loss: 0.1411 - val_categorical_accuracy: 0.9577 - 258ms/epoch - 1ms/step\n",
      "Epoch 26/50\n",
      "235/235 - 0s - loss: 0.1106 - categorical_accuracy: 0.9682 - val_loss: 0.1378 - val_categorical_accuracy: 0.9589 - 258ms/epoch - 1ms/step\n",
      "Epoch 27/50\n",
      "235/235 - 0s - loss: 0.1082 - categorical_accuracy: 0.9692 - val_loss: 0.1375 - val_categorical_accuracy: 0.9587 - 245ms/epoch - 1ms/step\n",
      "Epoch 28/50\n",
      "235/235 - 0s - loss: 0.1059 - categorical_accuracy: 0.9697 - val_loss: 0.1368 - val_categorical_accuracy: 0.9590 - 252ms/epoch - 1ms/step\n",
      "Epoch 29/50\n",
      "235/235 - 0s - loss: 0.1038 - categorical_accuracy: 0.9705 - val_loss: 0.1352 - val_categorical_accuracy: 0.9594 - 268ms/epoch - 1ms/step\n",
      "Epoch 30/50\n",
      "235/235 - 0s - loss: 0.1017 - categorical_accuracy: 0.9710 - val_loss: 0.1362 - val_categorical_accuracy: 0.9592 - 263ms/epoch - 1ms/step\n",
      "Epoch 31/50\n",
      "235/235 - 0s - loss: 0.0995 - categorical_accuracy: 0.9716 - val_loss: 0.1341 - val_categorical_accuracy: 0.9596 - 243ms/epoch - 1ms/step\n",
      "Epoch 32/50\n",
      "235/235 - 0s - loss: 0.0979 - categorical_accuracy: 0.9720 - val_loss: 0.1330 - val_categorical_accuracy: 0.9599 - 253ms/epoch - 1ms/step\n",
      "Epoch 33/50\n",
      "235/235 - 0s - loss: 0.0957 - categorical_accuracy: 0.9725 - val_loss: 0.1326 - val_categorical_accuracy: 0.9606 - 263ms/epoch - 1ms/step\n",
      "Epoch 34/50\n",
      "235/235 - 0s - loss: 0.0940 - categorical_accuracy: 0.9732 - val_loss: 0.1325 - val_categorical_accuracy: 0.9596 - 254ms/epoch - 1ms/step\n",
      "Epoch 35/50\n",
      "235/235 - 0s - loss: 0.0924 - categorical_accuracy: 0.9739 - val_loss: 0.1299 - val_categorical_accuracy: 0.9600 - 252ms/epoch - 1ms/step\n",
      "Epoch 36/50\n",
      "235/235 - 0s - loss: 0.0908 - categorical_accuracy: 0.9742 - val_loss: 0.1300 - val_categorical_accuracy: 0.9618 - 260ms/epoch - 1ms/step\n",
      "Epoch 37/50\n",
      "235/235 - 0s - loss: 0.0889 - categorical_accuracy: 0.9753 - val_loss: 0.1298 - val_categorical_accuracy: 0.9613 - 251ms/epoch - 1ms/step\n",
      "Epoch 38/50\n",
      "235/235 - 0s - loss: 0.0875 - categorical_accuracy: 0.9758 - val_loss: 0.1292 - val_categorical_accuracy: 0.9613 - 263ms/epoch - 1ms/step\n",
      "Epoch 39/50\n",
      "235/235 - 0s - loss: 0.0860 - categorical_accuracy: 0.9758 - val_loss: 0.1293 - val_categorical_accuracy: 0.9612 - 283ms/epoch - 1ms/step\n",
      "Epoch 40/50\n",
      "235/235 - 0s - loss: 0.0846 - categorical_accuracy: 0.9762 - val_loss: 0.1283 - val_categorical_accuracy: 0.9614 - 270ms/epoch - 1ms/step\n",
      "Epoch 41/50\n",
      "235/235 - 0s - loss: 0.0830 - categorical_accuracy: 0.9768 - val_loss: 0.1268 - val_categorical_accuracy: 0.9609 - 247ms/epoch - 1ms/step\n",
      "Epoch 42/50\n",
      "235/235 - 0s - loss: 0.0819 - categorical_accuracy: 0.9769 - val_loss: 0.1263 - val_categorical_accuracy: 0.9610 - 251ms/epoch - 1ms/step\n",
      "Epoch 43/50\n",
      "235/235 - 0s - loss: 0.0806 - categorical_accuracy: 0.9778 - val_loss: 0.1262 - val_categorical_accuracy: 0.9621 - 250ms/epoch - 1ms/step\n",
      "Epoch 44/50\n",
      "235/235 - 0s - loss: 0.0791 - categorical_accuracy: 0.9776 - val_loss: 0.1269 - val_categorical_accuracy: 0.9619 - 250ms/epoch - 1ms/step\n",
      "Epoch 45/50\n",
      "235/235 - 0s - loss: 0.0779 - categorical_accuracy: 0.9780 - val_loss: 0.1263 - val_categorical_accuracy: 0.9622 - 256ms/epoch - 1ms/step\n",
      "Epoch 46/50\n",
      "235/235 - 0s - loss: 0.0767 - categorical_accuracy: 0.9787 - val_loss: 0.1259 - val_categorical_accuracy: 0.9629 - 247ms/epoch - 1ms/step\n",
      "Epoch 47/50\n",
      "235/235 - 0s - loss: 0.0755 - categorical_accuracy: 0.9790 - val_loss: 0.1254 - val_categorical_accuracy: 0.9624 - 249ms/epoch - 1ms/step\n",
      "Epoch 48/50\n",
      "235/235 - 0s - loss: 0.0741 - categorical_accuracy: 0.9792 - val_loss: 0.1248 - val_categorical_accuracy: 0.9635 - 248ms/epoch - 1ms/step\n",
      "Epoch 49/50\n",
      "235/235 - 0s - loss: 0.0731 - categorical_accuracy: 0.9798 - val_loss: 0.1254 - val_categorical_accuracy: 0.9631 - 261ms/epoch - 1ms/step\n",
      "Epoch 50/50\n",
      "235/235 - 0s - loss: 0.0719 - categorical_accuracy: 0.9801 - val_loss: 0.1245 - val_categorical_accuracy: 0.9637 - 260ms/epoch - 1ms/step\n"
     ]
    }
   ],
   "source": [
    "# training the model and saving metrics in history\n",
    "history = model.fit(\n",
    "    X_train,\n",
    "    y_train_cat,\n",
    "    batch_size=256,\n",
    "    epochs=50,\n",
    "    verbose=2,\n",
    "    validation_data=(X_test, y_test_cat),\n",
    ")\n"
   ]
  },
  {
   "cell_type": "markdown",
   "metadata": {},
   "source": [
    "## 5. Evaluate model"
   ]
  },
  {
   "cell_type": "code",
   "execution_count": 11,
   "metadata": {
    "ExecuteTime": {
     "end_time": "2018-05-05T22:59:01.928715Z",
     "start_time": "2018-05-05T22:59:01.593686Z"
    }
   },
   "outputs": [
    {
     "data": {
      "image/png": "[encoded data removed]",
      "text/plain": [
       "<Figure size 640x480 with 2 Axes>"
      ]
     },
     "metadata": {},
     "output_type": "display_data"
    }
   ],
   "source": [
    "# plotting the metrics\n",
    "fig = plt.figure()\n",
    "plt.subplot(2,1,1)\n",
    "plt.plot(history.history['categorical_accuracy'])\n",
    "plt.plot(history.history['val_categorical_accuracy'])\n",
    "plt.title('model accuracy')\n",
    "plt.ylabel('accuracy')\n",
    "plt.xlabel('epoch')\n",
    "plt.legend(['train', 'test'], loc='lower right')\n",
    "\n",
    "plt.subplot(2,1,2)\n",
    "plt.plot(history.history['loss'])\n",
    "plt.plot(history.history['val_loss'])\n",
    "plt.title('model loss')\n",
    "plt.ylabel('loss')\n",
    "plt.xlabel('epoch')\n",
    "plt.legend(['train', 'test'], loc='upper right')\n",
    "\n",
    "plt.tight_layout()\n"
   ]
  },
  {
   "cell_type": "code",
   "execution_count": 12,
   "metadata": {
    "ExecuteTime": {
     "end_time": "2018-05-05T22:59:02.355093Z",
     "start_time": "2018-05-05T22:59:01.930745Z"
    }
   },
   "outputs": [
    {
     "name": "stdout",
     "output_type": "stream",
     "text": [
      "313/313 [==============================] - 0s 705us/step - loss: 0.1245 - categorical_accuracy: 0.9637\n",
      "Evaluation result on Test Data:\n",
      "Loss = 0.1244848370552063\n",
      "Accuracy = 0.963699996471405\n"
     ]
    }
   ],
   "source": [
    "# evaluate model on test data\n",
    "[test_loss, test_acc] = model.evaluate(X_test, y_test_cat)\n",
    "print(\n",
    "    \"Evaluation result on Test Data:\\nLoss = {}\\nAccuracy = {}\".format(\n",
    "        test_loss, test_acc\n",
    "    )\n",
    ")\n"
   ]
  },
  {
   "cell_type": "markdown",
   "metadata": {},
   "source": [
    "## References\n",
    "\n",
    "* [Deep Learning Book](http://www.deeplearningbook.org)\n",
    "\n",
    "* [Zero to Deep Learning™ Udemy Video Course](https://github.com/dataweekends/zero_to_deep_learning_udemy)\n",
    "\n",
    "* [THE MNIST DATABASE](http://yann.lecun.com/exdb/mnist/)"
   ]
  }
 ],
 "metadata": {
  "kernelspec": {
   "display_name": "Python 3 (ipykernel)",
   "language": "python",
   "name": "python3"
  },
  "language_info": {
   "codemirror_mode": {
    "name": "ipython",
    "version": 3
   },
   "file_extension": ".py",
   "mimetype": "text/x-python",
   "name": "python",
   "nbconvert_exporter": "python",
   "pygments_lexer": "ipython3",
   "version": "3.10.8"
  }
 },
 "nbformat": 4,
 "nbformat_minor": 2
}
