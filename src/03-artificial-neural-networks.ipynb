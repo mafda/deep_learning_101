{
 "cells": [
  {
   "cell_type": "markdown",
   "metadata": {},
   "source": [
    "# Deep Learning 101\n",
    "\n",
    "This notebook presents the basics concepts that involve the concept of Deep Learning.\n",
    "\n",
    "1. Linear Regression\n",
    "* Logistic Regression\n",
    "* **Artificial Neural Networks**\n",
    "* Deep Neural Networks\n",
    "* Convolutional Neural Networks\n",
    "\n",
    "## 3. Artificial Neural Networks\n",
    "\n",
    "These models are called *feedforward* because information **flows** through the function being evaluated from $x$, through the intermediate computations used to define $f$, and finally to the output $y$.\n",
    "\n",
    "*Feedforward* neural networks are called networks because they are typically represented by composing together many different functions.\n",
    "\n",
    "$$\n",
    "    \\begin{align}\n",
    "    \\hat{y} &= f(x) \\\\\n",
    "            &= f^{(2)}(f^{(1)}(x))\n",
    "    \\end{align}\n",
    "$$\n",
    "\n",
    "$$f^{(i)}(h) = \\sigma_i(W_ih + b_i)$$\n",
    "\n",
    "\n",
    "$$\\hat{y} = \\sigma_2(W_2 \\sigma_1(W_1 x + b_1) + b_2)$$\n",
    "---"
   ]
  },
  {
   "cell_type": "markdown",
   "metadata": {},
   "source": [
    "## Artificial Neural Networks with Keras and TensorFlow\n",
    "\n",
    "**Activations functions** are non-linear functions applied when passing the output of a layer to the next layer or the final\n",
    "\n",
    "| **Keras**      | **Example**                                                         | **Link**                 |\n",
    "| -------------- |:------------------------------------------------------------------: | :-----------------------:|\n",
    "| **Activation functions**| sigmoid, step, tanh, softmax, ReLU | [keras.io/activations/](https://keras.io/activations/)|\n",
    "\n",
    "---\n",
    "\n",
    "## 1. Load data\n",
    "\n",
    "#### Load libraries"
   ]
  },
  {
   "cell_type": "code",
   "execution_count": 1,
   "metadata": {
    "ExecuteTime": {
     "end_time": "2018-05-05T22:57:53.030419Z",
     "start_time": "2018-05-05T22:57:52.612434Z"
    },
    "collapsed": true
   },
   "outputs": [],
   "source": [
    "import numpy as np\n",
    "\n",
    "%matplotlib inline\n",
    "import matplotlib.pyplot as plt"
   ]
  },
  {
   "cell_type": "code",
   "execution_count": 2,
   "metadata": {
    "ExecuteTime": {
     "end_time": "2018-05-05T22:58:09.130948Z",
     "start_time": "2018-05-05T22:57:53.032568Z"
    },
    "scrolled": true
   },
   "outputs": [
    {
     "name": "stderr",
     "output_type": "stream",
     "text": [
      "Using TensorFlow backend.\n"
     ]
    }
   ],
   "source": [
    "from keras.datasets import mnist\n",
    "from keras.models import Sequential\n",
    "from keras.layers import Dense\n",
    "from keras.utils.np_utils import to_categorical\n",
    "from keras.utils.vis_utils import plot_model"
   ]
  },
  {
   "cell_type": "markdown",
   "metadata": {},
   "source": [
    "#### Getting the data"
   ]
  },
  {
   "cell_type": "code",
   "execution_count": 3,
   "metadata": {
    "ExecuteTime": {
     "end_time": "2018-05-05T22:58:09.437997Z",
     "start_time": "2018-05-05T22:58:09.133163Z"
    },
    "collapsed": true
   },
   "outputs": [],
   "source": [
    "# load dataset\n",
    "(X_train, y_train), (X_test, y_test) = mnist.load_data()"
   ]
  },
  {
   "cell_type": "markdown",
   "metadata": {},
   "source": [
    "#### Explore visual data"
   ]
  },
  {
   "cell_type": "code",
   "execution_count": 4,
   "metadata": {
    "ExecuteTime": {
     "end_time": "2018-05-05T22:58:09.912826Z",
     "start_time": "2018-05-05T22:58:09.440100Z"
    }
   },
   "outputs": [
    {
     "data": {
      "image/png": "[encoded data removed]",
      "text/plain": [
       "<Figure size 432x288 with 10 Axes>"
      ]
     },
     "metadata": {},
     "output_type": "display_data"
    }
   ],
   "source": [
    "fig = plt.figure()\n",
    "for i in range(10):\n",
    "    plt.subplot(2, 5, i+1)\n",
    "    x_y = X_train[y_train == i]\n",
    "    plt.imshow(x_y[0], cmap='gray', interpolation='none')\n",
    "    plt.title(\"Class %d\" % (i))\n",
    "    plt.xticks([])\n",
    "    plt.yticks([])\n",
    "    \n",
    "plt.tight_layout()"
   ]
  },
  {
   "cell_type": "code",
   "execution_count": 5,
   "metadata": {
    "ExecuteTime": {
     "end_time": "2018-05-05T22:58:09.921681Z",
     "start_time": "2018-05-05T22:58:09.914854Z"
    }
   },
   "outputs": [
    {
     "name": "stdout",
     "output_type": "stream",
     "text": [
      "X_train.shape (60000, 28, 28)\n",
      "y_train.shape (60000,)\n",
      "X_test.shape (10000, 28, 28)\n",
      "y_train.shape (10000,)\n"
     ]
    }
   ],
   "source": [
    "print('X_train.shape', X_train.shape)\n",
    "print('y_train.shape', y_train.shape)\n",
    "print('X_test.shape', X_test.shape)\n",
    "print('y_train.shape', y_test.shape)"
   ]
  },
  {
   "cell_type": "markdown",
   "metadata": {},
   "source": [
    "#### Reshaping and normalizing the inputs"
   ]
  },
  {
   "cell_type": "code",
   "execution_count": 6,
   "metadata": {
    "ExecuteTime": {
     "end_time": "2018-05-05T22:58:10.139272Z",
     "start_time": "2018-05-05T22:58:09.923779Z"
    }
   },
   "outputs": [
    {
     "name": "stdout",
     "output_type": "stream",
     "text": [
      "X_train reshape: (60000, 784)\n",
      "X_test reshape: (10000, 784)\n"
     ]
    }
   ],
   "source": [
    "# reshaping the inputs\n",
    "X_train = X_train.reshape(60000, 28*28)\n",
    "X_test = X_test.reshape(10000, 28*28)\n",
    "\n",
    "# normalizing the inputs\n",
    "X_train = X_train.astype('float32') / 255.0\n",
    "X_test = X_test.astype('float32') / 255.0\n",
    "print('X_train reshape:', X_train.shape)\n",
    "print('X_test reshape:', X_test.shape)"
   ]
  },
  {
   "cell_type": "markdown",
   "metadata": {},
   "source": [
    "#### Convert class vectors to binary class matrices"
   ]
  },
  {
   "cell_type": "code",
   "execution_count": 7,
   "metadata": {
    "ExecuteTime": {
     "end_time": "2018-05-05T22:58:10.150447Z",
     "start_time": "2018-05-05T22:58:10.141339Z"
    }
   },
   "outputs": [
    {
     "name": "stdout",
     "output_type": "stream",
     "text": [
      "y_train_cat shape: (60000, 10)\n",
      "y_test_cat shape: (10000, 10)\n"
     ]
    }
   ],
   "source": [
    "# 10 classes\n",
    "y_train_cat = to_categorical(y_train, 10)\n",
    "y_test_cat = to_categorical(y_test, 10)\n",
    "\n",
    "print('y_train_cat shape:', y_train_cat.shape)\n",
    "print('y_test_cat shape:', y_test_cat.shape)"
   ]
  },
  {
   "cell_type": "markdown",
   "metadata": {},
   "source": [
    "## 2. Define model"
   ]
  },
  {
   "cell_type": "markdown",
   "metadata": {},
   "source": [
    "#### Add the input-, hidden- and output-layers"
   ]
  },
  {
   "cell_type": "code",
   "execution_count": 8,
   "metadata": {
    "ExecuteTime": {
     "end_time": "2018-05-05T22:58:10.182804Z",
     "start_time": "2018-05-05T22:58:10.152395Z"
    },
    "collapsed": true
   },
   "outputs": [],
   "source": [
    "# building a linear stack of layers with the sequential model\n",
    "model = Sequential()\n",
    "# Add the input layer and hidden layer 1\n",
    "model.add(Dense(32, input_shape=(784,), activation='sigmoid'))\n",
    "# Add the output layer\n",
    "model.add(Dense(10, activation='softmax'))"
   ]
  },
  {
   "cell_type": "markdown",
   "metadata": {},
   "source": [
    "#### Model visualization"
   ]
  },
  {
   "cell_type": "code",
   "execution_count": 9,
   "metadata": {
    "ExecuteTime": {
     "end_time": "2018-05-05T22:58:14.335955Z",
     "start_time": "2018-05-05T22:58:10.184766Z"
    }
   },
   "outputs": [
    {
     "name": "stdout",
     "output_type": "stream",
     "text": [
      "_________________________________________________________________\n",
      "Layer (type)                 Output Shape              Param #   \n",
      "=================================================================\n",
      "dense_1 (Dense)              (None, 32)                25120     \n",
      "_________________________________________________________________\n",
      "dense_2 (Dense)              (None, 10)                330       \n",
      "=================================================================\n",
      "Total params: 25,450\n",
      "Trainable params: 25,450\n",
      "Non-trainable params: 0\n",
      "_________________________________________________________________\n"
     ]
    }
   ],
   "source": [
    "# plot a Keras model\n",
    "plot_model(model, to_file='img/model03_ann.png',\n",
    "           show_shapes=True, show_layer_names=True)\n",
    "# prints a summary representation of your model\n",
    "model.summary()"
   ]
  },
  {
   "cell_type": "markdown",
   "metadata": {},
   "source": [
    "![Artificial neural network](img/model03_ann.png)"
   ]
  },
  {
   "cell_type": "markdown",
   "metadata": {},
   "source": [
    "## 3. Compile model"
   ]
  },
  {
   "cell_type": "code",
   "execution_count": 10,
   "metadata": {
    "ExecuteTime": {
     "end_time": "2018-05-05T22:58:14.376880Z",
     "start_time": "2018-05-05T22:58:14.338293Z"
    },
    "collapsed": true
   },
   "outputs": [],
   "source": [
    "# compiling the sequential model\n",
    "model.compile('rmsprop', loss='categorical_crossentropy',\n",
    "              metrics=['categorical_accuracy'])"
   ]
  },
  {
   "cell_type": "markdown",
   "metadata": {},
   "source": [
    "## 4. Fit model"
   ]
  },
  {
   "cell_type": "code",
   "execution_count": 11,
   "metadata": {
    "ExecuteTime": {
     "end_time": "2018-05-05T22:59:01.591170Z",
     "start_time": "2018-05-05T22:58:14.378895Z"
    }
   },
   "outputs": [
    {
     "name": "stdout",
     "output_type": "stream",
     "text": [
      "Train on 60000 samples, validate on 10000 samples\n",
      "Epoch 1/50\n",
      "1s - loss: 1.1404 - categorical_accuracy: 0.7710 - val_loss: 0.6077 - val_categorical_accuracy: 0.8795\n",
      "Epoch 2/50\n",
      "0s - loss: 0.4735 - categorical_accuracy: 0.8910 - val_loss: 0.3733 - val_categorical_accuracy: 0.9073\n",
      "Epoch 3/50\n",
      "0s - loss: 0.3396 - categorical_accuracy: 0.9098 - val_loss: 0.3011 - val_categorical_accuracy: 0.9165\n",
      "Epoch 4/50\n",
      "0s - loss: 0.2872 - categorical_accuracy: 0.9206 - val_loss: 0.2656 - val_categorical_accuracy: 0.9231\n",
      "Epoch 5/50\n",
      "0s - loss: 0.2569 - categorical_accuracy: 0.9280 - val_loss: 0.2419 - val_categorical_accuracy: 0.9312\n",
      "Epoch 6/50\n",
      "0s - loss: 0.2353 - categorical_accuracy: 0.9333 - val_loss: 0.2254 - val_categorical_accuracy: 0.9349\n",
      "Epoch 7/50\n",
      "1s - loss: 0.2183 - categorical_accuracy: 0.9385 - val_loss: 0.2111 - val_categorical_accuracy: 0.9398\n",
      "Epoch 8/50\n",
      "0s - loss: 0.2048 - categorical_accuracy: 0.9422 - val_loss: 0.2010 - val_categorical_accuracy: 0.9402\n",
      "Epoch 9/50\n",
      "0s - loss: 0.1933 - categorical_accuracy: 0.9452 - val_loss: 0.1919 - val_categorical_accuracy: 0.9438\n",
      "Epoch 10/50\n",
      "0s - loss: 0.1839 - categorical_accuracy: 0.9478 - val_loss: 0.1836 - val_categorical_accuracy: 0.9458\n",
      "Epoch 11/50\n",
      "0s - loss: 0.1755 - categorical_accuracy: 0.9501 - val_loss: 0.1778 - val_categorical_accuracy: 0.9475\n",
      "Epoch 12/50\n",
      "0s - loss: 0.1681 - categorical_accuracy: 0.9523 - val_loss: 0.1726 - val_categorical_accuracy: 0.9491\n",
      "Epoch 13/50\n",
      "0s - loss: 0.1617 - categorical_accuracy: 0.9539 - val_loss: 0.1682 - val_categorical_accuracy: 0.9494\n",
      "Epoch 14/50\n",
      "0s - loss: 0.1559 - categorical_accuracy: 0.9556 - val_loss: 0.1628 - val_categorical_accuracy: 0.9510\n",
      "Epoch 15/50\n",
      "0s - loss: 0.1505 - categorical_accuracy: 0.9571 - val_loss: 0.1610 - val_categorical_accuracy: 0.9531\n",
      "Epoch 16/50\n",
      "0s - loss: 0.1456 - categorical_accuracy: 0.9581 - val_loss: 0.1567 - val_categorical_accuracy: 0.9532\n",
      "Epoch 17/50\n",
      "0s - loss: 0.1411 - categorical_accuracy: 0.9597 - val_loss: 0.1531 - val_categorical_accuracy: 0.9536\n",
      "Epoch 18/50\n",
      "0s - loss: 0.1370 - categorical_accuracy: 0.9609 - val_loss: 0.1511 - val_categorical_accuracy: 0.9542\n",
      "Epoch 19/50\n",
      "0s - loss: 0.1332 - categorical_accuracy: 0.9616 - val_loss: 0.1482 - val_categorical_accuracy: 0.9553\n",
      "Epoch 20/50\n",
      "0s - loss: 0.1295 - categorical_accuracy: 0.9627 - val_loss: 0.1469 - val_categorical_accuracy: 0.9557\n",
      "Epoch 21/50\n",
      "0s - loss: 0.1261 - categorical_accuracy: 0.9636 - val_loss: 0.1444 - val_categorical_accuracy: 0.9572\n",
      "Epoch 22/50\n",
      "0s - loss: 0.1229 - categorical_accuracy: 0.9652 - val_loss: 0.1418 - val_categorical_accuracy: 0.9579\n",
      "Epoch 23/50\n",
      "0s - loss: 0.1201 - categorical_accuracy: 0.9660 - val_loss: 0.1401 - val_categorical_accuracy: 0.9567\n",
      "Epoch 24/50\n",
      "0s - loss: 0.1172 - categorical_accuracy: 0.9662 - val_loss: 0.1380 - val_categorical_accuracy: 0.9576\n",
      "Epoch 25/50\n",
      "0s - loss: 0.1146 - categorical_accuracy: 0.9672 - val_loss: 0.1372 - val_categorical_accuracy: 0.9582\n",
      "Epoch 26/50\n",
      "0s - loss: 0.1121 - categorical_accuracy: 0.9679 - val_loss: 0.1358 - val_categorical_accuracy: 0.9581\n",
      "Epoch 27/50\n",
      "0s - loss: 0.1098 - categorical_accuracy: 0.9682 - val_loss: 0.1354 - val_categorical_accuracy: 0.9595\n",
      "Epoch 28/50\n",
      "0s - loss: 0.1073 - categorical_accuracy: 0.9694 - val_loss: 0.1348 - val_categorical_accuracy: 0.9591\n",
      "Epoch 29/50\n",
      "0s - loss: 0.1052 - categorical_accuracy: 0.9700 - val_loss: 0.1348 - val_categorical_accuracy: 0.9594\n",
      "Epoch 30/50\n",
      "0s - loss: 0.1032 - categorical_accuracy: 0.9711 - val_loss: 0.1316 - val_categorical_accuracy: 0.9608\n",
      "Epoch 31/50\n",
      "0s - loss: 0.1008 - categorical_accuracy: 0.9716 - val_loss: 0.1302 - val_categorical_accuracy: 0.9618\n",
      "Epoch 32/50\n",
      "0s - loss: 0.0993 - categorical_accuracy: 0.9719 - val_loss: 0.1300 - val_categorical_accuracy: 0.9610\n",
      "Epoch 33/50\n",
      "0s - loss: 0.0973 - categorical_accuracy: 0.9725 - val_loss: 0.1299 - val_categorical_accuracy: 0.9611\n",
      "Epoch 34/50\n",
      "0s - loss: 0.0954 - categorical_accuracy: 0.9729 - val_loss: 0.1294 - val_categorical_accuracy: 0.9622\n",
      "Epoch 35/50\n",
      "0s - loss: 0.0939 - categorical_accuracy: 0.9738 - val_loss: 0.1276 - val_categorical_accuracy: 0.9613\n",
      "Epoch 36/50\n",
      "0s - loss: 0.0920 - categorical_accuracy: 0.9743 - val_loss: 0.1265 - val_categorical_accuracy: 0.9623\n",
      "Epoch 37/50\n",
      "0s - loss: 0.0904 - categorical_accuracy: 0.9745 - val_loss: 0.1258 - val_categorical_accuracy: 0.9623\n",
      "Epoch 38/50\n",
      "0s - loss: 0.0889 - categorical_accuracy: 0.9746 - val_loss: 0.1252 - val_categorical_accuracy: 0.9624\n",
      "Epoch 39/50\n",
      "0s - loss: 0.0872 - categorical_accuracy: 0.9754 - val_loss: 0.1263 - val_categorical_accuracy: 0.9625\n",
      "Epoch 40/50\n",
      "0s - loss: 0.0857 - categorical_accuracy: 0.9759 - val_loss: 0.1234 - val_categorical_accuracy: 0.9630\n",
      "Epoch 41/50\n",
      "0s - loss: 0.0844 - categorical_accuracy: 0.9761 - val_loss: 0.1246 - val_categorical_accuracy: 0.9634\n",
      "Epoch 42/50\n",
      "0s - loss: 0.0830 - categorical_accuracy: 0.9768 - val_loss: 0.1233 - val_categorical_accuracy: 0.9636\n",
      "Epoch 43/50\n",
      "0s - loss: 0.0816 - categorical_accuracy: 0.9773 - val_loss: 0.1246 - val_categorical_accuracy: 0.9639\n",
      "Epoch 44/50\n",
      "1s - loss: 0.0804 - categorical_accuracy: 0.9771 - val_loss: 0.1224 - val_categorical_accuracy: 0.9640\n",
      "Epoch 45/50\n",
      "0s - loss: 0.0790 - categorical_accuracy: 0.9778 - val_loss: 0.1220 - val_categorical_accuracy: 0.9641\n",
      "Epoch 46/50\n",
      "0s - loss: 0.0779 - categorical_accuracy: 0.9782 - val_loss: 0.1218 - val_categorical_accuracy: 0.9642\n",
      "Epoch 47/50\n",
      "0s - loss: 0.0766 - categorical_accuracy: 0.9785 - val_loss: 0.1229 - val_categorical_accuracy: 0.9639\n",
      "Epoch 48/50\n",
      "0s - loss: 0.0756 - categorical_accuracy: 0.9788 - val_loss: 0.1224 - val_categorical_accuracy: 0.9644\n",
      "Epoch 49/50\n",
      "0s - loss: 0.0743 - categorical_accuracy: 0.9793 - val_loss: 0.1213 - val_categorical_accuracy: 0.9645\n",
      "Epoch 50/50\n",
      "0s - loss: 0.0733 - categorical_accuracy: 0.9798 - val_loss: 0.1218 - val_categorical_accuracy: 0.9627\n"
     ]
    }
   ],
   "source": [
    "# training the model and saving metrics in history\n",
    "history = model.fit(X_train, y_train_cat,\n",
    "                    batch_size=256, epochs=50,\n",
    "                    verbose=2,\n",
    "                    validation_data=(X_test, y_test_cat))"
   ]
  },
  {
   "cell_type": "markdown",
   "metadata": {},
   "source": [
    "## 5. Evaluate model"
   ]
  },
  {
   "cell_type": "code",
   "execution_count": 12,
   "metadata": {
    "ExecuteTime": {
     "end_time": "2018-05-05T22:59:01.928715Z",
     "start_time": "2018-05-05T22:59:01.593686Z"
    }
   },
   "outputs": [
    {
     "data": {
      "image/png": "[encoded data removed]",
      "text/plain": [
       "<Figure size 432x288 with 2 Axes>"
      ]
     },
     "metadata": {},
     "output_type": "display_data"
    }
   ],
   "source": [
    "# plotting the metrics\n",
    "fig = plt.figure()\n",
    "plt.subplot(2,1,1)\n",
    "plt.plot(history.history['categorical_accuracy'])\n",
    "plt.plot(history.history['val_categorical_accuracy'])\n",
    "plt.title('model accuracy')\n",
    "plt.ylabel('accuracy')\n",
    "plt.xlabel('epoch')\n",
    "plt.legend(['train', 'test'], loc='lower right')\n",
    "\n",
    "plt.subplot(2,1,2)\n",
    "plt.plot(history.history['loss'])\n",
    "plt.plot(history.history['val_loss'])\n",
    "plt.title('model loss')\n",
    "plt.ylabel('loss')\n",
    "plt.xlabel('epoch')\n",
    "plt.legend(['train', 'test'], loc='upper right')\n",
    "\n",
    "plt.tight_layout()"
   ]
  },
  {
   "cell_type": "code",
   "execution_count": 13,
   "metadata": {
    "ExecuteTime": {
     "end_time": "2018-05-05T22:59:02.355093Z",
     "start_time": "2018-05-05T22:59:01.930745Z"
    }
   },
   "outputs": [
    {
     "name": "stdout",
     "output_type": "stream",
     "text": [
      " 9760/10000 [============================>.] - ETA: 0sEvaluation result on Test Data:\n",
      "Loss = 0.12181863158643245\n",
      "Accuracy = 0.9627\n"
     ]
    }
   ],
   "source": [
    "# evaluate model on test data\n",
    "[test_loss, test_acc] = model.evaluate(X_test, y_test_cat)\n",
    "print(\"Evaluation result on Test Data:\\nLoss = {}\\nAccuracy = {}\".format(test_loss, test_acc))"
   ]
  },
  {
   "cell_type": "markdown",
   "metadata": {},
   "source": [
    "## References\n",
    "\n",
    "* [Deep Learning Book](http://www.deeplearningbook.org)\n",
    "\n",
    "* [Zero to Deep Learning™ Udemy Video Course](https://github.com/dataweekends/zero_to_deep_learning_udemy)\n",
    "\n",
    "* [THE MNIST DATABASE](http://yann.lecun.com/exdb/mnist/)"
   ]
  }
 ],
 "metadata": {
  "kernelspec": {
   "display_name": "Python 3",
   "language": "python",
   "name": "python3"
  },
  "language_info": {
   "codemirror_mode": {
    "name": "ipython",
    "version": 3
   },
   "file_extension": ".py",
   "mimetype": "text/x-python",
   "name": "python",
   "nbconvert_exporter": "python",
   "pygments_lexer": "ipython3",
   "version": "3.6.5"
  }
 },
 "nbformat": 4,
 "nbformat_minor": 2
}
