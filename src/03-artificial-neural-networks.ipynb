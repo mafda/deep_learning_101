{
 "cells": [
  {
   "cell_type": "markdown",
   "metadata": {},
   "source": [
    "# Deep Learning 101\n",
    "\n",
    "This notebook presents the basics concepts that involve the concept of Deep Learning.\n",
    "\n",
    "1. Linear Regression\n",
    "2. Logistic Regression\n",
    "3. **Artificial Neural Networks**\n",
    "4. Deep Neural Networks\n",
    "5. Convolutional Neural Networks\n",
    "\n",
    "## 3. Artificial Neural Networks\n",
    "\n",
    "These models are called *feedforward* because information **flows** through the function being evaluated from $x$, through the intermediate computations used to define $f$, and finally to the output $y$.\n",
    "\n",
    "*Feedforward* neural networks are called networks because they are typically represented by composing together many different functions.\n",
    "\n",
    "$$\n",
    "    \\begin{align}\n",
    "    \\hat{y} &= f(x) \\\\\n",
    "            &= f^{(2)}(f^{(1)}(x))\n",
    "    \\end{align}\n",
    "$$\n",
    "\n",
    "$$f^{(i)}(h) = \\sigma_i(W_ih + b_i)$$\n",
    "\n",
    "\n",
    "$$\\hat{y} = \\sigma_2(W_2 \\sigma_1(W_1 x + b_1) + b_2)$$"
   ]
  },
  {
   "cell_type": "markdown",
   "metadata": {},
   "source": [
    "## Artificial Neural Networks with Keras and TensorFlow\n",
    "\n",
    "**Activations functions** are non-linear functions applied when passing the output of a layer to the next layer or the final\n",
    "\n",
    "| **Keras**      | **Example**                                                         | **Link**                 |\n",
    "| -------------- |:------------------------------------------------------------------: | :-----------------------:|\n",
    "| **Activation functions**| sigmoid, step, tanh, softmax, ReLU | [keras.io/activations/](https://keras.io/activations/)|\n",
    "\n",
    "\n",
    "\n",
    "## 1. Load data\n",
    "\n",
    "#### Load libraries"
   ]
  },
  {
   "cell_type": "code",
   "execution_count": 1,
   "metadata": {
    "ExecuteTime": {
     "end_time": "2018-05-05T22:57:53.030419Z",
     "start_time": "2018-05-05T22:57:52.612434Z"
    }
   },
   "outputs": [],
   "source": [
    "import matplotlib.pyplot as plt\n",
    "import numpy as np\n",
    "import tensorflow as tf\n",
    "\n",
    "np.random.seed(12049)\n"
   ]
  },
  {
   "cell_type": "markdown",
   "metadata": {},
   "source": [
    "#### Getting the data"
   ]
  },
  {
   "cell_type": "code",
   "execution_count": 2,
   "metadata": {
    "ExecuteTime": {
     "end_time": "2018-05-05T22:58:09.437997Z",
     "start_time": "2018-05-05T22:58:09.133163Z"
    }
   },
   "outputs": [],
   "source": [
    "# load dataset\n",
    "(X_train, y_train), (X_test, y_test) = tf.keras.datasets.mnist.load_data()\n"
   ]
  },
  {
   "cell_type": "markdown",
   "metadata": {},
   "source": [
    "#### Explore visual data"
   ]
  },
  {
   "cell_type": "code",
   "execution_count": 3,
   "metadata": {
    "ExecuteTime": {
     "end_time": "2018-05-05T22:58:09.912826Z",
     "start_time": "2018-05-05T22:58:09.440100Z"
    }
   },
   "outputs": [
    {
     "data": {
      "image/png": "[encoded data removed]",
      "text/plain": [
       "<Figure size 640x480 with 10 Axes>"
      ]
     },
     "metadata": {},
     "output_type": "display_data"
    }
   ],
   "source": [
    "fig = plt.figure()\n",
    "for i in range(10):\n",
    "    plt.subplot(2, 5, i+1)\n",
    "    x_y = X_train[y_train == i]\n",
    "    plt.imshow(x_y[0], cmap='gray', interpolation='none')\n",
    "    plt.title(\"Class %d\" % (i))\n",
    "    plt.xticks([])\n",
    "    plt.yticks([])\n",
    "    \n",
    "plt.tight_layout()\n"
   ]
  },
  {
   "cell_type": "code",
   "execution_count": 4,
   "metadata": {
    "ExecuteTime": {
     "end_time": "2018-05-05T22:58:09.921681Z",
     "start_time": "2018-05-05T22:58:09.914854Z"
    }
   },
   "outputs": [
    {
     "name": "stdout",
     "output_type": "stream",
     "text": [
      "X_train.shape (60000, 28, 28)\n",
      "y_train.shape (60000,)\n",
      "X_test.shape (10000, 28, 28)\n",
      "y_train.shape (10000,)\n"
     ]
    }
   ],
   "source": [
    "print('X_train.shape', X_train.shape)\n",
    "print('y_train.shape', y_train.shape)\n",
    "print('X_test.shape', X_test.shape)\n",
    "print('y_train.shape', y_test.shape)\n"
   ]
  },
  {
   "cell_type": "markdown",
   "metadata": {},
   "source": [
    "#### Reshaping and normalizing the inputs"
   ]
  },
  {
   "cell_type": "code",
   "execution_count": 5,
   "metadata": {
    "ExecuteTime": {
     "end_time": "2018-05-05T22:58:10.139272Z",
     "start_time": "2018-05-05T22:58:09.923779Z"
    }
   },
   "outputs": [
    {
     "name": "stdout",
     "output_type": "stream",
     "text": [
      "X_train reshape: (60000, 784)\n",
      "X_test reshape: (10000, 784)\n"
     ]
    }
   ],
   "source": [
    "# reshaping the inputs\n",
    "X_train = X_train.reshape(60000, 28*28)\n",
    "X_test = X_test.reshape(10000, 28*28)\n",
    "\n",
    "# normalizing the inputs\n",
    "X_train = X_train.astype('float32') / 255.0\n",
    "X_test = X_test.astype('float32') / 255.0\n",
    "print('X_train reshape:', X_train.shape)\n",
    "print('X_test reshape:', X_test.shape)\n"
   ]
  },
  {
   "cell_type": "markdown",
   "metadata": {},
   "source": [
    "#### Convert class vectors to binary class matrices"
   ]
  },
  {
   "cell_type": "code",
   "execution_count": 6,
   "metadata": {
    "ExecuteTime": {
     "end_time": "2018-05-05T22:58:10.150447Z",
     "start_time": "2018-05-05T22:58:10.141339Z"
    }
   },
   "outputs": [
    {
     "name": "stdout",
     "output_type": "stream",
     "text": [
      "y_train_cat shape: (60000, 10)\n",
      "y_test_cat shape: (10000, 10)\n"
     ]
    }
   ],
   "source": [
    "# 10 classes\n",
    "y_train_cat = tf.keras.utils.to_categorical(y_train, 10)\n",
    "y_test_cat = tf.keras.utils.to_categorical(y_test, 10)\n",
    "\n",
    "print('y_train_cat shape:', y_train_cat.shape)\n",
    "print('y_test_cat shape:', y_test_cat.shape)\n"
   ]
  },
  {
   "cell_type": "markdown",
   "metadata": {},
   "source": [
    "## 2. Define model"
   ]
  },
  {
   "cell_type": "markdown",
   "metadata": {},
   "source": [
    "#### Add the input-, hidden- and output-layers"
   ]
  },
  {
   "cell_type": "code",
   "execution_count": 7,
   "metadata": {
    "ExecuteTime": {
     "end_time": "2018-05-05T22:58:10.182804Z",
     "start_time": "2018-05-05T22:58:10.152395Z"
    }
   },
   "outputs": [
    {
     "name": "stdout",
     "output_type": "stream",
     "text": [
      "Metal device set to: Apple M1 Pro\n",
      "\n",
      "systemMemory: 16.00 GB\n",
      "maxCacheSize: 5.33 GB\n",
      "\n"
     ]
    },
    {
     "name": "stderr",
     "output_type": "stream",
     "text": [
      "2023-10-18 12:49:49.176614: I tensorflow/core/common_runtime/pluggable_device/pluggable_device_factory.cc:306] Could not identify NUMA node of platform GPU ID 0, defaulting to 0. Your kernel may not have been built with NUMA support.\n",
      "2023-10-18 12:49:49.176720: I tensorflow/core/common_runtime/pluggable_device/pluggable_device_factory.cc:272] Created TensorFlow device (/job:localhost/replica:0/task:0/device:GPU:0 with 0 MB memory) -> physical PluggableDevice (device: 0, name: METAL, pci bus id: <undefined>)\n"
     ]
    }
   ],
   "source": [
    "# building a linear stack of layers with the sequential model\n",
    "model = tf.keras.models.Sequential()\n",
    "\n",
    "# Add the input layer and hidden layer 1\n",
    "model.add(tf.keras.layers.Dense(32, input_shape=(784,), activation='sigmoid'))\n",
    "\n",
    "# Add the output layer\n",
    "model.add(tf.keras.layers.Dense(10, activation='softmax'))\n"
   ]
  },
  {
   "cell_type": "markdown",
   "metadata": {},
   "source": [
    "#### Model visualization"
   ]
  },
  {
   "cell_type": "code",
   "execution_count": 8,
   "metadata": {
    "ExecuteTime": {
     "end_time": "2018-05-05T22:58:14.335955Z",
     "start_time": "2018-05-05T22:58:10.184766Z"
    }
   },
   "outputs": [
    {
     "name": "stdout",
     "output_type": "stream",
     "text": [
      "Model: \"sequential\"\n",
      "_________________________________________________________________\n",
      " Layer (type)                Output Shape              Param #   \n",
      "=================================================================\n",
      " dense (Dense)               (None, 32)                25120     \n",
      "                                                                 \n",
      " dense_1 (Dense)             (None, 10)                330       \n",
      "                                                                 \n",
      "=================================================================\n",
      "Total params: 25,450\n",
      "Trainable params: 25,450\n",
      "Non-trainable params: 0\n",
      "_________________________________________________________________\n"
     ]
    }
   ],
   "source": [
    "# plot a Keras model\n",
    "tf.keras.utils.plot_model(\n",
    "    model,\n",
    "    to_file=\"img/model03_ann.png\",\n",
    "    show_shapes=True,\n",
    "    show_layer_names=True,\n",
    ")\n",
    "\n",
    "\n",
    "# prints a summary representation of your model\n",
    "model.summary()\n"
   ]
  },
  {
   "cell_type": "markdown",
   "metadata": {},
   "source": [
    "![Artificial neural network](img/model03_ann.png)"
   ]
  },
  {
   "cell_type": "markdown",
   "metadata": {},
   "source": [
    "## 3. Compile model"
   ]
  },
  {
   "cell_type": "code",
   "execution_count": 9,
   "metadata": {
    "ExecuteTime": {
     "end_time": "2018-05-05T22:58:14.376880Z",
     "start_time": "2018-05-05T22:58:14.338293Z"
    }
   },
   "outputs": [],
   "source": [
    "# compiling the sequential model\n",
    "model.compile(\n",
    "    \"rmsprop\",\n",
    "    loss=\"categorical_crossentropy\",\n",
    "    metrics=[\"categorical_accuracy\"],\n",
    ")\n"
   ]
  },
  {
   "cell_type": "markdown",
   "metadata": {},
   "source": [
    "## 4. Fit model"
   ]
  },
  {
   "cell_type": "code",
   "execution_count": 10,
   "metadata": {
    "ExecuteTime": {
     "end_time": "2018-05-05T22:59:01.591170Z",
     "start_time": "2018-05-05T22:58:14.378895Z"
    }
   },
   "outputs": [
    {
     "name": "stdout",
     "output_type": "stream",
     "text": [
      "Epoch 1/50\n"
     ]
    },
    {
     "name": "stderr",
     "output_type": "stream",
     "text": [
      "2023-10-18 12:49:49.899888: W tensorflow/core/platform/profile_utils/cpu_utils.cc:128] Failed to get CPU frequency: 0 Hz\n",
      "2023-10-18 12:49:50.169762: I tensorflow/core/grappler/optimizers/custom_graph_optimizer_registry.cc:114] Plugin optimizer for device_type GPU is enabled.\n",
      "2023-10-18 12:50:07.151745: I tensorflow/core/grappler/optimizers/custom_graph_optimizer_registry.cc:114] Plugin optimizer for device_type GPU is enabled.\n"
     ]
    },
    {
     "name": "stdout",
     "output_type": "stream",
     "text": [
      "235/235 - 20s - loss: 1.1721 - categorical_accuracy: 0.7755 - val_loss: 0.6119 - val_categorical_accuracy: 0.8865 - 20s/epoch - 87ms/step\n",
      "Epoch 2/50\n",
      "235/235 - 15s - loss: 0.4688 - categorical_accuracy: 0.8958 - val_loss: 0.3580 - val_categorical_accuracy: 0.9120 - 15s/epoch - 65ms/step\n",
      "Epoch 3/50\n",
      "235/235 - 15s - loss: 0.3289 - categorical_accuracy: 0.9131 - val_loss: 0.2907 - val_categorical_accuracy: 0.9200 - 15s/epoch - 65ms/step\n",
      "Epoch 4/50\n",
      "235/235 - 15s - loss: 0.2778 - categorical_accuracy: 0.9237 - val_loss: 0.2552 - val_categorical_accuracy: 0.9272 - 15s/epoch - 65ms/step\n",
      "Epoch 5/50\n",
      "235/235 - 15s - loss: 0.2484 - categorical_accuracy: 0.9305 - val_loss: 0.2354 - val_categorical_accuracy: 0.9320 - 15s/epoch - 65ms/step\n",
      "Epoch 6/50\n",
      "235/235 - 15s - loss: 0.2284 - categorical_accuracy: 0.9356 - val_loss: 0.2187 - val_categorical_accuracy: 0.9379 - 15s/epoch - 65ms/step\n",
      "Epoch 7/50\n",
      "235/235 - 15s - loss: 0.2127 - categorical_accuracy: 0.9392 - val_loss: 0.2079 - val_categorical_accuracy: 0.9389 - 15s/epoch - 65ms/step\n",
      "Epoch 8/50\n",
      "235/235 - 15s - loss: 0.2003 - categorical_accuracy: 0.9433 - val_loss: 0.1977 - val_categorical_accuracy: 0.9418 - 15s/epoch - 65ms/step\n",
      "Epoch 9/50\n",
      "235/235 - 15s - loss: 0.1894 - categorical_accuracy: 0.9463 - val_loss: 0.1893 - val_categorical_accuracy: 0.9445 - 15s/epoch - 65ms/step\n",
      "Epoch 10/50\n",
      "235/235 - 15s - loss: 0.1799 - categorical_accuracy: 0.9488 - val_loss: 0.1833 - val_categorical_accuracy: 0.9459 - 15s/epoch - 65ms/step\n",
      "Epoch 11/50\n",
      "235/235 - 15s - loss: 0.1718 - categorical_accuracy: 0.9510 - val_loss: 0.1740 - val_categorical_accuracy: 0.9490 - 15s/epoch - 65ms/step\n",
      "Epoch 12/50\n",
      "235/235 - 15s - loss: 0.1644 - categorical_accuracy: 0.9532 - val_loss: 0.1693 - val_categorical_accuracy: 0.9490 - 15s/epoch - 65ms/step\n",
      "Epoch 13/50\n",
      "235/235 - 15s - loss: 0.1576 - categorical_accuracy: 0.9547 - val_loss: 0.1633 - val_categorical_accuracy: 0.9521 - 15s/epoch - 65ms/step\n",
      "Epoch 14/50\n",
      "235/235 - 15s - loss: 0.1516 - categorical_accuracy: 0.9566 - val_loss: 0.1610 - val_categorical_accuracy: 0.9524 - 15s/epoch - 65ms/step\n",
      "Epoch 15/50\n",
      "235/235 - 15s - loss: 0.1460 - categorical_accuracy: 0.9587 - val_loss: 0.1552 - val_categorical_accuracy: 0.9541 - 15s/epoch - 66ms/step\n",
      "Epoch 16/50\n",
      "235/235 - 15s - loss: 0.1410 - categorical_accuracy: 0.9598 - val_loss: 0.1532 - val_categorical_accuracy: 0.9534 - 15s/epoch - 65ms/step\n",
      "Epoch 17/50\n",
      "235/235 - 15s - loss: 0.1362 - categorical_accuracy: 0.9612 - val_loss: 0.1495 - val_categorical_accuracy: 0.9549 - 15s/epoch - 65ms/step\n",
      "Epoch 18/50\n",
      "235/235 - 15s - loss: 0.1321 - categorical_accuracy: 0.9628 - val_loss: 0.1474 - val_categorical_accuracy: 0.9550 - 15s/epoch - 66ms/step\n",
      "Epoch 19/50\n",
      "235/235 - 15s - loss: 0.1281 - categorical_accuracy: 0.9632 - val_loss: 0.1437 - val_categorical_accuracy: 0.9563 - 15s/epoch - 65ms/step\n",
      "Epoch 20/50\n",
      "235/235 - 15s - loss: 0.1243 - categorical_accuracy: 0.9642 - val_loss: 0.1408 - val_categorical_accuracy: 0.9579 - 15s/epoch - 66ms/step\n",
      "Epoch 21/50\n",
      "235/235 - 16s - loss: 0.1210 - categorical_accuracy: 0.9658 - val_loss: 0.1387 - val_categorical_accuracy: 0.9579 - 16s/epoch - 66ms/step\n",
      "Epoch 22/50\n",
      "235/235 - 15s - loss: 0.1177 - categorical_accuracy: 0.9662 - val_loss: 0.1379 - val_categorical_accuracy: 0.9582 - 15s/epoch - 65ms/step\n",
      "Epoch 23/50\n",
      "235/235 - 15s - loss: 0.1149 - categorical_accuracy: 0.9674 - val_loss: 0.1355 - val_categorical_accuracy: 0.9592 - 15s/epoch - 65ms/step\n",
      "Epoch 24/50\n",
      "235/235 - 16s - loss: 0.1120 - categorical_accuracy: 0.9682 - val_loss: 0.1329 - val_categorical_accuracy: 0.9595 - 16s/epoch - 66ms/step\n",
      "Epoch 25/50\n",
      "235/235 - 16s - loss: 0.1092 - categorical_accuracy: 0.9690 - val_loss: 0.1310 - val_categorical_accuracy: 0.9602 - 16s/epoch - 66ms/step\n",
      "Epoch 26/50\n",
      "235/235 - 15s - loss: 0.1068 - categorical_accuracy: 0.9697 - val_loss: 0.1306 - val_categorical_accuracy: 0.9602 - 15s/epoch - 65ms/step\n",
      "Epoch 27/50\n",
      "235/235 - 15s - loss: 0.1044 - categorical_accuracy: 0.9702 - val_loss: 0.1289 - val_categorical_accuracy: 0.9602 - 15s/epoch - 64ms/step\n",
      "Epoch 28/50\n",
      "235/235 - 15s - loss: 0.1022 - categorical_accuracy: 0.9711 - val_loss: 0.1273 - val_categorical_accuracy: 0.9609 - 15s/epoch - 65ms/step\n",
      "Epoch 29/50\n",
      "235/235 - 15s - loss: 0.1000 - categorical_accuracy: 0.9717 - val_loss: 0.1301 - val_categorical_accuracy: 0.9592 - 15s/epoch - 65ms/step\n",
      "Epoch 30/50\n",
      "235/235 - 15s - loss: 0.0979 - categorical_accuracy: 0.9720 - val_loss: 0.1246 - val_categorical_accuracy: 0.9613 - 15s/epoch - 65ms/step\n",
      "Epoch 31/50\n",
      "235/235 - 15s - loss: 0.0960 - categorical_accuracy: 0.9727 - val_loss: 0.1240 - val_categorical_accuracy: 0.9610 - 15s/epoch - 64ms/step\n",
      "Epoch 32/50\n",
      "235/235 - 15s - loss: 0.0939 - categorical_accuracy: 0.9733 - val_loss: 0.1228 - val_categorical_accuracy: 0.9633 - 15s/epoch - 64ms/step\n",
      "Epoch 33/50\n",
      "235/235 - 15s - loss: 0.0922 - categorical_accuracy: 0.9738 - val_loss: 0.1222 - val_categorical_accuracy: 0.9623 - 15s/epoch - 64ms/step\n",
      "Epoch 34/50\n",
      "235/235 - 15s - loss: 0.0906 - categorical_accuracy: 0.9747 - val_loss: 0.1213 - val_categorical_accuracy: 0.9621 - 15s/epoch - 65ms/step\n",
      "Epoch 35/50\n",
      "235/235 - 15s - loss: 0.0889 - categorical_accuracy: 0.9749 - val_loss: 0.1214 - val_categorical_accuracy: 0.9621 - 15s/epoch - 65ms/step\n",
      "Epoch 36/50\n",
      "235/235 - 15s - loss: 0.0872 - categorical_accuracy: 0.9753 - val_loss: 0.1201 - val_categorical_accuracy: 0.9633 - 15s/epoch - 64ms/step\n",
      "Epoch 37/50\n",
      "235/235 - 15s - loss: 0.0858 - categorical_accuracy: 0.9759 - val_loss: 0.1198 - val_categorical_accuracy: 0.9635 - 15s/epoch - 64ms/step\n",
      "Epoch 38/50\n",
      "235/235 - 15s - loss: 0.0842 - categorical_accuracy: 0.9765 - val_loss: 0.1200 - val_categorical_accuracy: 0.9633 - 15s/epoch - 64ms/step\n",
      "Epoch 39/50\n",
      "235/235 - 15s - loss: 0.0827 - categorical_accuracy: 0.9773 - val_loss: 0.1186 - val_categorical_accuracy: 0.9638 - 15s/epoch - 64ms/step\n",
      "Epoch 40/50\n",
      "235/235 - 16s - loss: 0.0814 - categorical_accuracy: 0.9769 - val_loss: 0.1175 - val_categorical_accuracy: 0.9633 - 16s/epoch - 66ms/step\n",
      "Epoch 41/50\n",
      "235/235 - 15s - loss: 0.0800 - categorical_accuracy: 0.9778 - val_loss: 0.1173 - val_categorical_accuracy: 0.9633 - 15s/epoch - 65ms/step\n",
      "Epoch 42/50\n",
      "235/235 - 15s - loss: 0.0787 - categorical_accuracy: 0.9777 - val_loss: 0.1181 - val_categorical_accuracy: 0.9644 - 15s/epoch - 65ms/step\n",
      "Epoch 43/50\n",
      "235/235 - 15s - loss: 0.0774 - categorical_accuracy: 0.9785 - val_loss: 0.1176 - val_categorical_accuracy: 0.9647 - 15s/epoch - 65ms/step\n",
      "Epoch 44/50\n",
      "235/235 - 15s - loss: 0.0762 - categorical_accuracy: 0.9789 - val_loss: 0.1160 - val_categorical_accuracy: 0.9645 - 15s/epoch - 65ms/step\n",
      "Epoch 45/50\n",
      "235/235 - 15s - loss: 0.0752 - categorical_accuracy: 0.9793 - val_loss: 0.1156 - val_categorical_accuracy: 0.9651 - 15s/epoch - 65ms/step\n",
      "Epoch 46/50\n",
      "235/235 - 15s - loss: 0.0740 - categorical_accuracy: 0.9797 - val_loss: 0.1157 - val_categorical_accuracy: 0.9653 - 15s/epoch - 65ms/step\n",
      "Epoch 47/50\n",
      "235/235 - 15s - loss: 0.0728 - categorical_accuracy: 0.9799 - val_loss: 0.1170 - val_categorical_accuracy: 0.9637 - 15s/epoch - 65ms/step\n",
      "Epoch 48/50\n",
      "235/235 - 15s - loss: 0.0717 - categorical_accuracy: 0.9802 - val_loss: 0.1172 - val_categorical_accuracy: 0.9645 - 15s/epoch - 65ms/step\n",
      "Epoch 49/50\n",
      "235/235 - 15s - loss: 0.0705 - categorical_accuracy: 0.9805 - val_loss: 0.1166 - val_categorical_accuracy: 0.9647 - 15s/epoch - 65ms/step\n",
      "Epoch 50/50\n",
      "235/235 - 15s - loss: 0.0696 - categorical_accuracy: 0.9808 - val_loss: 0.1143 - val_categorical_accuracy: 0.9660 - 15s/epoch - 65ms/step\n"
     ]
    }
   ],
   "source": [
    "# training the model and saving metrics in history\n",
    "history = model.fit(\n",
    "    X_train,\n",
    "    y_train_cat,\n",
    "    batch_size=256,\n",
    "    epochs=50,\n",
    "    verbose=2,\n",
    "    validation_data=(X_test, y_test_cat),\n",
    ")\n"
   ]
  },
  {
   "cell_type": "markdown",
   "metadata": {},
   "source": [
    "## 5. Evaluate model"
   ]
  },
  {
   "cell_type": "code",
   "execution_count": 11,
   "metadata": {
    "ExecuteTime": {
     "end_time": "2018-05-05T22:59:01.928715Z",
     "start_time": "2018-05-05T22:59:01.593686Z"
    }
   },
   "outputs": [
    {
     "data": {
      "image/png": "[encoded data removed]",
      "text/plain": [
       "<Figure size 640x480 with 2 Axes>"
      ]
     },
     "metadata": {},
     "output_type": "display_data"
    }
   ],
   "source": [
    "# plotting the metrics\n",
    "fig = plt.figure()\n",
    "plt.subplot(2,1,1)\n",
    "plt.plot(history.history['categorical_accuracy'])\n",
    "plt.plot(history.history['val_categorical_accuracy'])\n",
    "plt.title('model accuracy')\n",
    "plt.ylabel('accuracy')\n",
    "plt.xlabel('epoch')\n",
    "plt.legend(['train', 'test'], loc='lower right')\n",
    "\n",
    "plt.subplot(2,1,2)\n",
    "plt.plot(history.history['loss'])\n",
    "plt.plot(history.history['val_loss'])\n",
    "plt.title('model loss')\n",
    "plt.ylabel('loss')\n",
    "plt.xlabel('epoch')\n",
    "plt.legend(['train', 'test'], loc='upper right')\n",
    "\n",
    "plt.tight_layout()\n"
   ]
  },
  {
   "cell_type": "code",
   "execution_count": 12,
   "metadata": {
    "ExecuteTime": {
     "end_time": "2018-05-05T22:59:02.355093Z",
     "start_time": "2018-05-05T22:59:01.930745Z"
    }
   },
   "outputs": [
    {
     "name": "stdout",
     "output_type": "stream",
     "text": [
      "313/313 [==============================] - 17s 54ms/step - loss: 0.1143 - categorical_accuracy: 0.9660\n",
      "Evaluation result on Test Data:\n",
      "Loss = 0.11428400874137878\n",
      "Accuracy = 0.9660000205039978\n"
     ]
    }
   ],
   "source": [
    "# evaluate model on test data\n",
    "[test_loss, test_acc] = model.evaluate(X_test, y_test_cat)\n",
    "print(\n",
    "    \"Evaluation result on Test Data:\\nLoss = {}\\nAccuracy = {}\".format(\n",
    "        test_loss, test_acc\n",
    "    )\n",
    ")\n"
   ]
  },
  {
   "cell_type": "markdown",
   "metadata": {},
   "source": [
    "## References\n",
    "\n",
    "* [Deep Learning Book](http://www.deeplearningbook.org)\n",
    "\n",
    "* [Zero to Deep Learning™ Udemy Video Course](https://github.com/dataweekends/zero_to_deep_learning_udemy)\n",
    "\n",
    "* [THE MNIST DATABASE](http://yann.lecun.com/exdb/mnist/)"
   ]
  }
 ],
 "metadata": {
  "kernelspec": {
   "display_name": "Python 3 (ipykernel)",
   "language": "python",
   "name": "python3"
  },
  "language_info": {
   "codemirror_mode": {
    "name": "ipython",
    "version": 3
   },
   "file_extension": ".py",
   "mimetype": "text/x-python",
   "name": "python",
   "nbconvert_exporter": "python",
   "pygments_lexer": "ipython3",
   "version": "3.10.8"
  }
 },
 "nbformat": 4,
 "nbformat_minor": 2
}
